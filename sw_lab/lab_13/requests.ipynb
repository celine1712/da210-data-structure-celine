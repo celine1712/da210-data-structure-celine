{
 "cells": [
  {
   "attachments": {},
   "cell_type": "markdown",
   "metadata": {},
   "source": [
    "# Denison DA210/CS181 SW Lab #13 - Step 1\n",
    "\n",
    "Before you get your checkpoints, make sure everything runs as expected. This is a combination of **restarting the kernel** and then **running all cells**.\n",
    "\n",
    "Make sure you fill in any place that says `# YOUR CODE HERE` or \"YOUR ANSWER HERE\"."
   ]
  },
  {
   "cell_type": "markdown",
   "metadata": {},
   "source": [
    "---"
   ]
  },
  {
   "cell_type": "code",
   "execution_count": null,
   "metadata": {
    "deletable": false,
    "editable": false,
    "nbgrader": {
     "cell_type": "code",
     "checksum": "4425ca38ce8727c571bf1f16ffe1e078",
     "grade": false,
     "grade_id": "cell-b9abcf27cf7faf8f",
     "locked": true,
     "schema_version": 3,
     "solution": false,
     "task": false
    }
   },
   "outputs": [],
   "source": [
    "import os\n",
    "import os.path\n",
    "import sys\n",
    "import importlib\n",
    "import json\n",
    "\n",
    "module_dir = \"../../modules\"\n",
    "module_path = os.path.abspath(module_dir)\n",
    "if not module_path in sys.path:\n",
    "    sys.path.append(module_path)\n",
    "\n",
    "import util\n",
    "importlib.reload(util)\n",
    "\n",
    "import mysocket as sock\n",
    "importlib.reload(sock)"
   ]
  },
  {
   "cell_type": "markdown",
   "metadata": {
    "deletable": false,
    "editable": false,
    "nbgrader": {
     "cell_type": "markdown",
     "checksum": "be08f9e29506dd0505f6498bc73c2d46",
     "grade": false,
     "grade_id": "cell-6984f53f77bcaf57",
     "locked": true,
     "schema_version": 3,
     "solution": false,
     "task": false
    }
   },
   "source": [
    "---\n",
    "\n",
    "## Part A: URLs, revisited\n",
    "\n",
    "Recall that the general form of a URL is given by the following (shown with extra spaces for readability):\n",
    "\n",
    "_protocol_ : // _location_ [ : _port_ ] _resource-path_\n",
    "\n",
    "**Q1:** Write a function\n",
    "```\n",
    "    buildURL(location, resource, protocol='http')\n",
    "```\n",
    "that returns a string URL based on the three component parts of `protocol`, `location`, and `resource`.\n",
    "\n",
    "Your function should be flexible, so that if a user omits a leading `/` on the resource path, one is prepended.   Note that we are specifying a default value for `protocol` so that it will use `http` if `buildURL` is called with just two or three arguments.  Python format strings are the right tool for the job here."
   ]
  },
  {
   "cell_type": "code",
   "execution_count": null,
   "metadata": {
    "deletable": false,
    "nbgrader": {
     "cell_type": "code",
     "checksum": "8dc67c470c7c9777f7556721f25e606c",
     "grade": false,
     "grade_id": "cell-5da6f75039e1ff23",
     "locked": false,
     "schema_version": 3,
     "solution": true,
     "task": false
    }
   },
   "outputs": [],
   "source": [
    "# YOUR CODE HERE\n",
    "raise NotImplementedError()\n",
    "\n",
    "print(buildURL('httpbin.org', 'get'))\n",
    "print(buildURL(\"datasystems.denison.edu\",\n",
    "               \"/data/ind0.json\", protocol=\"https\"))\n",
    "print(buildURL('httpbin.org', 'post'))"
   ]
  },
  {
   "cell_type": "code",
   "execution_count": null,
   "metadata": {
    "deletable": false,
    "editable": false,
    "nbgrader": {
     "cell_type": "code",
     "checksum": "51ec12f0854f129f066997994020da06",
     "grade": true,
     "grade_id": "cell-9b6cc297980f6504",
     "locked": true,
     "points": 2,
     "schema_version": 3,
     "solution": false,
     "task": false
    }
   },
   "outputs": [],
   "source": [
    "# Testing cell\n",
    "assert buildURL('httpbin.org', 'get') == \"http://httpbin.org/get\"\n",
    "assert buildURL('httpbin.org', '/get') == \"http://httpbin.org/get\"\n",
    "assert buildURL(\"datasystems.denison.edu\",\n",
    "               \"/data/ind0.json\", protocol=\"https\") == \"https://datasystems.denison.edu/data/ind0.json\"\n",
    "assert buildURL('httpbin.org', 'post') == \"http://httpbin.org/post\"\n",
    "assert buildURL('httpbin.org', '/get', 'https') == \"https://httpbin.org/get\""
   ]
  },
  {
   "attachments": {},
   "cell_type": "markdown",
   "metadata": {},
   "source": [
    "> You've reached the first checkpoint in the lab.  Make sure to have it signed off by the instructor or TA.\n",
    ">\n",
    "> Checkpoint 1: Web browsers provide some shortcuts.  Which parts of the URL can we _not_ specify?  What are the defaults in that case?  (Hint: try leaving out parts of a URL typed into a browser and see if you still get to the same page.)"
   ]
  },
  {
   "cell_type": "markdown",
   "metadata": {},
   "source": [
    "---\n",
    "\n",
    "## Part B: `GET` with the Python `requests` module\n",
    "\n",
    "The Python `requests` module provides a helpful implementation of the HTTP application protocol layer for Python programs.  To use this module, we first must import it:"
   ]
  },
  {
   "cell_type": "code",
   "execution_count": null,
   "metadata": {},
   "outputs": [],
   "source": [
    "import requests"
   ]
  },
  {
   "cell_type": "markdown",
   "metadata": {},
   "source": [
    "This module provides different functions for each of the HTTP methods we may want.  Each function takes a URL string as input:\n",
    "\n",
    "```python\n",
    "    requests.get(url)     # read a resource; no body\n",
    "    requests.head(url)    # like get, but just for metadata; no body\n",
    "\n",
    "    requests.post(url)    # send form data / update; body is often in JSON\n",
    "    requests.put(url)     # update a resource; body contains data\n",
    "    \n",
    "    requests.delete(url)  # delete a resource\n",
    "```\n",
    "\n",
    "For example, we can use `get()` to perform a `GET` request:"
   ]
  },
  {
   "cell_type": "code",
   "execution_count": null,
   "metadata": {},
   "outputs": [],
   "source": [
    "# Specify the URL as a string\n",
    "url = \"http://datasystems.denison.edu/basic.html\"\n",
    "\n",
    "# Perform the GET request\n",
    "response = requests.get(url)\n",
    "print(\"Response status:\", response.status_code)"
   ]
  },
  {
   "cell_type": "markdown",
   "metadata": {},
   "source": [
    "The status code indicates whether the request was successful.  In this case, a `200` status code indicates that a `GET` request succeeded.\n",
    "\n",
    "We can also look at the URL associated with the request:"
   ]
  },
  {
   "cell_type": "code",
   "execution_count": null,
   "metadata": {},
   "outputs": [],
   "source": [
    "# Retrieve the request associated with this HTTP response\n",
    "request = response.request\n",
    "\n",
    "# Print the URL for the request\n",
    "print(\"URL:\", request.url)"
   ]
  },
  {
   "cell_type": "markdown",
   "metadata": {},
   "source": [
    "Python has abstracted away the HTTP application layer for us, but the message would be translated as:\n",
    "\n",
    "```\n",
    "    GET /basic.html HTTP/1.1\n",
    "    Host: datasystems.denison.edu\n",
    "    User-Agent: python-requests/2.23.0\n",
    "    Accept-Encoding: gzip, deflate\n",
    "    Accept: */*\n",
    "    Connection: keep-alive\n",
    "```\n",
    "\n",
    "In this case, there are several headers, including `Host`, `User-Agent`, and `Connection`, specified as key-value pairs.  These are provided by the Python `requests` module.\n",
    "\n",
    "If we want to specify our own headers, we can additionally pass a dictionary to `get()` using the `headers` named parameter:"
   ]
  },
  {
   "cell_type": "code",
   "execution_count": null,
   "metadata": {},
   "outputs": [],
   "source": [
    "# Specify the URL as a string\n",
    "url = \"http://httpbin.org/get\"\n",
    "\n",
    "# Build a dictionary for header key-value pairs\n",
    "headerD = {\n",
    "    \"Accept\": \"application/json\",\n",
    "    \"User-Agent\": \"datasystems-client\"\n",
    "}\n",
    "\n",
    "# Issue the request, including the headers dictionary\n",
    "response = requests.get(url, headers=headerD)\n",
    "print(\"Response status:\", response.status_code)\n",
    "\n",
    "# Look at the dictionary actually used for the request\n",
    "request = response.request\n",
    "print(\"\\nRequest headers:\")\n",
    "util.print_headers(request.headers)"
   ]
  },
  {
   "cell_type": "markdown",
   "metadata": {},
   "source": [
    "Similar to providing custom headers, you can also provide query parameters using a dictionary:"
   ]
  },
  {
   "cell_type": "code",
   "execution_count": null,
   "metadata": {},
   "outputs": [],
   "source": [
    "# Specify the URL as a string\n",
    "url = \"http://httpbin.org/get\"\n",
    "\n",
    "# Build a dictionary for query-parameter key-value pairs\n",
    "paramsD = {\n",
    "    \"user\": \"smith\",\n",
    "    \"query\": \"movies tv\"\n",
    "}\n",
    "\n",
    "# Issue the request, including the query parameters dictionary\n",
    "response = requests.get(url, params=paramsD)\n",
    "print(\"Response status:\", response.status_code)\n",
    "\n",
    "# Look at the actual resource path in the URL for the request\n",
    "request = response.request\n",
    "print(\"\\nResource path:\", request.path_url)"
   ]
  },
  {
   "attachments": {},
   "cell_type": "markdown",
   "metadata": {},
   "source": [
    "In addition to the response attributes we've already looked at, there are several more available in the `requests` module:\n",
    "\n",
    "* `status_code`: three-digit integer status code, from the status line of the response\n",
    "* `content`: the raw bytes version of the response body\n",
    "* `text`: the response body, if it is textual; decoded into a Python string using the response header info to determine the encoding used\n",
    "* `headers`: field-name/field-value pairs for headers in the response; can be converted to a dictionary (and behaves as one)\n",
    "* `url`: the complete URL \n",
    "* `request`: an abstraction of the request for this response"
   ]
  },
  {
   "cell_type": "markdown",
   "metadata": {
    "deletable": false,
    "editable": false,
    "nbgrader": {
     "cell_type": "markdown",
     "checksum": "7ef49da7c2fc003add50b7f9c19e59e0",
     "grade": false,
     "grade_id": "cell-b8fe8d6187df0f9e",
     "locked": true,
     "schema_version": 3,
     "solution": false,
     "task": false
    }
   },
   "source": [
    "---\n",
    "\n",
    "## Part C: Try it yourself - `GET`\n",
    "\n",
    "**Q2:** Write a sequence of code that starts with:\n",
    "```\n",
    "    resource = \"/data/ind0.json\"\n",
    "    location = \"datasystems.denison.edu\"\n",
    "```\n",
    "and builds an appropriate URL, uses `requests` to issue a `GET` request, and assigns the variables based on the result:\n",
    "\n",
    "- `status`: has the integer status code,\n",
    "- `headers`: has a dictionary of headers from the response, and\n",
    "- `data`: has the *parsed* data from the JSON-formatted body as a dictionary."
   ]
  },
  {
   "cell_type": "code",
   "execution_count": null,
   "metadata": {
    "deletable": false,
    "nbgrader": {
     "cell_type": "code",
     "checksum": "d46a6c662b3c1b781f131ccb87e68fb7",
     "grade": false,
     "grade_id": "cell-28b50f9ad2387f75",
     "locked": false,
     "schema_version": 3,
     "solution": true,
     "task": false
    }
   },
   "outputs": [],
   "source": [
    "# YOUR CODE HERE\n",
    "raise NotImplementedError()\n",
    "\n",
    "print(\"Status:\", status)\n",
    "print(headers)\n",
    "print(data)"
   ]
  },
  {
   "cell_type": "code",
   "execution_count": null,
   "metadata": {
    "deletable": false,
    "editable": false,
    "nbgrader": {
     "cell_type": "code",
     "checksum": "aed522f0addaa458907d61a180f90d61",
     "grade": true,
     "grade_id": "cell-8cb886623157ee0a",
     "locked": true,
     "points": 2,
     "schema_version": 3,
     "solution": false,
     "task": false
    }
   },
   "outputs": [],
   "source": [
    "# Testing cell\n",
    "assert status == 200\n",
    "\n",
    "assert len(headers) == 8\n",
    "assert headers[\"Content-Length\"] == \"269\"\n",
    "assert \"ETag\" in headers\n",
    "\n",
    "assert isinstance(data, dict)\n",
    "assert len(data) == 3\n",
    "assert \"FRA\" in data\n",
    "assert data[\"GBR\"][\"2007\"][\"gdp\"] == 3084.12"
   ]
  },
  {
   "cell_type": "markdown",
   "metadata": {
    "deletable": false,
    "editable": false,
    "nbgrader": {
     "cell_type": "markdown",
     "checksum": "80fcea45742f4c8a5157ea8789f51175",
     "grade": false,
     "grade_id": "cell-05a1156011f4b5ac",
     "locked": true,
     "schema_version": 3,
     "solution": false,
     "task": false
    }
   },
   "source": [
    "**Q3:** Given parallel lists `headerNameList` and `headerValueList`, you can build a dictionary that maps from header names to their associated values (given by the parallel structure).\n",
    "\n",
    "Write a function\n",
    "```\n",
    "    makeRequestHeader(location, resource, headerNameList, headerValueList)\n",
    "```\n",
    "that builds a custom header dictionary and then passes it to the `requests.get` method. \n",
    "\n",
    "Your function should call `buildURL` (with protocol `https`) to build the URL to pass to `requests.get`. Your function should return the response from the `requests.get` invocation."
   ]
  },
  {
   "cell_type": "code",
   "execution_count": null,
   "metadata": {
    "deletable": false,
    "nbgrader": {
     "cell_type": "code",
     "checksum": "f8e6af32d934acd9eaa48d6ee7ec205b",
     "grade": false,
     "grade_id": "cell-cab605385bd20904",
     "locked": false,
     "schema_version": 3,
     "solution": true,
     "task": false
    }
   },
   "outputs": [],
   "source": [
    "# YOUR CODE HERE\n",
    "raise NotImplementedError()\n",
    "\n",
    "r = makeRequestHeader('httpbin.org', '/get/', ['Transfer-Encoding'],['compress'])\n",
    "request = r.request\n",
    "print(request.headers)\n",
    "print()\n",
    "\n",
    "r = makeRequestHeader('httpbin.org', '/get/',['Transfer-Encoding','Accept'],['compress','text/html'])\n",
    "request = r.request\n",
    "print(request.headers)\n",
    "print()\n",
    "\n",
    "r = makeRequestHeader('httpbin.org', '/get/',[],[])\n",
    "request = r.request\n",
    "print(request.headers)"
   ]
  },
  {
   "cell_type": "code",
   "execution_count": null,
   "metadata": {
    "deletable": false,
    "editable": false,
    "nbgrader": {
     "cell_type": "code",
     "checksum": "6fbb02170cf2f7d295bb28fb9c67cf17",
     "grade": true,
     "grade_id": "cell-b5e42afd442f334c",
     "locked": true,
     "points": 2,
     "schema_version": 3,
     "solution": false,
     "task": false
    }
   },
   "outputs": [],
   "source": [
    "# Testing cell\n",
    "\n",
    "r = makeRequestHeader('httpbin.org', '/get/',['Transfer-Encoding'],['compress'])\n",
    "request = r.request\n",
    "assert request.headers['Transfer-Encoding'] == 'compress'\n",
    "assert request.headers['Connection'] == 'keep-alive'\n",
    "\n",
    "r = makeRequestHeader('httpbin.org','/get/',['Transfer-Encoding','Accept'],['compress','text/html'])\n",
    "request = r.request\n",
    "assert request.headers['Accept'] == 'text/html'\n",
    "assert request.headers['Transfer-Encoding'] == 'compress'"
   ]
  },
  {
   "cell_type": "markdown",
   "metadata": {
    "deletable": false,
    "editable": false,
    "nbgrader": {
     "cell_type": "markdown",
     "checksum": "4d6ad006f9fac21247c4bebae1c8dc63",
     "grade": false,
     "grade_id": "cell-1c6b1bb5fd4133c9",
     "locked": true,
     "schema_version": 3,
     "solution": false,
     "task": false
    }
   },
   "source": [
    "**Q4:** Suppose you have often coded a similar set of steps to make a `GET` request, where often the body of the result was JSON, in which case you wanted the data parsed, but sometimes the data was *not* JSON, in which case you wanted the data as a string.  \n",
    "\n",
    "Write a function\n",
    "```\n",
    "     makeRequest(location, resource, protocol=\"http\")\n",
    "```\n",
    "that makes a `GET` request to the given `location`, `resource`, and `protocol`.\n",
    "\n",
    "If the request is *not* successful (i.e. not in the 200s), the function should check for this and return `None`.  If the request is successful, the function should *use the response headers* and determine whether or not the `Content-Type` header maps to `application/json`.  If it is, it should parse the result and return the data structure.  If it is not, it should return the string making up the body of the response."
   ]
  },
  {
   "cell_type": "code",
   "execution_count": null,
   "metadata": {
    "deletable": false,
    "nbgrader": {
     "cell_type": "code",
     "checksum": "09248707445c6de2d0704e5c83cf8230",
     "grade": false,
     "grade_id": "cell-f8d26c1ed859a1d0",
     "locked": false,
     "schema_version": 3,
     "solution": true,
     "task": false
    }
   },
   "outputs": [],
   "source": [
    "# YOUR CODE HERE\n",
    "raise NotImplementedError()"
   ]
  },
  {
   "cell_type": "code",
   "execution_count": null,
   "metadata": {
    "deletable": false,
    "editable": false,
    "nbgrader": {
     "cell_type": "code",
     "checksum": "04776c3919fd77c0a68378f3dce1cfc2",
     "grade": true,
     "grade_id": "cell-f4c288ebaac4a3a5",
     "locked": true,
     "points": 2,
     "schema_version": 3,
     "solution": false,
     "task": false
    }
   },
   "outputs": [],
   "source": [
    "# Testing cell\n",
    "assert makeRequest(\"httpbin.org\", \"/post\") == None\n",
    "\n",
    "result2 = makeRequest(\"www.denison.edu\", \"/academics/data-analytics\")\n",
    "assert result2 is not None\n",
    "assert result2.startswith(\"<!DOCTYPE html>\")\n",
    "\n",
    "result3 = makeRequest(\"datasystems.denison.edu\", \"data/ind0.json\")\n",
    "assert result3 is not None\n",
    "assert isinstance(result3, dict)\n",
    "assert \"FRA\" in result3\n",
    "assert result3[\"USA\"][\"2017\"][\"gdp\"] == 19485.4"
   ]
  },
  {
   "attachments": {},
   "cell_type": "markdown",
   "metadata": {},
   "source": [
    "> You've reached the second checkpoint in the lab.  Make sure to have it signed off by the instructor or TA.\n",
    ">\n",
    "> Checkpoint 2: What do you think the `Content-Type` header line is used for by web browsers?"
   ]
  },
  {
   "cell_type": "markdown",
   "metadata": {},
   "source": [
    "---\n",
    "\n",
    "## Part D: Redirects\n",
    "\n",
    "You have probably had the experience before of trying to open a webpage, and having a redirect page pop up, telling you that the page has moved and asking if you want to be redirected. The same thing can happen when we write code to make requests.\n",
    "\n",
    "If a status code is in the 300s, the HTTP request resulted in a redirect.  This occurs when the request resource is no longer at the given resource path.  The new location/path is given in the `Location` header of the response.\n",
    "\n",
    "For example, this can happen if a website redirects from HTTP to HTTPS:"
   ]
  },
  {
   "cell_type": "code",
   "execution_count": null,
   "metadata": {},
   "outputs": [],
   "source": [
    "# Specify the URL as a string\n",
    "url = \"http://www.denison.edu\"\n",
    "\n",
    "# Issue the request\n",
    "response = requests.get(url, allow_redirects=False)\n",
    "print(\"Response status:\", response.status_code)\n",
    "\n",
    "# Look at the URL we're being redicted to\n",
    "new_url = response.headers[\"Location\"]\n",
    "print(\"\\nNew URL:\", new_url)"
   ]
  },
  {
   "cell_type": "markdown",
   "metadata": {
    "deletable": false,
    "editable": false,
    "nbgrader": {
     "cell_type": "markdown",
     "checksum": "de52fb257f11e9527fc30aad363d3e38",
     "grade": false,
     "grade_id": "cell-b060732f8c3b0067",
     "locked": true,
     "schema_version": 3,
     "solution": false,
     "task": false
    }
   },
   "source": [
    "**Q5:** Write a function:\n",
    "```\n",
    "    getRedirectURL(location, resource)\n",
    "```\n",
    "that begins like your function `makeRequest` from Question 4, but does *not* allow redirects when invoking `requests.get`.  This function will return a *URL*.\n",
    "\n",
    "If the call to `requests.get` results in a success status code (one in the 200s), you return the original URL (obtained from `buildURL`, with `http` protocol).  If you detect that `requests.get` tried to redirect  (by looking for a 300, 301, or 302 status code), **search within the headers** to find the `\"Location\"` it tried to redirect to, and return that URL instead. If you get any other status code, return `None`."
   ]
  },
  {
   "cell_type": "code",
   "execution_count": null,
   "metadata": {
    "deletable": false,
    "nbgrader": {
     "cell_type": "code",
     "checksum": "b70b6cb9c16f7352494400072270d91e",
     "grade": false,
     "grade_id": "cell-a62e6f16485ec03b",
     "locked": false,
     "schema_version": 3,
     "solution": true,
     "task": false
    }
   },
   "outputs": [],
   "source": [
    "# YOUR CODE HERE\n",
    "raise NotImplementedError()\n",
    "\n",
    "print(getRedirectURL(\"denison.edu\", '/'))                 # redirect to https\n",
    "print(getRedirectURL(\"datasystems.denison.edu\", '/data'))     # redirect to add '/'\n",
    "print(getRedirectURL(\"datasystems.denison.edu\", '/data/'))    # no change\n",
    "print(getRedirectURL(\"datasystems.denison.edu\", '/foo.html')) # 404 not found"
   ]
  },
  {
   "cell_type": "code",
   "execution_count": null,
   "metadata": {
    "deletable": false,
    "editable": false,
    "nbgrader": {
     "cell_type": "code",
     "checksum": "a49bed853aa10bddc1368b7b6851ac48",
     "grade": true,
     "grade_id": "cell-af47edfd14756d48",
     "locked": true,
     "points": 2,
     "schema_version": 3,
     "solution": false,
     "task": false
    }
   },
   "outputs": [],
   "source": [
    "# Testing cell\n",
    "\n",
    "# http -> https\n",
    "assert getRedirectURL(\"denison.edu\", '/') != \"http://denison.edu/\"\n",
    "assert getRedirectURL(\"denison.edu\", '/') == \"https://denison.edu/\"\n",
    "\n",
    "# end in /\n",
    "assert getRedirectURL(\"datasystems.denison.edu\", '/data') == \\\n",
    "    \"http://datasystems.denison.edu/data/\"\n",
    "assert getRedirectURL(\"datasystems.denison.edu\", '/data/') == \\\n",
    "    \"http://datasystems.denison.edu/data/\"\n",
    "\n",
    "# None\n",
    "assert getRedirectURL(\"datasystems.denison.edu\", \"/foo.html\") is None"
   ]
  },
  {
   "attachments": {},
   "cell_type": "markdown",
   "metadata": {},
   "source": [
    "> You've reached the third (and final) checkpoint in the lab.  Make sure to have it signed off by the instructor or TA.\n",
    ">\n",
    "> Checkpoint 3: A single `GET` request may result in a chain of multiple redirects.  Is there a limit on the number of redirects that the Python `requests` module allows?  (Hint: You may want to consult the documentation: https://requests.readthedocs.io/en/latest/user/quickstart/#errors-and-exceptions.)"
   ]
  },
  {
   "cell_type": "markdown",
   "metadata": {
    "deletable": false,
    "editable": false,
    "nbgrader": {
     "cell_type": "markdown",
     "checksum": "b722b5b48206ab5f54fd2ce4b4979d15",
     "grade": false,
     "grade_id": "cell-4ef3aff7a10e1ba4",
     "locked": true,
     "schema_version": 3,
     "solution": false,
     "task": false
    }
   },
   "source": [
    "---\n",
    "\n",
    "## Part E: `POST` Requests\n",
    "\n",
    "The HTTP `POST` method is used to provide information from the client to the server via the request _body_.  For example:"
   ]
  },
  {
   "cell_type": "code",
   "execution_count": null,
   "metadata": {},
   "outputs": [],
   "source": [
    "# Specify the URL as a string\n",
    "url = \"http://httpbin.org/post\"\n",
    "\n",
    "# Build the query-paremter and header dictionaries\n",
    "paramsD = {\n",
    "    \"user\": \"jones\",\n",
    "    \"query\": \"TV?episodes\"\n",
    "}\n",
    "headerD = {\n",
    "    \"Accept\": \"application/json\"\n",
    "}\n",
    "\n",
    "# Build the body of the request as a key-value pair dictionary\n",
    "body = {\"a\": 1, \"b\": 2}\n",
    "\n",
    "# Issue the request with provided data for the body\n",
    "response = requests.post(url, params=paramsD, headers=headerD, data=body)\n",
    "print(\"Response status:\", response.status_code)\n",
    "\n",
    "# Inspect the resource-path of the URL\n",
    "request = response.request\n",
    "print(\"Request Path:\", request.path_url)\n",
    "\n",
    "# Inspect the body of the request\n",
    "print(\"Request Body:\", request.body)"
   ]
  },
  {
   "cell_type": "markdown",
   "metadata": {},
   "source": [
    "Alternatively, we can provide the data for the `POST` request as a JSON string:"
   ]
  },
  {
   "cell_type": "code",
   "execution_count": null,
   "metadata": {},
   "outputs": [],
   "source": [
    "# Specify the URL as a string\n",
    "url = \"http://httpbin.org/post\"\n",
    "\n",
    "# Build the query-paremter and header dictionaries\n",
    "paramsD = {\n",
    "    \"user\": \"jones\",\n",
    "    \"query\": \"TV\"\n",
    "}\n",
    "headerD = {\n",
    "    \"Accept\": \"application/json\"\n",
    "}\n",
    "\n",
    "# Build the body of the request as a JSON array\n",
    "json_data = [\"foo\", \"bar\", {\"a\": 1, \"b\": 2}]\n",
    "\n",
    "# Issue the request with provided JSON for the body\n",
    "response = requests.post(url, params=paramsD, headers=headerD, json=json_data)\n",
    "print(\"Response status:\", response.status_code)\n",
    "\n",
    "# Inspect the resource-path of the URL\n",
    "request = response.request\n",
    "print(\"Request Path:\", request.path_url)\n",
    "\n",
    "# Inspect the body of the request, decoded using UTF-8\n",
    "print(\"Request Body:\", request.body.decode(\"utf-8\"))"
   ]
  },
  {
   "cell_type": "markdown",
   "metadata": {},
   "source": [
    "**Q6:** Write a function\n",
    "```\n",
    "    postData(location, resource, dataToPost)\n",
    "```\n",
    "that uses your `buildURL` function to build a URL (using `https`), then uses the `requests` module to `POST` `dataToPost` to that URL (note: `dataToPost` will be the *body* of the message you send).\n",
    "\n",
    "Your function should return the `response` returned by the method of `requests` that you invoke.  Note: the URL `https://httpbin.org/post` is set up to allow you to post there."
   ]
  },
  {
   "cell_type": "code",
   "execution_count": null,
   "metadata": {
    "deletable": false,
    "nbgrader": {
     "cell_type": "code",
     "checksum": "b5030907d20fecf98e229cbfc07e8f1f",
     "grade": false,
     "grade_id": "cell-41c7aa6097a4d5bc",
     "locked": false,
     "schema_version": 3,
     "solution": true,
     "task": false
    }
   },
   "outputs": [],
   "source": [
    "# YOUR CODE HERE\n",
    "raise NotImplementedError()\n",
    "\n",
    "response = postData('httpbin.org','/post',\"Wow, what a cool string!\")\n",
    "print(response.status_code)\n",
    "print(response.request.body)"
   ]
  },
  {
   "cell_type": "code",
   "execution_count": null,
   "metadata": {
    "deletable": false,
    "editable": false,
    "nbgrader": {
     "cell_type": "code",
     "checksum": "db04c7f3ac1bb601e53918a97880b3a2",
     "grade": true,
     "grade_id": "cell-9777279716215ad7",
     "locked": true,
     "points": 2,
     "schema_version": 3,
     "solution": false,
     "task": false
    }
   },
   "outputs": [],
   "source": [
    "# Testing cell\n",
    "response = postData('httpbin.org', '/post', \"CS181 is the best\")\n",
    "r = response.request\n",
    "assert r.method == 'POST'\n",
    "assert r.body == 'CS181 is the best'\n",
    "assert r.url == 'https://httpbin.org/post'"
   ]
  },
  {
   "cell_type": "markdown",
   "metadata": {},
   "source": [
    "---\n",
    "\n",
    "---\n",
    "\n",
    "## Part F\n",
    "\n",
    "How much time (in minutes/hours) did you spend on this lab outside of class?"
   ]
  },
  {
   "cell_type": "markdown",
   "metadata": {},
   "source": [
    "YOUR ANSWER HERE"
   ]
  }
 ],
 "metadata": {
  "kernelspec": {
   "display_name": "Python 3",
   "language": "python",
   "name": "python3"
  },
  "language_info": {
   "codemirror_mode": {
    "name": "ipython",
    "version": 3
   },
   "file_extension": ".py",
   "mimetype": "text/x-python",
   "name": "python",
   "nbconvert_exporter": "python",
   "pygments_lexer": "ipython3",
   "version": "3.9.7"
  }
 },
 "nbformat": 4,
 "nbformat_minor": 4
}
