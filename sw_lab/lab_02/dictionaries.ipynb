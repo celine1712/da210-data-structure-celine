{
 "cells": [
  {
   "attachments": {},
   "cell_type": "markdown",
   "metadata": {},
   "source": [
    "# Denison DA210/CS181 SW Lab #2 - Step 1\n",
    "\n",
    "Before you get your checkpoints, make sure everything runs as expected. This is a combination of **restarting the kernel** and then **running all cells** (in the menubar, select Kernel$\\rightarrow$Restart And Run All).\n",
    "\n",
    "Make sure you fill in any place that says `# YOUR CODE HERE` or \"YOUR ANSWER HERE\"."
   ]
  },
  {
   "cell_type": "markdown",
   "metadata": {},
   "source": [
    "---\n",
    "## Part A: Dictionaries\n",
    "\n",
    "A dictionary allows us to represent key-value pairs in Python in a way that ensures fast lookup of values.\n",
    "\n",
    "In Python, dictionaries are represented using \"curly braces\": `{}`.  (This is in contrast to `[]` used by lists or `()` used by tuples.)\n",
    "\n",
    "An empty dictionary is thus given by:"
   ]
  },
  {
   "cell_type": "code",
   "execution_count": 1,
   "metadata": {},
   "outputs": [],
   "source": [
    "emptyDict = {}"
   ]
  },
  {
   "cell_type": "markdown",
   "metadata": {},
   "source": [
    "We can statically create a dictionary by specifying the key-value pairs.  Keys can be any immutable types (e.g., strings, ints, tuples).  Values can be *any* types (e.g., strings, ints, tuples, lists, floats, other dictionaries).\n",
    "\n",
    "For example, we can map people's names to their favorite colors:"
   ]
  },
  {
   "cell_type": "code",
   "execution_count": 2,
   "metadata": {},
   "outputs": [],
   "source": [
    "favoriteColors = {\"Isabella\": \"teal\",\n",
    "                  \"Miyeon\": \"purple\",\n",
    "                  \"Joshua\": \"brown\",\n",
    "                  \"Abhishek\": \"blue\"}"
   ]
  },
  {
   "cell_type": "markdown",
   "metadata": {},
   "source": [
    "We can use square brackets, `[]`, to look up the value corresponding to a key:"
   ]
  },
  {
   "cell_type": "code",
   "execution_count": 3,
   "metadata": {},
   "outputs": [
    {
     "data": {
      "text/plain": [
       "'teal'"
      ]
     },
     "execution_count": 3,
     "metadata": {},
     "output_type": "execute_result"
    }
   ],
   "source": [
    "# Look up the value for a given key\n",
    "favoriteColors[\"Isabella\"]"
   ]
  },
  {
   "cell_type": "markdown",
   "metadata": {},
   "source": [
    "We can also use square brackets, `[]`, to add a new key-value pair to the dictionary."
   ]
  },
  {
   "cell_type": "code",
   "execution_count": 4,
   "metadata": {},
   "outputs": [
    {
     "name": "stdout",
     "output_type": "stream",
     "text": [
      "{'Isabella': 'teal', 'Miyeon': 'purple', 'Joshua': 'brown', 'Abhishek': 'blue'}\n",
      "{'Isabella': 'teal', 'Miyeon': 'purple', 'Joshua': 'brown', 'Abhishek': 'blue', 'Enrico': 'yellow'}\n"
     ]
    }
   ],
   "source": [
    "print(favoriteColors)\n",
    "\n",
    "# Add a new key-value pair\n",
    "favoriteColors[\"Enrico\"] = \"yellow\"\n",
    "\n",
    "print(favoriteColors)"
   ]
  },
  {
   "cell_type": "markdown",
   "metadata": {},
   "source": [
    "If we provide an existing key, we can update its value.  Note that this means that _there cannot be duplicate keys_ in a Python dictionary."
   ]
  },
  {
   "cell_type": "code",
   "execution_count": 5,
   "metadata": {},
   "outputs": [
    {
     "name": "stdout",
     "output_type": "stream",
     "text": [
      "{'Isabella': 'teal', 'Miyeon': 'purple', 'Joshua': 'brown', 'Abhishek': 'blue', 'Enrico': 'yellow'}\n",
      "{'Isabella': 'teal', 'Miyeon': 'purple', 'Joshua': 'brown', 'Abhishek': 'blue', 'Enrico': 'orange'}\n"
     ]
    }
   ],
   "source": [
    "print(favoriteColors)\n",
    "\n",
    "# Update a key-value pair\n",
    "favoriteColors[\"Enrico\"] = \"orange\"\n",
    "\n",
    "print(favoriteColors)"
   ]
  },
  {
   "cell_type": "markdown",
   "metadata": {},
   "source": [
    "We can use the `in` keyword to check if a key exists in the dictionary:"
   ]
  },
  {
   "cell_type": "code",
   "execution_count": 6,
   "metadata": {},
   "outputs": [
    {
     "name": "stdout",
     "output_type": "stream",
     "text": [
      "True\n",
      "False\n"
     ]
    }
   ],
   "source": [
    "print(\"Isabella\" in favoriteColors)\n",
    "\n",
    "print(\"Lulu\" in favoriteColors)"
   ]
  },
  {
   "cell_type": "markdown",
   "metadata": {},
   "source": [
    "Similarly, we can use a `for` loop to iterate through the keys in a dictionary:"
   ]
  },
  {
   "cell_type": "code",
   "execution_count": 7,
   "metadata": {},
   "outputs": [
    {
     "name": "stdout",
     "output_type": "stream",
     "text": [
      "Isabella's favorite color is teal\n",
      "Miyeon's favorite color is purple\n",
      "Joshua's favorite color is brown\n",
      "Abhishek's favorite color is blue\n",
      "Enrico's favorite color is orange\n"
     ]
    }
   ],
   "source": [
    "for key in favoriteColors:\n",
    "    value = favoriteColors[key]\n",
    "    print(key + \"'s favorite color is \" + value)"
   ]
  },
  {
   "cell_type": "markdown",
   "metadata": {},
   "source": [
    "We can save a line in this for loop similar to using `enumerate()` with a list's indices and elements:"
   ]
  },
  {
   "cell_type": "code",
   "execution_count": 8,
   "metadata": {},
   "outputs": [
    {
     "name": "stdout",
     "output_type": "stream",
     "text": [
      "Isabella's favorite color is teal\n",
      "Miyeon's favorite color is purple\n",
      "Joshua's favorite color is brown\n",
      "Abhishek's favorite color is blue\n",
      "Enrico's favorite color is orange\n"
     ]
    }
   ],
   "source": [
    "for key, value in favoriteColors.items():\n",
    "    print(key + \"'s favorite color is \" + value)"
   ]
  },
  {
   "attachments": {},
   "cell_type": "markdown",
   "metadata": {},
   "source": [
    "> You've reached the first checkpoint in the lab.  Make sure to have it signed off by the instructor or TA.\n",
    ">\n",
    "> Checkpoint 1: Does `D = {'a': \"ant\", 'c': \"cat\", 'a': \"alligator\"}` represent a legitimate dictionary?  Explain.\n",
    "No because there are duplicated keys (\"a\") with different values. "
   ]
  },
  {
   "cell_type": "markdown",
   "metadata": {},
   "source": [
    "---\n",
    "\n",
    "## Part B\n",
    "\n",
    "**Q1:** Create a dictionary to represent the following data.  The keys should be strings and the values should be integers.\n",
    "\n",
    "Name       | Age     \n",
    ":--------- |:-------------\n",
    "Lulu       | 10\n",
    "Pug        | 16\n",
    "Max        | 8\n",
    "Sadie      | 15\n",
    "Hobbes     | 10\n",
    "\n",
    "You should name your dictionary `petAgeMap`."
   ]
  },
  {
   "cell_type": "code",
   "execution_count": 9,
   "metadata": {},
   "outputs": [],
   "source": [
    "petAgeMap ={\"Lulu\":10, \"Pug\" : 16, \"Max\" : 8, \"Sadie\" : 15, \"Hobbes\" : 10}"
   ]
  },
  {
   "cell_type": "code",
   "execution_count": 10,
   "metadata": {},
   "outputs": [],
   "source": [
    "# Testing cell\n",
    "assert len(petAgeMap) == 5\n",
    "\n",
    "assert \"Sadie\" in petAgeMap\n",
    "assert \"Hobbes\" in petAgeMap\n",
    "assert \"Lulu\" in petAgeMap\n",
    "assert petAgeMap[\"Sadie\"] == 15\n",
    "assert petAgeMap[\"Hobbes\"] == 10\n",
    "assert petAgeMap[\"Lulu\"] == 10"
   ]
  },
  {
   "cell_type": "markdown",
   "metadata": {},
   "source": [
    "**Q2:** Write a function\n",
    "\n",
    "```\n",
    "    incrementValue(d, key)\n",
    "```\n",
    "\n",
    "that takes a dictionary and key and increments the corresponding value by one.  Your function should modify the dictionary in place and not return anything.  You may assume that dictionary values are integers and that the key already exists in the dictionary."
   ]
  },
  {
   "cell_type": "code",
   "execution_count": 11,
   "metadata": {},
   "outputs": [],
   "source": [
    "def incrementValue(d, key): \n",
    "    \"\"\" Incrementing the value of key in dictionary d by 1, assuming all keys in d are integers. \n",
    "    \"\"\"\n",
    "    d[key] = d[key] +1"
   ]
  },
  {
   "cell_type": "code",
   "execution_count": 12,
   "metadata": {},
   "outputs": [],
   "source": [
    "# Testing cell\n",
    "assert incrementValue.__doc__ is not None # don't forget the docstring!\n",
    "\n",
    "assert len(petAgeMap) == 5\n",
    "assert petAgeMap[\"Sadie\"] == 15\n",
    "incrementValue(petAgeMap, \"Sadie\")\n",
    "assert petAgeMap[\"Sadie\"] == 16\n",
    "assert petAgeMap[\"Hobbes\"] == 10\n",
    "assert len(petAgeMap) == 5"
   ]
  },
  {
   "cell_type": "markdown",
   "metadata": {},
   "source": [
    "---\n",
    "## Part C\n",
    "\n",
    "**Q3:** Write a function\n",
    "\n",
    "```\n",
    "    makeDictFromList(L)\n",
    "```\n",
    "    \n",
    "that creates a dictionary whose keys are the items of `L` and whose values are the corresponding *indices* of `L`.  You may assume `L` is a list without any duplicate items."
   ]
  },
  {
   "cell_type": "code",
   "execution_count": 13,
   "metadata": {
    "deletable": false,
    "nbgrader": {
     "cell_type": "code",
     "checksum": "7bcbc0e9d91167e91810d36c07e77edc",
     "grade": false,
     "grade_id": "cell-1b48e481c8c4c6cc",
     "locked": false,
     "schema_version": 3,
     "solution": true,
     "task": false
    }
   },
   "outputs": [],
   "source": [
    "def makeDictFromList(L): \n",
    "    \"\"\"\n",
    "    Creating a dictionary for items in L, such that the items have a value of their indices.\n",
    "    \"\"\"\n",
    "    d = {}\n",
    "    for i in range(len(L)):\n",
    "        d[L[i]] = i\n",
    "    return d\n"
   ]
  },
  {
   "cell_type": "code",
   "execution_count": 14,
   "metadata": {
    "deletable": false,
    "editable": false,
    "nbgrader": {
     "cell_type": "code",
     "checksum": "45028805a71e76940ea7fb76719f053c",
     "grade": true,
     "grade_id": "cell-7a90d00c4694cb19",
     "locked": true,
     "points": 2,
     "schema_version": 3,
     "solution": false,
     "task": false
    }
   },
   "outputs": [],
   "source": [
    "# Testing cell\n",
    "assert makeDictFromList.__doc__ is not None # don't forget the docstring!\n",
    "\n",
    "L1 = [5, 4, 3, 2, 1]\n",
    "expect1 = {5: 0, 4: 1, 3: 2, 2: 3, 1:4}\n",
    "assert makeDictFromList(L1) == expect1\n",
    "\n",
    "L2 = \"Piotr Piper Picked a Pack of Pickled Peppers\".split()\n",
    "expect2 = {'Piotr': 0, 'Piper': 1, 'Picked': 2, \"a\": 3, \"Pack\": 4, \"of\": 5, \"Pickled\": 6, \"Peppers\": 7}\n",
    "assert makeDictFromList(L2) == expect2"
   ]
  },
  {
   "attachments": {},
   "cell_type": "markdown",
   "metadata": {},
   "source": [
    "> You've reached the second checkpoint in the lab.  Make sure to have it signed off by the instructor or TA.\n",
    ">\n",
    "> Checkpoint 2: Given your implementation of `makeDictFromList`, what would happen if there were duplicate entries?  How could you instead represent multiple values for one key?"
   ]
  },
  {
   "cell_type": "markdown",
   "metadata": {},
   "source": [
    "**Q4:** Write a function\n",
    "\n",
    "```\n",
    "    filmography(L)\n",
    "```\n",
    "\n",
    "whose parameter `L` is a list of tuples of the form `(actor, movie)`, and creates and returns a dictionary where the keys are actor names and the values are lists of movies that actor has been in.  For example, given \n",
    "\n",
    "```\n",
    "    L = [(‘DiCaprio’,‘Revenant’),\n",
    "         (‘Cumberbatch’,‘Hobbit’),\n",
    "         (‘DiCaprio’,‘Gatsby’),\n",
    "         (‘DiCaprio’,‘Django’)]\n",
    "```\n",
    "\n",
    "then you should return \n",
    "\n",
    "```\n",
    "    {‘DiCaprio’:[‘Revenant’,‘Gatsby’,‘Django’],\n",
    "     ‘Cumberbatch’:[‘Hobbit’]}\n",
    "```"
   ]
  },
  {
   "cell_type": "code",
   "execution_count": 15,
   "metadata": {
    "deletable": false,
    "nbgrader": {
     "cell_type": "code",
     "checksum": "c4c20a48af5f5bf907601c503662434c",
     "grade": false,
     "grade_id": "cell-6b2af6f816026d9f",
     "locked": false,
     "schema_version": 3,
     "solution": true,
     "task": false
    }
   },
   "outputs": [],
   "source": [
    "def filmography(L): \n",
    "    \"\"\"Creating a dictionary with actors' names as keys and the values are list of movies the key actor has been in. \n",
    "    \"\"\"\n",
    "    d = {} \n",
    "    for element in L:\n",
    "        lst = []\n",
    "        for elem in L: \n",
    "            if elem[0] == element[0]:\n",
    "                lst.append(elem[1])\n",
    "        d[element[0]] = lst\n",
    "    return d"
   ]
  },
  {
   "cell_type": "code",
   "execution_count": 16,
   "metadata": {},
   "outputs": [
    {
     "name": "stdout",
     "output_type": "stream",
     "text": [
      "{'DiCaprio': ['Revenant', 'Gatsby', 'Django'], 'Cumberbatch': ['Hobbit']}\n"
     ]
    }
   ],
   "source": [
    "# Sanity check\n",
    "L = [('DiCaprio','Revenant'),\n",
    "     ('Cumberbatch','Hobbit'),\n",
    "     ('DiCaprio','Gatsby'),\n",
    "     ('DiCaprio','Django')]\n",
    "D = filmography(L)\n",
    "print(D)"
   ]
  },
  {
   "cell_type": "code",
   "execution_count": 17,
   "metadata": {
    "deletable": false,
    "editable": false,
    "nbgrader": {
     "cell_type": "code",
     "checksum": "351e3fbca745e78446875a00a19c795c",
     "grade": true,
     "grade_id": "cell-687b64ee889a4671",
     "locked": true,
     "points": 2,
     "schema_version": 3,
     "solution": false,
     "task": false
    }
   },
   "outputs": [],
   "source": [
    "# Testing cell\n",
    "assert filmography.__doc__ is not None # don't forget the docstring!\n",
    "\n",
    "L = [('DiCaprio','Revenant'),\n",
    "     ('Cumberbatch','Hobbit'),\n",
    "     ('DiCaprio','Gatsby'),\n",
    "     ('DiCaprio','Django')]\n",
    "D = filmography(L)\n",
    "assert len(D) == 2\n",
    "assert 'DiCaprio' in D.keys()\n",
    "assert 'Django' in D['DiCaprio']\n",
    "assert 'Cumberbatch' in D.keys()\n",
    "assert D['Cumberbatch'] == ['Hobbit']"
   ]
  }
 ],
 "metadata": {
  "kernelspec": {
   "display_name": "Python 3",
   "language": "python",
   "name": "python3"
  },
  "language_info": {
   "codemirror_mode": {
    "name": "ipython",
    "version": 3
   },
   "file_extension": ".py",
   "mimetype": "text/x-python",
   "name": "python",
   "nbconvert_exporter": "python",
   "pygments_lexer": "ipython3",
   "version": "3.10.6 (v3.10.6:9c7b4bd164, Aug  1 2022, 17:13:48) [Clang 13.0.0 (clang-1300.0.29.30)]"
  },
  "vscode": {
   "interpreter": {
    "hash": "aee8b7b246df8f9039afb4144a1f6fd8d2ca17a180786b69acc140d282b71a49"
   }
  }
 },
 "nbformat": 4,
 "nbformat_minor": 4
}
