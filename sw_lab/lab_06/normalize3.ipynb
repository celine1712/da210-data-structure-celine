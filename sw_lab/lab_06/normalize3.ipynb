{
 "cells": [
  {
   "attachments": {},
   "cell_type": "markdown",
   "metadata": {},
   "source": [
    "# Denison DA210/CS181 SW Lab #6 - Step 1\n",
    "\n",
    "Before you get your checkpoints, make sure everything runs as expected. This is a combination of **restarting the kernel** and then **running all cells**.\n",
    "\n",
    "Make sure you fill in any place that says `# YOUR CODE HERE` or \"YOUR ANSWER HERE\"."
   ]
  },
  {
   "cell_type": "markdown",
   "metadata": {},
   "source": [
    "---"
   ]
  },
  {
   "cell_type": "code",
   "execution_count": 3,
   "metadata": {},
   "outputs": [],
   "source": [
    "import os\n",
    "import os.path\n",
    "import pandas as pd\n",
    "\n",
    "datadir = \"publicdata\""
   ]
  },
  {
   "attachments": {},
   "cell_type": "markdown",
   "metadata": {},
   "source": [
    "---\n",
    "\n",
    "## Part A\n",
    "\n",
    "**Q1:** Consider the data on religions and income, gathered by Pew Research Center and hosted at this link: https://github.com/chendaniely/pandas_for_everyone/blob/master/data/pew.csv.\n",
    "\n",
    "The data is also available as `pew.csv` in the data folder.  In the code cell that follows, read the data into a DataFrame assigned to `df_rel_untidy`."
   ]
  },
  {
   "cell_type": "code",
   "execution_count": 4,
   "metadata": {
    "deletable": false,
    "nbgrader": {
     "cell_type": "code",
     "checksum": "dc4c0884fecbd619066e9038f415ee6b",
     "grade": true,
     "grade_id": "cell-cefd70c125c26355",
     "locked": false,
     "points": 1,
     "schema_version": 3,
     "solution": true,
     "task": false
    }
   },
   "outputs": [
    {
     "data": {
      "text/html": [
       "<div>\n",
       "<style scoped>\n",
       "    .dataframe tbody tr th:only-of-type {\n",
       "        vertical-align: middle;\n",
       "    }\n",
       "\n",
       "    .dataframe tbody tr th {\n",
       "        vertical-align: top;\n",
       "    }\n",
       "\n",
       "    .dataframe thead th {\n",
       "        text-align: right;\n",
       "    }\n",
       "</style>\n",
       "<table border=\"1\" class=\"dataframe\">\n",
       "  <thead>\n",
       "    <tr style=\"text-align: right;\">\n",
       "      <th></th>\n",
       "      <th>religion</th>\n",
       "      <th>&lt;$10k</th>\n",
       "      <th>$10-20k</th>\n",
       "      <th>$20-30k</th>\n",
       "      <th>$30-40k</th>\n",
       "      <th>$40-50k</th>\n",
       "      <th>$50-75k</th>\n",
       "      <th>$75-100k</th>\n",
       "      <th>$100-150k</th>\n",
       "      <th>&gt;150k</th>\n",
       "      <th>Don't know/refused</th>\n",
       "    </tr>\n",
       "  </thead>\n",
       "  <tbody>\n",
       "    <tr>\n",
       "      <th>0</th>\n",
       "      <td>Agnostic</td>\n",
       "      <td>27</td>\n",
       "      <td>34</td>\n",
       "      <td>60</td>\n",
       "      <td>81</td>\n",
       "      <td>76</td>\n",
       "      <td>137</td>\n",
       "      <td>122</td>\n",
       "      <td>109</td>\n",
       "      <td>84</td>\n",
       "      <td>96</td>\n",
       "    </tr>\n",
       "    <tr>\n",
       "      <th>1</th>\n",
       "      <td>Atheist</td>\n",
       "      <td>12</td>\n",
       "      <td>27</td>\n",
       "      <td>37</td>\n",
       "      <td>52</td>\n",
       "      <td>35</td>\n",
       "      <td>70</td>\n",
       "      <td>73</td>\n",
       "      <td>59</td>\n",
       "      <td>74</td>\n",
       "      <td>76</td>\n",
       "    </tr>\n",
       "    <tr>\n",
       "      <th>2</th>\n",
       "      <td>Buddhist</td>\n",
       "      <td>27</td>\n",
       "      <td>21</td>\n",
       "      <td>30</td>\n",
       "      <td>34</td>\n",
       "      <td>33</td>\n",
       "      <td>58</td>\n",
       "      <td>62</td>\n",
       "      <td>39</td>\n",
       "      <td>53</td>\n",
       "      <td>54</td>\n",
       "    </tr>\n",
       "    <tr>\n",
       "      <th>3</th>\n",
       "      <td>Catholic</td>\n",
       "      <td>418</td>\n",
       "      <td>617</td>\n",
       "      <td>732</td>\n",
       "      <td>670</td>\n",
       "      <td>638</td>\n",
       "      <td>1116</td>\n",
       "      <td>949</td>\n",
       "      <td>792</td>\n",
       "      <td>633</td>\n",
       "      <td>1489</td>\n",
       "    </tr>\n",
       "    <tr>\n",
       "      <th>4</th>\n",
       "      <td>Don’t know/refused</td>\n",
       "      <td>15</td>\n",
       "      <td>14</td>\n",
       "      <td>15</td>\n",
       "      <td>11</td>\n",
       "      <td>10</td>\n",
       "      <td>35</td>\n",
       "      <td>21</td>\n",
       "      <td>17</td>\n",
       "      <td>18</td>\n",
       "      <td>116</td>\n",
       "    </tr>\n",
       "  </tbody>\n",
       "</table>\n",
       "</div>"
      ],
      "text/plain": [
       "             religion  <$10k  $10-20k  $20-30k  $30-40k  $40-50k  $50-75k  \\\n",
       "0            Agnostic     27       34       60       81       76      137   \n",
       "1             Atheist     12       27       37       52       35       70   \n",
       "2            Buddhist     27       21       30       34       33       58   \n",
       "3            Catholic    418      617      732      670      638     1116   \n",
       "4  Don’t know/refused     15       14       15       11       10       35   \n",
       "\n",
       "   $75-100k  $100-150k  >150k  Don't know/refused  \n",
       "0       122        109     84                  96  \n",
       "1        73         59     74                  76  \n",
       "2        62         39     53                  54  \n",
       "3       949        792    633                1489  \n",
       "4        21         17     18                 116  "
      ]
     },
     "execution_count": 4,
     "metadata": {},
     "output_type": "execute_result"
    }
   ],
   "source": [
    "df = pd.read_csv(os.path.join(datadir, \"pew.csv\"))\n",
    "df_rel_untidy = pd.DataFrame(df)\n",
    "\n",
    "# Display part of the DataFrame\n",
    "df_rel_untidy.head()"
   ]
  },
  {
   "cell_type": "code",
   "execution_count": 5,
   "metadata": {
    "deletable": false,
    "editable": false,
    "nbgrader": {
     "cell_type": "code",
     "checksum": "a5acfce4ac3b370cbd5149e6d76b3b45",
     "grade": true,
     "grade_id": "cell-42c6a8c97256fdaa",
     "locked": true,
     "points": 2,
     "schema_version": 3,
     "solution": false,
     "task": false
    }
   },
   "outputs": [],
   "source": [
    "# Testing cell\n",
    "assert df_rel_untidy.shape == (18,11)\n",
    "assert df_rel_untidy.iloc[0,0] == \"Agnostic\"\n",
    "assert df_rel_untidy.iloc[0,1] == 27\n",
    "assert df_rel_untidy.iloc[5,0] == \"Evangelical Prot\"\n",
    "assert df_rel_untidy.columns[5] == \"$40-50k\"\n",
    "assert df_rel_untidy.iloc[14,8] == 14"
   ]
  },
  {
   "attachments": {},
   "cell_type": "markdown",
   "metadata": {},
   "source": [
    "> You've reached the first checkpoint in the lab.  Make sure to have it signed off by the instructor or TA.\n",
    ">\n",
    "> Checkpoint 1: What are the independent variable(s) and dependent variable(s) for this dataset?  Give one of the three tidy-data requirements that this dataset fails to satisfy and explain why.\n",
    "\n",
    "independent = religion \n",
    "dependent = $ \n",
    "t"
   ]
  },
  {
   "cell_type": "markdown",
   "metadata": {},
   "source": [
    "**Q2:** Transform as needed to make it tidy.  Store the normalized (tidy) data frame as `df_rel`."
   ]
  },
  {
   "cell_type": "code",
   "execution_count": 6,
   "metadata": {
    "deletable": false,
    "nbgrader": {
     "cell_type": "code",
     "checksum": "f8ec55ae1b35557dd83263d5015f0785",
     "grade": false,
     "grade_id": "cell-63953f65aa520b07",
     "locked": false,
     "schema_version": 3,
     "solution": true,
     "task": false
    }
   },
   "outputs": [
    {
     "data": {
      "text/html": [
       "<div>\n",
       "<style scoped>\n",
       "    .dataframe tbody tr th:only-of-type {\n",
       "        vertical-align: middle;\n",
       "    }\n",
       "\n",
       "    .dataframe tbody tr th {\n",
       "        vertical-align: top;\n",
       "    }\n",
       "\n",
       "    .dataframe thead th {\n",
       "        text-align: right;\n",
       "    }\n",
       "</style>\n",
       "<table border=\"1\" class=\"dataframe\">\n",
       "  <thead>\n",
       "    <tr style=\"text-align: right;\">\n",
       "      <th></th>\n",
       "      <th>religion</th>\n",
       "      <th>income</th>\n",
       "      <th>count</th>\n",
       "    </tr>\n",
       "  </thead>\n",
       "  <tbody>\n",
       "    <tr>\n",
       "      <th>0</th>\n",
       "      <td>Agnostic</td>\n",
       "      <td>&lt;$10k</td>\n",
       "      <td>27</td>\n",
       "    </tr>\n",
       "    <tr>\n",
       "      <th>1</th>\n",
       "      <td>Atheist</td>\n",
       "      <td>&lt;$10k</td>\n",
       "      <td>12</td>\n",
       "    </tr>\n",
       "    <tr>\n",
       "      <th>2</th>\n",
       "      <td>Buddhist</td>\n",
       "      <td>&lt;$10k</td>\n",
       "      <td>27</td>\n",
       "    </tr>\n",
       "    <tr>\n",
       "      <th>3</th>\n",
       "      <td>Catholic</td>\n",
       "      <td>&lt;$10k</td>\n",
       "      <td>418</td>\n",
       "    </tr>\n",
       "    <tr>\n",
       "      <th>4</th>\n",
       "      <td>Don’t know/refused</td>\n",
       "      <td>&lt;$10k</td>\n",
       "      <td>15</td>\n",
       "    </tr>\n",
       "  </tbody>\n",
       "</table>\n",
       "</div>"
      ],
      "text/plain": [
       "             religion income  count\n",
       "0            Agnostic  <$10k     27\n",
       "1             Atheist  <$10k     12\n",
       "2            Buddhist  <$10k     27\n",
       "3            Catholic  <$10k    418\n",
       "4  Don’t know/refused  <$10k     15"
      ]
     },
     "execution_count": 6,
     "metadata": {},
     "output_type": "execute_result"
    }
   ],
   "source": [
    "df_rel = df_rel_untidy.melt(id_vars = \"religion\", \n",
    "                            value_vars = [\"<$10k\",\"$10-20k\",\"$20-30k\",\"$30-40k\",\"$40-50k\",\"$50-75k\",\"$75-100k\",\"$100-150k\",\">150k\",\"Don't know/refused\"], \n",
    "                            var_name = \"income\", \n",
    "                            value_name = \"count\")\n",
    "\n",
    "# Display part of the tidy DataFrame\n",
    "df_rel.head()"
   ]
  },
  {
   "cell_type": "code",
   "execution_count": 7,
   "metadata": {
    "deletable": false,
    "editable": false,
    "nbgrader": {
     "cell_type": "code",
     "checksum": "a5acfce4ac3b370cbd5149e6d76b3b45",
     "grade": true,
     "grade_id": "cell-42c6a8c97256fdaa",
     "locked": true,
     "points": 2,
     "schema_version": 3,
     "solution": false,
     "task": false
    }
   },
   "outputs": [],
   "source": [
    "# Testing cell\n",
    "assert df_rel.shape == (180,3)\n",
    "assert df_rel.iloc[0,0] == \"Agnostic\"\n",
    "assert df_rel.iloc[0,1] == \"<$10k\"\n",
    "assert df_rel.iloc[0,2] == 27\n",
    "assert df_rel.iloc[41,0] == \"Evangelical Prot\"\n",
    "assert df_rel.iloc[89,1] == \"$40-50k\"\n",
    "assert df_rel.iloc[104,2] == 14"
   ]
  },
  {
   "cell_type": "markdown",
   "metadata": {},
   "source": [
    "---\n",
    "\n",
    "## Part B\n",
    "\n",
    "**Q3:** Read the data in `pop_columns.csv` into a `DataFrame` called `pop_untidy`."
   ]
  },
  {
   "cell_type": "code",
   "execution_count": 8,
   "metadata": {},
   "outputs": [
    {
     "data": {
      "text/html": [
       "<div>\n",
       "<style scoped>\n",
       "    .dataframe tbody tr th:only-of-type {\n",
       "        vertical-align: middle;\n",
       "    }\n",
       "\n",
       "    .dataframe tbody tr th {\n",
       "        vertical-align: top;\n",
       "    }\n",
       "\n",
       "    .dataframe thead th {\n",
       "        text-align: right;\n",
       "    }\n",
       "</style>\n",
       "<table border=\"1\" class=\"dataframe\">\n",
       "  <thead>\n",
       "    <tr style=\"text-align: right;\">\n",
       "      <th></th>\n",
       "      <th>code</th>\n",
       "      <th>pop2014</th>\n",
       "      <th>pop2015</th>\n",
       "      <th>pop2016</th>\n",
       "    </tr>\n",
       "  </thead>\n",
       "  <tbody>\n",
       "    <tr>\n",
       "      <th>0</th>\n",
       "      <td>CHN</td>\n",
       "      <td>1364.27</td>\n",
       "      <td>1371.22</td>\n",
       "      <td>1378.66</td>\n",
       "    </tr>\n",
       "    <tr>\n",
       "      <th>1</th>\n",
       "      <td>GBR</td>\n",
       "      <td>64.61</td>\n",
       "      <td>65.13</td>\n",
       "      <td>65.60</td>\n",
       "    </tr>\n",
       "    <tr>\n",
       "      <th>2</th>\n",
       "      <td>IND</td>\n",
       "      <td>1295.60</td>\n",
       "      <td>1310.15</td>\n",
       "      <td>1324.51</td>\n",
       "    </tr>\n",
       "    <tr>\n",
       "      <th>3</th>\n",
       "      <td>USA</td>\n",
       "      <td>318.39</td>\n",
       "      <td>320.74</td>\n",
       "      <td>323.07</td>\n",
       "    </tr>\n",
       "  </tbody>\n",
       "</table>\n",
       "</div>"
      ],
      "text/plain": [
       "  code  pop2014  pop2015  pop2016\n",
       "0  CHN  1364.27  1371.22  1378.66\n",
       "1  GBR    64.61    65.13    65.60\n",
       "2  IND  1295.60  1310.15  1324.51\n",
       "3  USA   318.39   320.74   323.07"
      ]
     },
     "execution_count": 8,
     "metadata": {},
     "output_type": "execute_result"
    }
   ],
   "source": [
    "pop_untidy1 = pd.read_csv(os.path.join(datadir, \"pop_columns.csv\"))\n",
    "pop_untidy = pd.DataFrame(pop_untidy1) \n",
    "\n",
    "\n",
    "# Display the untidy DataFrame\n",
    "pop_untidy"
   ]
  },
  {
   "attachments": {},
   "cell_type": "markdown",
   "metadata": {},
   "source": [
    "> You've reached the second checkpoint in the lab.  Make sure to have it signed off by the instructor or TA.\n",
    ">\n",
    "> Checkpoint 2: What are the independent variable(s) and dependent variable(s) for this dataset?  Would either `melt` or `pivot` be useful to make this data tidy?\n",
    "\n",
    "ind = code + year \n",
    "dep = pop \n",
    "melt bc index = year"
   ]
  },
  {
   "attachments": {},
   "cell_type": "markdown",
   "metadata": {},
   "source": [
    "**Q4:** This dataset fails to satisfy `TidyData1`: each column represents the `population` for a different value of `year`.  Make this dataset tidy.\n",
    "\n",
    "Your result should use both the `code` and `year` as a multi-level index and have one data column (`pop`), and twelve rows.  Note that you can use `sort_index` to reorganize your data after setting the index.  Store the resulting `DataFrame` in a variable `pop_tidy`."
   ]
  },
  {
   "cell_type": "code",
   "execution_count": 12,
   "metadata": {},
   "outputs": [
    {
     "data": {
      "text/html": [
       "<div>\n",
       "<style scoped>\n",
       "    .dataframe tbody tr th:only-of-type {\n",
       "        vertical-align: middle;\n",
       "    }\n",
       "\n",
       "    .dataframe tbody tr th {\n",
       "        vertical-align: top;\n",
       "    }\n",
       "\n",
       "    .dataframe thead th {\n",
       "        text-align: right;\n",
       "    }\n",
       "</style>\n",
       "<table border=\"1\" class=\"dataframe\">\n",
       "  <thead>\n",
       "    <tr style=\"text-align: right;\">\n",
       "      <th></th>\n",
       "      <th></th>\n",
       "      <th>pop</th>\n",
       "    </tr>\n",
       "    <tr>\n",
       "      <th>code</th>\n",
       "      <th>year</th>\n",
       "      <th></th>\n",
       "    </tr>\n",
       "  </thead>\n",
       "  <tbody>\n",
       "    <tr>\n",
       "      <th rowspan=\"3\" valign=\"top\">CHN</th>\n",
       "      <th>2014</th>\n",
       "      <td>1364.27</td>\n",
       "    </tr>\n",
       "    <tr>\n",
       "      <th>2015</th>\n",
       "      <td>1371.22</td>\n",
       "    </tr>\n",
       "    <tr>\n",
       "      <th>2016</th>\n",
       "      <td>1378.66</td>\n",
       "    </tr>\n",
       "    <tr>\n",
       "      <th rowspan=\"3\" valign=\"top\">GBR</th>\n",
       "      <th>2014</th>\n",
       "      <td>64.61</td>\n",
       "    </tr>\n",
       "    <tr>\n",
       "      <th>2015</th>\n",
       "      <td>65.13</td>\n",
       "    </tr>\n",
       "    <tr>\n",
       "      <th>2016</th>\n",
       "      <td>65.60</td>\n",
       "    </tr>\n",
       "    <tr>\n",
       "      <th rowspan=\"3\" valign=\"top\">IND</th>\n",
       "      <th>2014</th>\n",
       "      <td>1295.60</td>\n",
       "    </tr>\n",
       "    <tr>\n",
       "      <th>2015</th>\n",
       "      <td>1310.15</td>\n",
       "    </tr>\n",
       "    <tr>\n",
       "      <th>2016</th>\n",
       "      <td>1324.51</td>\n",
       "    </tr>\n",
       "    <tr>\n",
       "      <th rowspan=\"3\" valign=\"top\">USA</th>\n",
       "      <th>2014</th>\n",
       "      <td>318.39</td>\n",
       "    </tr>\n",
       "    <tr>\n",
       "      <th>2015</th>\n",
       "      <td>320.74</td>\n",
       "    </tr>\n",
       "    <tr>\n",
       "      <th>2016</th>\n",
       "      <td>323.07</td>\n",
       "    </tr>\n",
       "  </tbody>\n",
       "</table>\n",
       "</div>"
      ],
      "text/plain": [
       "               pop\n",
       "code year         \n",
       "CHN  2014  1364.27\n",
       "     2015  1371.22\n",
       "     2016  1378.66\n",
       "GBR  2014    64.61\n",
       "     2015    65.13\n",
       "     2016    65.60\n",
       "IND  2014  1295.60\n",
       "     2015  1310.15\n",
       "     2016  1324.51\n",
       "USA  2014   318.39\n",
       "     2015   320.74\n",
       "     2016   323.07"
      ]
     },
     "execution_count": 12,
     "metadata": {},
     "output_type": "execute_result"
    }
   ],
   "source": [
    "df_pop_tidy = pop_untidy.copy() \n",
    "\n",
    "df_pop_tidy[2014] = df_pop_tidy[\"pop2014\"]\n",
    "df_pop_tidy[2015] = df_pop_tidy[\"pop2015\"]\n",
    "df_pop_tidy[2016] = df_pop_tidy[\"pop2016\"]\n",
    "del df_pop_tidy[\"pop2014\"]\n",
    "del df_pop_tidy[\"pop2015\"]\n",
    "del df_pop_tidy[\"pop2016\"]\n",
    "                           \n",
    "pop_tidy = df_pop_tidy.melt(id_vars = [\"code\"], \n",
    "                            value_vars= [2014, 2015, 2016], \n",
    "                            var_name = \"year\",\n",
    "                            value_name= \"pop\")\n",
    "\n",
    "pop_tidy = pop_tidy.set_index([\"code\", \"year\"])\n",
    "pop_tidy = pop_tidy.sort_index()\n",
    "# Display the tidy DataFrame\n",
    "pop_tidy"
   ]
  },
  {
   "cell_type": "code",
   "execution_count": 13,
   "metadata": {},
   "outputs": [],
   "source": [
    "# Testing cell\n",
    "assert pop_tidy.shape == (12, 1)\n",
    "assert pop_tidy.loc[(\"USA\", 2015), \"pop\"] == 320.74"
   ]
  },
  {
   "cell_type": "markdown",
   "metadata": {},
   "source": [
    "---\n",
    "\n",
    "## Part C\n",
    "\n",
    "**Q5:** Read the data in `popgdp_columns.csv` into a `DataFrame` called `ind_untidy`."
   ]
  },
  {
   "cell_type": "code",
   "execution_count": 34,
   "metadata": {},
   "outputs": [
    {
     "data": {
      "text/html": [
       "<div>\n",
       "<style scoped>\n",
       "    .dataframe tbody tr th:only-of-type {\n",
       "        vertical-align: middle;\n",
       "    }\n",
       "\n",
       "    .dataframe tbody tr th {\n",
       "        vertical-align: top;\n",
       "    }\n",
       "\n",
       "    .dataframe thead th {\n",
       "        text-align: right;\n",
       "    }\n",
       "</style>\n",
       "<table border=\"1\" class=\"dataframe\">\n",
       "  <thead>\n",
       "    <tr style=\"text-align: right;\">\n",
       "      <th></th>\n",
       "      <th>code</th>\n",
       "      <th>pop2015</th>\n",
       "      <th>pop2016</th>\n",
       "      <th>pop2017</th>\n",
       "      <th>gdp2015</th>\n",
       "      <th>gdp2016</th>\n",
       "      <th>gdp2017</th>\n",
       "    </tr>\n",
       "  </thead>\n",
       "  <tbody>\n",
       "    <tr>\n",
       "      <th>0</th>\n",
       "      <td>CHN</td>\n",
       "      <td>1371.22</td>\n",
       "      <td>1378.66</td>\n",
       "      <td>1386.40</td>\n",
       "      <td>11015.54</td>\n",
       "      <td>11137.95</td>\n",
       "      <td>12143.49</td>\n",
       "    </tr>\n",
       "    <tr>\n",
       "      <th>1</th>\n",
       "      <td>GBR</td>\n",
       "      <td>65.13</td>\n",
       "      <td>65.60</td>\n",
       "      <td>66.06</td>\n",
       "      <td>2896.42</td>\n",
       "      <td>2659.24</td>\n",
       "      <td>2637.87</td>\n",
       "    </tr>\n",
       "    <tr>\n",
       "      <th>2</th>\n",
       "      <td>IND</td>\n",
       "      <td>1310.15</td>\n",
       "      <td>1324.51</td>\n",
       "      <td>1338.66</td>\n",
       "      <td>2103.59</td>\n",
       "      <td>2290.43</td>\n",
       "      <td>2652.55</td>\n",
       "    </tr>\n",
       "    <tr>\n",
       "      <th>3</th>\n",
       "      <td>USA</td>\n",
       "      <td>320.74</td>\n",
       "      <td>323.07</td>\n",
       "      <td>325.15</td>\n",
       "      <td>18219.30</td>\n",
       "      <td>18707.19</td>\n",
       "      <td>19485.39</td>\n",
       "    </tr>\n",
       "  </tbody>\n",
       "</table>\n",
       "</div>"
      ],
      "text/plain": [
       "  code  pop2015  pop2016  pop2017   gdp2015   gdp2016   gdp2017\n",
       "0  CHN  1371.22  1378.66  1386.40  11015.54  11137.95  12143.49\n",
       "1  GBR    65.13    65.60    66.06   2896.42   2659.24   2637.87\n",
       "2  IND  1310.15  1324.51  1338.66   2103.59   2290.43   2652.55\n",
       "3  USA   320.74   323.07   325.15  18219.30  18707.19  19485.39"
      ]
     },
     "execution_count": 34,
     "metadata": {},
     "output_type": "execute_result"
    }
   ],
   "source": [
    "df_popgdp_columns = pd.read_csv(os.path.join(datadir, \"popgdp_columns.csv\"))\n",
    "\n",
    "ind_untidy = pd.DataFrame(df_popgdp_columns)\n",
    "\n",
    "# Display the untidy DataFrame\n",
    "ind_untidy"
   ]
  },
  {
   "attachments": {},
   "cell_type": "markdown",
   "metadata": {},
   "source": [
    "> You've reached the third and final checkpoint in the lab.  Make sure to have it signed off by the instructor or TA.\n",
    ">\n",
    "> Checkpoint 3: What are the independent variable(s) and dependent variable(s) for this dataset?  What steps would you take to make this data tidy?\n",
    "\n",
    "ind = code + year \n",
    "melt, index = code + year,  2 columns pop and gdp .pivot "
   ]
  },
  {
   "cell_type": "markdown",
   "metadata": {},
   "source": [
    "**Q6:** \\[Optional\\] This dataset fails to satisfy `TidyData1`: each column represents either the `population` or `GDP` for a different value of `year`.\n",
    "\n",
    "Make this dataset tidy.  Your result should a multi-level row index of `code` and `year`, two data columns, and twelve rows.  Store the resulting `DataFrame` in a variable `ind_tidy`."
   ]
  },
  {
   "cell_type": "code",
   "execution_count": null,
   "metadata": {},
   "outputs": [],
   "source": [
    "ind_almost_tidy = ind_untidy.copy() \n",
    "\n",
    "\n",
    "\n",
    "ind_almost_tidy = ind_almost_tidy.melt(id_vars = \"code\", \n",
    "                                       value_vars = [\"pop2015\", pop ]\n",
    "\n",
    "# Display the tidy DataFrame\n",
    "ind_tidy"
   ]
  },
  {
   "cell_type": "code",
   "execution_count": null,
   "metadata": {},
   "outputs": [],
   "source": [
    "# Testing cell\n",
    "assert ind_tidy.shape == (12, 2)\n",
    "assert ind_tidy.loc[(\"USA\", 2015), \"pop\"] == 320.74\n",
    "assert ind_tidy.loc[(\"GBR\", 2017), \"gdp\"] == 2637.87"
   ]
  },
  {
   "cell_type": "markdown",
   "metadata": {},
   "source": [
    "---\n",
    "\n",
    "---\n",
    "\n",
    "## Part D\n",
    "\n",
    "How much time (in minutes/hours) did you spend on this lab outside of class?"
   ]
  },
  {
   "attachments": {},
   "cell_type": "markdown",
   "metadata": {},
   "source": [
    "0"
   ]
  }
 ],
 "metadata": {
  "kernelspec": {
   "display_name": "base",
   "language": "python",
   "name": "python3"
  },
  "language_info": {
   "codemirror_mode": {
    "name": "ipython",
    "version": 3
   },
   "file_extension": ".py",
   "mimetype": "text/x-python",
   "name": "python",
   "nbconvert_exporter": "python",
   "pygments_lexer": "ipython3",
   "version": "3.9.13 (main, Aug 25 2022, 18:29:29) \n[Clang 12.0.0 ]"
  },
  "vscode": {
   "interpreter": {
    "hash": "6812229378a4e14d29bbe4ee07db5e95bb6855d7fc74a2934bab81ab80a6eafa"
   }
  }
 },
 "nbformat": 4,
 "nbformat_minor": 4
}
