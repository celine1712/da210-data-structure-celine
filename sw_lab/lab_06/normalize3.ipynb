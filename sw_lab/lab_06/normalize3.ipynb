{
 "cells": [
  {
   "attachments": {},
   "cell_type": "markdown",
   "metadata": {},
   "source": [
    "# Denison DA210/CS181 SW Lab #6 - Step 1\n",
    "\n",
    "Before you get your checkpoints, make sure everything runs as expected. This is a combination of **restarting the kernel** and then **running all cells**.\n",
    "\n",
    "Make sure you fill in any place that says `# YOUR CODE HERE` or \"YOUR ANSWER HERE\"."
   ]
  },
  {
   "cell_type": "markdown",
   "metadata": {},
   "source": [
    "---"
   ]
  },
  {
   "cell_type": "code",
   "execution_count": null,
   "metadata": {},
   "outputs": [],
   "source": [
    "import os\n",
    "import os.path\n",
    "import pandas as pd\n",
    "\n",
    "datadir = \"publicdata\""
   ]
  },
  {
   "attachments": {},
   "cell_type": "markdown",
   "metadata": {},
   "source": [
    "---\n",
    "\n",
    "## Part A\n",
    "\n",
    "**Q1:** Consider the data on religions and income, gathered by Pew Research Center and hosted at this link: https://github.com/chendaniely/pandas_for_everyone/blob/master/data/pew.csv.\n",
    "\n",
    "The data is also available as `pew.csv` in the data folder.  In the code cell that follows, read the data into a DataFrame assigned to `df_rel_untidy`."
   ]
  },
  {
   "cell_type": "code",
   "execution_count": null,
   "metadata": {
    "deletable": false,
    "nbgrader": {
     "cell_type": "code",
     "checksum": "dc4c0884fecbd619066e9038f415ee6b",
     "grade": true,
     "grade_id": "cell-cefd70c125c26355",
     "locked": false,
     "points": 1,
     "schema_version": 3,
     "solution": true,
     "task": false
    }
   },
   "outputs": [],
   "source": [
    "# YOUR CODE HERE\n",
    "raise NotImplementedError()\n",
    "\n",
    "# Display part of the DataFrame\n",
    "df_rel_untidy.head()"
   ]
  },
  {
   "cell_type": "code",
   "execution_count": null,
   "metadata": {
    "deletable": false,
    "editable": false,
    "nbgrader": {
     "cell_type": "code",
     "checksum": "a5acfce4ac3b370cbd5149e6d76b3b45",
     "grade": true,
     "grade_id": "cell-42c6a8c97256fdaa",
     "locked": true,
     "points": 2,
     "schema_version": 3,
     "solution": false,
     "task": false
    }
   },
   "outputs": [],
   "source": [
    "# Testing cell\n",
    "assert df_rel_untidy.shape == (18,11)\n",
    "assert df_rel_untidy.iloc[0,0] == \"Agnostic\"\n",
    "assert df_rel_untidy.iloc[0,1] == 27\n",
    "assert df_rel_untidy.iloc[5,0] == \"Evangelical Prot\"\n",
    "assert df_rel_untidy.columns[5] == \"$40-50k\"\n",
    "assert df_rel_untidy.iloc[14,8] == 14"
   ]
  },
  {
   "cell_type": "markdown",
   "metadata": {},
   "source": [
    "> You've reached the first checkpoint in the lab.  Make sure to have it signed off by the instructor or TA.\n",
    ">\n",
    "> Checkpoint 1: What are the independent variable(s) and dependent variable(s) for this dataset?  Give one of the three tidy-data requirements that this dataset fails to satisfy and explain why."
   ]
  },
  {
   "cell_type": "markdown",
   "metadata": {},
   "source": [
    "**Q2:** Transform as needed to make it tidy.  Store the normalized (tidy) data frame as `df_rel`."
   ]
  },
  {
   "cell_type": "code",
   "execution_count": null,
   "metadata": {
    "deletable": false,
    "nbgrader": {
     "cell_type": "code",
     "checksum": "f8ec55ae1b35557dd83263d5015f0785",
     "grade": false,
     "grade_id": "cell-63953f65aa520b07",
     "locked": false,
     "schema_version": 3,
     "solution": true,
     "task": false
    }
   },
   "outputs": [],
   "source": [
    "# YOUR CODE HERE\n",
    "raise NotImplementedError()\n",
    "\n",
    "# Display part of the tidy DataFrame\n",
    "df_rel.head()"
   ]
  },
  {
   "cell_type": "code",
   "execution_count": null,
   "metadata": {
    "deletable": false,
    "editable": false,
    "nbgrader": {
     "cell_type": "code",
     "checksum": "a5acfce4ac3b370cbd5149e6d76b3b45",
     "grade": true,
     "grade_id": "cell-42c6a8c97256fdaa",
     "locked": true,
     "points": 2,
     "schema_version": 3,
     "solution": false,
     "task": false
    }
   },
   "outputs": [],
   "source": [
    "# Testing cell\n",
    "assert df_rel.shape == (180,3)\n",
    "assert df_rel.iloc[0,0] == \"Agnostic\"\n",
    "assert df_rel.iloc[0,1] == \"<$10k\"\n",
    "assert df_rel.iloc[0,2] == 27\n",
    "assert df_rel.iloc[41,0] == \"Evangelical Prot\"\n",
    "assert df_rel.iloc[89,1] == \"$40-50k\"\n",
    "assert df_rel.iloc[104,2] == 14"
   ]
  },
  {
   "cell_type": "markdown",
   "metadata": {},
   "source": [
    "---\n",
    "\n",
    "## Part B\n",
    "\n",
    "**Q3:** Read the data in `pop_columns.csv` into a `DataFrame` called `pop_untidy`."
   ]
  },
  {
   "cell_type": "code",
   "execution_count": null,
   "metadata": {},
   "outputs": [],
   "source": [
    "# YOUR CODE HERE\n",
    "raise NotImplementedError()\n",
    "\n",
    "# Display the untidy DataFrame\n",
    "pop_untidy"
   ]
  },
  {
   "cell_type": "markdown",
   "metadata": {},
   "source": [
    "> You've reached the second checkpoint in the lab.  Make sure to have it signed off by the instructor or TA.\n",
    ">\n",
    "> Checkpoint 2: What are the independent variable(s) and dependent variable(s) for this dataset?  Would either `melt` or `pivot` be useful to make this data tidy?"
   ]
  },
  {
   "attachments": {},
   "cell_type": "markdown",
   "metadata": {},
   "source": [
    "**Q4:** This dataset fails to satisfy `TidyData1`: each column represents the `population` for a different value of `year`.  Make this dataset tidy.\n",
    "\n",
    "Your result should use both the `code` and `year` as a multi-level index and have one data column (`pop`), and twelve rows.  Note that you can use `sort_index` to reorganize your data after setting the index.  Store the resulting `DataFrame` in a variable `pop_tidy`."
   ]
  },
  {
   "cell_type": "code",
   "execution_count": null,
   "metadata": {},
   "outputs": [],
   "source": [
    "# YOUR CODE HERE\n",
    "raise NotImplementedError()\n",
    "\n",
    "# Display the tidy DataFrame\n",
    "pop_tidy"
   ]
  },
  {
   "cell_type": "code",
   "execution_count": null,
   "metadata": {},
   "outputs": [],
   "source": [
    "# Testing cell\n",
    "assert pop_tidy.shape == (12, 1)\n",
    "assert pop_tidy.loc[(\"USA\", 2015), \"pop\"] == 320.74"
   ]
  },
  {
   "cell_type": "markdown",
   "metadata": {},
   "source": [
    "---\n",
    "\n",
    "## Part C\n",
    "\n",
    "**Q5:** Read the data in `popgdp_columns.csv` into a `DataFrame` called `ind_untidy`."
   ]
  },
  {
   "cell_type": "code",
   "execution_count": null,
   "metadata": {},
   "outputs": [],
   "source": [
    "# YOUR CODE HERE\n",
    "raise NotImplementedError()\n",
    "\n",
    "# Display the untidy DataFrame\n",
    "ind_untidy"
   ]
  },
  {
   "cell_type": "markdown",
   "metadata": {},
   "source": [
    "> You've reached the third and final checkpoint in the lab.  Make sure to have it signed off by the instructor or TA.\n",
    ">\n",
    "> Checkpoint 3: What are the independent variable(s) and dependent variable(s) for this dataset?  What steps would you take to make this data tidy?"
   ]
  },
  {
   "cell_type": "markdown",
   "metadata": {},
   "source": [
    "**Q6:** \\[Optional\\] This dataset fails to satisfy `TidyData1`: each column represents either the `population` or `GDP` for a different value of `year`.\n",
    "\n",
    "Make this dataset tidy.  Your result should a multi-level row index of `code` and `year`, two data columns, and twelve rows.  Store the resulting `DataFrame` in a variable `ind_tidy`."
   ]
  },
  {
   "cell_type": "code",
   "execution_count": null,
   "metadata": {},
   "outputs": [],
   "source": [
    "# YOUR CODE HERE\n",
    "raise NotImplementedError()\n",
    "\n",
    "# Display the tidy DataFrame\n",
    "ind_tidy"
   ]
  },
  {
   "cell_type": "code",
   "execution_count": null,
   "metadata": {},
   "outputs": [],
   "source": [
    "# Testing cell\n",
    "assert ind_tidy.shape == (12, 2)\n",
    "assert ind_tidy.loc[(\"USA\", 2015), \"pop\"] == 320.74\n",
    "assert ind_tidy.loc[(\"GBR\", 2017), \"gdp\"] == 2637.87"
   ]
  },
  {
   "cell_type": "markdown",
   "metadata": {},
   "source": [
    "---\n",
    "\n",
    "---\n",
    "\n",
    "## Part D\n",
    "\n",
    "How much time (in minutes/hours) did you spend on this lab outside of class?"
   ]
  },
  {
   "cell_type": "markdown",
   "metadata": {},
   "source": [
    "YOUR ANSWER HERE"
   ]
  }
 ],
 "metadata": {
  "kernelspec": {
   "display_name": "Python 3.8.6 64-bit",
   "language": "python",
   "name": "python3"
  },
  "language_info": {
   "codemirror_mode": {
    "name": "ipython",
    "version": 3
   },
   "file_extension": ".py",
   "mimetype": "text/x-python",
   "name": "python",
   "nbconvert_exporter": "python",
   "pygments_lexer": "ipython3",
   "version": "3.8.6"
  },
  "vscode": {
   "interpreter": {
    "hash": "73a75ea109158a2d84971ce48cb4564b23b98d042ab3daf1c1f7c2d610837661"
   }
  }
 },
 "nbformat": 4,
 "nbformat_minor": 4
}
