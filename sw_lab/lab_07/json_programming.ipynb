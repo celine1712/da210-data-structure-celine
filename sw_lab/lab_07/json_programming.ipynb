{
 "cells": [
  {
   "attachments": {},
   "cell_type": "markdown",
   "metadata": {},
   "source": [
    "# Denison DA210/CS181 SW Lab #7 - Step 1\n",
    "\n",
    "Before you get your checkpoints, make sure everything runs as expected. This is a combination of **restarting the kernel** and then **running all cells**.\n",
    "\n",
    "Make sure you fill in any place that says `# YOUR CODE HERE` or \"YOUR ANSWER HERE\"."
   ]
  },
  {
   "cell_type": "markdown",
   "metadata": {},
   "source": [
    "---"
   ]
  },
  {
   "cell_type": "code",
   "execution_count": 2,
   "metadata": {},
   "outputs": [],
   "source": [
    "import os\n",
    "import os.path\n",
    "import json\n",
    "import pandas as pd\n",
    "\n",
    "datadir = \"publicdata\""
   ]
  },
  {
   "cell_type": "markdown",
   "metadata": {},
   "source": [
    "---\n",
    "\n",
    "## `json` module operations\n",
    "\n",
    "Recall the following operations provided by the `json` module in Python:\n",
    "\n",
    "Function                |  Description\n",
    "------------------------|----------------------------------------------------\n",
    "`json.load(file)`       | Read and return the JSON-formatted data structure from the file object `file`.\n",
    "`json.dump(data, file)` | Write the data structure `data` to the file object `file` in JSON text format (returns `None`).\n",
    "`json.loads(s)`         | Using the JSON-formatted string given by `s`, interpret and construct and return the corresponding data structure.\n",
    "`json.dumps(data)`      | Translate the data structure `data` into a JSON-formatted string and return the string.\n",
    "\n",
    "Note that, when we `dump()` or `dumps()`, we are **converting** from an in-memory data structure that consists of dictionaries, lists, strings, and numbers (that one can \"do math\" on), into what is fundamentally a **text string**, either referenced by a string variable, or that is now the text contents of a text file in the file system, which could be opened with an editor independently of anything Python'esque.\n",
    "\n",
    "When we `load()` or `loads()`, we are going the other direction, and are converting from a string or from the contents of a text file in the file system, and are building an in-memory data structure that we can then traverse and compute with."
   ]
  },
  {
   "cell_type": "markdown",
   "metadata": {},
   "source": [
    "---\n",
    "\n",
    "## Part A: Writing to JSON\n",
    "\n",
    "Typical steps when we want to **create** a file with the JSON text representation of a data structure from our Python program (to be able to send to another scientist, much like we might build a 2D structure and then want to send a CSV file).\n",
    "\n",
    "1. Create the data structure, making sure it is limited to dictionaries, lists, strings, integers, and floating point numbers in a single data structure.  Call this `data`.\n",
    "2. Using the built-in Python function `open`, create and open a file for **writing**, specifying the path and name for the desired file.  We can call the file object `file`.\n",
    "3. From the `json` module, invoke the `dump()` function, passing it `data` and `file`.\n",
    "4. Close `file` (this is done for you if you used `with` to open the file)."
   ]
  },
  {
   "cell_type": "markdown",
   "metadata": {},
   "source": [
    "---\n",
    "\n",
    "**Q1:** Use the four step process given above to write to a JSON-formatted file.  \n",
    "\n",
    "Create a Python data structure consisting of a list of dictionaries representation of the following table, where student names are strings, GPAs are floating point numbers, and (class) years are integers.\n",
    "\n",
    "student | gpa | year\n",
    "--------|-----|-------\n",
    "Jane    | 3.75 | 3\n",
    "Bill    | 2.85 | 2\n",
    "Fred    | 3.5  | 3\n",
    "Mary    | 3.25 | 1\n",
    "\n",
    "Call the in-memory data structure `LoD`.  For this exercise, the desired destination file should be in the current directory and will be named `students.json`."
   ]
  },
  {
   "cell_type": "code",
   "execution_count": 3,
   "metadata": {
    "deletable": false,
    "nbgrader": {
     "cell_type": "code",
     "checksum": "490753c841b8d174d9149c230ebc1636",
     "grade": false,
     "grade_id": "cell-86c98fb8736ed7b3",
     "locked": false,
     "schema_version": 3,
     "solution": true,
     "task": false
    }
   },
   "outputs": [],
   "source": [
    "# Make sure you don't already have a file named students.json\n",
    "path = os.path.join(\".\", \"students.json\")\n",
    "if os.path.isfile(path):\n",
    "    os.remove(path)\n",
    "\n",
    "LoD = [{\"student\" :\"Jane\",\"gpa\": 3.75, \"year\":3}, \n",
    "        {\"student\" :\"Bill\",\"gpa\": 2.85, \"year\":2}, \n",
    "        {\"student\" :\"Fred\",\"gpa\": 3.5, \"year\":3}, \n",
    "        {\"student\" :\"Mary\",\"gpa\": 3.25, \"year\":1}]\n",
    "\n",
    "file = open(\"students.json\", \"w\")\n",
    "json.dump(LoD, file)\n",
    "file.close()"
   ]
  },
  {
   "cell_type": "code",
   "execution_count": 4,
   "metadata": {
    "deletable": false,
    "editable": false,
    "nbgrader": {
     "cell_type": "code",
     "checksum": "f01f37565d002d95b3f06587429a25e8",
     "grade": true,
     "grade_id": "cell-b3992585ad29a7cd",
     "locked": true,
     "points": 2,
     "schema_version": 3,
     "solution": false,
     "task": false
    }
   },
   "outputs": [],
   "source": [
    "# Testing cell\n",
    "assert os.path.isfile(path)\n",
    "with open(path, \"r\") as F2:\n",
    "    LoD2 = json.load(F2)\n",
    "assert isinstance(LoD2, list)\n",
    "assert len(LoD2) == 4\n",
    "assert isinstance(LoD2[0], dict)\n",
    "assert len(LoD2[0]) == 3\n",
    "assert 'student' in LoD2[0]\n",
    "assert 'gpa' in LoD2[0]\n",
    "assert 'year' in LoD2[0]\n",
    "assert isinstance(LoD[0]['gpa'], float)\n",
    "assert isinstance(LoD[0]['year'], int)\n",
    "assert LoD[0]['gpa'] == 3.75\n",
    "assert LoD[0]['year'] == 3"
   ]
  },
  {
   "cell_type": "markdown",
   "metadata": {},
   "source": [
    "---\n",
    "\n",
    "## Part B: Reading from JSON\n",
    "\n",
    "In the data directory is a text file named `eu_covid.json`.  Right click and select `Editor` to open with a simple text editor.  Be patient, as it is a **large** file.  Then use the following cell to print the first 30 lines of the file."
   ]
  },
  {
   "cell_type": "code",
   "execution_count": 5,
   "metadata": {},
   "outputs": [
    {
     "name": "stdout",
     "output_type": "stream",
     "text": [
      "{\n",
      "   \"records\" : [\n",
      "      {\n",
      "         \"dateRep\" : \"21/09/2020\",\n",
      "         \"day\" : \"21\",\n",
      "         \"month\" : \"09\",\n",
      "         \"year\" : \"2020\",\n",
      "         \"cases\" : 0,\n",
      "         \"deaths\" : 0,\n",
      "         \"countriesAndTerritories\" : \"Afghanistan\",\n",
      "         \"geoId\" : \"AF\",\n",
      "         \"countryterritoryCode\" : \"AFG\",\n",
      "         \"popData2019\" : 38041757,\n",
      "         \"continentExp\" : \"Asia\",\n",
      "         \"Cumulative_number_for_14_days_of_COVID-19_cases_per_100000\" : \"1.69813397\"\n",
      "      },\n",
      "      {\n",
      "         \"dateRep\" : \"20/09/2020\",\n",
      "         \"day\" : \"20\",\n",
      "         \"month\" : \"09\",\n",
      "         \"year\" : \"2020\",\n",
      "         \"cases\" : 125,\n",
      "         \"deaths\" : 4,\n",
      "         \"countriesAndTerritories\" : \"Afghanistan\",\n",
      "         \"geoId\" : \"AF\",\n",
      "         \"countryterritoryCode\" : \"AFG\",\n",
      "         \"popData2019\" : 38041757,\n",
      "         \"continentExp\" : \"Asia\",\n",
      "         \"Cumulative_number_for_14_days_of_COVID-19_cases_per_100000\" : \"1.89265706\"\n",
      "      },\n"
     ]
    }
   ],
   "source": [
    "path = os.path.join(datadir, \"eu_covid.json\")\n",
    "with open(path, 'r') as covid_file:\n",
    "    for i in range(30):\n",
    "        line = covid_file.readline()\n",
    "        print(line, end='')\n",
    "        \n",
    "covid_file.close()"
   ]
  },
  {
   "attachments": {},
   "cell_type": "markdown",
   "metadata": {},
   "source": [
    "**Q2:** To be able to process tree-structured data, you first must **understand** the structure before you attempt to process it.  The next couple of sub-questions begin that process based on **inspection** of the text file, and before we convert it into an in-memory data structure.\n",
    "\n",
    "**A:** What is the JSON data type for the structure at the root of the tree?\n",
    "\n",
    "**B:** What is the JSON data type for the **value** that the top-level child **maps to**.\n",
    "\n",
    "**C.** Within the data type you answered for **B**, what is the JSON data type for the elements at this next level of the tree?"
   ]
  },
  {
   "attachments": {},
   "cell_type": "markdown",
   "metadata": {
    "deletable": false,
    "nbgrader": {
     "cell_type": "markdown",
     "checksum": "52fe15a72818b289a6ff88da40e07cfd",
     "grade": true,
     "grade_id": "cell-b12276de6bbde4dc",
     "locked": false,
     "points": 3,
     "schema_version": 3,
     "solution": true,
     "task": false
    }
   },
   "source": [
    "A. The root of the tree is the dictionary.\n",
    "\n",
    "B. lists. \n",
    "\n",
    "C. dictionaries\n",
    "\n"
   ]
  },
  {
   "cell_type": "markdown",
   "metadata": {},
   "source": [
    "> You've reached the first checkpoint in the lab.  Make sure to have it signed off by the instructor or TA.\n",
    ">\n",
    "> Checkpoint 1: What are your answers to sub-questions A-C above?"
   ]
  },
  {
   "attachments": {},
   "cell_type": "markdown",
   "metadata": {},
   "source": [
    "**Q3:** Create a variable for the path to the `eu_covid.json` JSON file and then `open()` and `load()` from the text file into an in-memory data structure in Python referred to by variable `covid_data`."
   ]
  },
  {
   "cell_type": "code",
   "execution_count": 6,
   "metadata": {
    "deletable": false,
    "nbgrader": {
     "cell_type": "code",
     "checksum": "c6ec3038eec456fa7df32213b3bc831b",
     "grade": true,
     "grade_id": "cell-f267174d30854f0e",
     "locked": false,
     "points": 2,
     "schema_version": 3,
     "solution": true,
     "task": false
    }
   },
   "outputs": [],
   "source": [
    "path = os.path.join(datadir, \"eu_covid.json\")\n",
    "file = open(path, \"r\")\n",
    "covid_data = json.load(file)\n",
    "file.close()"
   ]
  },
  {
   "attachments": {},
   "cell_type": "markdown",
   "metadata": {},
   "source": [
    "**Q4:** If **you** were writing the testing `assert` statements that made sure that `covid_data` contained the in-memory data structure and that your answers to **A**, **B**, and **C** of **Q3** were correct, you would have three lines that checked \n",
    "\n",
    "1. the Python data type of the top level, \n",
    "2. the Python data type of the child mapping from the root top level to its value, and\n",
    "3. the Python data type of an element (probably the first) in the elements within the structure asserted by the previous step.\n",
    "\n",
    "All three of these would take the form of:\n",
    "```\n",
    "    assert isinstance(<expression>, <expected data type>)\n",
    "```\n",
    "Note that your answers in **Q2** were in terms of the JSON data types, and these asserts are in terms of Python data types.\n",
    "\n",
    "Make these three assertions in the cell that follows."
   ]
  },
  {
   "cell_type": "code",
   "execution_count": 7,
   "metadata": {
    "deletable": false,
    "nbgrader": {
     "cell_type": "code",
     "checksum": "f17ad7a8220daab3535b71a4946e5eeb",
     "grade": true,
     "grade_id": "cell-b9b0a8fc3f7b8ff4",
     "locked": false,
     "points": 3,
     "schema_version": 3,
     "solution": true,
     "task": false
    }
   },
   "outputs": [],
   "source": [
    "path = os.path.join(\".\", \"students.json\")\n",
    "with open(path, \"r\") as file:\n",
    "    test = json.load(file)\n",
    "    \n",
    "file.close()\n",
    "assert isinstance(test, object)\n",
    "assert isinstance(test[0], dict)\n",
    "assert isinstance(test[0][\"year\"], int)\n"
   ]
  },
  {
   "attachments": {},
   "cell_type": "markdown",
   "metadata": {},
   "source": [
    "**Q5:** Hopefully, you have determined that the top level of the in-memory data structure is a dictionary, that there is only one child mapping, with  maps the string `\"records\"` to a list, and that the elements of this list are each a dictionary.\n",
    "\n",
    "One last sanity check you should perform before writing code to traverse the structure:\n",
    "\n",
    "- because the file is large, it is difficult to be sure that there is **only** one child mapping in the top level dictionary.  So in the cell that follows, just print the set of dictionary **keys** found in the top level dictionary (converted to a list).   If there is only one element in the list, then we are ready to start building a tabular structure from this tree."
   ]
  },
  {
   "cell_type": "code",
   "execution_count": 8,
   "metadata": {
    "deletable": false,
    "nbgrader": {
     "cell_type": "code",
     "checksum": "6d501f25b173617c4c6de3a1d82f4666",
     "grade": true,
     "grade_id": "cell-5c13676d1f927f2e",
     "locked": false,
     "points": 1,
     "schema_version": 3,
     "solution": true,
     "task": false
    }
   },
   "outputs": [
    {
     "name": "stdout",
     "output_type": "stream",
     "text": [
      "records\n",
      "records\n"
     ]
    }
   ],
   "source": [
    "path = os.path.join(datadir, \"eu_covid.json\")\n",
    "file = open(path, \"r\")\n",
    "covid_data = json.load(file)\n",
    "for i in covid_data:\n",
    "    print(i)\n",
    "file.close()\n",
    "\n",
    "\n",
    "for record, value in covid_data.items():\n",
    "    print(record)"
   ]
  },
  {
   "attachments": {},
   "cell_type": "markdown",
   "metadata": {},
   "source": [
    "**Q6:** If our goal is one or more `pandas` DataFrame tables of **tidy** data, there are a number of possible solution paths we could pursue.  For now, we are going to assume we want **all** of the innermost dictionary fields as the columns in a `pandas` DataFrame result and will perform normalization _after_ we get this single table.\n",
    "\n",
    "Given the innermost structure, representing the **rows** of our desired DataFrame is a **dictionary**, one path would be for us to build a **List of Dictionaries** data structure by starting with an empty list and then appending a **copy** of each of the dictionaries within the `covid_data['records']` list.\n",
    "\n",
    "In the cell that follows, write this loop and build a structure named `LoD`."
   ]
  },
  {
   "cell_type": "code",
   "execution_count": 9,
   "metadata": {
    "deletable": false,
    "nbgrader": {
     "cell_type": "code",
     "checksum": "82387c5c26287f9e8220159327c21897",
     "grade": false,
     "grade_id": "cell-76959c470d139c00",
     "locked": false,
     "schema_version": 3,
     "solution": true,
     "task": false
    }
   },
   "outputs": [
    {
     "name": "stdout",
     "output_type": "stream",
     "text": [
      "                                                     dateRep      21/09/2020\n",
      "                                                         day              21\n",
      "                                                       month              09\n",
      "                                                        year            2020\n",
      "                                                       cases               0\n",
      "                                                      deaths               0\n",
      "                                     countriesAndTerritories     Afghanistan\n",
      "                                                       geoId              AF\n",
      "                                        countryterritoryCode             AFG\n",
      "                                                 popData2019        38041757\n",
      "                                                continentExp            Asia\n",
      "  Cumulative_number_for_14_days_of_COVID-19_cases_per_100000      1.69813397\n"
     ]
    }
   ],
   "source": [
    "for record, value in covid_data.items():\n",
    "    LoD = value\n",
    "\n",
    "# Display a subset of the LoD\n",
    "for key,value in LoD[0].items():\n",
    "    print(\"{0:>60} {1:>15}\".format(key, value))"
   ]
  },
  {
   "cell_type": "code",
   "execution_count": 10,
   "metadata": {
    "deletable": false,
    "editable": false,
    "nbgrader": {
     "cell_type": "code",
     "checksum": "7852702ff7cc7dbb85dbbdcfefa7f0cc",
     "grade": true,
     "grade_id": "cell-abde9c76b50503ba",
     "locked": true,
     "points": 2,
     "schema_version": 3,
     "solution": false,
     "task": false
    }
   },
   "outputs": [],
   "source": [
    "# Testing cell\n",
    "assert isinstance(LoD, list)\n",
    "assert len(LoD) == 44136\n",
    "assert isinstance(LoD[0], dict)"
   ]
  },
  {
   "attachments": {},
   "cell_type": "markdown",
   "metadata": {},
   "source": [
    "**Q7:** With the successfully created `LoD`, create a pandas DataFrame named `covid_df`."
   ]
  },
  {
   "cell_type": "code",
   "execution_count": 11,
   "metadata": {
    "deletable": false,
    "nbgrader": {
     "cell_type": "code",
     "checksum": "a401aedbdb8a49dedd4d238a2e3b68de",
     "grade": true,
     "grade_id": "cell-5645b511e37e6fd0",
     "locked": false,
     "points": 1,
     "schema_version": 3,
     "solution": true,
     "task": false
    }
   },
   "outputs": [
    {
     "data": {
      "text/html": [
       "<div>\n",
       "<style scoped>\n",
       "    .dataframe tbody tr th:only-of-type {\n",
       "        vertical-align: middle;\n",
       "    }\n",
       "\n",
       "    .dataframe tbody tr th {\n",
       "        vertical-align: top;\n",
       "    }\n",
       "\n",
       "    .dataframe thead th {\n",
       "        text-align: right;\n",
       "    }\n",
       "</style>\n",
       "<table border=\"1\" class=\"dataframe\">\n",
       "  <thead>\n",
       "    <tr style=\"text-align: right;\">\n",
       "      <th></th>\n",
       "      <th>dateRep</th>\n",
       "      <th>day</th>\n",
       "      <th>month</th>\n",
       "      <th>year</th>\n",
       "      <th>cases</th>\n",
       "      <th>deaths</th>\n",
       "      <th>countriesAndTerritories</th>\n",
       "      <th>geoId</th>\n",
       "      <th>countryterritoryCode</th>\n",
       "      <th>popData2019</th>\n",
       "      <th>continentExp</th>\n",
       "      <th>Cumulative_number_for_14_days_of_COVID-19_cases_per_100000</th>\n",
       "    </tr>\n",
       "  </thead>\n",
       "  <tbody>\n",
       "    <tr>\n",
       "      <th>0</th>\n",
       "      <td>21/09/2020</td>\n",
       "      <td>21</td>\n",
       "      <td>09</td>\n",
       "      <td>2020</td>\n",
       "      <td>0</td>\n",
       "      <td>0</td>\n",
       "      <td>Afghanistan</td>\n",
       "      <td>AF</td>\n",
       "      <td>AFG</td>\n",
       "      <td>38041757.0</td>\n",
       "      <td>Asia</td>\n",
       "      <td>1.69813397</td>\n",
       "    </tr>\n",
       "    <tr>\n",
       "      <th>1</th>\n",
       "      <td>20/09/2020</td>\n",
       "      <td>20</td>\n",
       "      <td>09</td>\n",
       "      <td>2020</td>\n",
       "      <td>125</td>\n",
       "      <td>4</td>\n",
       "      <td>Afghanistan</td>\n",
       "      <td>AF</td>\n",
       "      <td>AFG</td>\n",
       "      <td>38041757.0</td>\n",
       "      <td>Asia</td>\n",
       "      <td>1.89265706</td>\n",
       "    </tr>\n",
       "    <tr>\n",
       "      <th>2</th>\n",
       "      <td>19/09/2020</td>\n",
       "      <td>19</td>\n",
       "      <td>09</td>\n",
       "      <td>2020</td>\n",
       "      <td>47</td>\n",
       "      <td>1</td>\n",
       "      <td>Afghanistan</td>\n",
       "      <td>AF</td>\n",
       "      <td>AFG</td>\n",
       "      <td>38041757.0</td>\n",
       "      <td>Asia</td>\n",
       "      <td>1.61664457</td>\n",
       "    </tr>\n",
       "    <tr>\n",
       "      <th>3</th>\n",
       "      <td>18/09/2020</td>\n",
       "      <td>18</td>\n",
       "      <td>09</td>\n",
       "      <td>2020</td>\n",
       "      <td>0</td>\n",
       "      <td>0</td>\n",
       "      <td>Afghanistan</td>\n",
       "      <td>AF</td>\n",
       "      <td>AFG</td>\n",
       "      <td>38041757.0</td>\n",
       "      <td>Asia</td>\n",
       "      <td>1.53515517</td>\n",
       "    </tr>\n",
       "    <tr>\n",
       "      <th>4</th>\n",
       "      <td>17/09/2020</td>\n",
       "      <td>17</td>\n",
       "      <td>09</td>\n",
       "      <td>2020</td>\n",
       "      <td>17</td>\n",
       "      <td>0</td>\n",
       "      <td>Afghanistan</td>\n",
       "      <td>AF</td>\n",
       "      <td>AFG</td>\n",
       "      <td>38041757.0</td>\n",
       "      <td>Asia</td>\n",
       "      <td>1.65344624</td>\n",
       "    </tr>\n",
       "  </tbody>\n",
       "</table>\n",
       "</div>"
      ],
      "text/plain": [
       "      dateRep day month  year  cases  deaths countriesAndTerritories geoId  \\\n",
       "0  21/09/2020  21    09  2020      0       0             Afghanistan    AF   \n",
       "1  20/09/2020  20    09  2020    125       4             Afghanistan    AF   \n",
       "2  19/09/2020  19    09  2020     47       1             Afghanistan    AF   \n",
       "3  18/09/2020  18    09  2020      0       0             Afghanistan    AF   \n",
       "4  17/09/2020  17    09  2020     17       0             Afghanistan    AF   \n",
       "\n",
       "  countryterritoryCode  popData2019 continentExp  \\\n",
       "0                  AFG   38041757.0         Asia   \n",
       "1                  AFG   38041757.0         Asia   \n",
       "2                  AFG   38041757.0         Asia   \n",
       "3                  AFG   38041757.0         Asia   \n",
       "4                  AFG   38041757.0         Asia   \n",
       "\n",
       "  Cumulative_number_for_14_days_of_COVID-19_cases_per_100000  \n",
       "0                                         1.69813397          \n",
       "1                                         1.89265706          \n",
       "2                                         1.61664457          \n",
       "3                                         1.53515517          \n",
       "4                                         1.65344624          "
      ]
     },
     "execution_count": 11,
     "metadata": {},
     "output_type": "execute_result"
    }
   ],
   "source": [
    "covid_df = pd.DataFrame(LoD)\n",
    "\n",
    "# Display a subset of the data frame\n",
    "covid_df.head()"
   ]
  },
  {
   "cell_type": "code",
   "execution_count": 12,
   "metadata": {
    "deletable": false,
    "editable": false,
    "nbgrader": {
     "cell_type": "code",
     "checksum": "7852702ff7cc7dbb85dbbdcfefa7f0cc",
     "grade": true,
     "grade_id": "cell-abde9c76b50503ba",
     "locked": true,
     "points": 2,
     "schema_version": 3,
     "solution": false,
     "task": false
    }
   },
   "outputs": [],
   "source": [
    "# Testing cell\n",
    "assert covid_df.shape == (44136, 12)"
   ]
  },
  {
   "attachments": {},
   "cell_type": "markdown",
   "metadata": {},
   "source": [
    "> You've reached the second checkpoint in the lab.  Make sure to have it signed off by the instructor or TA.\n",
    ">\n",
    "> Checkpoint 2: The data frame `covid_df` is not tidy.  What are two reasons it's not tidy, and how would you fix these issues?  (Note: you don't have to actually fix them, just make a plan.)\n",
    "\n",
    "dataRep and day, month, year represent the same thing \n",
    "countriesAndTerritories geoId countryterritoryCode\n",
    "\n",
    "two mappings in the same table"
   ]
  },
  {
   "attachments": {},
   "cell_type": "markdown",
   "metadata": {},
   "source": [
    "---\n",
    "\n",
    "**Q8:** Find the number of unique countries, assigning to `ncountry`"
   ]
  },
  {
   "cell_type": "code",
   "execution_count": 13,
   "metadata": {
    "deletable": false,
    "nbgrader": {
     "cell_type": "code",
     "checksum": "228346a55272962781533629f876d7dd",
     "grade": true,
     "grade_id": "cell-e292daf935471ed3",
     "locked": false,
     "points": 1,
     "schema_version": 3,
     "solution": true,
     "task": false
    }
   },
   "outputs": [
    {
     "name": "stdout",
     "output_type": "stream",
     "text": [
      "210\n"
     ]
    }
   ],
   "source": [
    "ncountry = covid_df[\"countriesAndTerritories\"].nunique()\n",
    "\n",
    "# Display the result\n",
    "print(ncountry)"
   ]
  },
  {
   "attachments": {},
   "cell_type": "markdown",
   "metadata": {},
   "source": [
    "**Q9:** Use a GroupBy to group by `\"countryterritoryCode\"` and then aggregate, computing the `max` and `mean` for the columns `cases` and `deaths`.  Name the resultant dataframe `covid_df_agg`."
   ]
  },
  {
   "cell_type": "code",
   "execution_count": 14,
   "metadata": {
    "deletable": false,
    "nbgrader": {
     "cell_type": "code",
     "checksum": "64ca3abdb67f57e7844e0799d6697e86",
     "grade": true,
     "grade_id": "cell-aa5f6ab036596702",
     "locked": false,
     "points": 2,
     "schema_version": 3,
     "solution": true,
     "task": false
    }
   },
   "outputs": [
    {
     "data": {
      "text/html": [
       "<div>\n",
       "<style scoped>\n",
       "    .dataframe tbody tr th:only-of-type {\n",
       "        vertical-align: middle;\n",
       "    }\n",
       "\n",
       "    .dataframe tbody tr th {\n",
       "        vertical-align: top;\n",
       "    }\n",
       "\n",
       "    .dataframe thead tr th {\n",
       "        text-align: left;\n",
       "    }\n",
       "\n",
       "    .dataframe thead tr:last-of-type th {\n",
       "        text-align: right;\n",
       "    }\n",
       "</style>\n",
       "<table border=\"1\" class=\"dataframe\">\n",
       "  <thead>\n",
       "    <tr>\n",
       "      <th></th>\n",
       "      <th colspan=\"2\" halign=\"left\">cases</th>\n",
       "      <th colspan=\"2\" halign=\"left\">deaths</th>\n",
       "    </tr>\n",
       "    <tr>\n",
       "      <th></th>\n",
       "      <th>max</th>\n",
       "      <th>mean</th>\n",
       "      <th>max</th>\n",
       "      <th>mean</th>\n",
       "    </tr>\n",
       "    <tr>\n",
       "      <th>countryterritoryCode</th>\n",
       "      <th></th>\n",
       "      <th></th>\n",
       "      <th></th>\n",
       "      <th></th>\n",
       "    </tr>\n",
       "  </thead>\n",
       "  <tbody>\n",
       "    <tr>\n",
       "      <th>ABW</th>\n",
       "      <td>176</td>\n",
       "      <td>19.404372</td>\n",
       "      <td>2</td>\n",
       "      <td>0.125683</td>\n",
       "    </tr>\n",
       "    <tr>\n",
       "      <th>AFG</th>\n",
       "      <td>1063</td>\n",
       "      <td>152.515625</td>\n",
       "      <td>56</td>\n",
       "      <td>5.628906</td>\n",
       "    </tr>\n",
       "    <tr>\n",
       "      <th>AGO</th>\n",
       "      <td>180</td>\n",
       "      <td>21.690217</td>\n",
       "      <td>8</td>\n",
       "      <td>0.826087</td>\n",
       "    </tr>\n",
       "    <tr>\n",
       "      <th>AIA</th>\n",
       "      <td>2</td>\n",
       "      <td>0.016760</td>\n",
       "      <td>0</td>\n",
       "      <td>0.000000</td>\n",
       "    </tr>\n",
       "    <tr>\n",
       "      <th>ALB</th>\n",
       "      <td>178</td>\n",
       "      <td>62.868020</td>\n",
       "      <td>6</td>\n",
       "      <td>1.837563</td>\n",
       "    </tr>\n",
       "    <tr>\n",
       "      <th>...</th>\n",
       "      <td>...</td>\n",
       "      <td>...</td>\n",
       "      <td>...</td>\n",
       "      <td>...</td>\n",
       "    </tr>\n",
       "    <tr>\n",
       "      <th>XKX</th>\n",
       "      <td>496</td>\n",
       "      <td>78.453125</td>\n",
       "      <td>40</td>\n",
       "      <td>3.192708</td>\n",
       "    </tr>\n",
       "    <tr>\n",
       "      <th>YEM</th>\n",
       "      <td>116</td>\n",
       "      <td>12.303030</td>\n",
       "      <td>52</td>\n",
       "      <td>3.551515</td>\n",
       "    </tr>\n",
       "    <tr>\n",
       "      <th>ZAF</th>\n",
       "      <td>13944</td>\n",
       "      <td>3339.449495</td>\n",
       "      <td>572</td>\n",
       "      <td>80.570707</td>\n",
       "    </tr>\n",
       "    <tr>\n",
       "      <th>ZMB</th>\n",
       "      <td>527</td>\n",
       "      <td>75.566845</td>\n",
       "      <td>40</td>\n",
       "      <td>1.764706</td>\n",
       "    </tr>\n",
       "    <tr>\n",
       "      <th>ZWE</th>\n",
       "      <td>490</td>\n",
       "      <td>41.529730</td>\n",
       "      <td>18</td>\n",
       "      <td>1.216216</td>\n",
       "    </tr>\n",
       "  </tbody>\n",
       "</table>\n",
       "<p>209 rows × 4 columns</p>\n",
       "</div>"
      ],
      "text/plain": [
       "                      cases              deaths           \n",
       "                        max         mean    max       mean\n",
       "countryterritoryCode                                      \n",
       "ABW                     176    19.404372      2   0.125683\n",
       "AFG                    1063   152.515625     56   5.628906\n",
       "AGO                     180    21.690217      8   0.826087\n",
       "AIA                       2     0.016760      0   0.000000\n",
       "ALB                     178    62.868020      6   1.837563\n",
       "...                     ...          ...    ...        ...\n",
       "XKX                     496    78.453125     40   3.192708\n",
       "YEM                     116    12.303030     52   3.551515\n",
       "ZAF                   13944  3339.449495    572  80.570707\n",
       "ZMB                     527    75.566845     40   1.764706\n",
       "ZWE                     490    41.529730     18   1.216216\n",
       "\n",
       "[209 rows x 4 columns]"
      ]
     },
     "execution_count": 14,
     "metadata": {},
     "output_type": "execute_result"
    }
   ],
   "source": [
    "covid_df1 = covid_df.groupby(\"countryterritoryCode\")\n",
    "aggs = {\"cases\":[\"max\", \"mean\"],\"deaths\":[\"max\", \"mean\"]}\n",
    "covid_df_agg = covid_df1.agg(aggs)\n",
    "# Display the aggregated data frame\n",
    "covid_df_agg\n"
   ]
  },
  {
   "cell_type": "markdown",
   "metadata": {},
   "source": [
    "> You've reached the third (and final) checkpoint in the lab.  Make sure to have it signed off by the instructor or TA.\n",
    ">\n",
    "> Checkpoint 3: Use `covid_df_agg` to answer the following questions:\n",
    ">\n",
    "> - For the timeframe represented by this dataset, which country had the highest maximum death count?\n",
    "> - For the timeframe represented by this dataset, of the countries with a maximum of at least 10 deaths, which country had the lowest mean case count?"
   ]
  },
  {
   "cell_type": "code",
   "execution_count": 17,
   "metadata": {},
   "outputs": [
    {
     "name": "stdout",
     "output_type": "stream",
     "text": [
      "                      cases               deaths            \n",
      "                        max          mean    max        mean\n",
      "countryterritoryCode                                        \n",
      "USA                   78427  25582.007519   4928  750.033835\n"
     ]
    },
    {
     "data": {
      "text/html": [
       "<div>\n",
       "<style scoped>\n",
       "    .dataframe tbody tr th:only-of-type {\n",
       "        vertical-align: middle;\n",
       "    }\n",
       "\n",
       "    .dataframe tbody tr th {\n",
       "        vertical-align: top;\n",
       "    }\n",
       "\n",
       "    .dataframe thead tr th {\n",
       "        text-align: left;\n",
       "    }\n",
       "\n",
       "    .dataframe thead tr:last-of-type th {\n",
       "        text-align: right;\n",
       "    }\n",
       "</style>\n",
       "<table border=\"1\" class=\"dataframe\">\n",
       "  <thead>\n",
       "    <tr>\n",
       "      <th></th>\n",
       "      <th colspan=\"2\" halign=\"left\">cases</th>\n",
       "      <th colspan=\"2\" halign=\"left\">deaths</th>\n",
       "    </tr>\n",
       "    <tr>\n",
       "      <th></th>\n",
       "      <th>max</th>\n",
       "      <th>mean</th>\n",
       "      <th>max</th>\n",
       "      <th>mean</th>\n",
       "    </tr>\n",
       "    <tr>\n",
       "      <th>countryterritoryCode</th>\n",
       "      <th></th>\n",
       "      <th></th>\n",
       "      <th></th>\n",
       "      <th></th>\n",
       "    </tr>\n",
       "  </thead>\n",
       "  <tbody>\n",
       "    <tr>\n",
       "      <th>TCD</th>\n",
       "      <td>83</td>\n",
       "      <td>6.188172</td>\n",
       "      <td>10</td>\n",
       "      <td>0.435484</td>\n",
       "    </tr>\n",
       "  </tbody>\n",
       "</table>\n",
       "</div>"
      ],
      "text/plain": [
       "                     cases           deaths          \n",
       "                       max      mean    max      mean\n",
       "countryterritoryCode                                 \n",
       "TCD                     83  6.188172     10  0.435484"
      ]
     },
     "execution_count": 17,
     "metadata": {},
     "output_type": "execute_result"
    }
   ],
   "source": [
    "hi = covid_df_agg.loc[covid_df_agg[\"deaths\"][\"max\"]== covid_df_agg[\"deaths\"][\"max\"].max(),:]\n",
    "print(hi)\n",
    "hii = covid_df_agg.loc[covid_df_agg[\"deaths\"][\"max\"]>=10]\n",
    "\n",
    "hiii = hii.loc[hii[\"cases\"][\"mean\"]== hii[\"cases\"][\"mean\"].min()]\n",
    "hiii\n"
   ]
  },
  {
   "cell_type": "markdown",
   "metadata": {},
   "source": [
    "---\n",
    "\n",
    "---\n",
    "## Part C\n",
    "\n",
    "How much time (in minutes/hours) did you spend on this lab outside of class?"
   ]
  },
  {
   "attachments": {},
   "cell_type": "markdown",
   "metadata": {},
   "source": [
    "45 mins "
   ]
  }
 ],
 "metadata": {
  "kernelspec": {
   "display_name": "base",
   "language": "python",
   "name": "python3"
  },
  "language_info": {
   "codemirror_mode": {
    "name": "ipython",
    "version": 3
   },
   "file_extension": ".py",
   "mimetype": "text/x-python",
   "name": "python",
   "nbconvert_exporter": "python",
   "pygments_lexer": "ipython3",
   "version": "3.9.13"
  },
  "vscode": {
   "interpreter": {
    "hash": "6812229378a4e14d29bbe4ee07db5e95bb6855d7fc74a2934bab81ab80a6eafa"
   }
  }
 },
 "nbformat": 4,
 "nbformat_minor": 4
}
