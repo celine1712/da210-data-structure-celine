{
 "cells": [
  {
   "attachments": {},
   "cell_type": "markdown",
   "metadata": {},
   "source": [
    "# Denison DA210/CS181 SW Lab #12 - Step 3\n",
    "\n",
    "Before you get your checkpoints, make sure everything runs as expected. This is a combination of **restarting the kernel** and then **running all cells**.\n",
    "\n",
    "Make sure you fill in any place that says `# YOUR CODE HERE` or \"YOUR ANSWER HERE\"."
   ]
  },
  {
   "cell_type": "markdown",
   "metadata": {},
   "source": [
    "---"
   ]
  },
  {
   "cell_type": "markdown",
   "metadata": {},
   "source": [
    "#### Import Python modules"
   ]
  },
  {
   "cell_type": "code",
   "execution_count": null,
   "metadata": {
    "deletable": false,
    "editable": false,
    "nbgrader": {
     "cell_type": "code",
     "checksum": "2c15bf49fe13507b473a89ebc6ffdea5",
     "grade": false,
     "grade_id": "cell-b9abcf27cf7faf8f",
     "locked": true,
     "schema_version": 3,
     "solution": false,
     "task": false
    }
   },
   "outputs": [],
   "source": [
    "import pandas as pd\n",
    "import os\n",
    "import os.path\n",
    "import json\n",
    "import sqlalchemy as sa"
   ]
  },
  {
   "cell_type": "markdown",
   "metadata": {},
   "source": [
    "#### Set credentials"
   ]
  },
  {
   "cell_type": "code",
   "execution_count": null,
   "metadata": {},
   "outputs": [],
   "source": [
    "def getsqlite_creds(dirname=\".\",filename=\"creds.json\",source=\"sqlite\"):\n",
    "    \"\"\" Using directory and filename parameters, open a credentials file\n",
    "        and obtain the two parts needed for a connection string to\n",
    "        a local provider using the \"sqlite\" dictionary within\n",
    "        an outer dictionary.  \n",
    "        \n",
    "        Return a scheme and a dbfile\n",
    "    \"\"\"\n",
    "    assert os.path.isfile(os.path.join(dirname, filename))\n",
    "    with open(os.path.join(dirname, filename)) as f:\n",
    "        D = json.load(f)\n",
    "    sqlite = D[source]\n",
    "    return sqlite[\"scheme\"], sqlite[\"dbdir\"], sqlite[\"database\"]"
   ]
  },
  {
   "cell_type": "code",
   "execution_count": null,
   "metadata": {},
   "outputs": [],
   "source": [
    "def buildConnectionString(source=\"sqlite_book\"):\n",
    "    scheme, dbdir, database = getsqlite_creds(source=source)\n",
    "    template = '{}:///{}/{}.db'\n",
    "    return template.format(scheme, dbdir, database)"
   ]
  },
  {
   "cell_type": "markdown",
   "metadata": {},
   "source": [
    "---\n",
    "\n",
    "## Part E: Table Creation"
   ]
  },
  {
   "cell_type": "markdown",
   "metadata": {},
   "source": [
    "Recall the syntax for SQL `CREATE TABLE` statements:\n",
    "\n",
    "CREATE TABLE [IF NOT EXISTS] _table-name_ ( \\\n",
    "&nbsp;&nbsp;&nbsp;&nbsp;_field-name_ _data-type_ _constraints_ \\\n",
    "&nbsp;&nbsp;&nbsp;&nbsp;[, _field-name_ _data-type_ _constraints_ ]* \\\n",
    "&nbsp;&nbsp;&nbsp;&nbsp;[, _table-constraint_ ]* \\\n",
    ")\n",
    "\n",
    "#### **Before going further, create a new database!**\n",
    "\n",
    "In SQLiteStudio, navigate to `Database` -> `Add a database`.  Click the green round \"+\" button to create a new local DB file (store it in your repository's `dbfiles` directory, along with `book` and `school`).  Name it `entertainment`.\n",
    "\n",
    "Let's connect to our new empty `entertainment` database and add a new table:"
   ]
  },
  {
   "cell_type": "code",
   "execution_count": null,
   "metadata": {},
   "outputs": [],
   "source": [
    "# Build the conection string\n",
    "cstring = buildConnectionString(\"sqlite_entertainment\")\n",
    "print(\"Connection string:\", cstring)\n",
    "\n",
    "# Connect to the database\n",
    "engine = sa.create_engine(cstring)\n",
    "connection = engine.connect()"
   ]
  },
  {
   "cell_type": "code",
   "execution_count": null,
   "metadata": {},
   "outputs": [],
   "source": [
    "# Write the create-table SQL statement\n",
    "statement = \"\"\"\n",
    "CREATE TABLE IF NOT EXISTS movies (\n",
    "    movieid INT NOT NULL,\n",
    "    title VARCHAR(64) NOT NULL,\n",
    "    release DATE NULL,\n",
    "    rating FLOAT DEFAULT 0.0,\n",
    "    PRIMARY KEY (movieid)\n",
    ")\n",
    "\"\"\"\n",
    "\n",
    "# Execute the statement\n",
    "try:\n",
    "    connection.execute(statement)\n",
    "except sa.exc.SQLAlchemyError as err:\n",
    "    print(\"CREATE of movies failed:\", str(err))"
   ]
  },
  {
   "cell_type": "code",
   "execution_count": null,
   "metadata": {},
   "outputs": [],
   "source": [
    "# Close the connection!\n",
    "try:\n",
    "    connection.close()\n",
    "except:\n",
    "    pass\n",
    "del engine"
   ]
  },
  {
   "attachments": {},
   "cell_type": "markdown",
   "metadata": {},
   "source": [
    "In SQLiteStudio, double-click on the `entertainment` database, and you should now see a single table, `movies`.  If it doesn't show up, right-click on \"Tables\" and choose \"Refresh all database schemas\"."
   ]
  },
  {
   "cell_type": "markdown",
   "metadata": {},
   "source": [
    "> You've reached the second checkpoint in the lab.  Make sure to have it signed off by the instructor or TA.\n",
    ">\n",
    "> Checkpoint 2: There is no `NULL` or `NOT NULL` constraint given for the `rating` field in the SQL statement above.  Inspect the `movies` table in SQLiteStudio.  What is the default when neither variant of this field constraint is specified?"
   ]
  },
  {
   "cell_type": "markdown",
   "metadata": {},
   "source": [
    "---\n",
    "\n",
    "# Part F: Table Population\n",
    "\n",
    "#### Using an `INSERT INTO` statement\n",
    "\n",
    "The SQL syntax to populate data into an existing table is straightforward:\n",
    "\n",
    "INSERT INTO _table-name_ [ ( _column-list_ ) ] \\\n",
    "&nbsp;&nbsp;&nbsp;&nbsp;_field-name_ VALUES ( _value-list_ )\n",
    "\n",
    "We first focus on populating one record at a time.  Note that we can use this syntax in one of two ways, depending on whether we are inserting all defined fields, or only an explicit set of fields."
   ]
  },
  {
   "cell_type": "code",
   "execution_count": null,
   "metadata": {},
   "outputs": [],
   "source": [
    "# Insert all fields -- try this in SQLiteStudio using Tools -> Open SQL editor\n",
    "stmt = \"\"\"\n",
    "    INSERT INTO movies\n",
    "    VALUES (109445, 'Frozen', '2013-11-27', 7.3)\n",
    "\"\"\""
   ]
  },
  {
   "cell_type": "code",
   "execution_count": null,
   "metadata": {},
   "outputs": [],
   "source": [
    "# Insert only some fields -- try this in SQLiteStudio using Tools -> Open SQL editor\n",
    "stmt = \"\"\"\n",
    "    INSERT INTO movies (title, movieid)\n",
    "    VALUES ('Guardians of the Galaxy', 118340)\n",
    "\"\"\""
   ]
  },
  {
   "attachments": {},
   "cell_type": "markdown",
   "metadata": {},
   "source": [
    "If you tried out the above commands, you can delete the rows (or not) in the table using buttons above the data in the `Data` tab in SQLiteStudio before continuing."
   ]
  },
  {
   "cell_type": "markdown",
   "metadata": {},
   "source": [
    "#### Using `pandas` to insert an entire `DataFrame`\n",
    "\n",
    "We can hard-code such insert statements, but this will become tedious quickly.  Instead, we can `pandas` to insert all of the rows in a `DataFrame`."
   ]
  },
  {
   "cell_type": "code",
   "execution_count": null,
   "metadata": {},
   "outputs": [],
   "source": [
    "# Re-connect to the database\n",
    "engine = sa.create_engine(cstring)\n",
    "connection = engine.connect()"
   ]
  },
  {
   "cell_type": "code",
   "execution_count": null,
   "metadata": {},
   "outputs": [],
   "source": [
    "# The movie data we'll insert\n",
    "DoL = {\n",
    "    \"movieid\": [109445, 118340, 299536, 301518, 420818, 424694],\n",
    "    \"title\": [\"Frozen\", \"Guardians of the Galaxy\", \"Avengers: Infinity War\",\n",
    "              \"Toy Story 4\", \"The Lion King\", \"Bohemian Rhapsody\"],\n",
    "    \"release\": [\"2013-11-27\", \"2014-08-01\", \"2018-04-27\",\n",
    "                \"2019-06-21\", \"2019-07-19\", \"2018-11-02\"],\n",
    "    \"rating\": [7.3, 7.9, 8.3, 7.6, 7.1, 8.0]\n",
    "}\n",
    "\n",
    "df = pd.DataFrame(DoL)\n",
    "df"
   ]
  },
  {
   "cell_type": "markdown",
   "metadata": {},
   "source": [
    "We'll use the `pandas` `DataFrame` method `to_sql`, with the following parameters:\n",
    "* `name`: the name of the table (a string)\n",
    "* `con`: the connection to the database (the result of `sa.create_engine().connect()`)\n",
    "* `if_exists`: the action to take if the table exists (e.g., to append or overwrite)\n",
    "* `index`: a Boolean indicating whether the `DataFrame` has an index that should be converted into a column\n",
    "\n",
    "Note that we need to use `if_exists=\"append\"` to append the rows to an existing table.  If the table doesn't already exist, then this will create a new table, but without the constraints (e.g., primary key) defined, so make sure to create the table first!"
   ]
  },
  {
   "cell_type": "code",
   "execution_count": null,
   "metadata": {},
   "outputs": [],
   "source": [
    "# Inserting directly from a DataFrame\n",
    "df.to_sql(\"movies\", con=connection, if_exists=\"append\", index=False)"
   ]
  },
  {
   "cell_type": "markdown",
   "metadata": {},
   "source": [
    "Let's see how we did by querying our `movies` table."
   ]
  },
  {
   "cell_type": "code",
   "execution_count": null,
   "metadata": {},
   "outputs": [],
   "source": [
    "df2 = pd.read_sql_table(\"movies\", connection)\n",
    "df2"
   ]
  },
  {
   "cell_type": "code",
   "execution_count": null,
   "metadata": {},
   "outputs": [],
   "source": [
    "df3 = pd.read_sql_query(\"SELECT * FROM movies WHERE release > '2019-06-01'\", connection)\n",
    "df3"
   ]
  },
  {
   "cell_type": "code",
   "execution_count": null,
   "metadata": {},
   "outputs": [],
   "source": [
    "# Close the connection!\n",
    "try:\n",
    "    connection.close()\n",
    "except:\n",
    "    pass\n",
    "del engine"
   ]
  },
  {
   "cell_type": "markdown",
   "metadata": {},
   "source": [
    "---\n",
    "\n",
    "## Part G: Try it Yourself!\n"
   ]
  },
  {
   "attachments": {},
   "cell_type": "markdown",
   "metadata": {},
   "source": [
    "**Q4:** Create a table, `television`, (programmatically in Python or via a SQL statement executed in SQLiteStudio) to represent the following table of data.  Make sure to use fields that make sense, and define a primary key.  Think about which fields may be allowed to be missing.\n",
    "\n",
    "id | title    | service | episodes\n",
    ":--|:--------|:---------|:-------------------------\n",
    "0  | Stranger Things   | Netflix | 25\n",
    "1  | The Crown | Netflix | 40\n",
    "2  | Star Trek: Discovery   | Paramount+ | 55\n",
    "3  | Star Trek: Lower Decks | Paramount+ | 20\n",
    "4  | The Handmaid's Tale | Hulu | 46"
   ]
  },
  {
   "cell_type": "code",
   "execution_count": null,
   "metadata": {},
   "outputs": [],
   "source": [
    "# Re-connect to the database\n",
    "engine = sa.create_engine(cstring)\n",
    "connection = engine.connect()\n",
    "\n",
    "# YOUR CODE HERE\n",
    "raise NotImplementedError() # or comment out if doing this in SQLiteStudio"
   ]
  },
  {
   "cell_type": "markdown",
   "metadata": {},
   "source": [
    "**Q5:** Now that you have your data, write a SQL statement to insert the first record.  You should hard-code your solution for this question."
   ]
  },
  {
   "cell_type": "code",
   "execution_count": null,
   "metadata": {},
   "outputs": [],
   "source": [
    "# YOUR CODE HERE\n",
    "raise NotImplementedError()"
   ]
  },
  {
   "cell_type": "code",
   "execution_count": null,
   "metadata": {},
   "outputs": [],
   "source": [
    "# Debugging cell\n",
    "df = pd.read_sql_table(\"television\", connection)\n",
    "df"
   ]
  },
  {
   "cell_type": "code",
   "execution_count": null,
   "metadata": {},
   "outputs": [],
   "source": [
    "# Testing cell\n",
    "df = pd.read_sql_table(\"television\", connection)\n",
    "assert df.shape == (1,4)"
   ]
  },
  {
   "attachments": {},
   "cell_type": "markdown",
   "metadata": {},
   "source": [
    "**Q6:** Build a `pandas` `DataFrame`, named `tv_df`, for the remaining 4 rows.  The table is copied again below:\n",
    "\n",
    "id | title    | service | episodes\n",
    ":--|:--------|:---------|:-------------------------\n",
    "0  | Stranger Things   | Netflix | 25\n",
    "1  | The Crown | Netflix | 40\n",
    "2  | Star Trek: Discovery   | Paramount+ | 55\n",
    "3  | Star Trek: Lower Decks | Paramount+ | 20\n",
    "4  | The Handmaid's Tale | Hulu | 46"
   ]
  },
  {
   "cell_type": "code",
   "execution_count": null,
   "metadata": {},
   "outputs": [],
   "source": [
    "# YOUR CODE HERE\n",
    "raise NotImplementedError()\n",
    "\n",
    "# Display the DataFrame\n",
    "tv_df"
   ]
  },
  {
   "cell_type": "code",
   "execution_count": null,
   "metadata": {},
   "outputs": [],
   "source": [
    "# Testing cell\n",
    "assert tv_df.shape == (4,4)\n",
    "assert list(tv_df[\"service\"]) == [\"Netflix\", \"Paramount+\", \"Paramount+\", \"Hulu\"]\n",
    "assert list(tv_df[\"episodes\"]) == [40, 55, 20, 46]"
   ]
  },
  {
   "cell_type": "markdown",
   "metadata": {},
   "source": [
    "**Q7:** Use your dataframe from the previous question to insert the remaining four rows into the `television` table."
   ]
  },
  {
   "cell_type": "code",
   "execution_count": null,
   "metadata": {},
   "outputs": [],
   "source": [
    "# YOUR CODE HERE\n",
    "raise NotImplementedError()"
   ]
  },
  {
   "cell_type": "code",
   "execution_count": null,
   "metadata": {},
   "outputs": [],
   "source": [
    "# Debugging cell\n",
    "df = pd.read_sql_table(\"television\", connection)\n",
    "df"
   ]
  },
  {
   "cell_type": "code",
   "execution_count": null,
   "metadata": {},
   "outputs": [],
   "source": [
    "# Testing cell\n",
    "df = pd.read_sql_table(\"television\", connection)\n",
    "assert df.shape == (5,4)\n",
    "\n",
    "assert df.episodes.max() == 55\n",
    "assert df.episodes.min() == 20\n",
    "\n",
    "query = \"\"\"\n",
    "    SELECT title\n",
    "    FROM television\n",
    "    WHERE episodes = 40\n",
    "\"\"\"\n",
    "df2 = pd.read_sql_query(query, connection)\n",
    "assert df2.shape == (1,1)\n",
    "assert df2.iloc[0,0] == \"The Crown\""
   ]
  },
  {
   "cell_type": "code",
   "execution_count": null,
   "metadata": {},
   "outputs": [],
   "source": [
    "# Close the connection!\n",
    "try:\n",
    "    connection.close()\n",
    "except:\n",
    "    pass\n",
    "del engine"
   ]
  },
  {
   "cell_type": "markdown",
   "metadata": {},
   "source": [
    "> You've reached the third (and final) checkpoint in the lab.  Make sure to have it signed off by the instructor or TA.\n",
    ">\n",
    "> Checkpoint 3: What, if anything, would happen if you used `if_exists=replace` in your bulk insert statement?  What about `if_exists=fail`?\n",
    ">\n",
    "> _Hint_: You may want to take a look at the [documentation for the `DataFrame.to_sql` method](https://pandas.pydata.org/pandas-docs/stable/reference/api/pandas.DataFrame.to_sql.html)."
   ]
  },
  {
   "cell_type": "markdown",
   "metadata": {},
   "source": [
    "---\n",
    "\n",
    "---\n",
    "\n",
    "## Part H\n",
    "\n",
    "How much time (in minutes/hours) did you spend on this lab outside of class?"
   ]
  },
  {
   "cell_type": "markdown",
   "metadata": {},
   "source": [
    "YOUR ANSWER HERE"
   ]
  }
 ],
 "metadata": {
  "kernelspec": {
   "display_name": "Python 3",
   "language": "python",
   "name": "python3"
  },
  "language_info": {
   "codemirror_mode": {
    "name": "ipython",
    "version": 3
   },
   "file_extension": ".py",
   "mimetype": "text/x-python",
   "name": "python",
   "nbconvert_exporter": "python",
   "pygments_lexer": "ipython3",
   "version": "3.9.7"
  }
 },
 "nbformat": 4,
 "nbformat_minor": 4
}
