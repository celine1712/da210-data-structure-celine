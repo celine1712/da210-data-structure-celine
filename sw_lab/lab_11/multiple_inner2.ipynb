{
 "cells": [
  {
   "attachments": {},
   "cell_type": "markdown",
   "metadata": {},
   "source": [
    "# Denison DA210/CS181 SW Lab #11 - Step 1\n",
    "\n",
    "Before you get your checkpoints, make sure everything runs as expected. This is a combination of **restarting the kernel** and then **running all cells**.\n",
    "\n",
    "Make sure you fill in any place that says `# YOUR CODE HERE` or \"YOUR ANSWER HERE\"."
   ]
  },
  {
   "cell_type": "markdown",
   "metadata": {},
   "source": [
    "---"
   ]
  },
  {
   "cell_type": "markdown",
   "metadata": {},
   "source": [
    "#### Import Python modules and load \"SQL Magic\""
   ]
  },
  {
   "cell_type": "code",
   "execution_count": null,
   "metadata": {
    "deletable": false,
    "editable": false,
    "nbgrader": {
     "cell_type": "code",
     "checksum": "2c15bf49fe13507b473a89ebc6ffdea5",
     "grade": false,
     "grade_id": "cell-b9abcf27cf7faf8f",
     "locked": true,
     "schema_version": 3,
     "solution": false,
     "task": false
    }
   },
   "outputs": [],
   "source": [
    "import pandas as pd\n",
    "import os\n",
    "import os.path\n",
    "import json\n",
    "import sys\n",
    "import importlib\n",
    "\n",
    "module_dir = \"../../modules\"\n",
    "module_path = os.path.abspath(module_dir)\n",
    "if not module_path in sys.path:\n",
    "    sys.path.append(module_path)\n",
    "\n",
    "%load_ext sql"
   ]
  },
  {
   "cell_type": "markdown",
   "metadata": {},
   "source": [
    "#### Set credentials"
   ]
  },
  {
   "cell_type": "code",
   "execution_count": null,
   "metadata": {},
   "outputs": [],
   "source": [
    "def getsqlite_creds(dirname=\".\",filename=\"creds.json\",source=\"sqlite\"):\n",
    "    \"\"\" Using directory and filename parameters, open a credentials file\n",
    "        and obtain the two parts needed for a connection string to\n",
    "        a local provider using the \"sqlite\" dictionary within\n",
    "        an outer dictionary.  \n",
    "        \n",
    "        Return a scheme and a dbfile\n",
    "    \"\"\"\n",
    "    assert os.path.isfile(os.path.join(dirname, filename))\n",
    "    with open(os.path.join(dirname, filename)) as f:\n",
    "        D = json.load(f)\n",
    "    sqlite = D[source]\n",
    "    return sqlite[\"scheme\"], sqlite[\"dbdir\"], sqlite[\"database\"]"
   ]
  },
  {
   "cell_type": "code",
   "execution_count": null,
   "metadata": {},
   "outputs": [],
   "source": [
    "scheme, dbdir, database = getsqlite_creds(source=\"sqlite2\")\n",
    "template = '{}:///{}/{}.db'\n",
    "cstring = template.format(scheme, dbdir, database)\n",
    "print(\"Connection string:\", cstring)"
   ]
  },
  {
   "cell_type": "markdown",
   "metadata": {},
   "source": [
    "#### Establish Connection from Client to Server"
   ]
  },
  {
   "cell_type": "code",
   "execution_count": null,
   "metadata": {},
   "outputs": [],
   "source": [
    "%sql $cstring"
   ]
  },
  {
   "cell_type": "markdown",
   "metadata": {},
   "source": [
    "---\n",
    "\n",
    "## Part A: Two-Table Inner Joins\n",
    "\n",
    "For this lab, you'll be working with the `school` database.  The schema is shown below."
   ]
  },
  {
   "cell_type": "code",
   "execution_count": null,
   "metadata": {},
   "outputs": [],
   "source": [
    "from IPython.display import Image\n",
    "Image(\"figs/school_schema.jpg\", width=600, height=600)"
   ]
  },
  {
   "cell_type": "markdown",
   "metadata": {},
   "source": [
    "Recall from class that we can join two tables together using the following change to our _table-spec_:\n",
    "\n",
    "```\n",
    "    table-spec |= table | (subquery) AS newName | join-table\n",
    "```\n",
    "\n",
    "where an inner join is specified using:\n",
    "\n",
    "```\n",
    "    join-table |= table-spec [AS alias1] INNER JOIN table-spec [AS alias2] ON match-cond\n",
    "```\n",
    "\n",
    "or:\n",
    "\n",
    "```\n",
    "    join-table |= table-spec [AS alias1] INNER JOIN table-spec [AS alias2] USING (common-fields)\n",
    "```\n",
    "\n",
    "For example, we could find the meeting times of each spring-semester class of any course worth 2 credits (sorted by the course subject and then number):"
   ]
  },
  {
   "cell_type": "code",
   "execution_count": null,
   "metadata": {},
   "outputs": [],
   "source": [
    "# A fairly complex SQL query, with an example of a two-table inner join\n",
    "query = \"\"\"\n",
    "SELECT co.coursesubject, co.coursenum, co.coursehours, cl.classmeeting\n",
    "FROM classes as cl INNER JOIN courses as co\n",
    "    ON cl.coursesubject = co.coursesubject AND\n",
    "       cl.coursenum = co.coursenum\n",
    "WHERE cl.classterm = 'SPRING' AND co.coursehours >= 2 AND\n",
    "      cl.classmeeting IS NOT NULL\n",
    "ORDER BY co.coursesubject, cl.coursenum\n",
    "\"\"\"\n",
    "\n",
    "resultset = %sql $query\n",
    "resultset.DataFrame()"
   ]
  },
  {
   "cell_type": "markdown",
   "metadata": {},
   "source": [
    "#### Try it out yourself!"
   ]
  },
  {
   "cell_type": "markdown",
   "metadata": {},
   "source": [
    "**Q1:** Write a SQL query to retrieve department information, including the id of the department, the name of the department, and the last and first names of the chair of the department."
   ]
  },
  {
   "cell_type": "code",
   "execution_count": null,
   "metadata": {
    "deletable": false,
    "nbgrader": {
     "cell_type": "code",
     "checksum": "6d0168fa9e1eb84e8a2fe21de3af9292",
     "grade": true,
     "grade_id": "cell-aa9f08a9bbaa8193",
     "locked": false,
     "points": 2,
     "schema_version": 3,
     "solution": true,
     "task": false
    }
   },
   "outputs": [],
   "source": [
    "query1 = \"\"\"\n",
    "\"\"\"\n",
    "# YOUR CODE HERE\n",
    "raise NotImplementedError()\n",
    "\n",
    "resultset1 = %sql $query1\n",
    "resultdf1 = resultset1.DataFrame()\n",
    "print(\"Number of rows in result:\", len(resultdf1))\n",
    "resultdf1.head()"
   ]
  },
  {
   "attachments": {},
   "cell_type": "markdown",
   "metadata": {},
   "source": [
    "> You've reached the first checkpoint in the lab.  Make sure to have it signed off by the instructor or TA.\n",
    ">\n",
    "> Checkpoint 1: Determine the number of rows in your result and compare with the number of rows total in departments.  Are they the same?  Why or why not?"
   ]
  },
  {
   "attachments": {},
   "cell_type": "markdown",
   "metadata": {
    "deletable": false,
    "editable": false,
    "nbgrader": {
     "cell_type": "markdown",
     "checksum": "1162c5a81ab769f4da4104baa13d519d",
     "grade": false,
     "grade_id": "cell-774f24f93b8af355",
     "locked": true,
     "schema_version": 3,
     "solution": false,
     "task": false
    }
   },
   "source": [
    "**Q2:** Using the `school` database, select all course titles for classes offered during the year, their class meeting times, and their terms. It's okay to include directed studies, but don't allow any NULL course titles or meeting times."
   ]
  },
  {
   "cell_type": "code",
   "execution_count": null,
   "metadata": {
    "deletable": false,
    "nbgrader": {
     "cell_type": "code",
     "checksum": "d2dd6b240b9a060f057f09659e1487d5",
     "grade": false,
     "grade_id": "cell-48c8e090b6800cad",
     "locked": false,
     "schema_version": 3,
     "solution": true,
     "task": false
    }
   },
   "outputs": [],
   "source": [
    "query2 = \"\"\"\n",
    "\"\"\"\n",
    "# YOUR CODE HERE\n",
    "raise NotImplementedError()\n",
    "\n",
    "resultset2 = %sql $query2\n",
    "resultdf2 = resultset2.DataFrame()\n",
    "print(len(resultdf2))\n",
    "resultdf2.tail()"
   ]
  },
  {
   "cell_type": "code",
   "execution_count": null,
   "metadata": {
    "deletable": false,
    "editable": false,
    "nbgrader": {
     "cell_type": "code",
     "checksum": "2eab8c645b831e70a2db31c7922797e1",
     "grade": true,
     "grade_id": "cell-db255b7631277de0",
     "locked": true,
     "points": 2,
     "schema_version": 3,
     "solution": false,
     "task": false
    }
   },
   "outputs": [],
   "source": [
    "# Testing cell\n",
    "assert len(resultdf2) == 1065\n",
    "assert len(resultdf2.iloc[0]) == 3\n",
    "assert 'Writing Workshop' in list(resultdf2['coursetitle'])"
   ]
  },
  {
   "attachments": {},
   "cell_type": "markdown",
   "metadata": {
    "deletable": false,
    "editable": false,
    "nbgrader": {
     "cell_type": "markdown",
     "checksum": "b114fe8eb4ac9174d9f82f5b8e3bd188",
     "grade": false,
     "grade_id": "cell-a7a4156c91f31378",
     "locked": true,
     "schema_version": 3,
     "solution": false,
     "task": false
    }
   },
   "source": [
    "**Q3:** Write a query to display students (last name and first name) and instructors (first name) who have the same last name, ordered by student last name, then student first name."
   ]
  },
  {
   "cell_type": "code",
   "execution_count": null,
   "metadata": {
    "deletable": false,
    "nbgrader": {
     "cell_type": "code",
     "checksum": "bd80b08b98b5dd7aaff7ea72fe44be65",
     "grade": true,
     "grade_id": "cell-72a0921a34b79131",
     "locked": false,
     "points": 2,
     "schema_version": 3,
     "solution": true,
     "task": false
    }
   },
   "outputs": [],
   "source": [
    "query3 = \"\"\"\n",
    "\"\"\"\n",
    "# YOUR CODE HERE\n",
    "raise NotImplementedError()\n",
    "\n",
    "resultset3 = %sql $query3\n",
    "resultdf3 = resultset3.DataFrame()\n",
    "print(len(resultdf3))\n",
    "resultdf3.head()"
   ]
  },
  {
   "cell_type": "code",
   "execution_count": null,
   "metadata": {},
   "outputs": [],
   "source": [
    "# Testing cell\n",
    "assert len(resultdf3) == 1768\n",
    "assert list(resultdf3.columns) == [\"studentlast\", \"studentfirst\", \"instructorfirst\"]\n",
    "assert list(resultdf3.iloc[4,:]) == [\"Anderson\", \"Julie\", \"Philip\"]"
   ]
  },
  {
   "cell_type": "markdown",
   "metadata": {},
   "source": [
    "---\n",
    "\n",
    "## Part B: Three-Table Joins\n",
    "\n",
    "We can extend the inner joins we've seen to a chain of joins, allowing us to get information across several tables.\n",
    "\n",
    "For example, we'll build up a series of queries that will give us the subject, number, section, and meeting time for each of a set of classes combined with the instructoring teaching the class."
   ]
  },
  {
   "cell_type": "code",
   "execution_count": null,
   "metadata": {},
   "outputs": [],
   "source": [
    "# First, just look up the info from the classes table\n",
    "query = \"\"\"\n",
    "SELECT coursesubject || '-' || coursenum || '-' || classsection AS class,\n",
    "       classmeeting\n",
    "FROM classes\n",
    "WHERE classid IN (21014, 21088, 21256, 21444)\n",
    "\"\"\"\n",
    "\n",
    "resultset = %sql $query\n",
    "resultdf = resultset.DataFrame()\n",
    "print(len(resultdf))\n",
    "resultdf.head()"
   ]
  },
  {
   "cell_type": "code",
   "execution_count": null,
   "metadata": {},
   "outputs": [],
   "source": [
    "# Now, let's join with instructor_class to begin getting the instructor info\n",
    "query = \"\"\"\n",
    "SELECT coursesubject || '-' || coursenum || '-' || classsection AS class,\n",
    "       classmeeting,\n",
    "       instructorid\n",
    "FROM classes INNER JOIN instructor_class USING (classid)\n",
    "WHERE classid IN (21014, 21088, 21256, 21444)\n",
    "\"\"\"\n",
    "\n",
    "resultset = %sql $query\n",
    "resultdf = resultset.DataFrame()\n",
    "print(len(resultdf))\n",
    "resultdf.head()"
   ]
  },
  {
   "cell_type": "code",
   "execution_count": null,
   "metadata": {},
   "outputs": [],
   "source": [
    "# Finally, we *also* join with instructors to get the names\n",
    "# (the inner joins are processed left to right)\n",
    "query = \"\"\"\n",
    "SELECT coursesubject || '-' || coursenum || '-' || classsection AS class,\n",
    "       classmeeting,\n",
    "       instructorlast, instructorfirst\n",
    "FROM classes INNER JOIN instructor_class USING (classid)\n",
    "    INNER JOIN instructors USING (instructorid)\n",
    "WHERE classid IN (21014, 21088, 21256, 21444)\n",
    "\"\"\"\n",
    "\n",
    "resultset = %sql $query\n",
    "resultdf = resultset.DataFrame()\n",
    "print(len(resultdf))\n",
    "resultdf.head()"
   ]
  },
  {
   "cell_type": "markdown",
   "metadata": {},
   "source": [
    "#### Practice with three-table inner joins"
   ]
  },
  {
   "cell_type": "markdown",
   "metadata": {
    "deletable": false,
    "editable": false,
    "nbgrader": {
     "cell_type": "markdown",
     "checksum": "37d2158059a385a086258ed4cc9b914f",
     "grade": false,
     "grade_id": "cell-7a2e26471dcf0956",
     "locked": true,
     "schema_version": 3,
     "solution": false,
     "task": false
    }
   },
   "source": [
    "**Q4:** Write a query to display all the students (id, last name, first name) who took math or computer science during the fall, along with the classes they took (course subject, number, and class term).  Order your results by `studentid` (lowest to highest).  If a student took multiple math or CS courses, include them multiple times."
   ]
  },
  {
   "cell_type": "code",
   "execution_count": null,
   "metadata": {
    "deletable": false,
    "nbgrader": {
     "cell_type": "code",
     "checksum": "1f1afe4415fe8a3be791b89bb2d77142",
     "grade": true,
     "grade_id": "cell-2bfa4c7b4075758d",
     "locked": false,
     "points": 2,
     "schema_version": 3,
     "solution": true,
     "task": false
    }
   },
   "outputs": [],
   "source": [
    "query4 = \"\"\"\n",
    "\"\"\"\n",
    "# YOUR CODE HERE\n",
    "raise NotImplementedError()\n",
    "\n",
    "resultset4 = %sql $query4\n",
    "resultdf4 = resultset4.DataFrame()\n",
    "resultdf4.head()"
   ]
  },
  {
   "cell_type": "code",
   "execution_count": null,
   "metadata": {},
   "outputs": [],
   "source": [
    "# Testing cell\n",
    "assert resultdf4.shape == (595, 6)\n",
    "assert resultdf4.iloc[3,0] == 61613\n",
    "assert resultdf4.iloc[4,4] == 110"
   ]
  },
  {
   "attachments": {},
   "cell_type": "markdown",
   "metadata": {
    "deletable": false,
    "editable": false,
    "nbgrader": {
     "cell_type": "markdown",
     "checksum": "857e13c7c0f070e57c96ec7a6817d67c",
     "grade": false,
     "grade_id": "cell-3042a765def4a2b2",
     "locked": true,
     "schema_version": 3,
     "solution": false,
     "task": false
    }
   },
   "source": [
    "**Q5:** Find the students (IDs and first names) who took more than 10 classes over the year. Include the number of classes they took as `count`."
   ]
  },
  {
   "cell_type": "code",
   "execution_count": null,
   "metadata": {
    "deletable": false,
    "nbgrader": {
     "cell_type": "code",
     "checksum": "ca60ff1eb871085ec3ac67183c44f145",
     "grade": true,
     "grade_id": "cell-c316523273e667da",
     "locked": false,
     "points": 2,
     "schema_version": 3,
     "solution": true,
     "task": false
    }
   },
   "outputs": [],
   "source": [
    "query5 = \"\"\"\n",
    "\"\"\"\n",
    "# YOUR CODE HERE\n",
    "raise NotImplementedError()\n",
    "\n",
    "resultset5 = %sql $query5\n",
    "resultdf5 = resultset5.DataFrame()\n",
    "print(len(resultdf5))\n",
    "resultdf5.head()"
   ]
  },
  {
   "cell_type": "code",
   "execution_count": null,
   "metadata": {},
   "outputs": [],
   "source": [
    "# Testing cell\n",
    "assert resultdf5.shape == (919, 3)\n",
    "assert resultdf5[\"studentid\"][0] == 61516\n",
    "assert 61528 not in set(resultdf5[\"studentid\"])\n",
    "assert resultdf5[\"count\"][2] == 13\n",
    "assert resultdf5[\"studentfirst\"][3] == \"Marlene\""
   ]
  },
  {
   "attachments": {},
   "cell_type": "markdown",
   "metadata": {},
   "source": [
    "> You've reached the second checkpoint in the lab.  Make sure to have it signed off by the instructor or TA.\n",
    ">\n",
    "> Checkpoint 2: The above query works for any status.  How would you limit it to classes the student is registered for, i.e., that they did not drop or withdraw?"
   ]
  }
 ],
 "metadata": {
  "kernelspec": {
   "display_name": "Python 3",
   "language": "python",
   "name": "python3"
  },
  "language_info": {
   "codemirror_mode": {
    "name": "ipython",
    "version": 3
   },
   "file_extension": ".py",
   "mimetype": "text/x-python",
   "name": "python",
   "nbconvert_exporter": "python",
   "pygments_lexer": "ipython3",
   "version": "3.9.7"
  }
 },
 "nbformat": 4,
 "nbformat_minor": 4
}
