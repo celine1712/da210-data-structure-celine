{
 "cells": [
  {
   "attachments": {},
   "cell_type": "markdown",
   "metadata": {},
   "source": [
    "# Denison DA210/CS181 SW Lab #3 - Step 1\n",
    "\n",
    "Before you get your checkpoints, make sure everything runs as expected. This is a combination of **restarting the kernel** and then **running all cells** (in the menubar, select Kernel$\\rightarrow$Restart And Run All).\n",
    "\n",
    "Make sure you fill in any place that says `# YOUR CODE HERE` or \"YOUR ANSWER HERE\"."
   ]
  },
  {
   "cell_type": "markdown",
   "metadata": {},
   "source": [
    "---"
   ]
  },
  {
   "cell_type": "code",
   "execution_count": 1,
   "metadata": {},
   "outputs": [],
   "source": [
    "import os\n",
    "import os.path"
   ]
  },
  {
   "cell_type": "markdown",
   "metadata": {},
   "source": [
    "---\n",
    "\n",
    "## Part A: Converting between representations\n",
    "\n",
    "First, you will convert between the DoL, LoL, and LoD representations."
   ]
  },
  {
   "cell_type": "code",
   "execution_count": 2,
   "metadata": {},
   "outputs": [],
   "source": [
    "topnamesDoL = {'year':  [2018, 2018, 2017, 2017, 2016, 2016, 2015, 2015, 2014, 2014],\n",
    "               'sex':   ['Male', 'Female', 'Male', 'Female', 'Male', 'Female', 'Male', 'Female', 'Male', 'Female'],\n",
    "               'name':  ['Liam', 'Emma', 'Liam', 'Emma', 'Noah', 'Emma', 'Noah', 'Emma', 'Noah', 'Emma'],\n",
    "               'count': [19837, 18688, 18798, 19800, 19117, 19496, 19635, 20455, 19305, 20936]}\n",
    "\n",
    "topnamesLoL = [[2018, 'Male', 'Liam', 19837],\n",
    "               [2018, 'Female', 'Emma', 18688],\n",
    "               [2017, 'Male', 'Liam', 18798],\n",
    "               [2017, 'Female', 'Emma', 19800],\n",
    "               [2016, 'Male', 'Noah', 19117],\n",
    "               [2016, 'Female', 'Emma', 19496],\n",
    "               [2015, 'Male', 'Noah', 19635],\n",
    "               [2015, 'Female', 'Emma', 20455],\n",
    "               [2014, 'Male', 'Noah', 19305],\n",
    "               [2014, 'Female', 'Emma', 20936]]\n",
    "columnNames = ['year', 'sex', 'name', 'count']\n",
    "\n",
    "topnamesLoD = [{'year': 2014, 'sex': 'Female', 'name': 'Emma', 'count': 20936}, \n",
    "               {'year': 2014, 'sex': 'Male', 'name': 'Noah', 'count': 19305}, \n",
    "               {'year': 2015, 'sex': 'Female', 'name': 'Emma', 'count': 20455}, \n",
    "               {'year': 2015, 'sex': 'Male', 'name': 'Noah', 'count': 19635}, \n",
    "               {'year': 2016, 'sex': 'Female', 'name': 'Emma', 'count': 19496}, \n",
    "               {'year': 2016, 'sex': 'Male', 'name': 'Noah', 'count': 19117}, \n",
    "               {'year': 2017, 'sex': 'Female', 'name': 'Emma', 'count': 19800}, \n",
    "               {'year': 2017, 'sex': 'Male', 'name': 'Liam', 'count': 18798}, \n",
    "               {'year': 2018, 'sex': 'Female', 'name': 'Emma', 'count': 18688}, \n",
    "               {'year': 2018, 'sex': 'Male', 'name': 'Liam', 'count': 19837}]"
   ]
  },
  {
   "cell_type": "code",
   "execution_count": 3,
   "metadata": {},
   "outputs": [
    {
     "data": {
      "text/plain": [
       "'**Q1:** Write a function'"
      ]
     },
     "execution_count": 3,
     "metadata": {},
     "output_type": "execute_result"
    }
   ],
   "source": [
    "\"\"\"**Q1:** Write a function\"\"\""
   ]
  },
  {
   "cell_type": "markdown",
   "metadata": {},
   "source": []
  },
  {
   "cell_type": "markdown",
   "metadata": {},
   "source": []
  },
  {
   "cell_type": "code",
   "execution_count": 4,
   "metadata": {},
   "outputs": [],
   "source": [
    "def convertDoL2LoL(list_pattern):\n",
    "    \"\"\"\n",
    "    Converting a data list in a DoL representation to LoL representation.\n",
    "    \"\"\"\n",
    "    headers = [key for key in list_pattern]\n",
    "    lol_lst = []\n",
    "    for index in range(len(list_pattern[\"year\"])):\n",
    "        each = [list_pattern[element][index] for element in headers]\n",
    "        lol_lst.append(each)\n",
    "    return headers, lol_lst"
   ]
  },
  {
   "cell_type": "code",
   "execution_count": 5,
   "metadata": {},
   "outputs": [
    {
     "name": "stdout",
     "output_type": "stream",
     "text": [
      "['year', 'sex', 'name', 'count']\n",
      "[[2018, 'Male', 'Liam', 19837], [2018, 'Female', 'Emma', 18688], [2017, 'Male', 'Liam', 18798], [2017, 'Female', 'Emma', 19800], [2016, 'Male', 'Noah', 19117], [2016, 'Female', 'Emma', 19496], [2015, 'Male', 'Noah', 19635], [2015, 'Female', 'Emma', 20455], [2014, 'Male', 'Noah', 19305], [2014, 'Female', 'Emma', 20936]]\n"
     ]
    }
   ],
   "source": [
    "# Debugging cell\n",
    "columnsLoL, LoL = convertDoL2LoL(topnamesDoL)\n",
    "print(columnsLoL)\n",
    "print(LoL)"
   ]
  },
  {
   "cell_type": "code",
   "execution_count": 6,
   "metadata": {},
   "outputs": [],
   "source": [
    "# Testing cell\n",
    "assert convertDoL2LoL.__doc__ is not None # don't forget the docstring!\n",
    "\n",
    "columnsLoL, LoL = convertDoL2LoL(topnamesDoL)\n",
    "\n",
    "assert len(topnamesDoL) == len(columnsLoL)\n",
    "assert 'year' in columnsLoL\n",
    "assert 'name' in columnsLoL\n",
    "assert 'sex' in columnsLoL\n",
    "assert 'count' in columnsLoL\n",
    "\n",
    "assert len(topnamesDoL['year']) == len(LoL)\n",
    "assert topnamesDoL['year'][0] == LoL[0][columnsLoL.index('year')]\n",
    "assert topnamesDoL['name'][0] == LoL[0][columnsLoL.index('name')]\n",
    "assert topnamesDoL['sex'][0] == LoL[0][columnsLoL.index('sex')]\n",
    "assert topnamesDoL['count'][0] == LoL[0][columnsLoL.index('count')]"
   ]
  },
  {
   "cell_type": "markdown",
   "metadata": {},
   "source": [
    "**Q2:** Write a function\n",
    "```\n",
    "    convertLoL2DoL(columns, LoL)\n",
    "```\n",
    "that converts from a list-of-lists to a dictionary-of-lists, which you return. Here, `columns` is a list of column names (which will become the keys in the DoL), and `LoL` is a LoL."
   ]
  },
  {
   "cell_type": "code",
   "execution_count": 7,
   "metadata": {},
   "outputs": [],
   "source": [
    "def convertLoL2DoL(columns, LoL):\n",
    "    \"\"\"\n",
    "    Takes in a list of data in LoL format and converts it to DoL format.\n",
    "    \"\"\"\n",
    "    DoL = {}\n",
    "    for header in columns: \n",
    "        DoL[header] =\"\"\n",
    "    DoL[\"year\"] = [row[0] for row in LoL]\n",
    "    DoL[\"sex\"] = [row[1] for row in LoL]\n",
    "    DoL[\"name\"] = [row[2] for row in LoL]\n",
    "    DoL[\"count\"] = [row[3] for row in LoL]\n",
    "    return DoL\n"
   ]
  },
  {
   "cell_type": "code",
   "execution_count": 8,
   "metadata": {},
   "outputs": [
    {
     "name": "stdout",
     "output_type": "stream",
     "text": [
      "{'year': [2018, 2018, 2017, 2017, 2016, 2016, 2015, 2015, 2014, 2014], 'sex': ['Male', 'Female', 'Male', 'Female', 'Male', 'Female', 'Male', 'Female', 'Male', 'Female'], 'name': ['Liam', 'Emma', 'Liam', 'Emma', 'Noah', 'Emma', 'Noah', 'Emma', 'Noah', 'Emma'], 'count': [19837, 18688, 18798, 19800, 19117, 19496, 19635, 20455, 19305, 20936]}\n"
     ]
    }
   ],
   "source": [
    "# Debugging cell\n",
    "DoL = convertLoL2DoL(columnNames, topnamesLoL)\n",
    "print(DoL)"
   ]
  },
  {
   "cell_type": "code",
   "execution_count": 9,
   "metadata": {},
   "outputs": [],
   "source": [
    "# Testing cell\n",
    "assert convertLoL2DoL.__doc__ is not None # don't forget the docstring!\n",
    "\n",
    "DoL = convertLoL2DoL(columnNames, topnamesLoL)\n",
    "\n",
    "assert len(DoL) == len(columnNames)\n",
    "assert 'year' in columnNames\n",
    "assert 'name' in columnNames\n",
    "assert 'sex' in columnNames\n",
    "assert 'count' in columnNames\n",
    "\n",
    "assert len(DoL['year']) == len(topnamesLoL)\n",
    "assert DoL['year'][0] == topnamesLoL[0][columnNames.index('year')]\n",
    "assert DoL['name'][0] == topnamesLoL[0][columnNames.index('name')]\n",
    "assert DoL['sex'][0] == topnamesLoL[0][columnNames.index('sex')]\n",
    "assert DoL['count'][0] == topnamesLoL[0][columnNames.index('count')]"
   ]
  },
  {
   "cell_type": "markdown",
   "metadata": {},
   "source": [
    "**Q3:** Write a function\n",
    "```\n",
    "    convertLoL2LoD(columns, LoL)\n",
    "```\n",
    "that converts from a list-of-lists to a list-of-dictionaries, which you return. Here, `columns` is a list of column names (which will become the keys in the LoD), and `LoL` is a LoL."
   ]
  },
  {
   "cell_type": "code",
   "execution_count": 10,
   "metadata": {},
   "outputs": [],
   "source": [
    "def convertLoL2LoD(columns, LoL): \n",
    "    \"\"\"\n",
    "    Takes in a list of data in LoL format and converts it to LoD format.\n",
    "    \"\"\"\n",
    "    LoD = [] \n",
    "    for row in range(len(LoL)):\n",
    "        dict = {} \n",
    "        x = 0\n",
    "        for header in columns: \n",
    "            dict[header] = LoL[row][x]\n",
    "            x = x+1\n",
    "        LoD.append(dict)\n",
    "    return LoD"
   ]
  },
  {
   "cell_type": "code",
   "execution_count": 11,
   "metadata": {},
   "outputs": [
    {
     "name": "stdout",
     "output_type": "stream",
     "text": [
      "[{'year': 2018, 'sex': 'Male', 'name': 'Liam', 'count': 19837}, {'year': 2018, 'sex': 'Female', 'name': 'Emma', 'count': 18688}, {'year': 2017, 'sex': 'Male', 'name': 'Liam', 'count': 18798}, {'year': 2017, 'sex': 'Female', 'name': 'Emma', 'count': 19800}, {'year': 2016, 'sex': 'Male', 'name': 'Noah', 'count': 19117}, {'year': 2016, 'sex': 'Female', 'name': 'Emma', 'count': 19496}, {'year': 2015, 'sex': 'Male', 'name': 'Noah', 'count': 19635}, {'year': 2015, 'sex': 'Female', 'name': 'Emma', 'count': 20455}, {'year': 2014, 'sex': 'Male', 'name': 'Noah', 'count': 19305}, {'year': 2014, 'sex': 'Female', 'name': 'Emma', 'count': 20936}]\n"
     ]
    }
   ],
   "source": [
    "# Debugging cell\n",
    "LoD = convertLoL2LoD(columnNames, topnamesLoL)\n",
    "print(LoD)"
   ]
  },
  {
   "cell_type": "code",
   "execution_count": 12,
   "metadata": {},
   "outputs": [],
   "source": [
    "# Testing cell\n",
    "assert convertLoL2LoD.__doc__ is not None # don't forget the docstring!\n",
    "\n",
    "LoD = convertLoL2LoD(columnNames, topnamesLoL)\n",
    "\n",
    "assert len(LoD) == len(topnamesLoL)\n",
    "assert isinstance(LoD[0], dict)\n",
    "\n",
    "assert len(LoD[0]) == len(columnNames)\n",
    "assert LoD[0]['year'] == topnamesLoL[0][columnNames.index('year')]\n",
    "assert LoD[0]['name'] == topnamesLoL[0][columnNames.index('name')]\n",
    "assert LoD[0]['sex'] == topnamesLoL[0][columnNames.index('sex')]\n",
    "assert LoD[0]['count'] == topnamesLoL[0][columnNames.index('count')]"
   ]
  },
  {
   "attachments": {},
   "cell_type": "markdown",
   "metadata": {},
   "source": [
    "> You've reached the first checkpoint in the lab.  Make sure to have it signed off by the instructor or TA.\n",
    ">\n",
    "> Checkpoint 1: If you wanted to convert from an LoD to a DoL, which of the above three functions would this process most be like?  Which would it least be like?"
   ]
  },
  {
   "cell_type": "markdown",
   "metadata": {},
   "source": [
    "---\n",
    "\n",
    "## Part B: Dropping a column\n",
    "\n",
    "**Q4:** Write a function\n",
    "\n",
    "```\n",
    "    dropColumnDoL(DoL, columnName)\n",
    "```\n",
    "\n",
    "that drops the column specified by `columnName` from the dictionary-of-lists representation given in `DoL`.  This should be done \"in place\".\n",
    "\n",
    "If `columnName` does not refer to one of the columns in `DoL`, the function should simply return."
   ]
  },
  {
   "cell_type": "code",
   "execution_count": 13,
   "metadata": {},
   "outputs": [],
   "source": [
    "def dropColumnDoL(DoL, columnName): \n",
    "    \"\"\"\n",
    "    Deleting the input column from the input DoL data. \n",
    "    \"\"\"\n",
    "    for key in DoL: # if columnName in DoL\n",
    "        if key == columnName: \n",
    "            del DoL[columnName] "
   ]
  },
  {
   "cell_type": "code",
   "execution_count": 14,
   "metadata": {},
   "outputs": [
    {
     "name": "stdout",
     "output_type": "stream",
     "text": [
      "{'year': [2018, 2018, 2017, 2017, 2016, 2016, 2015, 2015, 2014, 2014], 'name': ['Liam', 'Emma', 'Liam', 'Emma', 'Noah', 'Emma', 'Noah', 'Emma', 'Noah', 'Emma'], 'count': [19837, 18688, 18798, 19800, 19117, 19496, 19635, 20455, 19305, 20936]}\n"
     ]
    }
   ],
   "source": [
    "# Debugging cell\n",
    "DoL = {'year':  [2018, 2018, 2017, 2017, 2016, 2016, 2015, 2015, 2014, 2014],\n",
    "       'sex':   ['Male', 'Female', 'Male', 'Female', 'Male', 'Female', 'Male', 'Female', 'Male', 'Female'],\n",
    "       'name':  ['Liam', 'Emma', 'Liam', 'Emma', 'Noah', 'Emma', 'Noah', 'Emma', 'Noah', 'Emma'],\n",
    "       'count': [19837, 18688, 18798, 19800, 19117, 19496, 19635, 20455, 19305, 20936]}\n",
    "\n",
    "dropColumnDoL(DoL, 'sex')\n",
    "print(DoL)"
   ]
  },
  {
   "cell_type": "code",
   "execution_count": 15,
   "metadata": {},
   "outputs": [],
   "source": [
    "# Testing cell\n",
    "assert dropColumnDoL.__doc__ is not None # don't forget the docstring!\n",
    "\n",
    "DoL = {'year':  [2018, 2018, 2017, 2017, 2016, 2016, 2015, 2015, 2014, 2014],\n",
    "       'sex':   ['Male', 'Female', 'Male', 'Female', 'Male', 'Female', 'Male', 'Female', 'Male', 'Female'],\n",
    "       'name':  ['Liam', 'Emma', 'Liam', 'Emma', 'Noah', 'Emma', 'Noah', 'Emma', 'Noah', 'Emma'],\n",
    "       'count': [19837, 18688, 18798, 19800, 19117, 19496, 19635, 20455, 19305, 20936]}\n",
    "\n",
    "dropColumnDoL(DoL, 'count')\n",
    "assert len(DoL) == 3\n",
    "assert \"count\" not in DoL\n",
    "\n",
    "assert len(DoL[\"year\"]) == 10\n",
    "assert len(DoL[\"sex\"]) == 10\n",
    "assert len(DoL[\"name\"]) == 10\n",
    "\n",
    "dropColumnDoL(DoL, 'fakecolumn')\n",
    "assert \"year\" in DoL\n",
    "assert \"sex\" in DoL\n",
    "assert \"name\" in DoL"
   ]
  },
  {
   "cell_type": "markdown",
   "metadata": {},
   "source": [
    "**Q5:** Write a function\n",
    "\n",
    "```\n",
    "    dropColumnLoL(LoL, columns, columnName)\n",
    "``` \n",
    "that drops the column specified by `columnName` from the list-of-lists representation given in `LoL`.  This should be done \"in place\" and should **not** assume the topnames columns, but rather use the list of columns specified in `columns` to determine which column to drop."
   ]
  },
  {
   "cell_type": "code",
   "execution_count": 16,
   "metadata": {},
   "outputs": [],
   "source": [
    "def dropColumnLoL(LoL, columns, columnName): \n",
    "    \"\"\"ArithmeticError\n",
    "    \"\"\"\n",
    "    \n",
    "    index = 0\n",
    "    for header in columns: \n",
    "        if header != columnName and index <= len(columns):\n",
    "            index = index + 1\n",
    "        elif header == columnName:\n",
    "            del columns[index]\n",
    "            for row in LoL: \n",
    "                del row[index]  #list.find or list.index\n",
    "        else: \n",
    "            return None\n",
    "    "
   ]
  },
  {
   "cell_type": "code",
   "execution_count": 17,
   "metadata": {},
   "outputs": [
    {
     "name": "stdout",
     "output_type": "stream",
     "text": [
      "['year', 'name', 'count']\n",
      "[[2018, 'Liam', 19837], [2018, 'Emma', 18688], [2017, 'Liam', 18798], [2017, 'Emma', 19800], [2016, 'Noah', 19117], [2016, 'Emma', 19496], [2015, 'Noah', 19635], [2015, 'Emma', 20455], [2014, 'Noah', 19305], [2014, 'Emma', 20936]]\n"
     ]
    }
   ],
   "source": [
    "# Debugging cell\n",
    "LoL = [[2018, 'Male', 'Liam', 19837],\n",
    "       [2018, 'Female', 'Emma', 18688],\n",
    "       [2017, 'Male', 'Liam', 18798],\n",
    "       [2017, 'Female', 'Emma', 19800],\n",
    "       [2016, 'Male', 'Noah', 19117],\n",
    "       [2016, 'Female', 'Emma', 19496],\n",
    "       [2015, 'Male', 'Noah', 19635],\n",
    "       [2015, 'Female', 'Emma', 20455],\n",
    "       [2014, 'Male', 'Noah', 19305],\n",
    "       [2014, 'Female', 'Emma', 20936]]\n",
    "columns = ['year', 'sex', 'name', 'count']\n",
    "\n",
    "dropColumnLoL(LoL, columns, 'sex')\n",
    "print(columns)\n",
    "print(LoL)"
   ]
  },
  {
   "cell_type": "code",
   "execution_count": 18,
   "metadata": {},
   "outputs": [],
   "source": [
    "# Testing cell\n",
    "assert dropColumnLoL.__doc__ is not None # don't forget the docstring!\n",
    "\n",
    "LoL = [[2018, 'Male', 'Liam', 19837],\n",
    "       [2018, 'Female', 'Emma', 18688],\n",
    "       [2017, 'Male', 'Liam', 18798],\n",
    "       [2017, 'Female', 'Emma', 19800],\n",
    "       [2016, 'Male', 'Noah', 19117],\n",
    "       [2016, 'Female', 'Emma', 19496],\n",
    "       [2015, 'Male', 'Noah', 19635],\n",
    "       [2015, 'Female', 'Emma', 20455],\n",
    "       [2014, 'Male', 'Noah', 19305],\n",
    "       [2014, 'Female', 'Emma', 20936]]\n",
    "columns = ['year', 'sex', 'name', 'count']\n",
    "\n",
    "dropColumnLoL(LoL, columns, 'count')\n",
    "assert len(LoL) == 10\n",
    "assert isinstance(LoL[0], list)\n",
    "assert len(LoL[0]) == 3\n",
    "assert LoL[0] == [2018, 'Male', 'Liam']\n",
    "assert 'count' not in columns\n",
    "\n",
    "dropColumnLoL(LoL, columns, 'fakecolumn')\n",
    "assert len(LoL) == 10\n",
    "assert isinstance(LoL[0], list)\n",
    "assert len(LoL[0]) == 3\n",
    "assert LoL[0] == [2018, 'Male', 'Liam']\n",
    "assert 'year' in columns\n",
    "assert 'sex' in columns\n",
    "assert 'name' in columns\n"
   ]
  },
  {
   "cell_type": "markdown",
   "metadata": {},
   "source": [
    "**Q6:** Write a function\n",
    "\n",
    "```\n",
    "    dropColumnLoD(LoD, columnName)\n",
    "``` \n",
    "that drops the column specified by `columnName` from the list-of-dictionaries representation given in `LoD`.  This should be done \"in place\" and should **not** assume any particular columns.\n",
    "\n",
    "If `columnName` does not refer to one of the columns in `LoD`, the function should simply return."
   ]
  },
  {
   "cell_type": "code",
   "execution_count": 19,
   "metadata": {},
   "outputs": [],
   "source": [
    "def dropColumnLoD(LoD, columnName): \n",
    "    \"\"\"\n",
    "    Removes the key named as the input columnName out of the LoD list. \n",
    "    \"\"\"\n",
    "    f_row = LoD[0]\n",
    "    if columnName in f_row:\n",
    "        for element in LoD:\n",
    "            del element[columnName]"
   ]
  },
  {
   "cell_type": "code",
   "execution_count": 20,
   "metadata": {},
   "outputs": [
    {
     "name": "stdout",
     "output_type": "stream",
     "text": [
      "[{'year': 2014, 'name': 'Emma', 'count': 20936}, {'year': 2014, 'name': 'Noah', 'count': 19305}, {'year': 2015, 'name': 'Emma', 'count': 20455}, {'year': 2015, 'name': 'Noah', 'count': 19635}, {'year': 2016, 'name': 'Emma', 'count': 19496}, {'year': 2016, 'name': 'Noah', 'count': 19117}, {'year': 2017, 'name': 'Emma', 'count': 19800}, {'year': 2017, 'name': 'Liam', 'count': 18798}, {'year': 2018, 'name': 'Emma', 'count': 18688}, {'year': 2018, 'name': 'Liam', 'count': 19837}]\n"
     ]
    }
   ],
   "source": [
    "# Debugging cell\n",
    "LoD = [{'year': 2014, 'sex': 'Female', 'name': 'Emma', 'count': 20936}, \n",
    "       {'year': 2014, 'sex': 'Male', 'name': 'Noah', 'count': 19305}, \n",
    "       {'year': 2015, 'sex': 'Female', 'name': 'Emma', 'count': 20455}, \n",
    "       {'year': 2015, 'sex': 'Male', 'name': 'Noah', 'count': 19635}, \n",
    "       {'year': 2016, 'sex': 'Female', 'name': 'Emma', 'count': 19496}, \n",
    "       {'year': 2016, 'sex': 'Male', 'name': 'Noah', 'count': 19117}, \n",
    "       {'year': 2017, 'sex': 'Female', 'name': 'Emma', 'count': 19800}, \n",
    "       {'year': 2017, 'sex': 'Male', 'name': 'Liam', 'count': 18798}, \n",
    "       {'year': 2018, 'sex': 'Female', 'name': 'Emma', 'count': 18688}, \n",
    "       {'year': 2018, 'sex': 'Male', 'name': 'Liam', 'count': 19837}]\n",
    "dropColumnLoD(LoD, 'sex')\n",
    "print(LoD)"
   ]
  },
  {
   "cell_type": "code",
   "execution_count": 21,
   "metadata": {},
   "outputs": [],
   "source": [
    "# Testing cell\n",
    "assert dropColumnLoD.__doc__ is not None # don't forget the docstring!\n",
    "\n",
    "LoD = [{'year': 2014, 'sex': 'Female', 'name': 'Emma', 'count': 20936}, \n",
    "       {'year': 2014, 'sex': 'Male', 'name': 'Noah', 'count': 19305}, \n",
    "       {'year': 2015, 'sex': 'Female', 'name': 'Emma', 'count': 20455}, \n",
    "       {'year': 2015, 'sex': 'Male', 'name': 'Noah', 'count': 19635}, \n",
    "       {'year': 2016, 'sex': 'Female', 'name': 'Emma', 'count': 19496}, \n",
    "       {'year': 2016, 'sex': 'Male', 'name': 'Noah', 'count': 19117}, \n",
    "       {'year': 2017, 'sex': 'Female', 'name': 'Emma', 'count': 19800}, \n",
    "       {'year': 2017, 'sex': 'Male', 'name': 'Liam', 'count': 18798}, \n",
    "       {'year': 2018, 'sex': 'Female', 'name': 'Emma', 'count': 18688}, \n",
    "       {'year': 2018, 'sex': 'Male', 'name': 'Liam', 'count': 19837}]\n",
    "\n",
    "dropColumnLoD(LoD, 'count')\n",
    "assert len(LoD) == 10\n",
    "assert isinstance(LoD[0], dict)\n",
    "assert len(LoD[0]) == 3\n",
    "assert 'count' not in LoD[0]\n",
    "\n",
    "dropColumnLoD(LoD, \"fakecolumn\")\n",
    "assert len(LoD) == 10\n",
    "assert isinstance(LoD[0], dict)\n",
    "assert len(LoD[0]) == 3\n",
    "assert \"year\" in LoD[0]\n",
    "assert \"sex\" in LoD[0]\n",
    "assert \"name\" in LoD[0]"
   ]
  },
  {
   "attachments": {},
   "cell_type": "markdown",
   "metadata": {},
   "source": [
    "> You've reached the second and final checkpoint in the lab.  Make sure to have it signed off by the instructor or TA.\n",
    ">\n",
    "> Checkpoint 2: Which data representation would you prefer if you knew you may have to add or remove columns from your dataset? What if the columns were fixed, but you may have to add or remove rows?"
   ]
  },
  {
   "cell_type": "markdown",
   "metadata": {},
   "source": [
    "---\n",
    "\n",
    "---\n",
    "## Part C\n",
    "\n",
    "How much time (in minutes/hours) did you spend on this lab outside of class?"
   ]
  },
  {
   "attachments": {},
   "cell_type": "markdown",
   "metadata": {},
   "source": [
    "20 minutes "
   ]
  }
 ],
 "metadata": {
  "kernelspec": {
   "display_name": "Python 3",
   "language": "python",
   "name": "python3"
  },
  "language_info": {
   "codemirror_mode": {
    "name": "ipython",
    "version": 3
   },
   "file_extension": ".py",
   "mimetype": "text/x-python",
   "name": "python",
   "nbconvert_exporter": "python",
   "pygments_lexer": "ipython3",
   "version": "3.10.6 (v3.10.6:9c7b4bd164, Aug  1 2022, 17:13:48) [Clang 13.0.0 (clang-1300.0.29.30)]"
  },
  "orig_nbformat": 4,
  "vscode": {
   "interpreter": {
    "hash": "aee8b7b246df8f9039afb4144a1f6fd8d2ca17a180786b69acc140d282b71a49"
   }
  }
 },
 "nbformat": 4,
 "nbformat_minor": 2
}
