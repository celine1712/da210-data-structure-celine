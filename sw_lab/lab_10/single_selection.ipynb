{
 "cells": [
  {
   "attachments": {},
   "cell_type": "markdown",
   "metadata": {},
   "source": [
    "# Denison DA210/CS181 SW Lab #10 - Step 1\n",
    "\n",
    "Before you get your checkpoints, make sure everything runs as expected. This is a combination of **restarting the kernel** and then **running all cells**.\n",
    "\n",
    "Make sure you fill in any place that says `# YOUR CODE HERE` or \"YOUR ANSWER HERE\"."
   ]
  },
  {
   "cell_type": "markdown",
   "metadata": {},
   "source": [
    "---"
   ]
  },
  {
   "cell_type": "markdown",
   "metadata": {},
   "source": [
    "#### Import Python modules and load \"SQL Magic\""
   ]
  },
  {
   "cell_type": "code",
   "execution_count": null,
   "metadata": {
    "deletable": false,
    "editable": false,
    "nbgrader": {
     "cell_type": "code",
     "checksum": "2c15bf49fe13507b473a89ebc6ffdea5",
     "grade": false,
     "grade_id": "cell-b9abcf27cf7faf8f",
     "locked": true,
     "schema_version": 3,
     "solution": false,
     "task": false
    }
   },
   "outputs": [],
   "source": [
    "import pandas as pd\n",
    "import os\n",
    "import os.path\n",
    "import json\n",
    "import sys\n",
    "import importlib\n",
    "\n",
    "module_dir = \"../../modules\"\n",
    "module_path = os.path.abspath(module_dir)\n",
    "if not module_path in sys.path:\n",
    "    sys.path.append(module_path)\n",
    "\n",
    "%load_ext sql"
   ]
  },
  {
   "cell_type": "code",
   "execution_count": null,
   "metadata": {},
   "outputs": [],
   "source": [
    "def getsqlite_creds(dirname=\".\",filename=\"creds.json\"):\n",
    "    \"\"\" Using directory and filename parameters, open a credentials file\n",
    "        and obtain the two parts needed for a connection string to\n",
    "        a local provider using the \"sqlite\" dictionary within\n",
    "        an outer dictionary.  \n",
    "        \n",
    "        Return a scheme and a dbfile\n",
    "    \"\"\"\n",
    "    assert os.path.isfile(os.path.join(dirname, filename))\n",
    "    with open(os.path.join(dirname, filename)) as f:\n",
    "        D = json.load(f)\n",
    "    sqlite = D[\"sqlite1\"]\n",
    "    return sqlite[\"scheme\"], sqlite[\"dbdir\"], sqlite[\"database\"]"
   ]
  },
  {
   "cell_type": "code",
   "execution_count": null,
   "metadata": {},
   "outputs": [],
   "source": [
    "scheme, dbdir, database = getsqlite_creds()\n",
    "template = '{}:///{}/{}.db'\n",
    "cstring = template.format(scheme, dbdir, database)\n",
    "print(\"Connection string:\", cstring)"
   ]
  },
  {
   "cell_type": "markdown",
   "metadata": {},
   "source": [
    "#### Establish Connection from Client to Server"
   ]
  },
  {
   "cell_type": "code",
   "execution_count": null,
   "metadata": {},
   "outputs": [],
   "source": [
    "%sql $cstring"
   ]
  },
  {
   "cell_type": "markdown",
   "metadata": {},
   "source": [
    "---\n",
    "\n",
    "# Part A: SQL Grammar (Recap)\n",
    "\n",
    "So far, we have seen the following SQL grammar:\n",
    "\n",
    "```\n",
    "    SELECT field-spec\n",
    "    FROM table-spec\n",
    "    [order-clause]\n",
    "    [limit-clause]\n",
    "```\n",
    "\n",
    "For example, we may want to project the `pop` and `gdp` columns from `indicators`, but only for the country/year combinations with the 5 highest life expectancies:\n",
    "\n",
    "```SQL\n",
    "    SELECT pop AS Population, gdp AS GDP\n",
    "    FROM indicators\n",
    "    ORDER BY life DESC\n",
    "    LIMIT 5\n",
    "```"
   ]
  },
  {
   "cell_type": "markdown",
   "metadata": {},
   "source": [
    "We can execute this command using a single-line SQL statement, as follows:"
   ]
  },
  {
   "cell_type": "code",
   "execution_count": null,
   "metadata": {},
   "outputs": [],
   "source": [
    "%sql SELECT pop AS Population, gdp AS GDP FROM indicators ORDER BY life DESC LIMIT 5"
   ]
  },
  {
   "cell_type": "markdown",
   "metadata": {},
   "source": [
    "That's pretty hard to read, so we can instead build our SQL query as a multi-line Python string, and pass that string to the \"SQL magic\":"
   ]
  },
  {
   "cell_type": "code",
   "execution_count": null,
   "metadata": {},
   "outputs": [],
   "source": [
    "query = \"\"\"\n",
    "SELECT pop AS Population, gdp AS GDP\n",
    "FROM indicators\n",
    "ORDER BY life DESC\n",
    "LIMIT 5\n",
    "\"\"\"\n",
    "\n",
    "%sql $query"
   ]
  },
  {
   "cell_type": "markdown",
   "metadata": {},
   "source": [
    "---\n",
    "\n",
    "# Part B: SQL Single-Table Selection and Row Filtering\n",
    "\n",
    "We can expand on the multi-column projection queries we've looked at so far to include filtering based on the values in a given field (column).\n",
    "\n",
    "As a simple example, we can select only the distinct values of a given field.  To do so, we'll add an optional `DISTINCT` keyword to our grammar (recall that `[]` indicate that the contents are optional):\n",
    "```\n",
    "    SELECT [DISTINCT] field-spec\n",
    "    FROM table-spec\n",
    "    [order-clause]\n",
    "    [limit-clause]\n",
    "```\n",
    "\n",
    "For example, we may want the unique country codes from the `indicators` table in the `book` database:"
   ]
  },
  {
   "cell_type": "code",
   "execution_count": null,
   "metadata": {},
   "outputs": [],
   "source": [
    "query = \"\"\"\n",
    "SELECT DISTINCT code\n",
    "FROM indicators\n",
    "\"\"\"\n",
    "\n",
    "# Get the results as a DataFrame so we don't have to view the whole thing (it's long)\n",
    "resultset = %sql $query\n",
    "resultdf = resultset.DataFrame()\n",
    "resultdf"
   ]
  },
  {
   "cell_type": "markdown",
   "metadata": {},
   "source": [
    "Alternatively, we could filter based on a filter condition.  For this, we'll add one new clause to our grammar:\n",
    "```\n",
    "    SELECT [DISTINCT] field-spec\n",
    "    FROM table-spec\n",
    "    [WHERE [NOT] filter-cond]\n",
    "    [order-clause]\n",
    "    [limit-clause]\n",
    "```\n",
    "\n",
    "We will look at several types of filter conditions:\n",
    "1. Binary operations and Booleans\n",
    "2. Range of values\n",
    "3. In a set\n",
    "4. Like (matching) a pattern\n",
    "5. Null/not null"
   ]
  },
  {
   "cell_type": "markdown",
   "metadata": {},
   "source": [
    "### 1. Binary operations/Booleans\n",
    "\n",
    "Filter conditions using binary operations and Booleans have the form `expr op expr`, using the following possible choices for `op`: `=`, `<>`, `<`, `>`, `<=`, `>=`, `NOT`, `AND`, `OR`.\n",
    "\n",
    "For example:"
   ]
  },
  {
   "cell_type": "code",
   "execution_count": null,
   "metadata": {},
   "outputs": [],
   "source": [
    "query = \"\"\"\n",
    "SELECT code, pop\n",
    "FROM indicators\n",
    "WHERE gdp > 5000 AND year = 2012\n",
    "\"\"\"\n",
    "\n",
    "%sql $query"
   ]
  },
  {
   "cell_type": "code",
   "execution_count": null,
   "metadata": {},
   "outputs": [],
   "source": [
    "query = \"\"\"\n",
    "SELECT name, count\n",
    "FROM topnames\n",
    "WHERE year >= 2015 AND year < 2018 AND sex <> 'Female'\n",
    "\"\"\"\n",
    "\n",
    "%sql $query"
   ]
  },
  {
   "cell_type": "markdown",
   "metadata": {},
   "source": [
    "### 2. Range of values\n",
    "\n",
    "The last example above could be simplified by instead specifying that we want the year between `2015` and `2017`.  We can do that using a range clause:\n",
    "\n",
    "```\n",
    "    range-clause |= expr [NOT] BETWEEN low AND high\n",
    "```\n",
    "\n",
    "For example:"
   ]
  },
  {
   "cell_type": "code",
   "execution_count": null,
   "metadata": {},
   "outputs": [],
   "source": [
    "query = \"\"\"\n",
    "SELECT name, count\n",
    "FROM topnames\n",
    "WHERE (year BETWEEN 2015 AND 2017) AND sex <> 'Female'\n",
    "\"\"\"\n",
    "\n",
    "%sql $query"
   ]
  },
  {
   "cell_type": "markdown",
   "metadata": {},
   "source": [
    "### 3. In a set\n",
    "\n",
    "If we instead want to find the records for which a given value is one of a set, we can use an `IN` clause:\n",
    "\n",
    "```\n",
    "    in-clause |= expr [NOT] IN (set-members)\n",
    "```\n",
    "\n",
    "For example:"
   ]
  },
  {
   "cell_type": "code",
   "execution_count": null,
   "metadata": {},
   "outputs": [],
   "source": [
    "query = \"\"\"\n",
    "SELECT code, pop\n",
    "FROM indicators\n",
    "WHERE year = 2017 AND code IN ('VNM', 'KOR')\n",
    "\"\"\"\n",
    "\n",
    "%sql $query"
   ]
  },
  {
   "cell_type": "markdown",
   "metadata": {},
   "source": [
    "### 4. Like (matching) a pattern\n",
    "\n",
    "If we want the records for which a given value matches part of a string pattern, we can use a `LIKE` clause:\n",
    "\n",
    "```\n",
    "    like-clause |= expr [NOT] LIKE pattern\n",
    "```\n",
    "\n",
    "With a `LIKE` clause, we can use either `%` to match multiple characters or `_` to match a single character.\n",
    "\n",
    "For example:"
   ]
  },
  {
   "cell_type": "code",
   "execution_count": null,
   "metadata": {},
   "outputs": [],
   "source": [
    "query = \"\"\"\n",
    "SELECT code, country, region\n",
    "FROM countries\n",
    "WHERE country LIKE '%Republic' OR code LIKE '_ZA'\n",
    "\"\"\"\n",
    "\n",
    "%sql $query"
   ]
  },
  {
   "cell_type": "markdown",
   "metadata": {},
   "source": [
    "### 5. Null/not null\n",
    "\n",
    "If we want the records for which a given value is or is not missing, we can use a `NULL` clause:\n",
    "\n",
    "```\n",
    "    null-clause |= expr IS [NOT] NULL\n",
    "```\n",
    "\n",
    "For example:"
   ]
  },
  {
   "cell_type": "code",
   "execution_count": null,
   "metadata": {},
   "outputs": [],
   "source": [
    "query = \"\"\"\n",
    "SELECT code, country, land\n",
    "FROM countries\n",
    "WHERE land IS NULL\n",
    "\"\"\"\n",
    "\n",
    "%sql $query"
   ]
  },
  {
   "cell_type": "markdown",
   "metadata": {},
   "source": [
    "---\n",
    "\n",
    "## Part C: Try it yourself\n",
    "\n",
    "In the following cells, your only action is to remove the `# YOUR CODE HERE` and `raise NotImplementedError()` lines, and then put a valid SQL statement as the **value** of string variable `query`.\n",
    "\n",
    "In each case, when you execute the cell, the query will be sent to the database management system, a result obtained, and the result converted into a `pandas` data frame, whose prefix is shown.  (This allows for testing the results as well as displaying them in your Jupyter Notebook.)\n",
    "\n",
    "_Note: you may want to view the `book` database in SQLiteStudio to get an idea of what the field names are as you work through these exercises.  Alternatively, start by adding a few code cells to perform a `SELECT * FROM tablename` query for each table name._"
   ]
  },
  {
   "cell_type": "markdown",
   "metadata": {},
   "source": [
    "**Q1:** Using the table `indicators`, write a query to find all unique years that appear in the table."
   ]
  },
  {
   "cell_type": "code",
   "execution_count": null,
   "metadata": {
    "deletable": false,
    "nbgrader": {
     "cell_type": "code",
     "checksum": "83bb5273140026e216e5bc7b793bdae6",
     "grade": false,
     "grade_id": "cell-f9ead8b8eaedc383",
     "locked": false,
     "schema_version": 3,
     "solution": true,
     "task": false
    }
   },
   "outputs": [],
   "source": [
    "query = \"\"\"\n",
    "\"\"\"\n",
    "# YOUR CODE HERE\n",
    "raise NotImplementedError()\n",
    "\n",
    "resultset1 = %sql $query\n",
    "resultdf1 = resultset1.DataFrame()\n",
    "resultdf1.head()"
   ]
  },
  {
   "cell_type": "code",
   "execution_count": null,
   "metadata": {
    "deletable": false,
    "editable": false,
    "nbgrader": {
     "cell_type": "code",
     "checksum": "a7b33be2a9489eceb640fe8460d18c1f",
     "grade": true,
     "grade_id": "cell-75b551f8ba091620",
     "locked": true,
     "points": 1,
     "schema_version": 3,
     "solution": false,
     "task": false
    }
   },
   "outputs": [],
   "source": [
    "# Testing cell\n",
    "assert len(resultdf1) == 59"
   ]
  },
  {
   "cell_type": "markdown",
   "metadata": {
    "deletable": false,
    "editable": false,
    "nbgrader": {
     "cell_type": "markdown",
     "checksum": "f89008f983e63a1061307fecc2ead44b",
     "grade": false,
     "grade_id": "cell-eccff0b8eaa18444",
     "locked": true,
     "schema_version": 3,
     "solution": false,
     "task": false
    }
   },
   "source": [
    "**Q2:** Using the table `indicators`, write a query to find all rows (you can select all fields for these rows) with no missing data for `gdp`."
   ]
  },
  {
   "cell_type": "code",
   "execution_count": null,
   "metadata": {
    "deletable": false,
    "nbgrader": {
     "cell_type": "code",
     "checksum": "57d21e9dae9dc410cf0faf51dc4e5a18",
     "grade": false,
     "grade_id": "cell-8d26bc71587f0ad2",
     "locked": false,
     "schema_version": 3,
     "solution": true,
     "task": false
    }
   },
   "outputs": [],
   "source": [
    "query = \"\"\"\n",
    "\"\"\"\n",
    "# YOUR CODE HERE\n",
    "raise NotImplementedError()\n",
    "\n",
    "resultset2 = %sql $query\n",
    "resultdf2 = resultset2.DataFrame()\n",
    "resultdf2.head()"
   ]
  },
  {
   "cell_type": "code",
   "execution_count": null,
   "metadata": {
    "deletable": false,
    "editable": false,
    "nbgrader": {
     "cell_type": "code",
     "checksum": "80f218d57fd221b2c0d6fa6d19ac5054",
     "grade": true,
     "grade_id": "cell-319bea24e24ab653",
     "locked": true,
     "points": 1,
     "schema_version": 3,
     "solution": false,
     "task": false
    }
   },
   "outputs": [],
   "source": [
    "# Testing cell\n",
    "assert len(resultdf2) == 9660"
   ]
  },
  {
   "cell_type": "markdown",
   "metadata": {
    "deletable": false,
    "editable": false,
    "nbgrader": {
     "cell_type": "markdown",
     "checksum": "537f62bfb67e5151b5f25d2e6b42f8af",
     "grade": false,
     "grade_id": "cell-56366d5929ce7c6f",
     "locked": true,
     "schema_version": 3,
     "solution": false,
     "task": false
    }
   },
   "source": [
    "**Q3:** Using the table `indicators`, write a query to find all rows with no missing data for any of the numeric fields."
   ]
  },
  {
   "cell_type": "code",
   "execution_count": null,
   "metadata": {
    "deletable": false,
    "nbgrader": {
     "cell_type": "code",
     "checksum": "319ae0f58417bbd0c69e0618253cb191",
     "grade": false,
     "grade_id": "cell-4d28f2b86a379c2a",
     "locked": false,
     "schema_version": 3,
     "solution": true,
     "task": false
    }
   },
   "outputs": [],
   "source": [
    "query = \"\"\"\n",
    "\"\"\"\n",
    "# YOUR CODE HERE\n",
    "raise NotImplementedError()\n",
    "\n",
    "resultset3 = %sql $query\n",
    "resultdf3 = resultset3.DataFrame()\n",
    "resultdf3.head()"
   ]
  },
  {
   "cell_type": "code",
   "execution_count": null,
   "metadata": {
    "deletable": false,
    "editable": false,
    "nbgrader": {
     "cell_type": "code",
     "checksum": "ca9de682d64d7d7262450f18d5ebc81e",
     "grade": true,
     "grade_id": "cell-35b9f207c1ff90ce",
     "locked": true,
     "points": 2,
     "schema_version": 3,
     "solution": false,
     "task": false
    }
   },
   "outputs": [],
   "source": [
    "# Testing cell\n",
    "assert len(resultdf3) == 6958"
   ]
  },
  {
   "cell_type": "markdown",
   "metadata": {},
   "source": [
    "**Q4:** Using the table `indicators`, write a query to find all rows where exports is higher than imports. Select all fields for such rows."
   ]
  },
  {
   "cell_type": "code",
   "execution_count": null,
   "metadata": {
    "deletable": false,
    "nbgrader": {
     "cell_type": "code",
     "checksum": "6b9e0590bb1361916a9ed5b9ee4641cc",
     "grade": false,
     "grade_id": "cell-581f30f531cc251e",
     "locked": false,
     "schema_version": 3,
     "solution": true,
     "task": false
    }
   },
   "outputs": [],
   "source": [
    "query = \"\"\"\n",
    "\"\"\"\n",
    "# YOUR CODE HERE\n",
    "raise NotImplementedError()\n",
    "\n",
    "resultset4 = %sql $query\n",
    "resultdf4 = resultset4.DataFrame()\n",
    "resultdf4.head()"
   ]
  },
  {
   "cell_type": "code",
   "execution_count": null,
   "metadata": {
    "deletable": false,
    "editable": false,
    "nbgrader": {
     "cell_type": "code",
     "checksum": "c47d36b0178047a90280760b85329321",
     "grade": true,
     "grade_id": "cell-56f0921f58548c69",
     "locked": true,
     "points": 1,
     "schema_version": 3,
     "solution": false,
     "task": false
    }
   },
   "outputs": [],
   "source": [
    "# Testing cell\n",
    "assert len(resultdf4) == 2492\n",
    "assert resultdf4.shape == (2492,8)"
   ]
  },
  {
   "cell_type": "markdown",
   "metadata": {
    "deletable": false,
    "editable": false,
    "nbgrader": {
     "cell_type": "markdown",
     "checksum": "a1616c8f88ed4b8d4b388d3f28edb165",
     "grade": false,
     "grade_id": "cell-4ace07af2a13c843",
     "locked": true,
     "schema_version": 3,
     "solution": false,
     "task": false
    }
   },
   "source": [
    "**Q5:** Using the table `indicators`, write a query to find the minimum non-zero number for `cell` that appears.  Although you could use `MIN` (which we haven't seen yet), you should try to do this using `ORDER BY` instead, so that the first row in your result has that minimum value."
   ]
  },
  {
   "cell_type": "code",
   "execution_count": null,
   "metadata": {
    "deletable": false,
    "nbgrader": {
     "cell_type": "code",
     "checksum": "772c942f4391e6aa8818d76be5171a65",
     "grade": false,
     "grade_id": "cell-18a2fdc8df7f8ecc",
     "locked": false,
     "schema_version": 3,
     "solution": true,
     "task": false
    }
   },
   "outputs": [],
   "source": [
    "query = \"\"\"\n",
    "\"\"\"\n",
    "# YOUR CODE HERE\n",
    "raise NotImplementedError()\n",
    "\n",
    "resultset5 = %sql $query\n",
    "resultdf5 = resultset5.DataFrame()\n",
    "resultdf5.head()"
   ]
  },
  {
   "cell_type": "code",
   "execution_count": null,
   "metadata": {
    "deletable": false,
    "editable": false,
    "nbgrader": {
     "cell_type": "code",
     "checksum": "1eeda110a1ba16b626db067f315de791",
     "grade": true,
     "grade_id": "cell-4d3932caa0c8bc0f",
     "locked": true,
     "points": 1,
     "schema_version": 3,
     "solution": false,
     "task": false
    }
   },
   "outputs": [],
   "source": [
    "# Testing cell\n",
    "assert resultdf5.loc[0,'cell'] == 0.01"
   ]
  },
  {
   "attachments": {},
   "cell_type": "markdown",
   "metadata": {},
   "source": [
    "> You've reached the first checkpoint in the lab.  Make sure to have it signed off by the instructor or TA.\n",
    ">\n",
    "> Checkpoint 1: Convert the following `pandas` selection into a SQL query:\n",
    ">     `topnames.loc[(1961, 'Female'), 'count']`"
   ]
  },
  {
   "cell_type": "markdown",
   "metadata": {},
   "source": [
    "---\n",
    "\n",
    "# Part D: Subqueries\n",
    "\n",
    "We can use the result of a query as a building block in another query.  For example, we may want to know which countries have _ever_ had a GDP greater than `3000`:"
   ]
  },
  {
   "cell_type": "code",
   "execution_count": null,
   "metadata": {},
   "outputs": [],
   "source": [
    "query = \"\"\"\n",
    "SELECT DISTINCT code\n",
    "FROM indicators\n",
    "WHERE gdp > 3000\n",
    "\"\"\"\n",
    "\n",
    "%sql $query"
   ]
  },
  {
   "cell_type": "markdown",
   "metadata": {},
   "source": [
    "Then, four just these five countries, we can look up their `2017` population and life expectancy values:"
   ]
  },
  {
   "cell_type": "code",
   "execution_count": null,
   "metadata": {},
   "outputs": [],
   "source": [
    "query = \"\"\"\n",
    "SELECT code, pop, life\n",
    "FROM indicators\n",
    "WHERE year = 2017 AND code IN ('USA', 'JPN', 'DEU', 'CHN', 'GBR')\n",
    "\"\"\"\n",
    "\n",
    "%sql $query"
   ]
  },
  {
   "cell_type": "markdown",
   "metadata": {},
   "source": [
    "However, we don't always want to hard-code these country codes.  We can instead use the results of the first query as the `set-members` for the second query:"
   ]
  },
  {
   "cell_type": "code",
   "execution_count": null,
   "metadata": {},
   "outputs": [],
   "source": [
    "query = \"\"\"\n",
    "SELECT code, pop, life\n",
    "FROM indicators\n",
    "WHERE year = 2017 AND code IN (SELECT DISTINCT code FROM indicators WHERE gdp > 3000)\n",
    "\"\"\"\n",
    "\n",
    "%sql $query"
   ]
  },
  {
   "cell_type": "markdown",
   "metadata": {},
   "source": [
    "As another example, we can query the most popular male baby name from 2016:"
   ]
  },
  {
   "cell_type": "code",
   "execution_count": null,
   "metadata": {},
   "outputs": [],
   "source": [
    "query = \"\"\"\n",
    "SELECT name\n",
    "FROM topnames\n",
    "WHERE year = 2016 AND sex = 'Male'\n",
    "\"\"\"\n",
    "\n",
    "%sql $query"
   ]
  },
  {
   "cell_type": "markdown",
   "metadata": {},
   "source": [
    "Then, we can use this result to find all years for which `Noah` was the most popular male baby name, and the associated counts:"
   ]
  },
  {
   "cell_type": "code",
   "execution_count": null,
   "metadata": {},
   "outputs": [],
   "source": [
    "query = \"\"\"\n",
    "SELECT year, count\n",
    "FROM topnames\n",
    "WHERE name = (SELECT name FROM topnames WHERE year = 2016 AND sex = 'Male')\n",
    "\"\"\"\n",
    "\n",
    "%sql $query"
   ]
  },
  {
   "cell_type": "markdown",
   "metadata": {},
   "source": [
    "Similarly, we can use a subquery as our table, rather than as part of a `WHERE` clause:"
   ]
  },
  {
   "cell_type": "code",
   "execution_count": null,
   "metadata": {},
   "outputs": [],
   "source": [
    "query = \"\"\"\n",
    "SELECT *\n",
    "FROM countries\n",
    "WHERE land < 100\n",
    "\"\"\"\n",
    "\n",
    "%sql $query"
   ]
  },
  {
   "cell_type": "code",
   "execution_count": null,
   "metadata": {},
   "outputs": [],
   "source": [
    "query = \"\"\"\n",
    "SELECT country AS Name, land AS Land\n",
    "FROM (SELECT * FROM countries WHERE land < 100)\n",
    "WHERE income = 'High income'\n",
    "\"\"\"\n",
    "\n",
    "%sql $query"
   ]
  },
  {
   "cell_type": "markdown",
   "metadata": {
    "deletable": false,
    "editable": false,
    "nbgrader": {
     "cell_type": "markdown",
     "checksum": "359ee23e3497c68bf6fcd5adca817462",
     "grade": false,
     "grade_id": "cell-cf78a8757481fff0",
     "locked": true,
     "schema_version": 3,
     "solution": false,
     "task": false
    }
   },
   "source": [
    "**Q6:** Use a subquery to select the top ten entries in `indicators` with the highest population, then select all fields for the three from that group of ten that have the lowest GDP.\n",
    "\n",
    "_Hint: You may find it helpful to first write the query just for the top ten entries in `indicators` with the highest population._"
   ]
  },
  {
   "cell_type": "code",
   "execution_count": null,
   "metadata": {
    "deletable": false,
    "nbgrader": {
     "cell_type": "code",
     "checksum": "3ea1847eed0e222454f257a240115ba0",
     "grade": false,
     "grade_id": "cell-2befdf0a89212338",
     "locked": false,
     "schema_version": 3,
     "solution": true,
     "task": false
    }
   },
   "outputs": [],
   "source": [
    "query = \"\"\"\n",
    "\"\"\"\n",
    "# YOUR CODE HERE\n",
    "raise NotImplementedError()\n",
    "\n",
    "resultset6 = %sql $query\n",
    "resultdf6 = resultset6.DataFrame()\n",
    "resultdf6.head()"
   ]
  },
  {
   "cell_type": "code",
   "execution_count": null,
   "metadata": {
    "deletable": false,
    "editable": false,
    "nbgrader": {
     "cell_type": "code",
     "checksum": "f0466743924a1ed26f01bda9a69e6853",
     "grade": true,
     "grade_id": "cell-3383e5e0f4737e49",
     "locked": true,
     "points": 2,
     "schema_version": 3,
     "solution": false,
     "task": false
    }
   },
   "outputs": [],
   "source": [
    "# Testing cell\n",
    "assert len(resultdf6) == 3\n",
    "assert resultdf6.loc[0,'gdp'] == 2652.55\n",
    "assert resultdf6.loc[1,'pop'] == 1352.62"
   ]
  },
  {
   "attachments": {},
   "cell_type": "markdown",
   "metadata": {},
   "source": [
    "> You've reached the second (and final) checkpoint in the lab.  Make sure to have it signed off by the instructor or TA.\n",
    ">\n",
    "> Checkpoint 2: Consider the following query from above:\n",
    "> ```\n",
    ">     SELECT code, pop, life\n",
    ">     FROM indicators\n",
    ">     WHERE year = 2017 AND code IN\n",
    ">         (SELECT DISTINCT code FROM indicators WHERE gdp > 3000)\n",
    "> ```\n",
    "> How is this different from just looking for `gdp > 3000` within the `WHERE` clause, as below:\n",
    "> ```\n",
    ">     SELECT code, pop, life\n",
    ">     FROM indicators\n",
    ">     WHERE year = 2017 AND gdp > 3000\n",
    "> ```"
   ]
  },
  {
   "cell_type": "markdown",
   "metadata": {},
   "source": [
    "---\n",
    "\n",
    "---\n",
    "## Part E\n",
    "\n",
    "How much time (in minutes/hours) did you spend on this lab outside of class?"
   ]
  },
  {
   "cell_type": "markdown",
   "metadata": {},
   "source": [
    "YOUR ANSWER HERE"
   ]
  }
 ],
 "metadata": {
  "kernelspec": {
   "display_name": "Python 3.9.7 ('base')",
   "language": "python",
   "name": "python3"
  },
  "language_info": {
   "codemirror_mode": {
    "name": "ipython",
    "version": 3
   },
   "file_extension": ".py",
   "mimetype": "text/x-python",
   "name": "python",
   "nbconvert_exporter": "python",
   "pygments_lexer": "ipython3",
   "version": "3.9.7"
  }
 },
 "nbformat": 4,
 "nbformat_minor": 4
}
