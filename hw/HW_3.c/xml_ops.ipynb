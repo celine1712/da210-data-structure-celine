{
 "cells": [
  {
   "attachments": {},
   "cell_type": "markdown",
   "metadata": {},
   "source": [
    "# Denison DA210/CS181 Homework 3.c - Step 1\n",
    "\n",
    "Before you turn this notebook in, make sure everything runs as expected. This is a combination of **restarting the kernel** and then **running all cells**.\n",
    "\n",
    "Make sure you fill in any place that says `# YOUR CODE HERE` or \"YOUR ANSWER HERE\"."
   ]
  },
  {
   "cell_type": "markdown",
   "metadata": {},
   "source": [
    "---"
   ]
  },
  {
   "cell_type": "code",
   "execution_count": 234,
   "metadata": {},
   "outputs": [],
   "source": [
    "from lxml import etree\n",
    "import pandas as pd\n",
    "import os.path\n",
    "\n",
    "datadir = \"publicdata\""
   ]
  },
  {
   "cell_type": "markdown",
   "metadata": {},
   "source": [
    "---\n",
    "\n",
    "## Part A\n",
    "\n",
    "**Q1:** In the following cell, reproduce your function from last homework\n",
    "```\n",
    "    getLocalXML(filename, datadir=\".\", parser=None)\n",
    "````\n",
    "that performs the common steps of creating a path from the given `filename` and `datadir` and parses the XML file, using the passed `parser`, if any, and returns the Element at the **root** of the tree.  If parser is not passed, the standard `XMLParser` should be used.\n",
    "\n",
    "If the file is not found, or if the parse is unsuccessful (due to XML not being \"well formed\"), the function should return `None`. Remember that if a parse is unsuccessful, the `etree` module raises an exception.  That means that you should have a `try` block, and indented within that block, the `parse()` invocation should occur.  The `try` block is followed by an `except Exception as e:` line, and within that, your return `None`.  If no exception is raised, code execution will proceed beyond the `try`/`except` block, and that is where you would return the root of the parsed tree."
   ]
  },
  {
   "cell_type": "code",
   "execution_count": 235,
   "metadata": {
    "deletable": false,
    "nbgrader": {
     "cell_type": "code",
     "checksum": "6d96b21ca080255baf1e5e778e2d15c2",
     "grade": false,
     "grade_id": "cell-80875b80b016b255",
     "locked": false,
     "schema_version": 3,
     "solution": true,
     "task": false
    }
   },
   "outputs": [],
   "source": [
    "def getLocalXML(filename, datadir =\".\", parser = None):\n",
    "    \"\"\"Parses the input file and returns the root of the tree\n",
    "    \"\"\"\n",
    "    file = os.path.join(datadir, filename)\n",
    "    if not os.path.isfile(file):\n",
    "        return None\n",
    "    xmlparser = etree.XMLParser(remove_blank_text = True)\n",
    "    try:\n",
    "        xmltree = etree.parse(file, xmlparser)\n",
    "    except Exception as e:\n",
    "        return None\n",
    "    root = xmltree.getroot()\n",
    "    return root\n",
    "    "
   ]
  },
  {
   "cell_type": "code",
   "execution_count": 236,
   "metadata": {
    "deletable": false,
    "editable": false,
    "nbgrader": {
     "cell_type": "code",
     "checksum": "46c41ecc1e5e08407b88eac0a4770aef",
     "grade": true,
     "grade_id": "cell-b84232ff1935b471",
     "locked": true,
     "points": 2,
     "schema_version": 3,
     "solution": false,
     "task": false
    }
   },
   "outputs": [],
   "source": [
    "# Testing cell\n",
    "assert getLocalXML.__doc__ is not None # don't forget the docstring!\n",
    "\n",
    "myparser = etree.XMLParser(remove_blank_text=True)\n",
    "\n",
    "wroot = getLocalXML(\"widombooks.xml\", datadir, myparser)\n",
    "assert len(wroot) == 8\n",
    "bad = getLocalXML(\"foo.xml\", datadir, myparser)\n",
    "assert bad == None\n",
    "bad2 = getLocalXML(\"bad.xml\", datadir)\n",
    "assert bad2==None"
   ]
  },
  {
   "cell_type": "markdown",
   "metadata": {},
   "source": [
    "**Q2:** Use your function to obtain the root Element from the data directory and the XML file named `breakfast.xml`, assigning to Python variable `broot`."
   ]
  },
  {
   "cell_type": "code",
   "execution_count": 237,
   "metadata": {
    "deletable": false,
    "nbgrader": {
     "cell_type": "code",
     "checksum": "9ff3fd14b56b034b0b9547333e139f9d",
     "grade": false,
     "grade_id": "cell-c8f8f1f5c7e0fdbd",
     "locked": false,
     "schema_version": 3,
     "solution": true,
     "task": false
    }
   },
   "outputs": [],
   "source": [
    "broot = getLocalXML(\"breakfast.xml\", datadir, myparser)\n"
   ]
  },
  {
   "cell_type": "code",
   "execution_count": 238,
   "metadata": {
    "deletable": false,
    "editable": false,
    "nbgrader": {
     "cell_type": "code",
     "checksum": "8fbdec9b20bf867fac15a3796b38df2d",
     "grade": true,
     "grade_id": "cell-a8a452ac07ba6026",
     "locked": true,
     "points": 1,
     "schema_version": 3,
     "solution": false,
     "task": false
    }
   },
   "outputs": [],
   "source": [
    "# Testing cell\n",
    "assert isinstance(broot, etree._Element)\n",
    "assert len(broot) == 5"
   ]
  },
  {
   "cell_type": "markdown",
   "metadata": {},
   "source": [
    "**Q3:** Using the Element `broot`, find all children with the tag `'food'` and store them in a list of Elements called `foodlist`."
   ]
  },
  {
   "cell_type": "code",
   "execution_count": 239,
   "metadata": {
    "deletable": false,
    "nbgrader": {
     "cell_type": "code",
     "checksum": "128fa3374583d32447a28e70e5fdf399",
     "grade": false,
     "grade_id": "cell-35070b31963283bb",
     "locked": false,
     "schema_version": 3,
     "solution": true,
     "task": false
    }
   },
   "outputs": [],
   "source": [
    "foodlist = broot.findall(\"food\")"
   ]
  },
  {
   "cell_type": "code",
   "execution_count": 240,
   "metadata": {
    "deletable": false,
    "editable": false,
    "nbgrader": {
     "cell_type": "code",
     "checksum": "537b7578a98a51ef5477b670a6efcc2e",
     "grade": true,
     "grade_id": "cell-69ec6b1ab4ae757b",
     "locked": true,
     "points": 1,
     "schema_version": 3,
     "solution": false,
     "task": false
    }
   },
   "outputs": [],
   "source": [
    "# Testing cell\n",
    "assert isinstance(foodlist, list)\n",
    "assert len(foodlist) == 5\n",
    "assert isinstance(foodlist[0], etree._Element)\n",
    "assert foodlist[0].tag == 'food'"
   ]
  },
  {
   "cell_type": "markdown",
   "metadata": {},
   "source": [
    "**Q4:** Create two parallel lists consisting of the prices and the calories for each of the food elements under menu.  You can use your solution to **Q3** or can use another method for iterating over the children of the root node.  For each, you will access the attributes of the food node and collect the values of the two desired attributes.  The final lists should be assigned to `prices` and `calories`, respectively.  Make sure you do your type conversions so that prices are real-valued (i.e., floating-point numbers) and calories are integers."
   ]
  },
  {
   "cell_type": "code",
   "execution_count": 241,
   "metadata": {
    "deletable": false,
    "nbgrader": {
     "cell_type": "code",
     "checksum": "aa0edc9549e9f1f5f2c333c547c84fb9",
     "grade": false,
     "grade_id": "cell-842361b9b983b7aa",
     "locked": false,
     "schema_version": 3,
     "solution": true,
     "task": false
    }
   },
   "outputs": [],
   "source": [
    "prices =[]\n",
    "calories = []\n",
    "for food in foodlist: \n",
    "    prices.append(float(food.attrib[\"price\"]))\n",
    "    calories.append(int(food.attrib[\"calories\"]))"
   ]
  },
  {
   "cell_type": "code",
   "execution_count": 242,
   "metadata": {
    "deletable": false,
    "editable": false,
    "nbgrader": {
     "cell_type": "code",
     "checksum": "c938398b9ec1ad26a40e97b688fd85db",
     "grade": true,
     "grade_id": "cell-15a9f8809f9ae555",
     "locked": true,
     "points": 3,
     "schema_version": 3,
     "solution": false,
     "task": false
    }
   },
   "outputs": [],
   "source": [
    "# Testing cell\n",
    "assert isinstance(prices, list)\n",
    "assert len(prices) == 5\n",
    "assert isinstance(prices[0], float)\n",
    "assert prices[0] == 5.95\n",
    "assert prices[-1] == 6.95\n",
    "\n",
    "assert isinstance(calories, list)\n",
    "assert len(calories) == 5\n",
    "assert isinstance(calories[0], int)\n",
    "assert calories[0] == 650\n",
    "assert calories[-1] == 950"
   ]
  },
  {
   "cell_type": "markdown",
   "metadata": {},
   "source": [
    "**Q5:** Use the `iter` method to iterate over all the `description`-tagged descendent nodes starting from `broot` and accumulate a list, `dlist`, with the `description` **text** value from these Element nodes."
   ]
  },
  {
   "cell_type": "code",
   "execution_count": 243,
   "metadata": {
    "deletable": false,
    "nbgrader": {
     "cell_type": "code",
     "checksum": "020db8a77d186fe575cfe2a12ce93184",
     "grade": false,
     "grade_id": "cell-cb10c55ff6cba7e2",
     "locked": false,
     "schema_version": 3,
     "solution": true,
     "task": false
    }
   },
   "outputs": [
    {
     "data": {
      "text/plain": [
       "['Two of our famous Belgian Waffles with plenty of real maple syrup',\n",
       " 'Light Belgian waffles covered with strawberries and whipped cream',\n",
       " 'Light Belgian waffles covered with an assortment of fresh berries and whipped cream',\n",
       " 'Thick slices made from our homemade sourdough bread',\n",
       " 'Two eggs, bacon or sausage, toast, and our ever-popular hash browns']"
      ]
     },
     "execution_count": 243,
     "metadata": {},
     "output_type": "execute_result"
    }
   ],
   "source": [
    "dlist =[]\n",
    "for desc in broot.iter(\"description\"):\n",
    "    dlist.append(desc.text)\n",
    "# Display the list of text values\n",
    "dlist"
   ]
  },
  {
   "cell_type": "code",
   "execution_count": 244,
   "metadata": {
    "deletable": false,
    "editable": false,
    "nbgrader": {
     "cell_type": "code",
     "checksum": "863d419554fe2871dae14328c7708fdc",
     "grade": true,
     "grade_id": "cell-64963fbd6b5eee63",
     "locked": true,
     "points": 2,
     "schema_version": 3,
     "solution": false,
     "task": false
    }
   },
   "outputs": [],
   "source": [
    "# Testing cell\n",
    "assert isinstance(dlist, list)\n",
    "assert len(dlist) == 5\n",
    "assert isinstance(dlist[0], str)\n",
    "assert dlist[0].count('plenty') == 1\n",
    "assert dlist[-1].count(',') == 3"
   ]
  },
  {
   "cell_type": "markdown",
   "metadata": {},
   "source": [
    "---\n",
    "\n",
    "## Part B\n",
    "\n",
    "**Q6:** Assign to `wroot` the root `Element` object for the `widombooks.xml` in the data directory."
   ]
  },
  {
   "cell_type": "code",
   "execution_count": 245,
   "metadata": {
    "deletable": false,
    "nbgrader": {
     "cell_type": "code",
     "checksum": "3e98b699370234c02b1aeb699067a753",
     "grade": false,
     "grade_id": "cell-c340af5cd0f9e4ff",
     "locked": false,
     "schema_version": 3,
     "solution": true,
     "task": false
    }
   },
   "outputs": [],
   "source": [
    "wroot = getLocalXML(\"widombooks.xml\", datadir, myparser)"
   ]
  },
  {
   "cell_type": "code",
   "execution_count": 246,
   "metadata": {
    "deletable": false,
    "editable": false,
    "nbgrader": {
     "cell_type": "code",
     "checksum": "26cd2dfd498d4d2bd14345d66d06778a",
     "grade": true,
     "grade_id": "cell-97ef1944060ec677",
     "locked": true,
     "points": 1,
     "schema_version": 3,
     "solution": false,
     "task": false
    }
   },
   "outputs": [],
   "source": [
    "# Testing cell\n",
    "assert isinstance(wroot, etree._Element)\n",
    "assert len(wroot) == 8"
   ]
  },
  {
   "attachments": {},
   "cell_type": "markdown",
   "metadata": {},
   "source": [
    "**Q7:** Using the Element `wroot` from above, get the attributes of the first child tagged `'Book'`, and store your answer as a dictionary `myAttrib`.  (Note that you should actually get an object of type `etree._Attrib`, but it's effectively a dictionary.)"
   ]
  },
  {
   "cell_type": "code",
   "execution_count": 247,
   "metadata": {
    "deletable": false,
    "nbgrader": {
     "cell_type": "code",
     "checksum": "5729f1e4d4a6c551bc3fd182f58eabe0",
     "grade": false,
     "grade_id": "cell-0709f3c991ed9627",
     "locked": false,
     "schema_version": 3,
     "solution": true,
     "task": false
    }
   },
   "outputs": [
    {
     "data": {
      "text/plain": [
       "{'ISBN': 'ISBN-0-13-713526-2', 'Price': '85', 'Edition': '3rd'}"
      ]
     },
     "execution_count": 247,
     "metadata": {},
     "output_type": "execute_result"
    }
   ],
   "source": [
    "first_child = wroot.find(\"Book\")\n",
    "myAttrib = first_child.attrib\n",
    "\n",
    "\n",
    "# Display the attributes dictionary\n",
    "myAttrib"
   ]
  },
  {
   "cell_type": "code",
   "execution_count": 248,
   "metadata": {
    "deletable": false,
    "editable": false,
    "nbgrader": {
     "cell_type": "code",
     "checksum": "d9d62becc0797db53db1e5da1f65d237",
     "grade": true,
     "grade_id": "cell-2e0723559f16076f",
     "locked": true,
     "points": 1,
     "schema_version": 3,
     "solution": false,
     "task": false
    }
   },
   "outputs": [],
   "source": [
    "# Testing cell\n",
    "assert isinstance(myAttrib, etree._Attrib)\n",
    "assert myAttrib['Price'] == '85'\n",
    "assert len(myAttrib) == 3"
   ]
  },
  {
   "cell_type": "markdown",
   "metadata": {},
   "source": [
    "**Q8:** Using the Element `wroot`, find all children with the tag `'Book'` and store them in a list of Elements called `booklist`."
   ]
  },
  {
   "cell_type": "code",
   "execution_count": 249,
   "metadata": {
    "deletable": false,
    "nbgrader": {
     "cell_type": "code",
     "checksum": "ffffe76caa0dadb33091afb0c339eda9",
     "grade": false,
     "grade_id": "cell-1c4c6f6fbc20a50f",
     "locked": false,
     "schema_version": 3,
     "solution": true,
     "task": false
    }
   },
   "outputs": [],
   "source": [
    "booklist = wroot.findall(\"Book\")"
   ]
  },
  {
   "cell_type": "code",
   "execution_count": 250,
   "metadata": {
    "deletable": false,
    "editable": false,
    "nbgrader": {
     "cell_type": "code",
     "checksum": "382c202553f0696baab3fb1ed39b61e9",
     "grade": true,
     "grade_id": "cell-b01bc4ccde48f4aa",
     "locked": true,
     "points": 1,
     "schema_version": 3,
     "solution": false,
     "task": false
    }
   },
   "outputs": [],
   "source": [
    "# Testing cell\n",
    "assert isinstance(booklist, list)\n",
    "assert len(booklist) == 4\n",
    "assert isinstance(booklist[0], etree._Element)\n",
    "assert booklist[0].tag == 'Book'"
   ]
  },
  {
   "cell_type": "markdown",
   "metadata": {
    "deletable": false,
    "editable": false,
    "nbgrader": {
     "cell_type": "markdown",
     "checksum": "75a73e4f624399c7dbe76dec8bad2b4a",
     "grade": false,
     "grade_id": "cell-2594153d95c35d93",
     "locked": true,
     "schema_version": 3,
     "solution": false,
     "task": false
    }
   },
   "source": [
    "**Q9:** Using the Element `wroot`, find all descendent nodes with the tag `'Magazine'`, extract the title text from each, and store them in a list of strings called `titlelist` (one title per magazine in `widombooks.xml`)."
   ]
  },
  {
   "cell_type": "code",
   "execution_count": 251,
   "metadata": {
    "deletable": false,
    "nbgrader": {
     "cell_type": "code",
     "checksum": "48e97ca37e78c951bdca39b269a12cd0",
     "grade": false,
     "grade_id": "cell-a5dceca149dd2bca",
     "locked": false,
     "schema_version": 3,
     "solution": true,
     "task": false
    }
   },
   "outputs": [
    {
     "data": {
      "text/plain": [
       "['National Geographic',\n",
       " 'National Geographic',\n",
       " 'Newsweek',\n",
       " \"Hector and Jeff's Database Hints\"]"
      ]
     },
     "execution_count": 251,
     "metadata": {},
     "output_type": "execute_result"
    }
   ],
   "source": [
    "titlelist = []\n",
    "for magazine in wroot.iter(\"Magazine\"):\n",
    "    titlelist.append(magazine[0].text)\n",
    "\n",
    "\n",
    "# Display the Magazine title text list\n",
    "titlelist"
   ]
  },
  {
   "cell_type": "code",
   "execution_count": 252,
   "metadata": {
    "deletable": false,
    "editable": false,
    "nbgrader": {
     "cell_type": "code",
     "checksum": "067e2e4fd75aa36d8ff5d786f36b1906",
     "grade": true,
     "grade_id": "cell-c2591f1d19c9010c",
     "locked": true,
     "points": 2,
     "schema_version": 3,
     "solution": false,
     "task": false
    }
   },
   "outputs": [],
   "source": [
    "# Testing cell\n",
    "assert len(titlelist) == 4\n",
    "assert \"Newsweek\" in titlelist\n",
    "assert \"Hector and Jeff's Database Hints\" in titlelist"
   ]
  },
  {
   "attachments": {},
   "cell_type": "markdown",
   "metadata": {},
   "source": [
    "---\n",
    "\n",
    "## Part C\n",
    "\n",
    "**Q10:** Write a function\n",
    "```\n",
    "    findValue(node, tag)\n",
    "```\n",
    "that, relative to `node` finds the first child matching `tag` and returns the `.text` attribute if found, and `None`, if no match was found."
   ]
  },
  {
   "cell_type": "code",
   "execution_count": 253,
   "metadata": {
    "deletable": false,
    "nbgrader": {
     "cell_type": "code",
     "checksum": "41710c42b97cae4eaba12db433daaf1f",
     "grade": false,
     "grade_id": "cell-7283f9c7a466f921",
     "locked": false,
     "schema_version": 3,
     "solution": true,
     "task": false
    }
   },
   "outputs": [],
   "source": [
    "def findValue(node, tag):\n",
    "    \"\"\"ArithmeticError\n",
    "    \"\"\"\n",
    "    value = node.find(tag)\n",
    "    if value is None:\n",
    "        return None\n",
    "    return value.text"
   ]
  },
  {
   "cell_type": "code",
   "execution_count": 254,
   "metadata": {
    "deletable": false,
    "editable": false,
    "nbgrader": {
     "cell_type": "code",
     "checksum": "ec781b99e897b06d65f674414ef28909",
     "grade": true,
     "grade_id": "cell-8e84685fc6b4e470",
     "locked": true,
     "points": 2,
     "schema_version": 3,
     "solution": false,
     "task": false
    }
   },
   "outputs": [],
   "source": [
    "# Testing cell\n",
    "assert findValue.__doc__ is not None # don't remove the docstring!\n",
    "\n",
    "assert findValue(wroot, \"Supplies\") == None\n",
    "booklist = wroot.findall(\"Book\")\n",
    "assert isinstance(findValue(booklist[1], \"Remark\"), str)\n",
    "assert findValue(booklist[1], \"Remark\").count(\"Buy\") == 1"
   ]
  },
  {
   "cell_type": "markdown",
   "metadata": {},
   "source": [
    "**Q11:** Write a function\n",
    "```\n",
    "    parseBreakfast(broot)\n",
    "```\n",
    "that takes in the root of the `breakfast.xml` file as an `etree` `Element` object, and parses it into a `pandas` `DataFrame` with `name` as the `Index`.\n",
    "\n",
    "_Hint_: You may find your `findValue` function helpful."
   ]
  },
  {
   "cell_type": "code",
   "execution_count": 255,
   "metadata": {},
   "outputs": [],
   "source": [
    "def parseBreakfast(broot): \n",
    "    nodes1 = []\n",
    "    rows = []\n",
    "    for node in broot:\n",
    "        nodes1.append(node)\n",
    "    for node2 in nodes1: \n",
    "        dct ={}\n",
    "        dct[\"price\"] = float(node2.attrib[\"price\"])\n",
    "        dct[\"calories\"] = int(node2.attrib[\"calories\"])\n",
    "        dct[node2[0].tag] = findValue(node2, node2[0].tag)\n",
    "        dct[node2[1].tag] = findValue(node2, node2[1].tag)\n",
    "        rows.append(dct)\n",
    "    df = pd.DataFrame(rows)\n",
    "    df = df.set_index(\"name\")\n",
    "    return df \n"
   ]
  },
  {
   "cell_type": "code",
   "execution_count": 256,
   "metadata": {},
   "outputs": [
    {
     "data": {
      "text/html": [
       "<div>\n",
       "<style scoped>\n",
       "    .dataframe tbody tr th:only-of-type {\n",
       "        vertical-align: middle;\n",
       "    }\n",
       "\n",
       "    .dataframe tbody tr th {\n",
       "        vertical-align: top;\n",
       "    }\n",
       "\n",
       "    .dataframe thead th {\n",
       "        text-align: right;\n",
       "    }\n",
       "</style>\n",
       "<table border=\"1\" class=\"dataframe\">\n",
       "  <thead>\n",
       "    <tr style=\"text-align: right;\">\n",
       "      <th></th>\n",
       "      <th>price</th>\n",
       "      <th>calories</th>\n",
       "      <th>description</th>\n",
       "    </tr>\n",
       "    <tr>\n",
       "      <th>name</th>\n",
       "      <th></th>\n",
       "      <th></th>\n",
       "      <th></th>\n",
       "    </tr>\n",
       "  </thead>\n",
       "  <tbody>\n",
       "    <tr>\n",
       "      <th>Belgian Waffles</th>\n",
       "      <td>5.95</td>\n",
       "      <td>650</td>\n",
       "      <td>Two of our famous Belgian Waffles with plenty ...</td>\n",
       "    </tr>\n",
       "    <tr>\n",
       "      <th>Strawberry Belgian Waffles</th>\n",
       "      <td>8.95</td>\n",
       "      <td>900</td>\n",
       "      <td>Light Belgian waffles covered with strawberrie...</td>\n",
       "    </tr>\n",
       "    <tr>\n",
       "      <th>Berry-Berry Belgian Waffles</th>\n",
       "      <td>8.95</td>\n",
       "      <td>900</td>\n",
       "      <td>Light Belgian waffles covered with an assortme...</td>\n",
       "    </tr>\n",
       "    <tr>\n",
       "      <th>French Toast</th>\n",
       "      <td>4.50</td>\n",
       "      <td>600</td>\n",
       "      <td>Thick slices made from our homemade sourdough ...</td>\n",
       "    </tr>\n",
       "    <tr>\n",
       "      <th>Homestyle Breakfast</th>\n",
       "      <td>6.95</td>\n",
       "      <td>950</td>\n",
       "      <td>Two eggs, bacon or sausage, toast, and our eve...</td>\n",
       "    </tr>\n",
       "  </tbody>\n",
       "</table>\n",
       "</div>"
      ],
      "text/plain": [
       "                             price  calories  \\\n",
       "name                                           \n",
       "Belgian Waffles               5.95       650   \n",
       "Strawberry Belgian Waffles    8.95       900   \n",
       "Berry-Berry Belgian Waffles   8.95       900   \n",
       "French Toast                  4.50       600   \n",
       "Homestyle Breakfast           6.95       950   \n",
       "\n",
       "                                                                   description  \n",
       "name                                                                            \n",
       "Belgian Waffles              Two of our famous Belgian Waffles with plenty ...  \n",
       "Strawberry Belgian Waffles   Light Belgian waffles covered with strawberrie...  \n",
       "Berry-Berry Belgian Waffles  Light Belgian waffles covered with an assortme...  \n",
       "French Toast                 Thick slices made from our homemade sourdough ...  \n",
       "Homestyle Breakfast          Two eggs, bacon or sausage, toast, and our eve...  "
      ]
     },
     "execution_count": 256,
     "metadata": {},
     "output_type": "execute_result"
    }
   ],
   "source": [
    "# Debugging cell\n",
    "breakfast_df = parseBreakfast(broot)\n",
    "breakfast_df"
   ]
  },
  {
   "cell_type": "code",
   "execution_count": 257,
   "metadata": {},
   "outputs": [],
   "source": [
    "# Testing cell\n",
    "breakfast_df = parseBreakfast(broot)\n",
    "assert breakfast_df.shape == (5,3)\n",
    "\n",
    "assert breakfast_df.loc[\"Belgian Waffles\", \"price\"] == 5.95\n",
    "assert breakfast_df.loc[\"French Toast\", \"calories\"] == 600\n",
    "assert breakfast_df.loc[\"Homestyle Breakfast\", \"description\"].startswith(\"Two eggs, bacon\")"
   ]
  },
  {
   "attachments": {},
   "cell_type": "markdown",
   "metadata": {},
   "source": [
    "---\n",
    "\n",
    "---\n",
    "\n",
    "## Part D\n",
    "\n",
    "**Q12:** How much time (in minutes/hours) did you spend on this homework assignment?"
   ]
  },
  {
   "attachments": {},
   "cell_type": "markdown",
   "metadata": {},
   "source": [
    "40 mins "
   ]
  },
  {
   "attachments": {},
   "cell_type": "markdown",
   "metadata": {},
   "source": [
    "**Q13:** Who was your partner for this assignment?  If you worked alone, say so instead."
   ]
  },
  {
   "attachments": {},
   "cell_type": "markdown",
   "metadata": {},
   "source": [
    "Alone"
   ]
  }
 ],
 "metadata": {
  "kernelspec": {
   "display_name": "base",
   "language": "python",
   "name": "python3"
  },
  "language_info": {
   "codemirror_mode": {
    "name": "ipython",
    "version": 3
   },
   "file_extension": ".py",
   "mimetype": "text/x-python",
   "name": "python",
   "nbconvert_exporter": "python",
   "pygments_lexer": "ipython3",
   "version": "3.9.13"
  },
  "vscode": {
   "interpreter": {
    "hash": "6812229378a4e14d29bbe4ee07db5e95bb6855d7fc74a2934bab81ab80a6eafa"
   }
  }
 },
 "nbformat": 4,
 "nbformat_minor": 4
}
