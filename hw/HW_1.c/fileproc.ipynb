{
 "cells": [
  {
   "attachments": {},
   "cell_type": "markdown",
   "metadata": {},
   "source": [
    "# Denison DA210/CS181 Homework 1.c - Step 2\n",
    "\n",
    "Before you turn this notebook in, make sure everything runs as expected. This is a combination of **restarting the kernel** and then **running all cells**.\n",
    "\n",
    "Make sure you fill in any place that says `# YOUR CODE HERE` or \"YOUR ANSWER HERE\"."
   ]
  },
  {
   "cell_type": "markdown",
   "metadata": {},
   "source": [
    "---"
   ]
  },
  {
   "cell_type": "code",
   "execution_count": 1,
   "metadata": {},
   "outputs": [],
   "source": [
    "import os\n",
    "\n",
    "datadir = \"publicdata\""
   ]
  },
  {
   "attachments": {},
   "cell_type": "markdown",
   "metadata": {},
   "source": [
    "---\n",
    "\n",
    "## Part C\n",
    "\n",
    "**Q5:** Write a function\n",
    "```\n",
    "    lineLengths(filepath)\n",
    "```\n",
    "that processes a file, line by line, and accumulates and returns a list of tuples, one per line.  Each tuple consists of the line number and the length of the line, excluding any leading or trailing whitespace (spaces, tabs, or newlines).  Line numbers in a file start at 1.  So, for the `hello.txt` file:\n",
    "\n",
    "    Hello, world!\n",
    "    Welcome to 'Introduction to Data Systems'.\n",
    "\n",
    "the result is the list of tuples: `[(1, 13), (2, 42)]`."
   ]
  },
  {
   "cell_type": "code",
   "execution_count": 2,
   "metadata": {
    "deletable": false,
    "nbgrader": {
     "cell_type": "code",
     "checksum": "c9ea476e9762fdce86b951cbf5169549",
     "grade": false,
     "grade_id": "cell-c5e9ddfe460baaf5",
     "locked": false,
     "schema_version": 3,
     "solution": true,
     "task": false
    }
   },
   "outputs": [],
   "source": [
    "def lineLengths(filepath): \n",
    "    \"\"\"\n",
    "    Returning a list of tuples containing the line number and number of words in that line. \n",
    "    \"\"\"\n",
    "    with open(filepath, \"r\") as word:\n",
    "        num_line =1\n",
    "        lst =[]\n",
    "        for line in word:\n",
    "            line = line.strip()\n",
    "            lst.append((num_line, len(line)))\n",
    "            num_line= num_line+1\n",
    "        return lst"
   ]
  },
  {
   "cell_type": "code",
   "execution_count": 3,
   "metadata": {
    "deletable": false,
    "editable": false,
    "nbgrader": {
     "cell_type": "code",
     "checksum": "0b0ed25cc1aeeccac7a20027a1c43e93",
     "grade": true,
     "grade_id": "cell-17559d5c71f8dc5b",
     "locked": true,
     "points": 3,
     "schema_version": 3,
     "solution": false,
     "task": false
    }
   },
   "outputs": [
    {
     "name": "stdout",
     "output_type": "stream",
     "text": [
      "[(1, 13), (2, 42)]\n"
     ]
    }
   ],
   "source": [
    "filepath = os.path.join(datadir, \"hello.txt\")\n",
    "\n",
    "assert lineLengths.__doc__ is not None # don't forget the docstring\n",
    "\n",
    "# Sanity check\n",
    "print(lineLengths(filepath))\n",
    "\n",
    "# Run tests\n",
    "assert lineLengths(filepath) == [(1, 13), (2, 42)]\n",
    "\n",
    "filepath = os.path.join(datadir, \"tennyson.txt\")\n",
    "assert lineLengths(filepath) == [(1, 26), (2, 24), (3, 0), (4, 40), (5, 14)] "
   ]
  },
  {
   "attachments": {},
   "cell_type": "markdown",
   "metadata": {},
   "source": [
    "**Q6:** Consider a variation of the babynames and counts file as depicted below:\n",
    "\n",
    "    22127,      Jacob\n",
    "    18002,      Ethan\n",
    "    17350,    Michael\n",
    "    17179,     Jayden\n",
    "    17051,    William\n",
    "    16756,  Alexander\n",
    "\n",
    "Each line of the file captures one data case/observation.  The values are separated by commas, with the count occurring first and the name second, and spaces are used to align the columns of data to make it easier for a human reader.\n",
    "\n",
    "Write a function\n",
    "\n",
    "```\n",
    "    readNamesCounts(filepath)\n",
    "```\n",
    "\n",
    "that processes the `filepath` file and yields a tuple whose first element is a reference to a list of names, and whose second element is a reference to a list of **integer** counts."
   ]
  },
  {
   "cell_type": "code",
   "execution_count": 4,
   "metadata": {
    "deletable": false,
    "nbgrader": {
     "cell_type": "code",
     "checksum": "8f06546a839f2c21fd05fc0ed63c3524",
     "grade": false,
     "grade_id": "cell-a10993da7de47401",
     "locked": false,
     "schema_version": 3,
     "solution": true,
     "task": false
    }
   },
   "outputs": [],
   "source": [
    "def readNamesCounts(filepath): \n",
    "    \"\"\"\n",
    "    Creating tuples from filepath in which the first element is a list of names and the second elements is a list of counts. \n",
    "    \"\"\"\n",
    "    with open(filepath, \"r\") as file: \n",
    "        nameList = []\n",
    "        countList = []\n",
    "        for line in file: \n",
    "            line = line.split(\",\")\n",
    "            nameList.append(line[1])\n",
    "            countList.append(int(line[0])) #fixed int\n",
    "        return nameList, countList\n",
    "            "
   ]
  },
  {
   "cell_type": "code",
   "execution_count": 5,
   "metadata": {
    "deletable": false,
    "editable": false,
    "nbgrader": {
     "cell_type": "code",
     "checksum": "d4191f3c14d8c6380aa964ccb26d30ed",
     "grade": true,
     "grade_id": "cell-dba242eb21fd0162",
     "locked": true,
     "points": 2,
     "schema_version": 3,
     "solution": false,
     "task": false
    }
   },
   "outputs": [],
   "source": [
    "# Testing cell\n",
    "assert readNamesCounts.__doc__ is not None # don't forget the docstring\n",
    "\n",
    "path = os.path.join(datadir, \"babynames.txt\")\n",
    "assert os.path.isfile(path)\n",
    "\n",
    "namelist, countlist = readNamesCounts(path)\n",
    "assert len(namelist) == 6\n",
    "assert len(countlist) == 6\n",
    "assert \"Jacob\" in namelist[0]"
   ]
  },
  {
   "cell_type": "markdown",
   "metadata": {},
   "source": [
    "---\n",
    "\n",
    "---\n",
    "## Part D\n",
    "\n",
    "How much time (in minutes/hours) did you spend on this homework assignment?"
   ]
  },
  {
   "attachments": {},
   "cell_type": "markdown",
   "metadata": {},
   "source": [
    "20 minutes"
   ]
  },
  {
   "cell_type": "markdown",
   "metadata": {},
   "source": [
    "Who was your partner for this assignment?  If you worked alone, say so instead."
   ]
  },
  {
   "attachments": {},
   "cell_type": "markdown",
   "metadata": {},
   "source": [
    "Alone"
   ]
  }
 ],
 "metadata": {
  "kernelspec": {
   "display_name": "Python 3",
   "language": "python",
   "name": "python3"
  },
  "language_info": {
   "codemirror_mode": {
    "name": "ipython",
    "version": 3
   },
   "file_extension": ".py",
   "mimetype": "text/x-python",
   "name": "python",
   "nbconvert_exporter": "python",
   "pygments_lexer": "ipython3",
   "version": "3.10.6"
  },
  "vscode": {
   "interpreter": {
    "hash": "aee8b7b246df8f9039afb4144a1f6fd8d2ca17a180786b69acc140d282b71a49"
   }
  }
 },
 "nbformat": 4,
 "nbformat_minor": 4
}
