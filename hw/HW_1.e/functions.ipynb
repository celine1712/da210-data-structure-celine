{
 "cells": [
  {
   "attachments": {},
   "cell_type": "markdown",
   "metadata": {},
   "source": [
    "# Denison DA210/CS181 Homework 1.e - Step 1\n",
    "\n",
    "Before you turn this notebook in, make sure everything runs as expected. This is a combination of **restarting the kernel** and then **running all cells**.\n",
    "\n",
    "Make sure you fill in any place that says `# YOUR CODE HERE` or \"YOUR ANSWER HERE\"."
   ]
  },
  {
   "cell_type": "markdown",
   "metadata": {},
   "source": [
    "---"
   ]
  },
  {
   "cell_type": "code",
   "execution_count": 113,
   "metadata": {},
   "outputs": [],
   "source": [
    "import os\n",
    "import os.path\n",
    "import io\n",
    "import sys\n",
    "import string\n",
    "import math\n",
    "from contextlib import redirect_stdout"
   ]
  },
  {
   "cell_type": "markdown",
   "metadata": {},
   "source": [
    "---\n",
    "\n",
    "## Part A: Sorting\n",
    "\n",
    "The following set of questions involve the `sorted()` built-in Python function and the list of tuples:"
   ]
  },
  {
   "cell_type": "code",
   "execution_count": 114,
   "metadata": {
    "deletable": false,
    "editable": false,
    "nbgrader": {
     "cell_type": "code",
     "checksum": "ff2fae613cce06587db16dbe57ef6c6b",
     "grade": false,
     "grade_id": "cell-4281156142386fd9",
     "locked": true,
     "schema_version": 3,
     "solution": false,
     "task": false
    }
   },
   "outputs": [],
   "source": [
    "students = [('bob',   'B', 19),\n",
    "            ('chris', 'B', 18),\n",
    "            ('chris', 'A', 18),\n",
    "            ('alice', 'A', 19)]"
   ]
  },
  {
   "cell_type": "markdown",
   "metadata": {},
   "source": [
    "Documentation for `sorted()` may be found at: https://docs.python.org/3/library/functions.html#sorted."
   ]
  },
  {
   "attachments": {},
   "cell_type": "markdown",
   "metadata": {},
   "source": [
    "**Q1:** What is returned when `sorted()` is invoked on the `students` list?  (E.g., when we run `sorted(students)`.)\n",
    "\n",
    "In this case, we are sorting a list whose elements are tuples.  Describe how the algorithm used by `sorted()` works in the case that two tuples are equal in their first element.  (You can find this information in the Python documentation, or by trying it out yourself.)"
   ]
  },
  {
   "attachments": {},
   "cell_type": "markdown",
   "metadata": {
    "deletable": false,
    "nbgrader": {
     "cell_type": "markdown",
     "checksum": "93ef77c0230cc6c664eee38a22b7b518",
     "grade": true,
     "grade_id": "cell-2d58e657adf85d40",
     "locked": false,
     "points": 2,
     "schema_version": 3,
     "solution": true,
     "task": false
    }
   },
   "source": [
    "The sorted() function sort the list of tuples starting from elements in index 0. Since our first elements are names in strings, the function compares the first letter (at index 0) of each name. The letter than appear first in the alphabet is considered smaller and therefore placed first. When the first element in two tuples are equal, then the function moves on to the elements at index 1 (grade). "
   ]
  },
  {
   "cell_type": "markdown",
   "metadata": {},
   "source": [
    "**Q2:** Look at the documentation for `sorted()`.  If we wanted to sort the `students` list based on the second element of the tuple (the grade), we want a function that is used to extract the \"key\" from a list element (tuple) to retrieve that second element.  Note that this key is similar, but not quite the same, as a key in a dictionary.\n",
    "\n",
    "Write a function\n",
    "\n",
    "```\n",
    "    getGrade(record)\n",
    "```\n",
    "\n",
    "that, given a student record that consists of a 3-tuple, accesses and returns the middle element of the tuple.  You are welcome to define `getGrade` as a lambda function.  With this `getGrade` function object passed as the `key` parameter, call `sorted()` on the list `students` and assign the result to the variable `gradeSorted`."
   ]
  },
  {
   "cell_type": "code",
   "execution_count": 115,
   "metadata": {
    "deletable": false,
    "nbgrader": {
     "cell_type": "code",
     "checksum": "037d508e81cb541af4dc4ffe61ede5eb",
     "grade": false,
     "grade_id": "cell-06893f6918eb7e27",
     "locked": false,
     "schema_version": 3,
     "solution": true,
     "task": false
    }
   },
   "outputs": [],
   "source": [
    "def getGrade(record): \n",
    "    \"\"\"\n",
    "    Returns the grade of input student.\n",
    "    \"\"\"\n",
    "    return record[1]\n",
    "\n",
    "gradeSorted = sorted(students, key= getGrade)\n"
   ]
  },
  {
   "cell_type": "code",
   "execution_count": 116,
   "metadata": {},
   "outputs": [
    {
     "name": "stdout",
     "output_type": "stream",
     "text": [
      "[('chris', 'A', 18), ('alice', 'A', 19), ('bob', 'B', 19), ('chris', 'B', 18)]\n"
     ]
    }
   ],
   "source": [
    "# Printing cell\n",
    "print(gradeSorted)"
   ]
  },
  {
   "cell_type": "code",
   "execution_count": 117,
   "metadata": {
    "deletable": false,
    "editable": false,
    "nbgrader": {
     "cell_type": "code",
     "checksum": "e8493890299d8b35f6de02fb0a9e394a",
     "grade": true,
     "grade_id": "cell-0323a68fb56e401b",
     "locked": true,
     "points": 2,
     "schema_version": 3,
     "solution": false,
     "task": false
    }
   },
   "outputs": [],
   "source": [
    "# Testing cell\n",
    "assert getGrade(('alice', 'A', 18)) == 'A'\n",
    "assert getGrade(('chris', 'B', 18)) == 'B'\n",
    "\n",
    "assert isinstance(gradeSorted, list)\n",
    "assert gradeSorted[0] == ('chris', 'A', 18)"
   ]
  },
  {
   "cell_type": "markdown",
   "metadata": {},
   "source": [
    "**Q3:** Consider your result: when there are ties in the \"key\", do you get the elements involved in the tie in the same order as in the original list, or in different orders?"
   ]
  },
  {
   "attachments": {},
   "cell_type": "markdown",
   "metadata": {
    "deletable": false,
    "nbgrader": {
     "cell_type": "markdown",
     "checksum": "35b87cd4ad5c75c0cebdbfcc67cef530",
     "grade": true,
     "grade_id": "cell-d2d1f9d66c965c50",
     "locked": false,
     "points": 1,
     "schema_version": 3,
     "solution": true,
     "task": false
    }
   },
   "source": [
    "The order is same as the original list. So what element comes first in the list is placed first in the sorted list. "
   ]
  },
  {
   "cell_type": "markdown",
   "metadata": {},
   "source": [
    "---\n",
    "\n",
    "## Part B: Returning a function\n",
    "\n",
    "**Q4:** Write a function\n",
    "\n",
    "```\n",
    "    whichIsBigger(f1,f2,n)\n",
    "```\n",
    "\n",
    "which computes `f1(n)` and `f2(n)`, and returns whichever _function_ (`f1` or `f2`) results in the larger value when an integer `n` is passed as a parameter. In case of a tie, return `f1`.\n",
    "\n",
    "Test with `f1(x)` defined as $x^3$ and `f2(x)` defined as $5x^2+4$ and using $n=2$. Test again with $n=100$."
   ]
  },
  {
   "cell_type": "code",
   "execution_count": 118,
   "metadata": {
    "deletable": false,
    "nbgrader": {
     "cell_type": "code",
     "checksum": "d3fee1679fb575a0e3d103d47c10380e",
     "grade": false,
     "grade_id": "cell-76bddeeaf8ffa2ff",
     "locked": false,
     "schema_version": 3,
     "solution": true,
     "task": false
    }
   },
   "outputs": [],
   "source": [
    "def whichIsBigger(f1,f2,n):\n",
    "    \"\"\"\n",
    "    Computes f1(n) and f2(n), and returns whichever of f1 or f2 gives a larger result.\n",
    "    Returns f1 in the case of a tie.\n",
    "    \"\"\"\n",
    "    num1 = f1(n)\n",
    "    num2 = f2(n) \n",
    "    if num1 >= num2: \n",
    "        return f1\n",
    "    else:\n",
    "        return f2"
   ]
  },
  {
   "cell_type": "code",
   "execution_count": 119,
   "metadata": {},
   "outputs": [
    {
     "name": "stdout",
     "output_type": "stream",
     "text": [
      "<function f2 at 0x10c16a5f0>\n",
      "<function f1 at 0x10c1df1c0>\n"
     ]
    }
   ],
   "source": [
    "# Printing cell\n",
    "\n",
    "def f1(x):\n",
    "    return x**3\n",
    "\n",
    "def f2(x):\n",
    "    return 5*x*x + 4\n",
    "\n",
    "print(whichIsBigger(f1,f2,2))\n",
    "print(whichIsBigger(f1,f2,100))"
   ]
  },
  {
   "cell_type": "code",
   "execution_count": 120,
   "metadata": {
    "deletable": false,
    "editable": false,
    "nbgrader": {
     "cell_type": "code",
     "checksum": "78ff602a79283fd0ce958e3264967e5d",
     "grade": true,
     "grade_id": "cell-95a4c27fc69bb970",
     "locked": true,
     "points": 2,
     "schema_version": 3,
     "solution": false,
     "task": false
    }
   },
   "outputs": [],
   "source": [
    "# Testing cell\n",
    "assert whichIsBigger.__doc__ is not None # don't remove the docstring!\n",
    "\n",
    "def f1(x):\n",
    "    return x**3 - 7\n",
    "\n",
    "def f2(x):\n",
    "    return 5*x*x + 4*x + 2\n",
    "\n",
    "assert whichIsBigger(f1,f2,0) == f2\n",
    "assert whichIsBigger(f1,f2,-10) == f2\n",
    "assert whichIsBigger(f1,f2,2) == f2\n",
    "assert whichIsBigger(f1,f2,50) == f1"
   ]
  },
  {
   "cell_type": "markdown",
   "metadata": {},
   "source": [
    "---\n",
    "\n",
    "## Part C: Lambda expressions\n",
    "\n",
    "**Q5:** Write a lambda expression an assign it to the variable `greetPerson` such that it returns a greeting when invoked with a single argument.\n",
    "\n",
    "For example, the expression `greetPerson(\"Eliza\")` should result in the string `Hello Eliza!`, and `greetPerson(\"Robert B.\")` should result in `Hello Robert B.!\"."
   ]
  },
  {
   "cell_type": "code",
   "execution_count": 121,
   "metadata": {
    "deletable": false,
    "nbgrader": {
     "cell_type": "code",
     "checksum": "618b145b6a9d07a044edd76672873927",
     "grade": false,
     "grade_id": "cell-260b5598d856ee88",
     "locked": false,
     "schema_version": 3,
     "solution": true,
     "task": false
    }
   },
   "outputs": [],
   "source": [
    "greetPerson = lambda x: \"Hello \" + str(x) + \"!\""
   ]
  },
  {
   "cell_type": "code",
   "execution_count": 122,
   "metadata": {},
   "outputs": [
    {
     "name": "stdout",
     "output_type": "stream",
     "text": [
      "Hello Eliza!\n",
      "Hello Robert B.!\n"
     ]
    }
   ],
   "source": [
    "# Printing cell\n",
    "print(greetPerson(\"Eliza\"))\n",
    "print(greetPerson(\"Robert B.\"))"
   ]
  },
  {
   "cell_type": "code",
   "execution_count": 123,
   "metadata": {},
   "outputs": [],
   "source": [
    "# Testing cell\n",
    "assert(greetPerson(\"Eliza\") == \"Hello Eliza!\")\n",
    "assert(greetPerson(\"Robert B.\") == \"Hello Robert B.!\")\n",
    "assert(greetPerson(\"everyone\") == \"Hello everyone!\")\n",
    "assert(greetPerson(\"\") == \"Hello !\")"
   ]
  },
  {
   "cell_type": "markdown",
   "metadata": {},
   "source": [
    "**Q6:** Write a lambda function that takes three parameters and multiplies them together.  Assign the lambda function expression to `mult3`."
   ]
  },
  {
   "cell_type": "code",
   "execution_count": 124,
   "metadata": {
    "deletable": false,
    "nbgrader": {
     "cell_type": "code",
     "checksum": "7f9b9657eb38096c504f43cd764ad059",
     "grade": false,
     "grade_id": "cell-2f45e6d4eb6451d7",
     "locked": false,
     "schema_version": 3,
     "solution": true,
     "task": false
    }
   },
   "outputs": [],
   "source": [
    "mult3 = lambda x,y,z: x*y*z"
   ]
  },
  {
   "cell_type": "code",
   "execution_count": 125,
   "metadata": {},
   "outputs": [
    {
     "data": {
      "text/plain": [
       "1080"
      ]
     },
     "execution_count": 125,
     "metadata": {},
     "output_type": "execute_result"
    }
   ],
   "source": [
    "# Printing cell\n",
    "mult3(10, 12, 9)"
   ]
  },
  {
   "cell_type": "code",
   "execution_count": 126,
   "metadata": {
    "deletable": false,
    "editable": false,
    "nbgrader": {
     "cell_type": "code",
     "checksum": "934185981c65efce8ace1b1b7c37a479",
     "grade": true,
     "grade_id": "cell-2657c0facf794201",
     "locked": true,
     "points": 1,
     "schema_version": 3,
     "solution": false,
     "task": false
    }
   },
   "outputs": [],
   "source": [
    "# Testing cell\n",
    "assert mult3(10, 12, 9) == 1080\n",
    "assert mult3(10, -12, 9) == -1080"
   ]
  },
  {
   "cell_type": "markdown",
   "metadata": {},
   "source": [
    "**Q7:** Write a lambda expression and assign it to the variable `evenSquared` such that it squares the value of its single argument if the argument is even, and *cubes* the argument if it is odd.\n",
    "\n",
    "Afterward, for example, expression `evenSquared(5)` should yield `125`, while `evenSquared(4)` should yield `16`.\n",
    "\n",
    "Hint: We need an *expression* to handle an `if` type condition."
   ]
  },
  {
   "cell_type": "code",
   "execution_count": 127,
   "metadata": {},
   "outputs": [],
   "source": [
    "evenSquared = lambda x: (x**2) if x % 2 == 0 else (x**3)"
   ]
  },
  {
   "cell_type": "code",
   "execution_count": 128,
   "metadata": {},
   "outputs": [
    {
     "name": "stdout",
     "output_type": "stream",
     "text": [
      "125\n",
      "16\n"
     ]
    }
   ],
   "source": [
    "# Testing cell\n",
    "print(evenSquared(5))\n",
    "print(evenSquared(4))"
   ]
  },
  {
   "cell_type": "code",
   "execution_count": 129,
   "metadata": {
    "deletable": false,
    "editable": false,
    "nbgrader": {
     "cell_type": "code",
     "checksum": "80afe6f8dd718ea94cc38f61b5a87682",
     "grade": true,
     "grade_id": "cell-a34541c503ff5a43",
     "locked": true,
     "points": 1,
     "schema_version": 3,
     "solution": false,
     "task": false
    }
   },
   "outputs": [],
   "source": [
    "# Testing cell\n",
    "assert(evenSquared(1)==1)\n",
    "assert(evenSquared(2)==4)\n",
    "assert(evenSquared(3)==27)\n",
    "assert(evenSquared(4)==16)\n",
    "assert(evenSquared(0)==0)"
   ]
  },
  {
   "cell_type": "code",
   "execution_count": null,
   "metadata": {},
   "outputs": [],
   "source": []
  },
  {
   "cell_type": "markdown",
   "metadata": {},
   "source": [
    "---\n",
    "\n",
    "## Part D: `map`\n",
    "\n",
    "**Mapping Functions**\n",
    "\n",
    "Python has a built-in function `map()` \n",
    "\n",
    "- https://docs.python.org/3/library/functions.html#map\n",
    "\n",
    "whose parameters are a function object followed by one or more iterables.  If there are only two arguments, the provided first argument function (which should take a single argument) is invoked over the elements of the second argument.  This gives us a built-in way to apply a unary function element-wise over a list or other sequence.\n",
    "\n",
    "If we pass, as arguments to `map()`, a function followed by *two* iterables, then the function is expected to have *two* parameters, and the function is called for each pair of elements coming from the first and second iterable.  This gives us a built-in way to apply a binary function element-wise over two lists/vectors/sequences.\n",
    "\n",
    "Note that, for efficiency reasons, `map()` actually returns an *iterator* that, like `range()`, can be used as the sequence in a `for` statement, and waits to compute elements until needed.  If we want a *list* instead of an iterator, we must pass the iterator as the argument to the `list()` function."
   ]
  },
  {
   "cell_type": "markdown",
   "metadata": {},
   "source": [
    "**Q8:** Write a function\n",
    "\n",
    "```\n",
    "    incrementAge(record)\n",
    "```\n",
    "\n",
    "that, given a 3-tuple, `record`, of a student, composed of a name, a grade, and an age, returns a new tuple with the same name and grade, but with the age incremented by one.\n",
    "\n",
    "Implement this function as a _lambda function_."
   ]
  },
  {
   "cell_type": "code",
   "execution_count": 130,
   "metadata": {
    "deletable": false,
    "nbgrader": {
     "cell_type": "code",
     "checksum": "118eb809dec277fb1f3198facc9e7342",
     "grade": false,
     "grade_id": "cell-9b18fbad2b616883",
     "locked": false,
     "schema_version": 3,
     "solution": true,
     "task": false
    }
   },
   "outputs": [],
   "source": [
    "incrementAge = lambda record: (record[0], record[1], record[2]+1)"
   ]
  },
  {
   "cell_type": "code",
   "execution_count": 131,
   "metadata": {
    "deletable": false,
    "editable": false,
    "nbgrader": {
     "cell_type": "code",
     "checksum": "2fbf193dbfdb46641ca50d118969f110",
     "grade": true,
     "grade_id": "cell-f8e7dee0bb2c7605",
     "locked": true,
     "points": 1,
     "schema_version": 3,
     "solution": false,
     "task": false
    }
   },
   "outputs": [],
   "source": [
    "# Testing cell\n",
    "assert incrementAge(('chris', 'A', 18)) == ('chris', 'A', 19)"
   ]
  },
  {
   "cell_type": "markdown",
   "metadata": {},
   "source": [
    "**Q9:** Use `map()` to apply the `incrementAge` function to the `students` list, and create a list assigned to variable `students2`."
   ]
  },
  {
   "cell_type": "code",
   "execution_count": 132,
   "metadata": {
    "deletable": false,
    "nbgrader": {
     "cell_type": "code",
     "checksum": "99b65a2a5d2152fc049295fa1a79889c",
     "grade": false,
     "grade_id": "cell-17560d667aafabb2",
     "locked": false,
     "schema_version": 3,
     "solution": true,
     "task": false
    }
   },
   "outputs": [],
   "source": [
    "students = [('bob',   'B', 19),\n",
    "            ('chris', 'B', 18),\n",
    "            ('chris', 'A', 18),\n",
    "            ('alice', 'A', 19)]\n",
    "\n",
    "new_age =[]\n",
    "for student in students: \n",
    "    new = incrementAge(student)\n",
    "    new_age.append(new)\n",
    "students2 = new_age"
   ]
  },
  {
   "cell_type": "code",
   "execution_count": 133,
   "metadata": {},
   "outputs": [
    {
     "name": "stdout",
     "output_type": "stream",
     "text": [
      "[('bob', 'B', 20), ('chris', 'B', 19), ('chris', 'A', 19), ('alice', 'A', 20)]\n"
     ]
    }
   ],
   "source": [
    "# Printing cell\n",
    "print(students2) # should print a list, not a \"map\" object"
   ]
  },
  {
   "cell_type": "code",
   "execution_count": 134,
   "metadata": {
    "deletable": false,
    "editable": false,
    "nbgrader": {
     "cell_type": "code",
     "checksum": "51627782a649f5628fb5a081062354db",
     "grade": true,
     "grade_id": "cell-a1e0506a43e4b068",
     "locked": true,
     "points": 1,
     "schema_version": 3,
     "solution": false,
     "task": false
    }
   },
   "outputs": [],
   "source": [
    "# Testing cell\n",
    "assert isinstance(students2, list)\n",
    "assert len(students2) == 4\n",
    "assert students2[1] == ('chris', 'B', 19)\n",
    "assert students2[-1] == ('alice', 'A', 20)"
   ]
  },
  {
   "cell_type": "markdown",
   "metadata": {},
   "source": [
    "**Q10:** Write a function\n",
    "\n",
    "```\n",
    "    vector_mult(L1, L2)\n",
    "```\n",
    "\n",
    "that performs element-wise multiplication between the elements in `L1` and `L2`.  You may assume that `L1` and `L2` are the same length.  You *must* use `map()` in the `vector_mult` function, although you may write a helper function.  Use lambda functions where you can (i.e. where the function can be formed as an expression)."
   ]
  },
  {
   "cell_type": "code",
   "execution_count": 135,
   "metadata": {
    "deletable": false,
    "nbgrader": {
     "cell_type": "code",
     "checksum": "a230af3e475b65540684b713edd8d850",
     "grade": false,
     "grade_id": "cell-8c8cf63b35739800",
     "locked": false,
     "schema_version": 3,
     "solution": true,
     "task": false
    }
   },
   "outputs": [],
   "source": [
    "def vector_mult(L1,L2): \n",
    "    \"\"\"\n",
    "    Takes in two lists of vectors and returns a list of element-wise multiplication between their elements, assuming L1 and L2 are the same length.\n",
    "    \"\"\"\n",
    "    hi = map(lambda x,y: x*y, L1, L2)\n",
    "    return list(hi)"
   ]
  },
  {
   "cell_type": "code",
   "execution_count": 136,
   "metadata": {},
   "outputs": [
    {
     "name": "stdout",
     "output_type": "stream",
     "text": [
      "[5, 20, 3]\n"
     ]
    }
   ],
   "source": [
    "# Printing cell\n",
    "A = [1, 2, 3]\n",
    "B = [5, 10, 1]\n",
    "print(vector_mult(A, B)) # should be [5, 20, 3]"
   ]
  },
  {
   "cell_type": "code",
   "execution_count": 137,
   "metadata": {
    "deletable": false,
    "editable": false,
    "nbgrader": {
     "cell_type": "code",
     "checksum": "0e00a56c47e34186883a98e8d34f6a7f",
     "grade": true,
     "grade_id": "cell-685f2e739829a093",
     "locked": true,
     "points": 2,
     "schema_version": 3,
     "solution": false,
     "task": false
    }
   },
   "outputs": [],
   "source": [
    "# Testing cell\n",
    "A = [5, 3, 1, 2]\n",
    "B = [2, 1, 4, 3]\n",
    "assert vector_mult(A, B) == [10, 3, 4, 6]"
   ]
  }
 ],
 "metadata": {
  "kernelspec": {
   "display_name": "Python 3",
   "language": "python",
   "name": "python3"
  },
  "language_info": {
   "codemirror_mode": {
    "name": "ipython",
    "version": 3
   },
   "file_extension": ".py",
   "mimetype": "text/x-python",
   "name": "python",
   "nbconvert_exporter": "python",
   "pygments_lexer": "ipython3",
   "version": "3.10.6"
  },
  "vscode": {
   "interpreter": {
    "hash": "aee8b7b246df8f9039afb4144a1f6fd8d2ca17a180786b69acc140d282b71a49"
   }
  }
 },
 "nbformat": 4,
 "nbformat_minor": 4
}
