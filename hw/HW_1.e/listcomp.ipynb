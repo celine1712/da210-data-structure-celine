{
 "cells": [
  {
   "attachments": {},
   "cell_type": "markdown",
   "metadata": {},
   "source": [
    "# Denison DA210/CS181 Homework 1.e - Step 2\n",
    "\n",
    "Before you turn this notebook in, make sure everything runs as expected. This is a combination of **restarting the kernel** and then **running all cells**.\n",
    "\n",
    "Make sure you fill in any place that says `# YOUR CODE HERE` or \"YOUR ANSWER HERE\"."
   ]
  },
  {
   "cell_type": "markdown",
   "metadata": {},
   "source": [
    "---"
   ]
  },
  {
   "cell_type": "code",
   "execution_count": 1,
   "metadata": {},
   "outputs": [],
   "source": [
    "import os\n",
    "import os.path"
   ]
  },
  {
   "attachments": {},
   "cell_type": "markdown",
   "metadata": {},
   "source": [
    "---\n",
    "\n",
    "## Part E\n",
    "\n",
    "**Q11:** Use a list comprehension to implement a function \n",
    "\n",
    "```\n",
    "    mult_by_2(data)\n",
    "```\n",
    "\n",
    "that multiplies each item in `data` by 2, returning the resulting list. For example, `mult_by_2([1,2,3])` returns `[2,4,6]`."
   ]
  },
  {
   "cell_type": "code",
   "execution_count": 2,
   "metadata": {
    "deletable": false,
    "nbgrader": {
     "cell_type": "code",
     "checksum": "0caee3c1c6b62b16673b9edbc0ba4d67",
     "grade": false,
     "grade_id": "cell-75d78706c6b457bf",
     "locked": false,
     "schema_version": 3,
     "solution": true,
     "task": false
    }
   },
   "outputs": [],
   "source": [
    "def mult_by_2(data): \n",
    "    \"\"\"\n",
    "    Takes in a list of data and return a doubled list. \n",
    "    \"\"\"\n",
    "    double = [x*2 for x in data]\n",
    "    return double"
   ]
  },
  {
   "cell_type": "code",
   "execution_count": 3,
   "metadata": {},
   "outputs": [
    {
     "data": {
      "text/plain": [
       "[2, 4, 6]"
      ]
     },
     "execution_count": 3,
     "metadata": {},
     "output_type": "execute_result"
    }
   ],
   "source": [
    "# Debugging cell\n",
    "mult_by_2([1,2,3]) # should be [2, 4, 6]"
   ]
  },
  {
   "cell_type": "code",
   "execution_count": 4,
   "metadata": {
    "deletable": false,
    "editable": false,
    "nbgrader": {
     "cell_type": "code",
     "checksum": "66259b5a5c76b89de690943591faf5f2",
     "grade": true,
     "grade_id": "cell-54db22cae09e3c07",
     "locked": true,
     "points": 2,
     "schema_version": 3,
     "solution": false,
     "task": false
    }
   },
   "outputs": [],
   "source": [
    "# Testing cell\n",
    "assert mult_by_2.__doc__ is not None # make sure to have a docstring\n",
    "\n",
    "assert mult_by_2([1]) == [2]\n",
    "assert mult_by_2([1, 2]) == [2, 4]\n",
    "assert mult_by_2([1,2,3,4,5,6,7,8,9,10]) == [2, 4, 6, 8, 10, 12, 14, 16, 18, 20]\n",
    "assert mult_by_2([]) == []\n",
    "\n",
    "mylist = [1, 2, -3]\n",
    "assert mult_by_2(mylist) == [2, 4, -6]\n",
    "assert mylist == [1, 2, -3]"
   ]
  },
  {
   "attachments": {},
   "cell_type": "markdown",
   "metadata": {},
   "source": [
    "**Q12:** Write a function\n",
    "\n",
    "```\n",
    "    add2odd(data)\n",
    "```\n",
    "\n",
    "that returns a new list based on `data` by including and adding 2 to every number that is odd, and leaving out any even numbers.\n",
    "\n",
    "Use a list comprehension with a Boolean condition.  So, for instance, `add2odd([1,2,3,4,5])` results in the list `[3, 5, 7]`."
   ]
  },
  {
   "cell_type": "code",
   "execution_count": 5,
   "metadata": {
    "deletable": false,
    "nbgrader": {
     "cell_type": "code",
     "checksum": "cfdcfda5558e13c87baf99901e467b64",
     "grade": false,
     "grade_id": "cell-e45bf61a17020be8",
     "locked": false,
     "schema_version": 3,
     "solution": true,
     "task": false
    }
   },
   "outputs": [],
   "source": [
    "def add2odd(data): \n",
    "    \"\"\"\n",
    "    Takes in a list of integers and return a list of odd numbers that have been incremented by 2. \n",
    "    \"\"\"\n",
    "    odd = [ x + 2 for x in data if x %2!=0]\n",
    "    return odd"
   ]
  },
  {
   "cell_type": "code",
   "execution_count": 6,
   "metadata": {},
   "outputs": [
    {
     "data": {
      "text/plain": [
       "[3, 5, 7]"
      ]
     },
     "execution_count": 6,
     "metadata": {},
     "output_type": "execute_result"
    }
   ],
   "source": [
    "# Debugging cell\n",
    "add2odd([1,2,3,4,5]) # should be [3, 5, 7]"
   ]
  },
  {
   "cell_type": "code",
   "execution_count": 7,
   "metadata": {
    "deletable": false,
    "editable": false,
    "nbgrader": {
     "cell_type": "code",
     "checksum": "ad44ed11c2fd741ad21ec5a37a15793d",
     "grade": true,
     "grade_id": "cell-f1afbb66fb298a2f",
     "locked": true,
     "points": 2,
     "schema_version": 3,
     "solution": false,
     "task": false
    }
   },
   "outputs": [],
   "source": [
    "# Testing cell\n",
    "assert add2odd.__doc__ is not None # make sure to have a docstring\n",
    "\n",
    "assert add2odd([]) == []\n",
    "assert add2odd([1,2,3,4,5]) == [3, 5, 7]\n",
    "assert add2odd([2,4,18,20,100,6]) == []\n",
    "assert add2odd([1, 1, 1, 1, 1]) == [3, 3, 3, 3, 3]"
   ]
  },
  {
   "attachments": {},
   "cell_type": "markdown",
   "metadata": {},
   "source": [
    "**Q13:** Write a function\n",
    "\n",
    "```\n",
    "    get_tuples(data)\n",
    "```\n",
    "\n",
    "that uses a list comprehension to extract a list of tuples based on `data`, where the first item of each tuple is the index of the data, and the second item is the corresponding item in `data`.\n",
    "\n",
    "For example, if `data = [\"a\", \"b\", \"c\"]` you return `[(0, 'a'), (1, 'b'), (2, 'c')]`.\n",
    "\n",
    "Note that your solution **must** use a list comprehension."
   ]
  },
  {
   "cell_type": "code",
   "execution_count": 29,
   "metadata": {
    "deletable": false,
    "nbgrader": {
     "cell_type": "code",
     "checksum": "d1efcba35a02c378152b05a1b057869a",
     "grade": false,
     "grade_id": "cell-b4370e23ea760754",
     "locked": false,
     "schema_version": 3,
     "solution": true,
     "task": false
    }
   },
   "outputs": [],
   "source": [
    "def get_tuples(data):\n",
    "    \"\"\"\n",
    "    Takes in a list of data and return them in tuples with index as the first element. \n",
    "    \"\"\"\n",
    "    tuple = [(x,letter) for x, letter in enumerate(data)]\n",
    "    return tuple"
   ]
  },
  {
   "cell_type": "code",
   "execution_count": 27,
   "metadata": {},
   "outputs": [
    {
     "data": {
      "text/plain": [
       "[(0, 'a'), (1, 'b'), (2, 'c')]"
      ]
     },
     "execution_count": 27,
     "metadata": {},
     "output_type": "execute_result"
    }
   ],
   "source": [
    "# Debugging cell\n",
    "get_tuples([\"a\", \"b\", \"c\"]) # should be [(0, 'a'), (1, 'b'), (2, 'c')]"
   ]
  },
  {
   "cell_type": "code",
   "execution_count": 30,
   "metadata": {
    "deletable": false,
    "editable": false,
    "nbgrader": {
     "cell_type": "code",
     "checksum": "8c3869405de61dc7f0bc32b0744a4a9e",
     "grade": true,
     "grade_id": "cell-40e9d187d35a6b50",
     "locked": true,
     "points": 2,
     "schema_version": 3,
     "solution": false,
     "task": false
    }
   },
   "outputs": [],
   "source": [
    "# Testing cell\n",
    "assert get_tuples.__doc__ is not None # make sure to have a docstring\n",
    "\n",
    "assert get_tuples([]) == []\n",
    "assert get_tuples(['a', 'b', 'c', 'd', 'e']) == [(0, 'a'), (1, 'b'), (2, 'c'), (3, 'd'), (4, 'e')]\n",
    "assert get_tuples([0, 1, 2]) == [(0, 0), (1, 1), (2, 2)]"
   ]
  },
  {
   "attachments": {},
   "cell_type": "markdown",
   "metadata": {},
   "source": [
    "---\n",
    "\n",
    "## Part F\n",
    "\n",
    "**Q14:** Write a function\n",
    "\n",
    "```\n",
    "    filterOut(data, value)\n",
    "```\n",
    "\n",
    "that returns a new list that contains the same elements as the list `data` except for those that equal `value`. Use a list comprehension. Your function should filter out all items equal to `value`.\n",
    "\n",
    "For example, `filterOut([3, 1, 5, 3, 9], 3)` should return the list `[1, 5, 9]`."
   ]
  },
  {
   "cell_type": "code",
   "execution_count": 11,
   "metadata": {
    "deletable": false,
    "nbgrader": {
     "cell_type": "code",
     "checksum": "c1e9672d7eb0ed3354ce222c210b7d3b",
     "grade": false,
     "grade_id": "cell-3f464b42be4a40e5",
     "locked": false,
     "schema_version": 3,
     "solution": true,
     "task": false
    }
   },
   "outputs": [],
   "source": [
    "def filterOut(data, value): \n",
    "    \"\"\"\n",
    "    Filters out unwanted value from input data\n",
    "    \"\"\"\n",
    "    filtered = []\n",
    "    func = [filtered.append(x) for x in data if x!=value]\n",
    "    return filtered"
   ]
  },
  {
   "cell_type": "code",
   "execution_count": 12,
   "metadata": {},
   "outputs": [
    {
     "data": {
      "text/plain": [
       "[1, 5, 9]"
      ]
     },
     "execution_count": 12,
     "metadata": {},
     "output_type": "execute_result"
    }
   ],
   "source": [
    "# Debugging cell\n",
    "filterOut([3, 1, 5, 3, 9], 3) # should be [1, 5, 9]"
   ]
  },
  {
   "cell_type": "code",
   "execution_count": 13,
   "metadata": {
    "deletable": false,
    "editable": false,
    "nbgrader": {
     "cell_type": "code",
     "checksum": "4d29d99fe608697f4df30465dd9194fa",
     "grade": true,
     "grade_id": "cell-cfa882c037ff13ff",
     "locked": true,
     "points": 2,
     "schema_version": 3,
     "solution": false,
     "task": false
    }
   },
   "outputs": [],
   "source": [
    "# Testing cell\n",
    "assert filterOut.__doc__ is not None # make sure to have a docstring\n",
    "\n",
    "assert(filterOut([3,1,5,3,9], 1) == [3,5,3,9])\n",
    "assert(filterOut([3,1,5,3,9], 9) == [3,1,5,3])\n",
    "assert(filterOut([3,1,5,3,9], 3) == [1,5,9])\n",
    "assert(filterOut([3,1,5,3,9], 2) == [3,1,5,3,9])"
   ]
  },
  {
   "attachments": {},
   "cell_type": "markdown",
   "metadata": {},
   "source": [
    "**Q15:** Write a function \n",
    "\n",
    "```\n",
    "    filterOutPosition(data, index)\n",
    "```\n",
    "\n",
    "that returns a new list that contains the same elements as the list `data` except for the one at the given `index`. If the value of `index` is negative or exceeds the length of data, return a copy of the original list.  Use a list comprehension.\n",
    "\n",
    "For example, `filterOutPosition([3, 1, 5, 9], 2)` should return the list `[3, 1, 9]`.\n",
    "\n",
    "Hint: Your source list must contain all the needed information for the list comprehension to do its job.  Explore the `zip` function and/or the `enumerate` function."
   ]
  },
  {
   "cell_type": "code",
   "execution_count": 14,
   "metadata": {
    "deletable": false,
    "nbgrader": {
     "cell_type": "code",
     "checksum": "c05e215906f03d7fb8049f3f0dfb1708",
     "grade": false,
     "grade_id": "cell-e2a5560beae8497e",
     "locked": false,
     "schema_version": 3,
     "solution": true,
     "task": false
    }
   },
   "outputs": [],
   "source": [
    "def filterOutPosition(data, index):\n",
    "    \"\"\"\n",
    "    Takes in a list of data and returns a new list with the unwanted index filtered out.\n",
    "    \"\"\"\n",
    "\n",
    "    if index <0 or index > len(data): \n",
    "        return data \n",
    "    index_lst = [x for x in range(len(data))]\n",
    "    filtered_lst = []\n",
    "    filtered = [filtered_lst.append(data[int(i)]) for i in index_lst if i!= index]\n",
    "    return filtered_lst"
   ]
  },
  {
   "cell_type": "code",
   "execution_count": 15,
   "metadata": {},
   "outputs": [
    {
     "data": {
      "text/plain": [
       "[3, 1, 9]"
      ]
     },
     "execution_count": 15,
     "metadata": {},
     "output_type": "execute_result"
    }
   ],
   "source": [
    "# Debugging cell\n",
    "filterOutPosition([3,1,5,9], 2) # should be [3, 1, 9]\n"
   ]
  },
  {
   "cell_type": "code",
   "execution_count": 16,
   "metadata": {
    "deletable": false,
    "editable": false,
    "nbgrader": {
     "cell_type": "code",
     "checksum": "3591ddb6a72bf60e81369e727939f3a0",
     "grade": true,
     "grade_id": "cell-7cd21bc67f04e583",
     "locked": true,
     "points": 2,
     "schema_version": 3,
     "solution": false,
     "task": false
    }
   },
   "outputs": [],
   "source": [
    "# Testing cell\n",
    "assert filterOutPosition.__doc__ is not None # make sure to have a docstring\n",
    "\n",
    "assert(filterOutPosition([3, 1, 5, 9], 0) == [1, 5, 9])\n",
    "assert(filterOutPosition([3, 1, 5, 9], 2) == [3, 1, 9])\n",
    "assert(filterOutPosition([3, 1, 5, 9], 3) == [3, 1, 5])\n",
    "assert(filterOutPosition([3, 1, 5, 9], -3) == [3, 1, 5, 9])\n",
    "assert(filterOutPosition([3, 1, 5, 9], 4) == [3, 1, 5, 9])"
   ]
  },
  {
   "cell_type": "markdown",
   "metadata": {},
   "source": [
    "---\n",
    "\n",
    "---\n",
    "## Part G\n",
    "\n",
    "How much time (in minutes/hours) did you spend on this homework assignment?"
   ]
  },
  {
   "attachments": {},
   "cell_type": "markdown",
   "metadata": {},
   "source": [
    "About an hour and a half for both."
   ]
  },
  {
   "cell_type": "markdown",
   "metadata": {},
   "source": [
    "Who was your partner for this assignment?  If you worked alone, say so instead."
   ]
  },
  {
   "attachments": {},
   "cell_type": "markdown",
   "metadata": {},
   "source": [
    "Alone"
   ]
  }
 ],
 "metadata": {
  "kernelspec": {
   "display_name": "Python 3",
   "language": "python",
   "name": "python3"
  },
  "language_info": {
   "codemirror_mode": {
    "name": "ipython",
    "version": 3
   },
   "file_extension": ".py",
   "mimetype": "text/x-python",
   "name": "python",
   "nbconvert_exporter": "python",
   "pygments_lexer": "ipython3",
   "version": "3.10.6"
  },
  "vscode": {
   "interpreter": {
    "hash": "aee8b7b246df8f9039afb4144a1f6fd8d2ca17a180786b69acc140d282b71a49"
   }
  }
 },
 "nbformat": 4,
 "nbformat_minor": 4
}
