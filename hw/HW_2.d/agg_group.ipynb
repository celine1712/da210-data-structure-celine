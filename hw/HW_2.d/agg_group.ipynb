{
 "cells": [
  {
   "attachments": {},
   "cell_type": "markdown",
   "metadata": {},
   "source": [
    "# Denison DA210/CS181 Homework 2.d - Step 1\n",
    "\n",
    "Before you turn this problem in, make sure everything runs as expected. This is a combination of **restarting the kernel** and then **running all cells** (in the menubar, select Kernel$\\rightarrow$Restart And Run All).\n",
    "\n",
    "Make sure you fill in any place that says `# YOUR CODE HERE` or \"YOUR ANSWER HERE\"."
   ]
  },
  {
   "cell_type": "markdown",
   "metadata": {},
   "source": [
    "---"
   ]
  },
  {
   "cell_type": "code",
   "execution_count": 1,
   "metadata": {},
   "outputs": [],
   "source": [
    "import os\n",
    "import os.path\n",
    "import pandas as pd\n",
    "\n",
    "datadir = \"publicdata\""
   ]
  },
  {
   "cell_type": "markdown",
   "metadata": {},
   "source": [
    "---\n",
    "\n",
    "## Part A: Aggregating a `Series`/`DataFrame`\n",
    "\n",
    "**Q1:** Read CSV file `topnames.csv` in `datadir` into a data frame named `topnames0`, with no index.  Using individual operations on the `count` column, find the mean, the median, and the max count, assigning to `mean_counts`, `median_counts`, and `max_counts`."
   ]
  },
  {
   "cell_type": "code",
   "execution_count": 30,
   "metadata": {
    "deletable": false,
    "nbgrader": {
     "cell_type": "code",
     "checksum": "56a21f4d74ca19c2fd0b3be41c1d6a0d",
     "grade": false,
     "grade_id": "cell-273768f03f8357e7",
     "locked": false,
     "schema_version": 3,
     "solution": true,
     "task": false
    }
   },
   "outputs": [],
   "source": [
    "file = pd.read_csv(os.path.join(datadir, \"topnames.csv\"))\n",
    "topnames0 = pd.DataFrame(file)\n",
    "#mean\n",
    "mean_counts = topnames0[\"count\"].mean()\n",
    "#median \n",
    "median_counts = topnames0[\"count\"].median()\n",
    "#max\n",
    "max_counts = topnames0[\"count\"].max()\n",
    "\n"
   ]
  },
  {
   "cell_type": "code",
   "execution_count": 31,
   "metadata": {},
   "outputs": [
    {
     "name": "stdout",
     "output_type": "stream",
     "text": [
      "Mean: 44985.24460431655 Median: 52556.0 Max: 99689\n"
     ]
    }
   ],
   "source": [
    "# Printing cell\n",
    "print(\"Mean:\", mean_counts,\n",
    "      \"Median:\", median_counts,\n",
    "      \"Max:\", max_counts)"
   ]
  },
  {
   "cell_type": "code",
   "execution_count": 32,
   "metadata": {
    "deletable": false,
    "editable": false,
    "nbgrader": {
     "cell_type": "code",
     "checksum": "33717e77cbc90703a46c471991939d68",
     "grade": true,
     "grade_id": "cell-057e3c90c18b71de",
     "locked": true,
     "points": 2,
     "schema_version": 3,
     "solution": false,
     "task": false
    }
   },
   "outputs": [],
   "source": [
    "# Testing Cell\n",
    "assert abs(mean_counts - 44985.2446) < 0.001\n",
    "assert median_counts == 52556.0\n",
    "assert max_counts == 99689"
   ]
  },
  {
   "cell_type": "markdown",
   "metadata": {},
   "source": [
    "**Q2:** Using the `agg` method on the `Series` of the column vector of counts, perform the same calculation of mean, median, and max in a single step, and assign to `agg_values`.  Note that this invocation may not have an exact correspondent in the book, so you may have to look up [documentation](https://pandas.pydata.org/docs/reference/api/pandas.Series.agg.html) for using `agg` on a `Series`."
   ]
  },
  {
   "cell_type": "code",
   "execution_count": 84,
   "metadata": {
    "deletable": false,
    "nbgrader": {
     "cell_type": "code",
     "checksum": "a13203da17c6ea29f0c767ea0ec98983",
     "grade": false,
     "grade_id": "cell-b34127acc546301e",
     "locked": false,
     "schema_version": 3,
     "solution": true,
     "task": false
    }
   },
   "outputs": [
    {
     "data": {
      "text/plain": [
       "pandas.core.series.Series"
      ]
     },
     "execution_count": 84,
     "metadata": {},
     "output_type": "execute_result"
    }
   ],
   "source": [
    "\n",
    "agg_values = topnames0[\"count\"].agg([\"mean\",\"median\",\"max\"])\n",
    "\n",
    "# Display the aggregated values\n",
    "agg_values\n",
    "\n",
    "type(agg_values)"
   ]
  },
  {
   "cell_type": "code",
   "execution_count": 47,
   "metadata": {
    "deletable": false,
    "editable": false,
    "nbgrader": {
     "cell_type": "code",
     "checksum": "0318b1296664a2fde935df60396140c4",
     "grade": true,
     "grade_id": "cell-69c4bfbbc5c3e7c6",
     "locked": true,
     "points": 2,
     "schema_version": 3,
     "solution": false,
     "task": false
    }
   },
   "outputs": [],
   "source": [
    "# Testing Cell\n",
    "assert abs(agg_values.loc[\"mean\"] - 44985.2446) < 0.001\n",
    "assert agg_values.loc[\"median\"] == 52556.0\n",
    "assert agg_values.loc[\"max\"] == 99689.0"
   ]
  },
  {
   "cell_type": "markdown",
   "metadata": {},
   "source": [
    "**Q3:** What is the data type of `agg_values`?  (I.e., what is the result of using `agg` on a `Series`?)"
   ]
  },
  {
   "attachments": {},
   "cell_type": "markdown",
   "metadata": {},
   "source": [
    "agg_values is a Series"
   ]
  },
  {
   "cell_type": "markdown",
   "metadata": {},
   "source": [
    "**Q4:** Create a subset of `topnames0` restricted to `Female` entries between `1960` and `1969`, inclusive.  Assign this to `female_subset`.  Then use the `agg` function, in one step, to determine the mean and median count and the number of unique names, assigning to `female_aggvalues`."
   ]
  },
  {
   "cell_type": "code",
   "execution_count": 109,
   "metadata": {
    "deletable": false,
    "nbgrader": {
     "cell_type": "code",
     "checksum": "e99a40d1c35bb027073f74d32e7f679d",
     "grade": false,
     "grade_id": "cell-66dbb0e2aa2de096",
     "locked": false,
     "schema_version": 3,
     "solution": true,
     "task": false
    }
   },
   "outputs": [
    {
     "data": {
      "text/plain": [
       "pandas.core.frame.DataFrame"
      ]
     },
     "execution_count": 109,
     "metadata": {},
     "output_type": "execute_result"
    }
   ],
   "source": [
    "female_subset = topnames0[(topnames0[\"sex\"] == \"Female\") & (topnames0[\"year\"] >= 1960) & (topnames0[\"year\"] <= 1969)]\n",
    "\n",
    "\n",
    "female_aggvalues = female_subset.agg({\"count\": [\"mean\",\"median\"], \"name\":[\"nunique\"]})\n",
    "\n",
    "# Display the aggregated values\n",
    "female_aggvalues"
   ]
  },
  {
   "cell_type": "code",
   "execution_count": 108,
   "metadata": {
    "deletable": false,
    "editable": false,
    "nbgrader": {
     "cell_type": "code",
     "checksum": "9c023894c1ade68ec83ff46c4684e4b4",
     "grade": true,
     "grade_id": "cell-a39ace3d52b87ed8",
     "locked": true,
     "points": 2,
     "schema_version": 3,
     "solution": false,
     "task": false
    }
   },
   "outputs": [],
   "source": [
    "# Testing Cell\n",
    "assert female_aggvalues.shape == (3,2)\n",
    "assert female_aggvalues.loc[\"mean\", \"count\"] == 51972.7\n",
    "assert female_aggvalues.loc[\"median\", \"count\"] == 51955.0\n",
    "assert female_aggvalues.loc[\"nunique\", \"name\"] == 2.0"
   ]
  },
  {
   "cell_type": "markdown",
   "metadata": {},
   "source": [
    "**Q5:** What is the data type of `female_aggvalues`?  (I.e., what is the result of using `agg` on a subset of a `DataFrame`?)"
   ]
  },
  {
   "attachments": {},
   "cell_type": "markdown",
   "metadata": {},
   "source": [
    "female_aggvalues is a DataFrame "
   ]
  },
  {
   "attachments": {},
   "cell_type": "markdown",
   "metadata": {},
   "source": [
    "**Q6:** The constraints for selecting the rows from the last problem are based on `sex` and `year`.  We often use these independent variables to set an index for a data set.  Then, when we want to filter rows, our operations that use row label/`index` values for filtering are different.\n",
    "\n",
    "Start by creating dataframe `topnames` with its index drawn from the columns `year` and `sex`.  Then, with a goal of the same use of the `agg` function from **Q4**, use `xs` to take a cross section of `topnames` to get the Female entries and then use `loc` to get a data frame, `female_xs_subset`, for the year range from 1960 to 1969, inclusive.  Finally, use `agg` on this data frame to, in one step, determine the mean and median count and the number of unique names, assigning to `female_xs_aggvalues`."
   ]
  },
  {
   "cell_type": "code",
   "execution_count": 137,
   "metadata": {
    "deletable": false,
    "nbgrader": {
     "cell_type": "code",
     "checksum": "e4ebd7ea5c540803aee99c39ae158f75",
     "grade": false,
     "grade_id": "cell-26dd6084fbc01496",
     "locked": false,
     "schema_version": 3,
     "solution": true,
     "task": false
    }
   },
   "outputs": [
    {
     "data": {
      "text/html": [
       "<div>\n",
       "<style scoped>\n",
       "    .dataframe tbody tr th:only-of-type {\n",
       "        vertical-align: middle;\n",
       "    }\n",
       "\n",
       "    .dataframe tbody tr th {\n",
       "        vertical-align: top;\n",
       "    }\n",
       "\n",
       "    .dataframe thead th {\n",
       "        text-align: right;\n",
       "    }\n",
       "</style>\n",
       "<table border=\"1\" class=\"dataframe\">\n",
       "  <thead>\n",
       "    <tr style=\"text-align: right;\">\n",
       "      <th></th>\n",
       "      <th>count</th>\n",
       "      <th>name</th>\n",
       "    </tr>\n",
       "  </thead>\n",
       "  <tbody>\n",
       "    <tr>\n",
       "      <th>mean</th>\n",
       "      <td>51972.7</td>\n",
       "      <td>NaN</td>\n",
       "    </tr>\n",
       "    <tr>\n",
       "      <th>median</th>\n",
       "      <td>51955.0</td>\n",
       "      <td>NaN</td>\n",
       "    </tr>\n",
       "    <tr>\n",
       "      <th>nunique</th>\n",
       "      <td>NaN</td>\n",
       "      <td>2.0</td>\n",
       "    </tr>\n",
       "  </tbody>\n",
       "</table>\n",
       "</div>"
      ],
      "text/plain": [
       "           count  name\n",
       "mean     51972.7   NaN\n",
       "median   51955.0   NaN\n",
       "nunique      NaN   2.0"
      ]
     },
     "execution_count": 137,
     "metadata": {},
     "output_type": "execute_result"
    }
   ],
   "source": [
    "topnames = topnames0.set_index([\"sex\",\"year\"], inplace=False)\n",
    "\n",
    "female_xs_subset = topnames.xs(key = \"Female\", level = \"sex\")\n",
    "\n",
    "\n",
    "female_xs_subset = female_xs_subset.loc[1960:1969, :]\n",
    "\n",
    "female_xs_aggvalues = female_xs_subset.agg({\"count\": [\"mean\",\"median\"], \"name\":[\"nunique\"]})\n",
    "# Display the aggregated values\n",
    "\n",
    "female_xs_aggvalues\n"
   ]
  },
  {
   "cell_type": "code",
   "execution_count": 138,
   "metadata": {
    "deletable": false,
    "editable": false,
    "nbgrader": {
     "cell_type": "code",
     "checksum": "2a55f1a050739815b8fe278f3edc2f5b",
     "grade": true,
     "grade_id": "cell-28e7b414f2cfbfdb",
     "locked": true,
     "points": 2,
     "schema_version": 3,
     "solution": false,
     "task": false
    }
   },
   "outputs": [],
   "source": [
    "# Testing Cell\n",
    "assert female_xs_aggvalues.shape == (3,2)\n",
    "assert female_xs_aggvalues.loc[\"mean\", \"count\"] == 51972.7\n",
    "assert female_xs_aggvalues.loc[\"median\", \"count\"] == 51955.0\n",
    "assert female_xs_aggvalues.loc[\"nunique\", \"name\"] == 2.0"
   ]
  },
  {
   "cell_type": "markdown",
   "metadata": {},
   "source": [
    "---\n",
    "\n",
    "## Part B: GroupBy\n",
    "\n",
    "**Q7:** Read CSV file `indicators2016.csv` in `datadir` into a data frame named `indicators0`, with no index. Write code to add a new column `popSize` to `indicators0` which takes value `\"high\"` if `pop > 300`, `\"low\"` if `pop < 50`, and `\"medium\"` otherwise."
   ]
  },
  {
   "cell_type": "code",
   "execution_count": 144,
   "metadata": {
    "deletable": false,
    "nbgrader": {
     "cell_type": "code",
     "checksum": "9fd6fb8998593a87d41d8b90bd19914e",
     "grade": false,
     "grade_id": "cell-12f1961184fc392c",
     "locked": false,
     "schema_version": 3,
     "solution": true,
     "task": false
    }
   },
   "outputs": [
    {
     "data": {
      "text/html": [
       "<div>\n",
       "<style scoped>\n",
       "    .dataframe tbody tr th:only-of-type {\n",
       "        vertical-align: middle;\n",
       "    }\n",
       "\n",
       "    .dataframe tbody tr th {\n",
       "        vertical-align: top;\n",
       "    }\n",
       "\n",
       "    .dataframe thead th {\n",
       "        text-align: right;\n",
       "    }\n",
       "</style>\n",
       "<table border=\"1\" class=\"dataframe\">\n",
       "  <thead>\n",
       "    <tr style=\"text-align: right;\">\n",
       "      <th></th>\n",
       "      <th>code</th>\n",
       "      <th>country</th>\n",
       "      <th>pop</th>\n",
       "      <th>gdp</th>\n",
       "      <th>life</th>\n",
       "      <th>cell</th>\n",
       "      <th>popSize</th>\n",
       "    </tr>\n",
       "  </thead>\n",
       "  <tbody>\n",
       "    <tr>\n",
       "      <th>0</th>\n",
       "      <td>ABW</td>\n",
       "      <td>Aruba</td>\n",
       "      <td>0.10</td>\n",
       "      <td>NaN</td>\n",
       "      <td>75.87</td>\n",
       "      <td>NaN</td>\n",
       "      <td>low</td>\n",
       "    </tr>\n",
       "    <tr>\n",
       "      <th>1</th>\n",
       "      <td>AFG</td>\n",
       "      <td>Afghanistan</td>\n",
       "      <td>34.66</td>\n",
       "      <td>19.47</td>\n",
       "      <td>63.67</td>\n",
       "      <td>21.60</td>\n",
       "      <td>low</td>\n",
       "    </tr>\n",
       "    <tr>\n",
       "      <th>2</th>\n",
       "      <td>AGO</td>\n",
       "      <td>Angola</td>\n",
       "      <td>28.81</td>\n",
       "      <td>95.34</td>\n",
       "      <td>61.55</td>\n",
       "      <td>13.00</td>\n",
       "      <td>low</td>\n",
       "    </tr>\n",
       "    <tr>\n",
       "      <th>3</th>\n",
       "      <td>ALB</td>\n",
       "      <td>Albania</td>\n",
       "      <td>2.88</td>\n",
       "      <td>11.86</td>\n",
       "      <td>78.34</td>\n",
       "      <td>3.37</td>\n",
       "      <td>low</td>\n",
       "    </tr>\n",
       "    <tr>\n",
       "      <th>4</th>\n",
       "      <td>AND</td>\n",
       "      <td>Andorra</td>\n",
       "      <td>0.08</td>\n",
       "      <td>2.86</td>\n",
       "      <td>NaN</td>\n",
       "      <td>0.07</td>\n",
       "      <td>low</td>\n",
       "    </tr>\n",
       "    <tr>\n",
       "      <th>...</th>\n",
       "      <td>...</td>\n",
       "      <td>...</td>\n",
       "      <td>...</td>\n",
       "      <td>...</td>\n",
       "      <td>...</td>\n",
       "      <td>...</td>\n",
       "      <td>...</td>\n",
       "    </tr>\n",
       "    <tr>\n",
       "      <th>215</th>\n",
       "      <td>XKX</td>\n",
       "      <td>Kosovo</td>\n",
       "      <td>1.82</td>\n",
       "      <td>6.65</td>\n",
       "      <td>71.65</td>\n",
       "      <td>NaN</td>\n",
       "      <td>low</td>\n",
       "    </tr>\n",
       "    <tr>\n",
       "      <th>216</th>\n",
       "      <td>YEM</td>\n",
       "      <td>Yemen, Rep.</td>\n",
       "      <td>27.58</td>\n",
       "      <td>27.32</td>\n",
       "      <td>64.95</td>\n",
       "      <td>16.43</td>\n",
       "      <td>low</td>\n",
       "    </tr>\n",
       "    <tr>\n",
       "      <th>217</th>\n",
       "      <td>ZAF</td>\n",
       "      <td>South Africa</td>\n",
       "      <td>56.02</td>\n",
       "      <td>295.46</td>\n",
       "      <td>62.77</td>\n",
       "      <td>82.41</td>\n",
       "      <td>medium</td>\n",
       "    </tr>\n",
       "    <tr>\n",
       "      <th>218</th>\n",
       "      <td>ZMB</td>\n",
       "      <td>Zambia</td>\n",
       "      <td>16.59</td>\n",
       "      <td>21.06</td>\n",
       "      <td>61.87</td>\n",
       "      <td>12.02</td>\n",
       "      <td>low</td>\n",
       "    </tr>\n",
       "    <tr>\n",
       "      <th>219</th>\n",
       "      <td>ZWE</td>\n",
       "      <td>Zimbabwe</td>\n",
       "      <td>16.15</td>\n",
       "      <td>16.62</td>\n",
       "      <td>61.16</td>\n",
       "      <td>12.88</td>\n",
       "      <td>low</td>\n",
       "    </tr>\n",
       "  </tbody>\n",
       "</table>\n",
       "<p>220 rows × 7 columns</p>\n",
       "</div>"
      ],
      "text/plain": [
       "    code       country    pop     gdp   life   cell popSize\n",
       "0    ABW         Aruba   0.10     NaN  75.87    NaN     low\n",
       "1    AFG   Afghanistan  34.66   19.47  63.67  21.60     low\n",
       "2    AGO        Angola  28.81   95.34  61.55  13.00     low\n",
       "3    ALB       Albania   2.88   11.86  78.34   3.37     low\n",
       "4    AND       Andorra   0.08    2.86    NaN   0.07     low\n",
       "..   ...           ...    ...     ...    ...    ...     ...\n",
       "215  XKX        Kosovo   1.82    6.65  71.65    NaN     low\n",
       "216  YEM   Yemen, Rep.  27.58   27.32  64.95  16.43     low\n",
       "217  ZAF  South Africa  56.02  295.46  62.77  82.41  medium\n",
       "218  ZMB        Zambia  16.59   21.06  61.87  12.02     low\n",
       "219  ZWE      Zimbabwe  16.15   16.62  61.16  12.88     low\n",
       "\n",
       "[220 rows x 7 columns]"
      ]
     },
     "execution_count": 144,
     "metadata": {},
     "output_type": "execute_result"
    }
   ],
   "source": [
    "indicators0 = pd.DataFrame(pd.read_csv(os.path.join(datadir, \"indicators2016.csv\")))\n",
    "def check(x): \n",
    "    if x >300:\n",
    "        return \"high\"\n",
    "    elif x <50: \n",
    "        return \"low\"\n",
    "    else:\n",
    "        return \"medium\"\n",
    "\n",
    "size = indicators0[\"pop\"].apply(check)\n",
    "\n",
    "indicators0[\"popSize\"] = size\n",
    "\n",
    "indicators0 \n",
    "# Display part of the DataFrame\n",
    "#indicators0.head()"
   ]
  },
  {
   "cell_type": "code",
   "execution_count": 145,
   "metadata": {
    "deletable": false,
    "editable": false,
    "nbgrader": {
     "cell_type": "code",
     "checksum": "2fb7c51b66f77ef77a3eb9f3036de4a6",
     "grade": true,
     "grade_id": "cell-2b5d0d4dc0d329f3",
     "locked": true,
     "points": 2,
     "schema_version": 3,
     "solution": false,
     "task": false
    }
   },
   "outputs": [],
   "source": [
    "# Testing Cell\n",
    "assert indicators0[\"popSize\"].nunique() == 3\n",
    "assert indicators0[\"popSize\"].value_counts()[\"low\"] == 189\n",
    "assert indicators0[\"popSize\"].value_counts()[\"medium\"] == 25\n",
    "assert indicators0[\"popSize\"].value_counts()[\"high\"] == 6\n",
    "assert indicators0.loc[205, \"popSize\"] == \"high\"\n",
    "assert indicators0.loc[17, \"popSize\"] == \"medium\"\n",
    "assert indicators0.loc[4, \"popSize\"] == \"low\""
   ]
  },
  {
   "cell_type": "markdown",
   "metadata": {},
   "source": [
    "**Q8:** Building on the question above, use `groupby` to partition `indicators0` by this new column `popSize`, assigning to variable `groupby_pop`."
   ]
  },
  {
   "cell_type": "code",
   "execution_count": 158,
   "metadata": {
    "deletable": false,
    "nbgrader": {
     "cell_type": "code",
     "checksum": "41cf473f64d9393b8af048383d7b5ef6",
     "grade": false,
     "grade_id": "cell-023cf542221ea589",
     "locked": false,
     "schema_version": 3,
     "solution": true,
     "task": false
    }
   },
   "outputs": [
    {
     "name": "stdout",
     "output_type": "stream",
     "text": [
      "3\n"
     ]
    }
   ],
   "source": [
    "groupby_pop = indicators0.groupby(\"popSize\")\n",
    "\n",
    "# Print the number of groups\n",
    "print(len(groupby_pop))\n"
   ]
  },
  {
   "cell_type": "code",
   "execution_count": 147,
   "metadata": {
    "deletable": false,
    "editable": false,
    "nbgrader": {
     "cell_type": "code",
     "checksum": "80be9380098501633e920a6db849ed57",
     "grade": true,
     "grade_id": "cell-b3a522c4ffed3e54",
     "locked": true,
     "points": 2,
     "schema_version": 3,
     "solution": false,
     "task": false
    }
   },
   "outputs": [],
   "source": [
    "# Testing Cell\n",
    "assert len(groupby_pop) == 3"
   ]
  },
  {
   "cell_type": "markdown",
   "metadata": {},
   "source": [
    "**Q9:** What is the data type of `groupby_pop`?  (I.e., what is the result of using `groupby` on a `DataFrame`?)"
   ]
  },
  {
   "attachments": {},
   "cell_type": "markdown",
   "metadata": {},
   "source": [
    "When I use type(groupby_pop) it says that groupby_pop is a generic dataframe groupby(?), so I guess it is a dataframe that has an indicator column as \"high\", \"low\", and \"medium\". "
   ]
  },
  {
   "cell_type": "markdown",
   "metadata": {},
   "source": [
    "**Q10:** Building on the question above, aggregate this groupby partitioning, determining the **number of non-missing elements** for the columns `code`, `pop`, `gdp`, `life`, and `cell` by partition.  Assign the result to `partition_counts`.\n",
    "\n",
    "Hint: You can make this general by using a list-comprehension-type expression to create a dictionary.  (This is not necessary, but cool to use.)"
   ]
  },
  {
   "cell_type": "code",
   "execution_count": 160,
   "metadata": {
    "deletable": false,
    "nbgrader": {
     "cell_type": "code",
     "checksum": "4f2f284bd522c5d9cf53bee23d16cd06",
     "grade": false,
     "grade_id": "cell-0c97c6a6e4ad592d",
     "locked": false,
     "schema_version": 3,
     "solution": true,
     "task": false
    }
   },
   "outputs": [
    {
     "data": {
      "text/html": [
       "<div>\n",
       "<style scoped>\n",
       "    .dataframe tbody tr th:only-of-type {\n",
       "        vertical-align: middle;\n",
       "    }\n",
       "\n",
       "    .dataframe tbody tr th {\n",
       "        vertical-align: top;\n",
       "    }\n",
       "\n",
       "    .dataframe thead th {\n",
       "        text-align: right;\n",
       "    }\n",
       "</style>\n",
       "<table border=\"1\" class=\"dataframe\">\n",
       "  <thead>\n",
       "    <tr style=\"text-align: right;\">\n",
       "      <th></th>\n",
       "      <th>code</th>\n",
       "      <th>pop</th>\n",
       "      <th>gdp</th>\n",
       "      <th>life</th>\n",
       "      <th>cell</th>\n",
       "    </tr>\n",
       "    <tr>\n",
       "      <th>popSize</th>\n",
       "      <th></th>\n",
       "      <th></th>\n",
       "      <th></th>\n",
       "      <th></th>\n",
       "      <th></th>\n",
       "    </tr>\n",
       "  </thead>\n",
       "  <tbody>\n",
       "    <tr>\n",
       "      <th>high</th>\n",
       "      <td>6</td>\n",
       "      <td>6</td>\n",
       "      <td>6</td>\n",
       "      <td>6</td>\n",
       "      <td>6</td>\n",
       "    </tr>\n",
       "    <tr>\n",
       "      <th>low</th>\n",
       "      <td>189</td>\n",
       "      <td>189</td>\n",
       "      <td>164</td>\n",
       "      <td>171</td>\n",
       "      <td>172</td>\n",
       "    </tr>\n",
       "    <tr>\n",
       "      <th>medium</th>\n",
       "      <td>25</td>\n",
       "      <td>24</td>\n",
       "      <td>24</td>\n",
       "      <td>25</td>\n",
       "      <td>25</td>\n",
       "    </tr>\n",
       "  </tbody>\n",
       "</table>\n",
       "</div>"
      ],
      "text/plain": [
       "         code  pop  gdp  life  cell\n",
       "popSize                            \n",
       "high        6    6    6     6     6\n",
       "low       189  189  164   171   172\n",
       "medium     25   24   24    25    25"
      ]
     },
     "execution_count": 160,
     "metadata": {},
     "output_type": "execute_result"
    }
   ],
   "source": [
    "aggs = {\"code\":\"count\", \"pop\":\"count\",\"gdp\":\"count\", \"life\":\"count\", \"cell\": \"count\"}\n",
    "\n",
    "partition_counts = groupby_pop.agg(aggs)\n",
    "\n",
    "# Display the grouped counts\n",
    "partition_counts"
   ]
  },
  {
   "cell_type": "code",
   "execution_count": 161,
   "metadata": {
    "deletable": false,
    "editable": false,
    "nbgrader": {
     "cell_type": "code",
     "checksum": "718874848940afc4004b1b565ede7c6f",
     "grade": true,
     "grade_id": "cell-66f8badba21e1cb5",
     "locked": true,
     "points": 2,
     "schema_version": 3,
     "solution": false,
     "task": false
    }
   },
   "outputs": [],
   "source": [
    "# Testing Cell\n",
    "assert partition_counts.shape == (3,5)\n",
    "assert partition_counts.loc[\"low\", \"code\"] == 189\n",
    "assert partition_counts.loc[\"medium\", \"gdp\"] == 24\n",
    "assert partition_counts.loc[\"high\", \"cell\"] == 6"
   ]
  },
  {
   "cell_type": "markdown",
   "metadata": {},
   "source": [
    "**Q11:** In similar fashion, determine the mean, by partition, of `pop`, `gdp`, and `cell`, and the max of `life`, assigning to `partition_aggvalues`.  Use the `round()` method of DataFrames to round the numeric values to 2 decimal places."
   ]
  },
  {
   "cell_type": "code",
   "execution_count": 167,
   "metadata": {
    "deletable": false,
    "nbgrader": {
     "cell_type": "code",
     "checksum": "6fb0e630743d95db2c1a3a47fb2914c7",
     "grade": false,
     "grade_id": "cell-a188147fe195416e",
     "locked": false,
     "schema_version": 3,
     "solution": true,
     "task": false
    }
   },
   "outputs": [
    {
     "data": {
      "text/html": [
       "<div>\n",
       "<style scoped>\n",
       "    .dataframe tbody tr th:only-of-type {\n",
       "        vertical-align: middle;\n",
       "    }\n",
       "\n",
       "    .dataframe tbody tr th {\n",
       "        vertical-align: top;\n",
       "    }\n",
       "\n",
       "    .dataframe thead th {\n",
       "        text-align: right;\n",
       "    }\n",
       "</style>\n",
       "<table border=\"1\" class=\"dataframe\">\n",
       "  <thead>\n",
       "    <tr style=\"text-align: right;\">\n",
       "      <th></th>\n",
       "      <th>pop</th>\n",
       "      <th>gdp</th>\n",
       "      <th>life</th>\n",
       "      <th>cell</th>\n",
       "    </tr>\n",
       "    <tr>\n",
       "      <th>popSize</th>\n",
       "      <th></th>\n",
       "      <th></th>\n",
       "      <th></th>\n",
       "      <th></th>\n",
       "    </tr>\n",
       "  </thead>\n",
       "  <tbody>\n",
       "    <tr>\n",
       "      <th>high</th>\n",
       "      <td>2100.92</td>\n",
       "      <td>18715.31</td>\n",
       "      <td>78.69</td>\n",
       "      <td>2040.46</td>\n",
       "    </tr>\n",
       "    <tr>\n",
       "      <th>low</th>\n",
       "      <td>9.44</td>\n",
       "      <td>101.67</td>\n",
       "      <td>84.23</td>\n",
       "      <td>10.26</td>\n",
       "    </tr>\n",
       "    <tr>\n",
       "      <th>medium</th>\n",
       "      <td>108.52</td>\n",
       "      <td>1076.00</td>\n",
       "      <td>83.98</td>\n",
       "      <td>113.07</td>\n",
       "    </tr>\n",
       "  </tbody>\n",
       "</table>\n",
       "</div>"
      ],
      "text/plain": [
       "             pop       gdp   life     cell\n",
       "popSize                                   \n",
       "high     2100.92  18715.31  78.69  2040.46\n",
       "low         9.44    101.67  84.23    10.26\n",
       "medium    108.52   1076.00  83.98   113.07"
      ]
     },
     "execution_count": 167,
     "metadata": {},
     "output_type": "execute_result"
    }
   ],
   "source": [
    "aggs = {\"pop\":\"mean\",\"gdp\":\"mean\", \"life\":\"max\", \"cell\": \"mean\"}\n",
    "\n",
    "partition_aggvalues = groupby_pop.agg(aggs).round(2)\n",
    "\n",
    "# Display the grouped aggregated values\n",
    "partition_aggvalues"
   ]
  },
  {
   "cell_type": "code",
   "execution_count": 168,
   "metadata": {
    "deletable": false,
    "editable": false,
    "nbgrader": {
     "cell_type": "code",
     "checksum": "96f4b68141020b6b367eddb098be4aa2",
     "grade": true,
     "grade_id": "cell-527de16856555a86",
     "locked": true,
     "points": 2,
     "schema_version": 3,
     "solution": false,
     "task": false
    }
   },
   "outputs": [],
   "source": [
    "# Testing Cell\n",
    "assert partition_aggvalues.shape == (3,4)\n",
    "assert partition_aggvalues.loc[\"low\", \"gdp\"] == 101.67\n",
    "assert partition_aggvalues.loc[\"medium\", \"life\"] == 83.98\n",
    "assert partition_aggvalues.loc[\"high\", \"pop\"] == 2100.92"
   ]
  },
  {
   "cell_type": "markdown",
   "metadata": {},
   "source": [
    "**Q12:** In similar fashion, determine the mean, min, and max of `gdp` and `life`, assigning to `partition_aggvalues2` and again rounding to two decimal places."
   ]
  },
  {
   "cell_type": "code",
   "execution_count": 169,
   "metadata": {
    "deletable": false,
    "nbgrader": {
     "cell_type": "code",
     "checksum": "d9af44e0deb5ebdec044311a5d94f65f",
     "grade": false,
     "grade_id": "cell-4a555edd9837afc7",
     "locked": false,
     "schema_version": 3,
     "solution": true,
     "task": false
    }
   },
   "outputs": [
    {
     "data": {
      "text/html": [
       "<div>\n",
       "<style scoped>\n",
       "    .dataframe tbody tr th:only-of-type {\n",
       "        vertical-align: middle;\n",
       "    }\n",
       "\n",
       "    .dataframe tbody tr th {\n",
       "        vertical-align: top;\n",
       "    }\n",
       "\n",
       "    .dataframe thead tr th {\n",
       "        text-align: left;\n",
       "    }\n",
       "\n",
       "    .dataframe thead tr:last-of-type th {\n",
       "        text-align: right;\n",
       "    }\n",
       "</style>\n",
       "<table border=\"1\" class=\"dataframe\">\n",
       "  <thead>\n",
       "    <tr>\n",
       "      <th></th>\n",
       "      <th colspan=\"3\" halign=\"left\">gdp</th>\n",
       "      <th colspan=\"3\" halign=\"left\">life</th>\n",
       "    </tr>\n",
       "    <tr>\n",
       "      <th></th>\n",
       "      <th>mean</th>\n",
       "      <th>min</th>\n",
       "      <th>max</th>\n",
       "      <th>mean</th>\n",
       "      <th>min</th>\n",
       "      <th>max</th>\n",
       "    </tr>\n",
       "    <tr>\n",
       "      <th>popSize</th>\n",
       "      <th></th>\n",
       "      <th></th>\n",
       "      <th></th>\n",
       "      <th></th>\n",
       "      <th></th>\n",
       "      <th></th>\n",
       "    </tr>\n",
       "  </thead>\n",
       "  <tbody>\n",
       "    <tr>\n",
       "      <th>high</th>\n",
       "      <td>18715.31</td>\n",
       "      <td>1440.24</td>\n",
       "      <td>75871.74</td>\n",
       "      <td>72.87</td>\n",
       "      <td>68.56</td>\n",
       "      <td>78.69</td>\n",
       "    </tr>\n",
       "    <tr>\n",
       "      <th>low</th>\n",
       "      <td>101.67</td>\n",
       "      <td>0.03</td>\n",
       "      <td>1535.77</td>\n",
       "      <td>72.15</td>\n",
       "      <td>51.84</td>\n",
       "      <td>84.23</td>\n",
       "    </tr>\n",
       "    <tr>\n",
       "      <th>medium</th>\n",
       "      <td>1076.00</td>\n",
       "      <td>35.38</td>\n",
       "      <td>4949.27</td>\n",
       "      <td>72.29</td>\n",
       "      <td>53.43</td>\n",
       "      <td>83.98</td>\n",
       "    </tr>\n",
       "  </tbody>\n",
       "</table>\n",
       "</div>"
      ],
      "text/plain": [
       "              gdp                      life              \n",
       "             mean      min       max   mean    min    max\n",
       "popSize                                                  \n",
       "high     18715.31  1440.24  75871.74  72.87  68.56  78.69\n",
       "low        101.67     0.03   1535.77  72.15  51.84  84.23\n",
       "medium    1076.00    35.38   4949.27  72.29  53.43  83.98"
      ]
     },
     "execution_count": 169,
     "metadata": {},
     "output_type": "execute_result"
    }
   ],
   "source": [
    "aggs = {\"gdp\":[\"mean\",\"min\", \"max\"], \"life\":[\"mean\",\"min\", \"max\"]}\n",
    "\n",
    "partition_aggvalues2 = groupby_pop.agg(aggs).round(2)\n",
    "\n",
    "# Display the grouped aggregated values\n",
    "\n",
    "# Display the grouped aggregated values\n",
    "partition_aggvalues2"
   ]
  },
  {
   "cell_type": "code",
   "execution_count": 170,
   "metadata": {
    "deletable": false,
    "editable": false,
    "nbgrader": {
     "cell_type": "code",
     "checksum": "3fcfff28bd3f04d2c80b1c0d5e0309fd",
     "grade": true,
     "grade_id": "cell-0eac3eb8a2736913",
     "locked": true,
     "points": 2,
     "schema_version": 3,
     "solution": false,
     "task": false
    }
   },
   "outputs": [],
   "source": [
    "# Testing Cell\n",
    "assert partition_aggvalues2.shape == (3,6)\n",
    "assert partition_aggvalues2.loc[\"low\", (\"gdp\", \"mean\")] == 101.67\n",
    "assert partition_aggvalues2.loc[\"medium\", (\"life\", \"max\")] == 83.98\n",
    "assert partition_aggvalues2.loc[\"high\", (\"gdp\", \"min\")] == 1440.24"
   ]
  },
  {
   "cell_type": "markdown",
   "metadata": {},
   "source": [
    "**Q13:** Explain how the columns of `partition_aggvalues` and `partition_aggvalues2` differ, and **why**."
   ]
  },
  {
   "cell_type": "code",
   "execution_count": null,
   "metadata": {},
   "outputs": [],
   "source": []
  },
  {
   "attachments": {},
   "cell_type": "markdown",
   "metadata": {
    "deletable": false,
    "nbgrader": {
     "cell_type": "markdown",
     "checksum": "ec32bc897cca88b7d7d32e7845f2d6ad",
     "grade": true,
     "grade_id": "cell-e305e2a6bcb52188",
     "locked": false,
     "points": 2,
     "schema_version": 3,
     "solution": true,
     "task": false
    }
   },
   "source": [
    "For partition_aggvalues, we are finding the mean for 3 variables and the max for 1 varible; thus, each column represents an operational output for the according variable. \n",
    "Meanwhile, partition_aggvalues2 represents 3 different operations (mean, min, max) for 2 different variables. Hence, we can see gdp and life (the two interested variables) as the headers for the table, followed by 3 columns which are the operations we wanted to find the values of. "
   ]
  },
  {
   "cell_type": "markdown",
   "metadata": {},
   "source": [
    "---\n",
    "\n",
    "---\n",
    "## Part C\n",
    "\n",
    "**Q14:** How much time (in minutes/hours) did you spend on this homework assignment?"
   ]
  },
  {
   "attachments": {},
   "cell_type": "markdown",
   "metadata": {},
   "source": [
    "1.5 hour "
   ]
  },
  {
   "cell_type": "markdown",
   "metadata": {},
   "source": [
    "**Q15:** Who was your partner for this assignment?  If you worked alone, say so instead."
   ]
  },
  {
   "attachments": {},
   "cell_type": "markdown",
   "metadata": {},
   "source": [
    "Alone"
   ]
  }
 ],
 "metadata": {
  "kernelspec": {
   "display_name": "base",
   "language": "python",
   "name": "python3"
  },
  "language_info": {
   "codemirror_mode": {
    "name": "ipython",
    "version": 3
   },
   "file_extension": ".py",
   "mimetype": "text/x-python",
   "name": "python",
   "nbconvert_exporter": "python",
   "pygments_lexer": "ipython3",
   "version": "3.9.13"
  },
  "vscode": {
   "interpreter": {
    "hash": "6812229378a4e14d29bbe4ee07db5e95bb6855d7fc74a2934bab81ab80a6eafa"
   }
  }
 },
 "nbformat": 4,
 "nbformat_minor": 4
}
