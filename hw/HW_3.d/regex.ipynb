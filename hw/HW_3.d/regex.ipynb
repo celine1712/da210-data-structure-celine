{
 "cells": [
  {
   "attachments": {},
   "cell_type": "markdown",
   "metadata": {},
   "source": [
    "# Denison DA210/CS181 Homework 3.d - Step 1\n",
    "\n",
    "Before you turn this notebook in, make sure everything runs as expected. This is a combination of **restarting the kernel** and then **running all cells**.\n",
    "\n",
    "Make sure you fill in any place that says `# YOUR CODE HERE` or \"YOUR ANSWER HERE\"."
   ]
  },
  {
   "cell_type": "markdown",
   "metadata": {},
   "source": [
    "---"
   ]
  },
  {
   "cell_type": "code",
   "execution_count": null,
   "metadata": {},
   "outputs": [],
   "source": [
    "import re"
   ]
  },
  {
   "attachments": {},
   "cell_type": "markdown",
   "metadata": {},
   "source": [
    "---\n",
    "\n",
    "## Part A - Python `re` module\n",
    "\n",
    "We can use the Python `re` module to work with regular expressions.  There are four main functions we can make use of in `re`:\n",
    "\n",
    "Function | Return Type | Short Description\n",
    ":-------:|-------------|-----------------------------------------------------------------\n",
    "`search()` | *Match Object* | Find first match of pattern *anywhere* in target\n",
    "`match()` | *Match Object* | Find match of pattern at *start* of target\n",
    "`findall()` | *List of strings* | Find all matches and return list of matched strings, or list of tuples of captured groups\n",
    "`finditer()` | *Match Object Iterator* | Find all matches through an iterator of successful match objects\n",
    "\n",
    "In this assignment, though, we'll abstract the use of `re` to two functions.  The first function returns a list of match info: `assembleMatches(pattern, text)`."
   ]
  },
  {
   "cell_type": "code",
   "execution_count": null,
   "metadata": {},
   "outputs": [],
   "source": [
    "def assembleMatches(pattern, text):\n",
    "    \"\"\"\n",
    "    Returns a list of string-index tuples for each match of the given\n",
    "    pattern in the given text.\n",
    "    \"\"\"\n",
    "    return [(m.group(), m.start()) for m in re.finditer(pattern, text)]"
   ]
  },
  {
   "attachments": {},
   "cell_type": "markdown",
   "metadata": {},
   "source": [
    "In Python, we'll also use \"raw strings\", which contain the text we give, without worrying about additional escape characters.  A Python raw string has an `r` preceeding the open quotation mark.\n",
    "\n",
    "We can see how this function works with the following examples:"
   ]
  },
  {
   "cell_type": "code",
   "execution_count": null,
   "metadata": {},
   "outputs": [],
   "source": [
    "# Specify the pattern as a raw string\n",
    "pattern = r\"Lulu\" # the exact string Lulu (note the preceeding r)\n",
    "\n",
    "# Target text is just a string to search for matches in\n",
    "target = \"Lulu is 10 years old.\"\n",
    "\n",
    "# Here are the matches:\n",
    "assembleMatches(pattern, target)"
   ]
  },
  {
   "cell_type": "code",
   "execution_count": null,
   "metadata": {},
   "outputs": [],
   "source": [
    "# Specify the pattern as a raw string\n",
    "pattern = r\"[\\w]+\" # one or more alphanumeric characters\n",
    "\n",
    "# Target text is just a string to search for matches in\n",
    "target = \"Lulu is 10 years old.\"\n",
    "\n",
    "# Here are the matches:\n",
    "assembleMatches(pattern, target)"
   ]
  },
  {
   "cell_type": "code",
   "execution_count": null,
   "metadata": {},
   "outputs": [],
   "source": [
    "# Specify the pattern as a raw string\n",
    "pattern = r\"[\\d]+\" # one or more digits\n",
    "\n",
    "# Target text is just a string to search for matches in\n",
    "target = \"Lulu is 10 years old.\"\n",
    "\n",
    "# Here are the matches:\n",
    "assembleMatches(pattern, target)"
   ]
  },
  {
   "cell_type": "code",
   "execution_count": null,
   "metadata": {},
   "outputs": [],
   "source": [
    "# Specify the pattern as a raw string\n",
    "pattern = r\"[\\D]+\" # one or more non-digits\n",
    "\n",
    "# Target text is just a string to search for matches in\n",
    "target = \"Lulu is 10 years old.\"\n",
    "\n",
    "# Here are the matches:\n",
    "assembleMatches(pattern, target)"
   ]
  },
  {
   "attachments": {},
   "cell_type": "markdown",
   "metadata": {},
   "source": [
    "---\n",
    "\n",
    "## Part B - Writing your own regexes\n",
    "\n",
    "In this assignment, you'll just need to provide a regular expression as a raw Python string, and assign to the appropriate `pattern` variable (e.g., `pattern1`)."
   ]
  },
  {
   "attachments": {},
   "cell_type": "markdown",
   "metadata": {},
   "source": [
    "**Q1:** Write a regular expression that matches complete words that begin with `t` and then `h`, followed by two more letters (i.e., you should match all words that are four letters long and start with `th`).  Assign your regular expression to `pattern1`."
   ]
  },
  {
   "cell_type": "code",
   "execution_count": null,
   "metadata": {
    "deletable": false,
    "nbgrader": {
     "cell_type": "code",
     "checksum": "6d96b21ca080255baf1e5e778e2d15c2",
     "grade": false,
     "grade_id": "cell-80875b80b016b255",
     "locked": false,
     "schema_version": 3,
     "solution": true,
     "task": false
    }
   },
   "outputs": [],
   "source": [
    "# YOUR CODE HERE\n",
    "raise NotImplementedError()"
   ]
  },
  {
   "cell_type": "code",
   "execution_count": null,
   "metadata": {},
   "outputs": [],
   "source": [
    "# Debugging cell\n",
    "text1 = \"Does this text match that pattern?\"\n",
    "assembleMatches(pattern1, text1)"
   ]
  },
  {
   "cell_type": "code",
   "execution_count": null,
   "metadata": {},
   "outputs": [],
   "source": [
    "# Testing cell\n",
    "text1 = \"Does this text match that pattern?\"\n",
    "\n",
    "assert assembleMatches(pattern1, text1) == [('this', 5), ('that', 21)]"
   ]
  },
  {
   "attachments": {},
   "cell_type": "markdown",
   "metadata": {},
   "source": [
    "**Q2:** Outside of the US, it is common to write dates in the form `year.month.day`, e.g., `2020.01.05` for `January 05, 2020`. Write a regular expression (`pattern2`) that matches a date written in this form.  Note that single digits for the month and day will use a leading zero."
   ]
  },
  {
   "cell_type": "code",
   "execution_count": null,
   "metadata": {},
   "outputs": [],
   "source": [
    "# YOUR CODE HERE\n",
    "raise NotImplementedError()"
   ]
  },
  {
   "cell_type": "code",
   "execution_count": null,
   "metadata": {},
   "outputs": [],
   "source": [
    "# Debugging cell\n",
    "text2 = \"2021.02.15 is the first day of week 3; but 123.45.6789 might be mistaken for a social security number\"\n",
    "assembleMatches(pattern2, text2)"
   ]
  },
  {
   "cell_type": "code",
   "execution_count": null,
   "metadata": {},
   "outputs": [],
   "source": [
    "# Testing cell\n",
    "text2 = \"2021.02.15 is the first day of week 3; but 123.45.6789 might be mistaken for a social security number\"\n",
    "\n",
    "assert assembleMatches(pattern2, text2) == [('2021.02.15', 0)]"
   ]
  },
  {
   "attachments": {},
   "cell_type": "markdown",
   "metadata": {},
   "source": [
    "---\n",
    "\n",
    "## Part C - Capture groups\n",
    "\n",
    "We can use a \"group capture\" to acquire part of the match from a regular expression.  Again, we'll use a function to abstract out the use of the `re` module, and focus instead on the regular expression patterns."
   ]
  },
  {
   "cell_type": "code",
   "execution_count": null,
   "metadata": {},
   "outputs": [],
   "source": [
    "def assembleCaptures(pattern, text):\n",
    "    \"\"\"\n",
    "    Returns a list of capture groups for each match of the given\n",
    "    pattern in the given text.\n",
    "    \n",
    "    A capture group is both the string of the capture and the index\n",
    "    in the text where the capture begins.\n",
    "    \"\"\"\n",
    "    res = []\n",
    "    for m in re.finditer(pattern, text):\n",
    "        grp = [(m.group(i), m.start(i)) for i in range(len(m.groups())+1)]\n",
    "        res.append(grp)\n",
    "    return res"
   ]
  },
  {
   "attachments": {},
   "cell_type": "markdown",
   "metadata": {},
   "source": [
    "Consider the following example, which matches US phone numbers, including both the entire phone number, and, separately, the area code, 3-digit prefix, and 4-digit line number:"
   ]
  },
  {
   "cell_type": "code",
   "execution_count": null,
   "metadata": {},
   "outputs": [],
   "source": [
    "text1 = \"Looking to match 555-123-4567 and (800) 721-6432 but 123.45.6789 might be mistaken for a social security number\"\n",
    "\n",
    "# Group 1, area code:           ([\\d]{3})\n",
    "# Group 2: 3-digit prefix:      ([\\d]{3})\n",
    "# Group 3: 4-digit line number: ([\\d]{4})\n",
    "pattern = r\"\\({0,1}([\\d]{3})[\\-)\\s]{1,2}([\\d]{3})\\-([\\d]{4})\"\n",
    "assembleCaptures(pattern, text1)"
   ]
  },
  {
   "attachments": {},
   "cell_type": "markdown",
   "metadata": {},
   "source": [
    "**Q3:** Write a regular expression pattern (`pattern3`) that matches all `import` statements in a target comprised of Python source code.  An `import` is contained in a single line, but there could be leading whitespace (if indented in a block) or trailing whitespace.\n",
    "\n",
    "Your result should capture both the entire matched line and, separately, the module that is imported."
   ]
  },
  {
   "cell_type": "code",
   "execution_count": null,
   "metadata": {
    "deletable": false,
    "nbgrader": {
     "cell_type": "code",
     "checksum": "9ff3fd14b56b034b0b9547333e139f9d",
     "grade": false,
     "grade_id": "cell-c8f8f1f5c7e0fdbd",
     "locked": false,
     "schema_version": 3,
     "solution": true,
     "task": false
    }
   },
   "outputs": [],
   "source": [
    "# YOUR CODE HERE\n",
    "raise NotImplementedError()"
   ]
  },
  {
   "cell_type": "code",
   "execution_count": null,
   "metadata": {},
   "outputs": [],
   "source": [
    "# Debugging cell\n",
    "text3 = \"\"\"import pandas\n",
    "import re  \n",
    "\n",
    "def f(x):\n",
    "    import math\n",
    "    return math.sqrt(x)\n",
    "\"\"\"\n",
    "\n",
    "assembleCaptures(pattern3, text3)"
   ]
  },
  {
   "cell_type": "code",
   "execution_count": null,
   "metadata": {},
   "outputs": [],
   "source": [
    "# Testing cell\n",
    "text3 = \"\"\"import pandas\n",
    "import re  \n",
    "\n",
    "def f(x):\n",
    "    import math\n",
    "    return math.sqrt(x)\n",
    "\"\"\"\n",
    "\n",
    "res = assembleCaptures(pattern3, text3)\n",
    "assert res[0][1] == ('pandas', 7)\n",
    "assert res[1][1] == ('re', 21)\n",
    "assert res[2][1] == ('math', 48)"
   ]
  },
  {
   "attachments": {},
   "cell_type": "markdown",
   "metadata": {},
   "source": [
    "**Q4:** Write a regular expression pattern (`pattern4`) that matches all variable assignment statements in a target comprised of Python source code.  A variable assignment statement has the form `variable = expression`, where `variable` must be any valid Python identifier (e.g., containing only letters, numbers, and underscores, and not starting with a number), and `expression` is assumed to be the remainder of the line.  Note that the assignment statement may have leading or trailing whitespaces, which you should ignore, and that spaces around the equals sign (`=`) are optional.\n",
    "\n",
    "Your result should capture both the entire matched line and, separately, both the variable name and the expression."
   ]
  },
  {
   "cell_type": "code",
   "execution_count": null,
   "metadata": {},
   "outputs": [],
   "source": [
    "# YOUR CODE HERE\n",
    "raise NotImplementedError()"
   ]
  },
  {
   "cell_type": "code",
   "execution_count": null,
   "metadata": {},
   "outputs": [],
   "source": [
    "# Debugging cell\n",
    "text4 = \"\"\"\n",
    "def f(x):\n",
    "    y = x + 2\n",
    "    a = x / y\n",
    "    return a\n",
    "\n",
    "a = 7\n",
    "b = 10 + f(a)\n",
    "print(a+b)\n",
    "\"\"\"\n",
    "\n",
    "assembleCaptures(pattern4, text4)"
   ]
  },
  {
   "cell_type": "code",
   "execution_count": null,
   "metadata": {},
   "outputs": [],
   "source": [
    "# Testing cell\n",
    "text4 = \"\"\"\n",
    "def f(x):\n",
    "    y = x + 2\n",
    "    a = x / y\n",
    "    return a\n",
    "\n",
    "a = 7\n",
    "b = 10 + f(a)\n",
    "print(a+b)\n",
    "\"\"\"\n",
    "\n",
    "res = assembleCaptures(pattern4, text4)\n",
    "assert res[0][1] == ('y', 15)\n",
    "assert res[0][2] == ('x + 2', 19)\n",
    "assert res[1][1] == ('a', 29)\n",
    "assert res[1][2] == ('x / y', 33)\n",
    "assert res[2][1] == ('a', 53)\n",
    "assert res[2][2] == ('7', 57)\n",
    "assert res[3][1] == ('b', 59)\n",
    "assert res[3][2] == ('10 + f(a)', 63)"
   ]
  },
  {
   "attachments": {},
   "cell_type": "markdown",
   "metadata": {},
   "source": [
    "---\n",
    "\n",
    "---\n",
    "\n",
    "## Part D\n",
    "\n",
    "**Q5:** How much time (in minutes/hours) did you spend on this homework assignment?"
   ]
  },
  {
   "cell_type": "markdown",
   "metadata": {},
   "source": [
    "YOUR ANSWER HERE"
   ]
  },
  {
   "attachments": {},
   "cell_type": "markdown",
   "metadata": {},
   "source": [
    "**Q6:** Who was your partner for this assignment?  If you worked alone, say so instead."
   ]
  },
  {
   "cell_type": "markdown",
   "metadata": {},
   "source": [
    "YOUR ANSWER HERE"
   ]
  }
 ],
 "metadata": {
  "kernelspec": {
   "display_name": "Python 3",
   "language": "python",
   "name": "python3"
  },
  "language_info": {
   "codemirror_mode": {
    "name": "ipython",
    "version": 3
   },
   "file_extension": ".py",
   "mimetype": "text/x-python",
   "name": "python",
   "nbconvert_exporter": "python",
   "pygments_lexer": "ipython3",
   "version": "3.8.6"
  },
  "vscode": {
   "interpreter": {
    "hash": "73a75ea109158a2d84971ce48cb4564b23b98d042ab3daf1c1f7c2d610837661"
   }
  }
 },
 "nbformat": 4,
 "nbformat_minor": 4
}
