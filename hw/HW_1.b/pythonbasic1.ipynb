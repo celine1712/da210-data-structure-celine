{
 "cells": [
  {
   "attachments": {},
   "cell_type": "markdown",
   "metadata": {},
   "source": [
    "# Denison DA210/CS181 Homework 1.b - Step 1\n",
    "\n",
    "Before you turn this notebook in, make sure everything runs as expected. This is a combination of **restarting the kernel** and then **running all cells**.\n",
    "\n",
    "Make sure you fill in any place that says `# YOUR CODE HERE` or \"YOUR ANSWER HERE\"."
   ]
  },
  {
   "cell_type": "markdown",
   "metadata": {},
   "source": [
    "---"
   ]
  },
  {
   "cell_type": "code",
   "execution_count": 138,
   "metadata": {},
   "outputs": [],
   "source": [
    "import os\n",
    "import os.path\n",
    "import io\n",
    "import sys\n",
    "from contextlib import redirect_stdout"
   ]
  },
  {
   "cell_type": "markdown",
   "metadata": {},
   "source": [
    "## Instructions\n",
    "\n",
    "- Complete all the problems below by replacing the two-line sequence of `# YOUR CODE HERE` and `raise NotImplementedError()` with your solution code.\n",
    "- All functions that you define for homework **must have docstrings**."
   ]
  },
  {
   "attachments": {},
   "cell_type": "markdown",
   "metadata": {},
   "source": [
    "---\n",
    "## Part A\n",
    "\n",
    "**Q1:** Write a function `sum_of_evens` that only adds up the even numbers between 0 and the number $n$, inclusive."
   ]
  },
  {
   "cell_type": "code",
   "execution_count": 139,
   "metadata": {
    "deletable": false,
    "nbgrader": {
     "cell_type": "code",
     "checksum": "7bba0d4f8b711ea711f3b6f03024f760",
     "grade": false,
     "grade_id": "cell-9416b535d19fc949",
     "locked": false,
     "schema_version": 3,
     "solution": true,
     "task": false
    }
   },
   "outputs": [],
   "source": [
    "def sum_of_evens(n):\n",
    "    \"\"\"\n",
    "    Compute the sum of the even numbers from 0 to n.\n",
    "    \"\"\"\n",
    "    s = 0\n",
    "    for i in range(0, n+1):\n",
    "        if i % 2 == 0:\n",
    "            s = s + i\n",
    "    return s"
   ]
  },
  {
   "cell_type": "code",
   "execution_count": 140,
   "metadata": {
    "deletable": false,
    "editable": false,
    "nbgrader": {
     "cell_type": "code",
     "checksum": "a1b5e19f22dc15590fbe0ded58dd27e0",
     "grade": true,
     "grade_id": "cell-d9c5a7f8882a8e91",
     "locked": true,
     "points": 1,
     "schema_version": 3,
     "solution": false,
     "task": false
    }
   },
   "outputs": [],
   "source": [
    "assert sum_of_evens.__doc__ is not None # make sure to have a docstring\n",
    "\n",
    "# Check that sum_of_evens returns the correct answer for various inputs.\n",
    "assert sum_of_evens(1) == 0\n",
    "assert sum_of_evens(5) == 6\n",
    "assert sum_of_evens(10) == 30\n",
    "assert sum_of_evens(11) == 30"
   ]
  },
  {
   "cell_type": "markdown",
   "metadata": {},
   "source": [
    "**Q2:** Describe a **different** way to implement `sum_of_evens()`."
   ]
  },
  {
   "attachments": {},
   "cell_type": "markdown",
   "metadata": {
    "deletable": false,
    "nbgrader": {
     "cell_type": "markdown",
     "checksum": "7e8955af37a0a6ddcfa00619bbab6873",
     "grade": true,
     "grade_id": "cell-0083b8d23a14fc37",
     "locked": false,
     "points": 1,
     "schema_version": 3,
     "solution": true,
     "task": false
    }
   },
   "source": [
    "We can make a list of all numbers from 0 to n, and then add all numbers with odd indicies. "
   ]
  },
  {
   "cell_type": "markdown",
   "metadata": {},
   "source": [
    "**Q3:** Use three *different* ways to create three lists with the integer numbers 1 through 10, inclusive.  Use the variable names `myList1`, `myList2`, and `myList3` to hold the results."
   ]
  },
  {
   "cell_type": "code",
   "execution_count": 141,
   "metadata": {
    "deletable": false,
    "nbgrader": {
     "cell_type": "code",
     "checksum": "6cd645dfff802a1a5903074a6a4bd5da",
     "grade": false,
     "grade_id": "cell-38d713dddb2b5cfe",
     "locked": false,
     "schema_version": 3,
     "solution": true,
     "task": false
    }
   },
   "outputs": [],
   "source": [
    "def myList1():\n",
    "    \"\"\" \n",
    "    Creating a list with all integers from 1 to 10, using for loop.\n",
    "    \"\"\"\n",
    "    l = []\n",
    "    for i in range(1, 11):\n",
    "        l.append(i)\n",
    "    return l\n",
    "\n",
    "def myList2():\n",
    "    \"\"\"\n",
    "    Creating a list with all integers from 1 to 10, using while loop. \n",
    "    \"\"\"\n",
    "    l = []\n",
    "    i = 1\n",
    "    while i <=10:\n",
    "        l.append(i)\n",
    "        i = i +1\n",
    "    return l\n",
    "\n",
    "def myList3():\n",
    "    \"\"\"\n",
    "    Creating a list with all integers from 1 to 10, using while loop with the len function. \n",
    "    \"\"\"\n",
    "    l = []\n",
    "    i = 1\n",
    "    while len(l) <10:\n",
    "        l.append(i)\n",
    "        i = i + 1\n",
    "    return l \n",
    "\n",
    "myList1 = myList1() \n",
    "myList2 = myList2() \n",
    "myList3 = myList3()"
   ]
  },
  {
   "cell_type": "code",
   "execution_count": 142,
   "metadata": {},
   "outputs": [],
   "source": [
    "# Testing cell\n",
    "assert myList1 == [1,2,3,4,5,6,7,8,9,10]\n",
    "assert myList2 == [1,2,3,4,5,6,7,8,9,10]\n",
    "assert myList3 == [1,2,3,4,5,6,7,8,9,10]"
   ]
  },
  {
   "cell_type": "markdown",
   "metadata": {},
   "source": [
    "**Q4:** Write a function:\n",
    "\n",
    "```\n",
    "    mean(data)\n",
    "```\n",
    " \n",
    "that takes a list of numbers given by `data` and computes and returns the arithmetic mean of the values in the list.  Your function should work properly even if `data` is an empty list, and should return 0 in that case."
   ]
  },
  {
   "cell_type": "code",
   "execution_count": 143,
   "metadata": {
    "deletable": false,
    "nbgrader": {
     "cell_type": "code",
     "checksum": "cccac96272e3fc4ad010112f12f8c151",
     "grade": false,
     "grade_id": "cell-a32002531e280bd3",
     "locked": false,
     "schema_version": 3,
     "solution": true,
     "task": false
    }
   },
   "outputs": [],
   "source": [
    "def mean(data):\n",
    "    \"\"\"\n",
    "    Computes the mean of all values in a numerical list. \n",
    "    \"\"\"\n",
    "    s = 0 \n",
    "    if len(data) == 0:\n",
    "        return s\n",
    "    for i in range(len(data)):\n",
    "        s = s + data[i]\n",
    "    return s/len(data)"
   ]
  },
  {
   "cell_type": "code",
   "execution_count": 144,
   "metadata": {
    "deletable": false,
    "editable": false,
    "nbgrader": {
     "cell_type": "code",
     "checksum": "4e315a09750398244bb0f65defeb26e7",
     "grade": true,
     "grade_id": "cell-ef96cd921bb7b67b",
     "locked": true,
     "points": 2,
     "schema_version": 3,
     "solution": false
    }
   },
   "outputs": [],
   "source": [
    "# Testing cell\n",
    "assert mean.__doc__ is not None # make sure to have a docstring\n",
    "\n",
    "list1 = [3, 4, 7, 2]\n",
    "assert mean(list1) == 4\n",
    "list2 = []\n",
    "assert mean(list2) == 0"
   ]
  },
  {
   "cell_type": "markdown",
   "metadata": {
    "deletable": false,
    "editable": false,
    "nbgrader": {
     "cell_type": "markdown",
     "checksum": "2779f959a1baf1255baa68477a42d509",
     "grade": false,
     "grade_id": "cell-5511cc04854c54c9",
     "locked": true,
     "schema_version": 3,
     "solution": false
    }
   },
   "source": [
    "---\n",
    "## Part B\n",
    "\n",
    "**Q5:** For the following questions, each answer should consist of a single\n",
    "`print` with a single argument--an expression involving the list `data`, which, for these questions, references the list `[32, 42, 11, 15, 58, 44, 16]`.\n",
    "\n",
    "Leave the code we give you \"as is\", and your print should be indented so that your solution becomes the body of the `with`.\n",
    "\n",
    "Print a list that includes all elements *except* the first element."
   ]
  },
  {
   "cell_type": "code",
   "execution_count": 145,
   "metadata": {
    "deletable": false,
    "nbgrader": {
     "cell_type": "code",
     "checksum": "9f9b480786c25427f9ebdbeb54bd4f26",
     "grade": false,
     "grade_id": "cell-8f7be805bddd4762",
     "locked": false,
     "schema_version": 3,
     "solution": true
    }
   },
   "outputs": [
    {
     "name": "stdout",
     "output_type": "stream",
     "text": [
      "\n"
     ]
    }
   ],
   "source": [
    "data = [32, 42, 11, 15, 58, 44, 16]\n",
    "\n",
    "result = io.StringIO()\n",
    "with redirect_stdout(result):\n",
    "    result.write(str(data[1:])+\"\\n\")\n",
    "print(result.read())\n"
   ]
  },
  {
   "cell_type": "code",
   "execution_count": 146,
   "metadata": {
    "deletable": false,
    "editable": false,
    "nbgrader": {
     "cell_type": "code",
     "checksum": "3ad35bb327d4ca83591a2ab8a68aea1e",
     "grade": true,
     "grade_id": "cell-69e005cd46307fdb",
     "locked": true,
     "points": 1,
     "schema_version": 3,
     "solution": false
    }
   },
   "outputs": [],
   "source": [
    "# Testing cell\n",
    "assert result.getvalue() == \"[42, 11, 15, 58, 44, 16]\\n\""
   ]
  },
  {
   "cell_type": "markdown",
   "metadata": {},
   "source": [
    "**Q6:** Print the length of the list `data`."
   ]
  },
  {
   "cell_type": "code",
   "execution_count": 147,
   "metadata": {
    "deletable": false,
    "nbgrader": {
     "cell_type": "code",
     "checksum": "f5063869d4a77795bc5e0141d4ed7963",
     "grade": false,
     "grade_id": "cell-20ff0e0c86a745c9",
     "locked": false,
     "schema_version": 3,
     "solution": true
    }
   },
   "outputs": [
    {
     "name": "stdout",
     "output_type": "stream",
     "text": [
      "\n"
     ]
    }
   ],
   "source": [
    "data = [32, 42, 11, 15, 58, 44, 16]\n",
    "\n",
    "result = io.StringIO()\n",
    "with redirect_stdout(result):\n",
    "    result.write(str(len(data))+\"\\n\")\n",
    "print(result.read())"
   ]
  },
  {
   "cell_type": "code",
   "execution_count": 148,
   "metadata": {
    "deletable": false,
    "editable": false,
    "nbgrader": {
     "cell_type": "code",
     "checksum": "0eadd5de442038e4af5b62f84ae091dd",
     "grade": true,
     "grade_id": "cell-a1a0a273991fb0a4",
     "locked": true,
     "points": 1,
     "schema_version": 3,
     "solution": false
    }
   },
   "outputs": [],
   "source": [
    "# Testing cell\n",
    "assert result.getvalue() == \"7\\n\""
   ]
  },
  {
   "cell_type": "markdown",
   "metadata": {},
   "source": [
    "**Q7:** Print the third element of the list `data`."
   ]
  },
  {
   "cell_type": "code",
   "execution_count": 149,
   "metadata": {
    "deletable": false,
    "nbgrader": {
     "cell_type": "code",
     "checksum": "63fcecabb20f813e5179b4b20a10959a",
     "grade": false,
     "grade_id": "cell-2769c568b2695d86",
     "locked": false,
     "schema_version": 3,
     "solution": true
    }
   },
   "outputs": [
    {
     "name": "stdout",
     "output_type": "stream",
     "text": [
      "\n"
     ]
    }
   ],
   "source": [
    "data = [32, 42, 11, 15, 58, 44, 16]\n",
    "\n",
    "result = io.StringIO()\n",
    "with redirect_stdout(result):\n",
    "    result.write(str(data[2])+\"\\n\")\n",
    "print(result.read())"
   ]
  },
  {
   "cell_type": "code",
   "execution_count": 150,
   "metadata": {
    "deletable": false,
    "editable": false,
    "nbgrader": {
     "cell_type": "code",
     "checksum": "b4f59dd4de30210040f675836b8fe353",
     "grade": true,
     "grade_id": "cell-0f56edb5b71e8344",
     "locked": true,
     "points": 1,
     "schema_version": 3,
     "solution": false
    }
   },
   "outputs": [],
   "source": [
    "# Testing cell\n",
    "assert result.getvalue() == \"11\\n\""
   ]
  },
  {
   "cell_type": "markdown",
   "metadata": {},
   "source": [
    "**Q8:** Print the last element of the list `data`."
   ]
  },
  {
   "cell_type": "code",
   "execution_count": 151,
   "metadata": {
    "deletable": false,
    "nbgrader": {
     "cell_type": "code",
     "checksum": "32dd0a459a25ac06e4e6e3f7d4112a35",
     "grade": false,
     "grade_id": "cell-30bbcffba0b8be8d",
     "locked": false,
     "schema_version": 3,
     "solution": true
    }
   },
   "outputs": [
    {
     "name": "stdout",
     "output_type": "stream",
     "text": [
      "\n"
     ]
    }
   ],
   "source": [
    "data = [32, 42, 11, 15, 58, 44, 16]\n",
    "\n",
    "result = io.StringIO()\n",
    "with redirect_stdout(result):\n",
    "    result.write(str(data[-1])+\"\\n\")\n",
    "print(result.read())"
   ]
  },
  {
   "cell_type": "code",
   "execution_count": 152,
   "metadata": {
    "deletable": false,
    "editable": false,
    "nbgrader": {
     "cell_type": "code",
     "checksum": "a28e9a9d5fecf87f30035c358352f22b",
     "grade": true,
     "grade_id": "cell-35bde65789e0106e",
     "locked": true,
     "points": 1,
     "schema_version": 3,
     "solution": false
    }
   },
   "outputs": [],
   "source": [
    "# Testing cell\n",
    "assert result.getvalue() == \"16\\n\""
   ]
  },
  {
   "cell_type": "markdown",
   "metadata": {},
   "source": [
    "**Q9:** Print a list containing the last four elements of `data`."
   ]
  },
  {
   "cell_type": "code",
   "execution_count": 153,
   "metadata": {
    "deletable": false,
    "nbgrader": {
     "cell_type": "code",
     "checksum": "e57032807721d3a1bde7d2aab90e989c",
     "grade": false,
     "grade_id": "cell-ff997c6b4a2fc5eb",
     "locked": false,
     "schema_version": 3,
     "solution": true
    }
   },
   "outputs": [
    {
     "name": "stdout",
     "output_type": "stream",
     "text": [
      "\n"
     ]
    }
   ],
   "source": [
    "data = [32, 42, 11, 15, 58, 44, 16]\n",
    "\n",
    "result = io.StringIO()\n",
    "with redirect_stdout(result):\n",
    "    result.write(str(data[-4:])+\"\\n\")\n",
    "print(result.read())\n"
   ]
  },
  {
   "cell_type": "code",
   "execution_count": 154,
   "metadata": {
    "deletable": false,
    "editable": false,
    "nbgrader": {
     "cell_type": "code",
     "checksum": "fa7af4bdae82f3ce11c73717e94debf1",
     "grade": true,
     "grade_id": "cell-b59a34979e5d93d7",
     "locked": true,
     "points": 1,
     "schema_version": 3,
     "solution": false
    }
   },
   "outputs": [],
   "source": [
    "# Testing cell\n",
    "assert result.getvalue() == \"[15, 58, 44, 16]\\n\""
   ]
  }
 ],
 "metadata": {
  "kernelspec": {
   "display_name": "Python 3",
   "language": "python",
   "name": "python3"
  },
  "language_info": {
   "codemirror_mode": {
    "name": "ipython",
    "version": 3
   },
   "file_extension": ".py",
   "mimetype": "text/x-python",
   "name": "python",
   "nbconvert_exporter": "python",
   "pygments_lexer": "ipython3",
   "version": "3.10.6"
  },
  "vscode": {
   "interpreter": {
    "hash": "aee8b7b246df8f9039afb4144a1f6fd8d2ca17a180786b69acc140d282b71a49"
   }
  }
 },
 "nbformat": 4,
 "nbformat_minor": 4
}
