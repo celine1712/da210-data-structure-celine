{
 "cells": [
  {
   "attachments": {},
   "cell_type": "markdown",
   "metadata": {},
   "source": [
    "# Denison DA210/CS181 Homework 5.d - Step 1\n",
    "\n",
    "Before you turn this notebook in, make sure everything runs as expected. This is a combination of **restarting the kernel** and then **running all cells**.\n",
    "\n",
    "Make sure you fill in any place that says `# YOUR CODE HERE` or \"YOUR ANSWER HERE\"."
   ]
  },
  {
   "cell_type": "markdown",
   "metadata": {},
   "source": [
    "---"
   ]
  },
  {
   "cell_type": "code",
   "execution_count": 2,
   "metadata": {},
   "outputs": [
    {
     "data": {
      "text/plain": [
       "<module 'util' from '/Users/linhnguyen1712/Desktop/DA210/da210-s23/da210-s23-celine/modules/util.py'>"
      ]
     },
     "execution_count": 2,
     "metadata": {},
     "output_type": "execute_result"
    }
   ],
   "source": [
    "import os\n",
    "import os.path\n",
    "import sys\n",
    "import importlib\n",
    "import json\n",
    "import requests\n",
    "\n",
    "module_dir = \"../../modules\"\n",
    "module_path = os.path.abspath(module_dir)\n",
    "if not module_path in sys.path:\n",
    "    sys.path.append(module_path)\n",
    "\n",
    "import util\n",
    "importlib.reload(util)"
   ]
  },
  {
   "cell_type": "markdown",
   "metadata": {},
   "source": [
    "---\n",
    "\n",
    "## Part A: Endpoints (via GitHub API)\n",
    "\n",
    "API providers generally define a set of _endpoints_, which utilize the resource-tree structure of the resource path in an HTTP request.\n",
    "\n",
    "We'll first consider the [GitHub API](https://docs.github.com/en/rest).  The provider, GitHub, defines a _root endpoint_ that serves as a \"meta\" endpoint, providing data about the other endpoints available.  This data is given as a JSON object."
   ]
  },
  {
   "cell_type": "code",
   "execution_count": 2,
   "metadata": {},
   "outputs": [
    {
     "name": "stdout",
     "output_type": "stream",
     "text": [
      "{\n",
      "  \"current_user_url\": \"https://api.github.com/user\",\n",
      "  \"current_user_authorizations_html_url\": \"https://github...\n",
      "  \"authorizations_url\": \"https://api.github.com/authoriza...\n",
      "  \"code_search_url\": \"https://api.github.com/search/code?...\n",
      "  \"commit_search_url\": \"https://api.github.com/search/com...\n",
      "  \"emails_url\": \"https://api.github.com/user/emails\",\n",
      "  \"emojis_url\": \"https://api.github.com/emojis\",\n",
      "  \"events_url\": \"https://api.github.com/events\",\n",
      "  \"feeds_url\": \"https://api.github.com/feeds\",\n"
     ]
    }
   ],
   "source": [
    "# Access the root endpoint of the GitHub API\n",
    "resource_path = \"/\"\n",
    "location = \"api.github.com\"\n",
    "url = util.buildURL(resource_path, location)\n",
    "\n",
    "response = requests.get(url)\n",
    "assert response.status_code == 200\n",
    "\n",
    "# The root endpoint provides a JSON-formatted result\n",
    "# of the top-level endpoints available in the GitHub API\n",
    "endpoints = response.json()\n",
    "util.print_data(endpoints, nlines=10)"
   ]
  },
  {
   "cell_type": "markdown",
   "metadata": {},
   "source": [
    "Let's look at the `/events` endpoint, listed as one of the endpoints from the results in the previous cell."
   ]
  },
  {
   "cell_type": "code",
   "execution_count": 3,
   "metadata": {},
   "outputs": [
    {
     "name": "stdout",
     "output_type": "stream",
     "text": [
      "Number of events received: 30\n",
      "[\n",
      "  {\n",
      "    \"id\": \"28657245979\"\n",
      "    \"type\": \"PushEvent\"\n",
      "    \"actor\": \n",
      "    {\n",
      "      \"id\": 65608\n",
      "      \"login\": \"bess\"\n",
      "      \"display_login\": \"bess\"\n",
      "      \"gravatar_id\": \"\"\n",
      "      \"url\": \"https://api.github.com/users/bess\"\n",
      "      \"avatar_url\": \"https://avatars.githubusercontent.co...\n",
      "    }\n",
      "    \"repo\": \n",
      "    {\n",
      "      \"id\": 351077380\n",
      "      \"name\": \"pulibrary/pdc_discovery\"\n",
      "      \"url\": \"https://api.github.com/repos/pulibrary/pdc_...\n",
      "    }\n",
      "    \"payload\": \n",
      "    {\n",
      "      \"repository_id\": 351077380\n",
      "      \"push_id\": 13423673720\n",
      "      \"size\": 1\n",
      "      \"distinct_size\": 1\n"
     ]
    }
   ],
   "source": [
    "# Access the non-root /events endpoint of the GitHub API\n",
    "resource_path = \"/events\"\n",
    "url = util.buildURL(resource_path, location)\n",
    "\n",
    "response = requests.get(url)\n",
    "assert response.status_code == 200\n",
    "\n",
    "# The /events endpoint provides a JSON-formatted list of dictionaries,\n",
    "# with each dictionary representing one event\n",
    "event_list = response.json()\n",
    "print(\"Number of events received:\", len(event_list))\n",
    "\n",
    "util.print_data(event_list, depth=2, nchild=7, nlines=25)"
   ]
  },
  {
   "attachments": {},
   "cell_type": "markdown",
   "metadata": {},
   "source": [
    "---\n",
    "\n",
    "## Part B: Path Parameters\n",
    "\n",
    "In the previous section, we considered the `/events` endpoint, which did not make use of parameters.  Therefore, we could also view the results in a browswer: http://api.github.com/events.\n",
    "\n",
    "Some APIs use the _endpoint-path_ portion of the _resource-path_ in a request to provide parameters as steps within the path.  An example of this is the endpoint to query information about a specific organization from the GitHub API.\n",
    "\n",
    "Such a request is shown as:\n",
    "```\n",
    "GET /orgs/{org}\n",
    "```\n",
    "where `{org}` specifies a parameter that must be inserted.  Note that some API documentation will use `:variable` or `<<variable>>` instead of `{variable}` to identify parameters that must be provided.\n",
    "\n",
    "You can see more about this endpoint in the [GitHub API documentation](https://docs.github.com/en/rest/orgs/orgs#get-an-organization).\n",
    "\n",
    "We'll try it out for the `microsoft` organization."
   ]
  },
  {
   "cell_type": "code",
   "execution_count": 4,
   "metadata": {},
   "outputs": [
    {
     "name": "stdout",
     "output_type": "stream",
     "text": [
      "{\n",
      "  \"login\": \"microsoft\"\n",
      "  \"id\": 6154722\n",
      "  \"node_id\": \"MDEyOk9yZ2FuaXphdGlvbjYxNTQ3MjI=\"\n",
      "  \"url\": \"https://api.github.com/orgs/microsoft\"\n",
      "  \"repos_url\": \"https://api.github.com/orgs/microsoft/repos\"\n",
      "  \"events_url\": \"https://api.github.com/orgs/microsoft/events\"\n",
      "  \"hooks_url\": \"https://api.github.com/orgs/microsoft/hooks\"\n",
      "  ...\n",
      "}\n"
     ]
    }
   ],
   "source": [
    "# Use the endpoint-path portion of the resource-path to encode parameters\n",
    "org = \"microsoft\"\n",
    "resource_path = f\"/orgs/{org}\" # using format-string instead of s.format()\n",
    "url = util.buildURL(resource_path, location)\n",
    "\n",
    "response = requests.get(url)\n",
    "assert response.status_code == 200\n",
    "\n",
    "# The /orgs endpoint provides JSON-formatted info about a given org\n",
    "data = response.json()\n",
    "util.print_data(data, depth=3, nchild=7, width=80)"
   ]
  },
  {
   "attachments": {},
   "cell_type": "markdown",
   "metadata": {},
   "source": [
    "Similarly, we can view events related to a specific repository belonging to a specific organization, using the endpoint:\n",
    "```\n",
    "GET /repos/{owner}/{repo}/events\n",
    "```\n",
    "\n",
    "One public Microsoft repository is [`vscode`](https://github.com/microsoft/vscode), the repository housing the code for [Visual Studio Code](https://code.visualstudio.com/).  We'll again use path parameters to perform a `GET` request using this endpoint."
   ]
  },
  {
   "cell_type": "code",
   "execution_count": 5,
   "metadata": {},
   "outputs": [
    {
     "name": "stdout",
     "output_type": "stream",
     "text": [
      "[\n",
      "  {\n",
      "    \"id\": \"28655453694\"\n",
      "    \"type\": \"IssuesEvent\"\n",
      "    \"actor\": \n",
      "    {\n",
      "      \"id\": 323878\n",
      "      \"login\": \"roblourens\"\n",
      "      \"display_login\": \"roblourens\"\n",
      "      \"gravatar_id\": \"\"\n",
      "      \"url\": \"https://api.github.com/users/roblourens\"\n",
      "      \"avatar_url\": \"https://avatars.githubusercontent.com/u/323878?\"\n",
      "    }\n",
      "    \"repo\": \n",
      "    {\n",
      "      \"id\": 41881900\n",
      "      \"name\": \"microsoft/vscode\"\n",
      "      \"url\": \"https://api.github.com/repos/microsoft/vscode\"\n",
      "    }\n",
      "    \"payload\": \n",
      "    {\n",
      "      \"action\": \"opened\"\n",
      "      \"issue\": \n",
      "      {\n",
      "        \"url\": \"https://api.github.com/repos/microsoft/vscode/issues/180860\"\n",
      "        \"repository_url\": \"https://api.github.com/repos/microsoft/vscode\"\n",
      "        \"labels_url\": \"https://api.github.com/repos/microsoft/vscode/issues/1...\n",
      "        \"comments_url\": \"https://api.github.com/repos/microsoft/vscode/issues...\n",
      "        \"events_url\": \"https://api.github.com/repos/microsoft/vscode/issues/1...\n",
      "        \"html_url\": \"https://github.com/microsoft/vscode/issues/180860\"\n"
     ]
    }
   ],
   "source": [
    "# Use the endpoint-path portion of the resource-path to encode parameters\n",
    "org = \"microsoft\"\n",
    "repo = \"vscode\"\n",
    "resource_path = f\"/repos/{org}/{repo}/events\" # using format-string\n",
    "url = util.buildURL(resource_path, location)\n",
    "\n",
    "response = requests.get(url)\n",
    "assert response.status_code == 200\n",
    "\n",
    "# The /repos/{owner}/{repo}/events endpoint provides a list of\n",
    "# JSON-formatted events for a given repository belonging to a given org\n",
    "data = response.json()\n",
    "util.print_data(data, depth=3, nchild=7, nlines=30, width=80)"
   ]
  },
  {
   "cell_type": "markdown",
   "metadata": {},
   "source": [
    "**Q1:** Now, try out another GitHub API endpoint that uses path parameters.  You should [list repository issues](https://docs.github.com/en/rest/issues/issues#list-repository-issues) for the [`pytorch`](https://github.com/pytorch/pytorch) repository.  Store the resulting `JSON` array in a Python `list` named `pytorch_issues`."
   ]
  },
  {
   "cell_type": "code",
   "execution_count": null,
   "metadata": {},
   "outputs": [],
   "source": [
    "####HERE\n",
    "\n",
    "host = \"api.github.com\"\n",
    "resource_path = f\"/repos/{org}/{repo}/events\" # using format-string\n",
    "url = util.buildURL(resource_path, host)\n",
    "\n",
    "response = requests.get(url)\n",
    "assert response.status_code == 200\n",
    "\n",
    "pytorch_issues = response.json()\n",
    "\n",
    "util.print_data(pytorch_issues, depth=3, nchild=7, nlines=30, width=80)"
   ]
  },
  {
   "cell_type": "code",
   "execution_count": null,
   "metadata": {},
   "outputs": [],
   "source": [
    "# Testing cell\n",
    "assert isinstance(pytorch_issues, list)\n",
    "assert len(pytorch_issues) == 30\n",
    "assert isinstance(pytorch_issues[0], dict)\n",
    "assert \"url\" in pytorch_issues[0]\n",
    "assert \"number\" in pytorch_issues[0]\n",
    "assert \"created_at\" in pytorch_issues[0]\n",
    "assert \"comments\" in pytorch_issues[0]"
   ]
  },
  {
   "cell_type": "markdown",
   "metadata": {},
   "source": [
    "**Q2:** Take a look at the documentation for the [`issues`](https://docs.github.com/en/rest/issues/issues#list-repository-issues) GitHub API endpoint.  What are the possible status codes a request to this endpoint can return?"
   ]
  },
  {
   "attachments": {},
   "cell_type": "markdown",
   "metadata": {},
   "source": [
    "There are four possible status codes a request can return from Github, which are:\n",
    "1. 200 = \"OK\"\n",
    "2. 301 = \"Moved permanently\"\n",
    "3. 404 = \"Resource not found\"\n",
    "4. 422 = \"Validation failed, or the endpoint has been spammed.\""
   ]
  },
  {
   "cell_type": "markdown",
   "metadata": {},
   "source": [
    "---\n",
    "\n",
    "## Part C: Authenticating API Key\n",
    "\n",
    "Although GitHub has endpoints that can illustrate the remaining concepts we'll explore, it can be helpful to see multiple examples.  For this, we'll use The Movie Database (TMDB).\n",
    "\n",
    "First, you'll need to make a free TMDB account to work with its API: [https://www.themoviedb.org/signup](https://www.themoviedb.org/signup).\n",
    "\n",
    "Here are some helpful links:\n",
    "\n",
    "- TMDB Terms of Use: [https://www.themoviedb.org/documentation/api/terms-of-use](https://www.themoviedb.org/documentation/api/terms-of-use)\n",
    "- TMDB API Getting Started page: [https://developers.themoviedb.org/3/getting-started/introduction](https://developers.themoviedb.org/3/getting-started/introduction)\n",
    "- TMDB API Documentation: [https://www.themoviedb.org/documentation/api](https://www.themoviedb.org/documentation/api)"
   ]
  },
  {
   "cell_type": "markdown",
   "metadata": {},
   "source": [
    "Some APIs require an API key, which is obtained by an application developer, and identifies the application the API.  Your API key is like a password -- you should not share it with anyone!\n",
    "\n",
    "Before continuing, register an \"application\" with TMDB to get an API key: [https://www.themoviedb.org/settings/api](https://www.themoviedb.org/settings/api).\n",
    "\n",
    "Note that you do not need to give too much information.  For example, you could reasonably use Denison's campus address for the address.  Here is an example:\n",
    "\n",
    "```\n",
    "    Application Type: Personal\n",
    "\n",
    "    Application Name: Test Application\n",
    "    Application URL: localhost\n",
    "    Application Summary: Test application to try out TMDB API\n",
    "\n",
    "    Address: 100 West College Street, Granville, Ohio 43023\n",
    "```"
   ]
  },
  {
   "cell_type": "markdown",
   "metadata": {},
   "source": [
    "You should treat your API key like a password -- it unqiuely identifies you.  We'll store it locally in a `creds.json` file.  Open [creds.json](`creds.json`) and paste your \"API Key (v3 auth) from https://www.themoviedb.org/settings/api as the value for the key `\"apikey\"`.  Your file should look something like this (note that the API key below is not valid, but it's the same length yours should be):"
   ]
  },
  {
   "cell_type": "code",
   "execution_count": null,
   "metadata": {},
   "outputs": [],
   "source": [
    "{\n",
    "    \"tmdb\": {\n",
    "        \"protocol\": \"https\",\n",
    "        \"location\": \"api.themoviedb.org\",\n",
    "        \"apikey\": \"64cefb3e82db8d373423a7bd0aa8956d\"\n",
    "    }\n",
    "}"
   ]
  },
  {
   "cell_type": "markdown",
   "metadata": {},
   "source": [
    "**Q3:** Perform an API request given your API key.  Note that we can use another utility function to parse the JSON-formatted `creds.json`, returning the dictionary for `\"tmdb\"` information.\n",
    "\n",
    "Write code to access this endpoint: `https://api.themoviedb.org/3/tv/popular?api_key={apikey}`.  Store your `JSON` results in a variable `tmdb_data`."
   ]
  },
  {
   "cell_type": "code",
   "execution_count": 5,
   "metadata": {},
   "outputs": [
    {
     "name": "stdout",
     "output_type": "stream",
     "text": [
      "{\n",
      "  \"page\": 1\n",
      "  \"results\": \n",
      "  [\n",
      "    {\n",
      "      \"backdrop_path\": \"/wJmcuxa0C4AERmA9mejxm9qRYDj.jpg\"\n",
      "      \"first_air_date\": \"2022-06-06\"\n",
      "      \"genre_ids\": \n",
      "      [\n",
      "      ]\n",
      "      \"id\": 203504\n",
      "      \"name\": \"Aashiqana\"\n",
      "      \"origin_country\": \n",
      "      [\n",
      "      ]\n",
      "      \"original_language\": \"hi\"\n",
      "      ...\n",
      "    }\n",
      "    {\n",
      "      \"backdrop_path\": \"/xGKTgJlqCkq6tAK2sOTdULh7YaX.jpg\"\n",
      "      \"first_air_date\": \"2022-10-10\"\n",
      "      \"genre_ids\": \n",
      "      [\n",
      "      ]\n",
      "      \"id\": 204370\n",
      "      \"name\": \"The Path\"\n",
      "      \"origin_country\": \n",
      "      [\n",
      "      ]\n",
      "      \"original_language\": \"pt\"\n"
     ]
    }
   ],
   "source": [
    "# Use a util function to read the API key from creds.json\n",
    "tmdb_creds = util.read_creds(\"tmdb\", \".\", \"creds.json\")\n",
    "apikey = tmdb_creds[\"apikey\"]\n",
    "\n",
    "url = f\"https://api.themoviedb.org/3/tv/popular?api_key={apikey}\" \n",
    "response = requests.get(url)\n",
    "tmdb_data = response.json()\n",
    "\n",
    "util.print_data(tmdb_data, depth=3, nchild=7, nlines=30, width=80)"
   ]
  },
  {
   "cell_type": "code",
   "execution_count": 6,
   "metadata": {},
   "outputs": [],
   "source": [
    "# Testing cell\n",
    "assert isinstance(tmdb_data, dict)\n",
    "assert \"page\" in tmdb_data\n",
    "assert tmdb_data[\"page\"] == 1\n",
    "assert len(tmdb_data) == 4"
   ]
  },
  {
   "cell_type": "markdown",
   "metadata": {},
   "source": [
    "**Q4:** How many results does this API endpoint return?  What is the name of the TV show from the first-returned result?  Write code to answer both of these questions using your data in `tmdb_data` (don't hard-code the values), and store your results in variables `tmdb_results_count` and `tmdb_tv_show`."
   ]
  },
  {
   "cell_type": "code",
   "execution_count": 9,
   "metadata": {},
   "outputs": [],
   "source": [
    "tmdb_results_count = len(tmdb_data[\"results\"])\n",
    "tmdb_tv_show = tmdb_data[\"results\"][0][\"name\"]"
   ]
  },
  {
   "cell_type": "code",
   "execution_count": 10,
   "metadata": {},
   "outputs": [],
   "source": [
    "# Testing cell\n",
    "assert isinstance(tmdb_results_count, int)\n",
    "assert tmdb_results_count > 4\n",
    "\n",
    "assert isinstance(tmdb_tv_show, str)"
   ]
  },
  {
   "cell_type": "markdown",
   "metadata": {},
   "source": [
    "---\n",
    "\n",
    "## Part D: Query Parameters\n",
    "\n",
    "In addition to the API key, we can provide other parameters as part of the _query-string_ portion of the _resource-path_ in a `GET` request.  For example, the `/search` endpoint of the TMDB API allows us to provide the `query` string to search for movies matching that query."
   ]
  },
  {
   "cell_type": "code",
   "execution_count": 11,
   "metadata": {},
   "outputs": [
    {
     "name": "stdout",
     "output_type": "stream",
     "text": [
      "200\n",
      "/3/search/movie?query=Star+Wars&api_key=...\n",
      "{\n",
      "  \"page\": 1\n",
      "  \"results\": \n",
      "  [\n",
      "    {\n",
      "      \"adult\": False\n",
      "      \"backdrop_path\": \"/aDYSnJAK0BTVeE8osOy22Kz3SXY.jpg\"\n",
      "      \"genre_ids\": \n",
      "      [\n",
      "      ]\n",
      "      \"id\": 11\n",
      "      \"original_language\": \"en\"\n",
      "      \"original_title\": \"Star Wars\"\n",
      "      \"overview\": \"Princess Leia is captured and held hostage by the evil Imp...\n",
      "      \"popularity\": 92.312\n",
      "      \"poster_path\": \"/6FfCtAuVAW8XJjZ7eWeLibRLWTw.jpg\"\n",
      "      ...\n",
      "    }\n",
      "    {\n",
      "      \"adult\": False\n",
      "      \"backdrop_path\": \"/iflKt34Ck2JpY2PY9wW1zwdJgJi.jpg\"\n",
      "      \"genre_ids\": \n",
      "      [\n",
      "      ]\n",
      "      \"id\": 782054\n",
      "      \"original_language\": \"ja\"\n",
      "      \"original_title\": \"映画ドラえもん のび太の宇宙小戦争 2021\"\n",
      "      \"overview\": \"One day during summer vacation, a palm-sized alien named P...\n",
      "      \"popularity\": 37.471\n",
      "      \"poster_path\": \"/48gKZioIDeUOI0afbYv3kh9u9RQ.jpg\"\n"
     ]
    }
   ],
   "source": [
    "# Build the URL\n",
    "resource_path = \"/3/search/movie\"\n",
    "location = \"api.themoviedb.org\"\n",
    "url = util.buildURL(resource_path, location)\n",
    "\n",
    "# Use a util function to read the API key from creds.json\n",
    "tmdb_creds = util.read_creds(\"tmdb\", \".\", \"creds.json\")\n",
    "apikey = tmdb_creds[\"apikey\"]\n",
    "\n",
    "query_params = {\"query\": \"Star Wars\",\n",
    "                \"api_key\": apikey}\n",
    "\n",
    "# Use the query parameters within the request\n",
    "response = requests.get(url, params=query_params)\n",
    "print(response.status_code)\n",
    "assert response.status_code == 200\n",
    "\n",
    "# Look at how the path URL was encoded (e.g., the space as +)\n",
    "print(response.request.path_url[:40] + \"...\")\n",
    "\n",
    "# View the resulting JSON\n",
    "search_results = response.json()\n",
    "util.print_data(search_results, depth=2, nchild=9, nlines=30, width=80)"
   ]
  },
  {
   "cell_type": "markdown",
   "metadata": {},
   "source": [
    "---\n",
    "\n",
    "## Part E: Header Parameters\n",
    "\n",
    "The final place we may supply parameters to a `GET` request is within the request headers.  For example, even though TMDB always returns JSON-formatted data, some other APIs may allow the client to specify the desired data format, e.g., `\"Accept\": \"application/json\"` or `\"Accept\": \"text/xml\"`.\n",
    "\n",
    "Looking at the TMDB API documentation, you would find the headers are required for `POST` and `DELETE` requests, as well as `GET` requests related to a specific account; these headers have additional authentication information (discussed in Chapter 24).\n",
    "\n",
    "For now, we can still create a headers dictionary and provide it for our `GET` requests, even if it may be ignored."
   ]
  },
  {
   "cell_type": "code",
   "execution_count": 12,
   "metadata": {},
   "outputs": [
    {
     "name": "stdout",
     "output_type": "stream",
     "text": [
      "{\n",
      "  \"User-Agent\": \"python-requests/2.28.1\",\n",
      "  \"Accept-Encoding\": \"gzip, deflate\",\n",
      "  \"Accept\": \"*/*\",\n",
      "  \"Connection\": \"keep-alive\",\n",
      "  \"Content-Type\": \"application/json\"\n",
      "}\n"
     ]
    }
   ],
   "source": [
    "# Build the URL\n",
    "resource_path = \"/3/search/movie\"\n",
    "location = \"api.themoviedb.org\"\n",
    "url = util.buildURL(resource_path, location)\n",
    "\n",
    "# Use a util function to read the API key from creds.json\n",
    "tmdb_creds = util.read_creds(\"tmdb\", \".\", \"creds.json\")\n",
    "apikey = tmdb_creds[\"apikey\"]\n",
    "\n",
    "query_params = {\"query\": \"Star Wars\",\n",
    "                \"api_key\": apikey}\n",
    "header_params = {\"Content-Type\": \"application/json\",\n",
    "                 \"Accept-Encoding\": \"gzip, deflate\"}\n",
    "\n",
    "# Use the query and header parameters within the request\n",
    "response = requests.get(url, params=query_params, headers=header_params)\n",
    "assert response.status_code == 200\n",
    "\n",
    "# View the headers of the request\n",
    "request = response.request\n",
    "util.print_headers(request.headers)"
   ]
  },
  {
   "cell_type": "markdown",
   "metadata": {},
   "source": [
    "Note that our headers may be ignored.  For instance, TMDB will only provide JSON-formatted data, so if we give a different `Content-Type`, it still provides valid JSON."
   ]
  },
  {
   "cell_type": "code",
   "execution_count": 13,
   "metadata": {},
   "outputs": [
    {
     "name": "stdout",
     "output_type": "stream",
     "text": [
      "{\n",
      "  \"User-Agent\": \"python-requests/2.28.1\",\n",
      "  \"Accept-Encoding\": \"gzip, deflate\",\n",
      "  \"Accept\": \"*/*\",\n",
      "  \"Connection\": \"keep-alive\",\n",
      "  \"Content-Type\": \"text/html\"\n",
      "}\n"
     ]
    }
   ],
   "source": [
    "# Repeat the previous request, but specify a different content type\n",
    "# (which will be ignored by the API)\n",
    "header_params = {\"Content-Type\": \"text/html\",\n",
    "                 \"Accept-Encoding\": \"gzip, deflate\"}\n",
    "\n",
    "# Use the query and header parameters within the request\n",
    "response = requests.get(url, params=query_params, headers=header_params)\n",
    "assert response.status_code == 200\n",
    "\n",
    "# View the headers of the request\n",
    "request = response.request\n",
    "util.print_headers(request.headers)"
   ]
  },
  {
   "cell_type": "code",
   "execution_count": 14,
   "metadata": {},
   "outputs": [
    {
     "name": "stdout",
     "output_type": "stream",
     "text": [
      "{\n",
      "  \"page\": 1\n",
      "  \"results\": \n",
      "  [\n",
      "    {\n",
      "      \"adult\": False\n",
      "      \"backdrop_path\": \"/aDYSnJAK0BTVeE8osOy22Kz3SXY.jpg\"\n",
      "      \"genre_ids\": \n",
      "      [\n",
      "      ]\n"
     ]
    }
   ],
   "source": [
    "# Try to parse the result as JSON\n",
    "data = response.json()\n",
    "util.print_data(search_results, depth=2, nchild=9, nlines=10, width=80)"
   ]
  },
  {
   "cell_type": "markdown",
   "metadata": {},
   "source": [
    "**Q5:** Some APIs are more restrictive than general web resources, so it is not a good idea to use unsupported headers.  For instance, the TMDB API does not support `\"Transfer-Encoding\": \"chunked\"`.  Write a request that includes this header, resulting in a `501: Not Implemented` status code for the response.  Store your response in a variable `bad_response`."
   ]
  },
  {
   "cell_type": "code",
   "execution_count": 15,
   "metadata": {},
   "outputs": [
    {
     "name": "stdout",
     "output_type": "stream",
     "text": [
      "Status code: 501\n"
     ]
    }
   ],
   "source": [
    "# Build the URL\n",
    "resource_path = \"/3/search/movie\"\n",
    "location = \"api.themoviedb.org\"\n",
    "url = util.buildURL(resource_path, location)\n",
    "\n",
    "# Use a util function to read the API key from creds.json\n",
    "tmdb_creds = util.read_creds(\"tmdb\", \".\", \"creds.json\")\n",
    "apikey = tmdb_creds[\"apikey\"]\n",
    "\n",
    "query_params = {\"query\": \"Star Wars\",\n",
    "                \"api_key\": apikey}\n",
    "header_params = {\"Content-Type\": \"application/json\",\n",
    "                 \"Accept-Encoding\": \"gzip, deflate\",\n",
    "                 \"Transfer-Encoding\": \"chunked\"}\n",
    "\n",
    "# Use the query and header parameters within the request\n",
    "bad_response = requests.get(url, params=query_params, headers=header_params)\n",
    "\n",
    "\n",
    "print(\"Status code:\", bad_response.status_code) # 501: Not Implemented"
   ]
  },
  {
   "cell_type": "code",
   "execution_count": 16,
   "metadata": {},
   "outputs": [],
   "source": [
    "# Testing cell\n",
    "assert bad_response.status_code == 501\n",
    "assert bad_response.request.headers.get(\"Transfer-Encoding\", None) == \"chunked\""
   ]
  },
  {
   "cell_type": "markdown",
   "metadata": {},
   "source": [
    "---\n",
    "\n",
    "## Part F: `POST` and `POST` Body\n",
    "\n",
    "For our final example, we build a `POST` request to rate a movie using the TMDB API.  If we look at the [documentation for this endpoint](https://developers.themoviedb.org/3/movies/rate-movie), we'll see that we need the following:\n",
    "\n",
    "- Path parameter: `movie_id` (integer) - the movie to rate\n",
    "- Header: `Content-Type` (string) - content type, defaults to `\"application/json;charset=utf-8\"`\n",
    "- Query String: `api_key` (string) - your API key\n",
    "- Request Body: `value` (number) - the rating\n",
    "\n",
    "The `POST` request will not succeed unless we provide a guest session ID (this is separate from the user's API key).  First, we retrieve a guest session ID:"
   ]
  },
  {
   "cell_type": "code",
   "execution_count": 17,
   "metadata": {},
   "outputs": [
    {
     "name": "stdout",
     "output_type": "stream",
     "text": [
      "{\n",
      "  \"success\": True\n",
      "  \"guest_session_id\": \"3583b903e19ccaeca13dc21530134c4a\"\n",
      "  \"expires_at\": \"2023-04-27 16:57:26 UTC\"\n",
      "}\n"
     ]
    }
   ],
   "source": [
    "# Build the URL\n",
    "resource_path = \"/3/authentication/guest_session/new\"\n",
    "location = \"api.themoviedb.org\"\n",
    "url = util.buildURL(resource_path, location)\n",
    "\n",
    "# Use a util function to read the API key from creds.json\n",
    "tmdb_creds = util.read_creds(\"tmdb\", \".\", \"creds.json\")\n",
    "apikey = tmdb_creds[\"apikey\"]\n",
    "\n",
    "query_params = {\"api_key\": apikey}\n",
    "\n",
    "# Perform a GET request to receive a guest session ID\n",
    "response = requests.get(url, params=query_params)\n",
    "assert response.status_code == 200\n",
    "\n",
    "results = response.json()\n",
    "util.print_data(results, depth=2, nchild=3)"
   ]
  },
  {
   "attachments": {},
   "cell_type": "markdown",
   "metadata": {},
   "source": [
    "**Q6:** Copy the guest session ID you receive into the code cell below.  Then, complete the `POST` request based on the [documentation](https://developers.themoviedb.org/3/movies/rate-movie).  You can use any movie ID you like, or just stick with `181812`.  If you run into issues, you may find the [TMDB list of status codes](https://www.themoviedb.org/documentation/api/status-codes) helpful.\n",
    "\n",
    "Note that the body you provide should consist of a single key-value pair, mapping the (confusingly named) key `value` to a float between `0.5` and `10.0`.  Your body should be a Python `string` representing valid `JSON`."
   ]
  },
  {
   "cell_type": "code",
   "execution_count": 31,
   "metadata": {},
   "outputs": [
    {
     "name": "stdout",
     "output_type": "stream",
     "text": [
      "None\n",
      "404\n",
      "{\n",
      "  \"success\": false,\n",
      "  \"status_code\": 34,\n",
      "  \"status_message\": \"The resource you requested could not...\n",
      "}\n"
     ]
    }
   ],
   "source": [
    "# YOUR CODE HERE\n",
    "\n",
    "guest_session_id = \"3583b903e19ccaeca13dc21530134c4a\"\n",
    "\n",
    "# TODO:\n",
    "# 1. Use the endpoint-path portion of the resource-path to encode parameters\n",
    "# 2. Use a util function to read the API key from creds.json <<<<<<<<<HERE \n",
    "# 3. Build the header parameters\n",
    "# 4. Build the body\n",
    "# 5. Make the POST request (use the requests.post function)\n",
    "\n",
    "with open(os.path.join(\".\", \"creds.json\")) as f:\n",
    "        D = json.load(f)\n",
    "        apikey = D[\"tmdb\"][\"apikey\"]\n",
    "\n",
    "query_params = {\"api_key\": apikey,\n",
    "                \"guest_session_id\": guest_session_id, \n",
    "                \"movie_id\" :181812}\n",
    "header_params = {\"Content-Type\": \"application/json;charset=utf-8\"}\n",
    "\n",
    "resource_path = \"/3/authentication/guest_session/new\"\n",
    "location = \"api.themoviedb.org\"\n",
    "url = util.buildURL(resource_path, location)\n",
    "\n",
    "#HERE \n",
    "response = requests.get(url, params=query_params, headers = header_params)\n",
    "\n",
    "print(response.request.body) # Check the body you sent\n",
    "print(response.status_code)  # Check the resulting status code\n",
    "util.print_data(response.json()) # Look at the body of the response"
   ]
  },
  {
   "cell_type": "code",
   "execution_count": null,
   "metadata": {},
   "outputs": [],
   "source": [
    "# Testing cell\n",
    "assert response.status_code == 201\n",
    "assert \"success\" in response.json().get(\"status_message\", \"\").lower()"
   ]
  },
  {
   "attachments": {},
   "cell_type": "markdown",
   "metadata": {},
   "source": [
    "---\n",
    "\n",
    "## Part G: Try It Out Yourself!\n",
    "\n",
    "**Q7:** Write a function \n",
    "```\n",
    "    getGenreDict(my_api_key)\n",
    "``` \n",
    "that returns a Python dictionary mapping **Movie** genre names to id numbers, e.g.,\n",
    "```\n",
    "    {'Action': 28,\n",
    "     'Adventure': 12,\n",
    "      ...}\n",
    "```\n",
    "\n",
    "Your function should only make a single call to `requests.get()`, with the appropriate [endpoint path](https://developers.themoviedb.org/3/genres/get-movie-list) for TMDB, and with the given API key.\n",
    "\n",
    "Return `None` if something goes wrong.  Also, note that this function should not return the entire JSON result, but instead return a dictionary mapping genre names to id numbers.\n",
    "\n",
    "_Hint:_ You may want to write this as a global cell to get it working and to examine the results, and then convert it into a function."
   ]
  },
  {
   "cell_type": "code",
   "execution_count": 34,
   "metadata": {},
   "outputs": [],
   "source": [
    "def getGenreDict(my_api_key):\n",
    "    url = f\"http://api.themoviedb.org/3/{my_api_key}\" \n",
    "    data = requests.get(url) \n",
    "    d = data.json() \n",
    "    return d "
   ]
  },
  {
   "cell_type": "code",
   "execution_count": 35,
   "metadata": {},
   "outputs": [
    {
     "name": "stdout",
     "output_type": "stream",
     "text": [
      "{'status_code': 7, 'status_message': 'Invalid API key: You must be granted a valid key.', 'success': False}\n"
     ]
    }
   ],
   "source": [
    "# Debugging cell\n",
    "d = getGenreDict(apikey)\n",
    "print(d)"
   ]
  },
  {
   "cell_type": "code",
   "execution_count": null,
   "metadata": {},
   "outputs": [],
   "source": [
    "# Testing cell\n",
    "d = getGenreDict(apikey)\n",
    "assert len(d) == 19\n",
    "assert d[\"Action\"] == 28\n",
    "assert d[\"Fantasy\"] == 14\n",
    "assert d[\"Music\"] == 10402\n",
    "\n",
    "assert getGenreDict(apikey+'z') == None # invalid API key"
   ]
  },
  {
   "cell_type": "markdown",
   "metadata": {},
   "source": [
    "**Q8:** Write a function \n",
    "```\n",
    "    search_person_id(my_api_key, name)\n",
    "``` \n",
    "that uses the `/search/person` endpoint ([https://developers.themoviedb.org/3/search/search-people](https://developers.themoviedb.org/3/search/search-people)) to conduct a search for the given `name`, and returns the `id` of the first entry in the `results` list. This should use only one call to `requests.get()`.\n",
    "\n",
    "Return `None` if something goes wrong, and return `-1` if there were no results."
   ]
  },
  {
   "cell_type": "code",
   "execution_count": 38,
   "metadata": {},
   "outputs": [],
   "source": [
    "def search_person_id(my_api_key, name): \n",
    "    url = f\"https://developers.themoviedb.org/3/search/{name}\"\n",
    "    response = requests.get(url) \n",
    "    if response.status_code != 200: \n",
    "        return None \n",
    "    if response.text == \"\": \n",
    "        return \"-1\"\n",
    "    data = response.json() \n",
    "    return data \n",
    "     "
   ]
  },
  {
   "cell_type": "code",
   "execution_count": 39,
   "metadata": {},
   "outputs": [
    {
     "ename": "KeyboardInterrupt",
     "evalue": "",
     "output_type": "error",
     "traceback": [
      "\u001b[0;31m---------------------------------------------------------------------------\u001b[0m",
      "\u001b[0;31mKeyboardInterrupt\u001b[0m                         Traceback (most recent call last)",
      "\u001b[0;32m/var/folders/hp/bz2rl1sd525b47gn4hj_9dnc0000gn/T/ipykernel_24206/1958313454.py\u001b[0m in \u001b[0;36m<module>\u001b[0;34m\u001b[0m\n\u001b[1;32m      1\u001b[0m \u001b[0;31m# Debugging cell\u001b[0m\u001b[0;34m\u001b[0m\u001b[0;34m\u001b[0m\u001b[0m\n\u001b[0;32m----> 2\u001b[0;31m \u001b[0mprint\u001b[0m\u001b[0;34m(\u001b[0m\u001b[0msearch_person_id\u001b[0m\u001b[0;34m(\u001b[0m\u001b[0mapikey\u001b[0m\u001b[0;34m,\u001b[0m \u001b[0;34m\"Karen Gillan\"\u001b[0m\u001b[0;34m)\u001b[0m\u001b[0;34m)\u001b[0m\u001b[0;34m\u001b[0m\u001b[0;34m\u001b[0m\u001b[0m\n\u001b[0m",
      "\u001b[0;32m/var/folders/hp/bz2rl1sd525b47gn4hj_9dnc0000gn/T/ipykernel_24206/3106996769.py\u001b[0m in \u001b[0;36msearch_person_id\u001b[0;34m(my_api_key, name)\u001b[0m\n\u001b[1;32m      1\u001b[0m \u001b[0;32mdef\u001b[0m \u001b[0msearch_person_id\u001b[0m\u001b[0;34m(\u001b[0m\u001b[0mmy_api_key\u001b[0m\u001b[0;34m,\u001b[0m \u001b[0mname\u001b[0m\u001b[0;34m)\u001b[0m\u001b[0;34m:\u001b[0m\u001b[0;34m\u001b[0m\u001b[0;34m\u001b[0m\u001b[0m\n\u001b[1;32m      2\u001b[0m     \u001b[0murl\u001b[0m \u001b[0;34m=\u001b[0m \u001b[0;34mf\"https://developers.themoviedb.org/3/search/{name}\"\u001b[0m\u001b[0;34m\u001b[0m\u001b[0;34m\u001b[0m\u001b[0m\n\u001b[0;32m----> 3\u001b[0;31m     \u001b[0mresponse\u001b[0m \u001b[0;34m=\u001b[0m \u001b[0mrequests\u001b[0m\u001b[0;34m.\u001b[0m\u001b[0mget\u001b[0m\u001b[0;34m(\u001b[0m\u001b[0murl\u001b[0m\u001b[0;34m)\u001b[0m\u001b[0;34m\u001b[0m\u001b[0;34m\u001b[0m\u001b[0m\n\u001b[0m\u001b[1;32m      4\u001b[0m     \u001b[0;32mif\u001b[0m \u001b[0mresponse\u001b[0m\u001b[0;34m.\u001b[0m\u001b[0mstatus_code\u001b[0m \u001b[0;34m!=\u001b[0m \u001b[0;36m200\u001b[0m\u001b[0;34m:\u001b[0m\u001b[0;34m\u001b[0m\u001b[0;34m\u001b[0m\u001b[0m\n\u001b[1;32m      5\u001b[0m         \u001b[0;32mreturn\u001b[0m \u001b[0;32mNone\u001b[0m\u001b[0;34m\u001b[0m\u001b[0;34m\u001b[0m\u001b[0m\n",
      "\u001b[0;32m~/opt/anaconda3/lib/python3.9/site-packages/requests/api.py\u001b[0m in \u001b[0;36mget\u001b[0;34m(url, params, **kwargs)\u001b[0m\n\u001b[1;32m     71\u001b[0m     \"\"\"\n\u001b[1;32m     72\u001b[0m \u001b[0;34m\u001b[0m\u001b[0m\n\u001b[0;32m---> 73\u001b[0;31m     \u001b[0;32mreturn\u001b[0m \u001b[0mrequest\u001b[0m\u001b[0;34m(\u001b[0m\u001b[0;34m\"get\"\u001b[0m\u001b[0;34m,\u001b[0m \u001b[0murl\u001b[0m\u001b[0;34m,\u001b[0m \u001b[0mparams\u001b[0m\u001b[0;34m=\u001b[0m\u001b[0mparams\u001b[0m\u001b[0;34m,\u001b[0m \u001b[0;34m**\u001b[0m\u001b[0mkwargs\u001b[0m\u001b[0;34m)\u001b[0m\u001b[0;34m\u001b[0m\u001b[0;34m\u001b[0m\u001b[0m\n\u001b[0m\u001b[1;32m     74\u001b[0m \u001b[0;34m\u001b[0m\u001b[0m\n\u001b[1;32m     75\u001b[0m \u001b[0;34m\u001b[0m\u001b[0m\n",
      "\u001b[0;32m~/opt/anaconda3/lib/python3.9/site-packages/requests/api.py\u001b[0m in \u001b[0;36mrequest\u001b[0;34m(method, url, **kwargs)\u001b[0m\n\u001b[1;32m     57\u001b[0m     \u001b[0;31m# cases, and look like a memory leak in others.\u001b[0m\u001b[0;34m\u001b[0m\u001b[0;34m\u001b[0m\u001b[0m\n\u001b[1;32m     58\u001b[0m     \u001b[0;32mwith\u001b[0m \u001b[0msessions\u001b[0m\u001b[0;34m.\u001b[0m\u001b[0mSession\u001b[0m\u001b[0;34m(\u001b[0m\u001b[0;34m)\u001b[0m \u001b[0;32mas\u001b[0m \u001b[0msession\u001b[0m\u001b[0;34m:\u001b[0m\u001b[0;34m\u001b[0m\u001b[0;34m\u001b[0m\u001b[0m\n\u001b[0;32m---> 59\u001b[0;31m         \u001b[0;32mreturn\u001b[0m \u001b[0msession\u001b[0m\u001b[0;34m.\u001b[0m\u001b[0mrequest\u001b[0m\u001b[0;34m(\u001b[0m\u001b[0mmethod\u001b[0m\u001b[0;34m=\u001b[0m\u001b[0mmethod\u001b[0m\u001b[0;34m,\u001b[0m \u001b[0murl\u001b[0m\u001b[0;34m=\u001b[0m\u001b[0murl\u001b[0m\u001b[0;34m,\u001b[0m \u001b[0;34m**\u001b[0m\u001b[0mkwargs\u001b[0m\u001b[0;34m)\u001b[0m\u001b[0;34m\u001b[0m\u001b[0;34m\u001b[0m\u001b[0m\n\u001b[0m\u001b[1;32m     60\u001b[0m \u001b[0;34m\u001b[0m\u001b[0m\n\u001b[1;32m     61\u001b[0m \u001b[0;34m\u001b[0m\u001b[0m\n",
      "\u001b[0;32m~/opt/anaconda3/lib/python3.9/site-packages/requests/sessions.py\u001b[0m in \u001b[0;36mrequest\u001b[0;34m(self, method, url, params, data, headers, cookies, files, auth, timeout, allow_redirects, proxies, hooks, stream, verify, cert, json)\u001b[0m\n\u001b[1;32m    585\u001b[0m         }\n\u001b[1;32m    586\u001b[0m         \u001b[0msend_kwargs\u001b[0m\u001b[0;34m.\u001b[0m\u001b[0mupdate\u001b[0m\u001b[0;34m(\u001b[0m\u001b[0msettings\u001b[0m\u001b[0;34m)\u001b[0m\u001b[0;34m\u001b[0m\u001b[0;34m\u001b[0m\u001b[0m\n\u001b[0;32m--> 587\u001b[0;31m         \u001b[0mresp\u001b[0m \u001b[0;34m=\u001b[0m \u001b[0mself\u001b[0m\u001b[0;34m.\u001b[0m\u001b[0msend\u001b[0m\u001b[0;34m(\u001b[0m\u001b[0mprep\u001b[0m\u001b[0;34m,\u001b[0m \u001b[0;34m**\u001b[0m\u001b[0msend_kwargs\u001b[0m\u001b[0;34m)\u001b[0m\u001b[0;34m\u001b[0m\u001b[0;34m\u001b[0m\u001b[0m\n\u001b[0m\u001b[1;32m    588\u001b[0m \u001b[0;34m\u001b[0m\u001b[0m\n\u001b[1;32m    589\u001b[0m         \u001b[0;32mreturn\u001b[0m \u001b[0mresp\u001b[0m\u001b[0;34m\u001b[0m\u001b[0;34m\u001b[0m\u001b[0m\n",
      "\u001b[0;32m~/opt/anaconda3/lib/python3.9/site-packages/requests/sessions.py\u001b[0m in \u001b[0;36msend\u001b[0;34m(self, request, **kwargs)\u001b[0m\n\u001b[1;32m    699\u001b[0m \u001b[0;34m\u001b[0m\u001b[0m\n\u001b[1;32m    700\u001b[0m         \u001b[0;31m# Send the request\u001b[0m\u001b[0;34m\u001b[0m\u001b[0;34m\u001b[0m\u001b[0m\n\u001b[0;32m--> 701\u001b[0;31m         \u001b[0mr\u001b[0m \u001b[0;34m=\u001b[0m \u001b[0madapter\u001b[0m\u001b[0;34m.\u001b[0m\u001b[0msend\u001b[0m\u001b[0;34m(\u001b[0m\u001b[0mrequest\u001b[0m\u001b[0;34m,\u001b[0m \u001b[0;34m**\u001b[0m\u001b[0mkwargs\u001b[0m\u001b[0;34m)\u001b[0m\u001b[0;34m\u001b[0m\u001b[0;34m\u001b[0m\u001b[0m\n\u001b[0m\u001b[1;32m    702\u001b[0m \u001b[0;34m\u001b[0m\u001b[0m\n\u001b[1;32m    703\u001b[0m         \u001b[0;31m# Total elapsed time of the request (approximately)\u001b[0m\u001b[0;34m\u001b[0m\u001b[0;34m\u001b[0m\u001b[0m\n",
      "\u001b[0;32m~/opt/anaconda3/lib/python3.9/site-packages/requests/adapters.py\u001b[0m in \u001b[0;36msend\u001b[0;34m(self, request, stream, timeout, verify, cert, proxies)\u001b[0m\n\u001b[1;32m    487\u001b[0m         \u001b[0;32mtry\u001b[0m\u001b[0;34m:\u001b[0m\u001b[0;34m\u001b[0m\u001b[0;34m\u001b[0m\u001b[0m\n\u001b[1;32m    488\u001b[0m             \u001b[0;32mif\u001b[0m \u001b[0;32mnot\u001b[0m \u001b[0mchunked\u001b[0m\u001b[0;34m:\u001b[0m\u001b[0;34m\u001b[0m\u001b[0;34m\u001b[0m\u001b[0m\n\u001b[0;32m--> 489\u001b[0;31m                 resp = conn.urlopen(\n\u001b[0m\u001b[1;32m    490\u001b[0m                     \u001b[0mmethod\u001b[0m\u001b[0;34m=\u001b[0m\u001b[0mrequest\u001b[0m\u001b[0;34m.\u001b[0m\u001b[0mmethod\u001b[0m\u001b[0;34m,\u001b[0m\u001b[0;34m\u001b[0m\u001b[0;34m\u001b[0m\u001b[0m\n\u001b[1;32m    491\u001b[0m                     \u001b[0murl\u001b[0m\u001b[0;34m=\u001b[0m\u001b[0murl\u001b[0m\u001b[0;34m,\u001b[0m\u001b[0;34m\u001b[0m\u001b[0;34m\u001b[0m\u001b[0m\n",
      "\u001b[0;32m~/opt/anaconda3/lib/python3.9/site-packages/urllib3/connectionpool.py\u001b[0m in \u001b[0;36murlopen\u001b[0;34m(self, method, url, body, headers, retries, redirect, assert_same_host, timeout, pool_timeout, release_conn, chunked, body_pos, **response_kw)\u001b[0m\n\u001b[1;32m    701\u001b[0m \u001b[0;34m\u001b[0m\u001b[0m\n\u001b[1;32m    702\u001b[0m             \u001b[0;31m# Make the request on the httplib connection object.\u001b[0m\u001b[0;34m\u001b[0m\u001b[0;34m\u001b[0m\u001b[0m\n\u001b[0;32m--> 703\u001b[0;31m             httplib_response = self._make_request(\n\u001b[0m\u001b[1;32m    704\u001b[0m                 \u001b[0mconn\u001b[0m\u001b[0;34m,\u001b[0m\u001b[0;34m\u001b[0m\u001b[0;34m\u001b[0m\u001b[0m\n\u001b[1;32m    705\u001b[0m                 \u001b[0mmethod\u001b[0m\u001b[0;34m,\u001b[0m\u001b[0;34m\u001b[0m\u001b[0;34m\u001b[0m\u001b[0m\n",
      "\u001b[0;32m~/opt/anaconda3/lib/python3.9/site-packages/urllib3/connectionpool.py\u001b[0m in \u001b[0;36m_make_request\u001b[0;34m(self, conn, method, url, timeout, chunked, **httplib_request_kw)\u001b[0m\n\u001b[1;32m    447\u001b[0m                     \u001b[0;31m# Python 3 (including for exceptions like SystemExit).\u001b[0m\u001b[0;34m\u001b[0m\u001b[0;34m\u001b[0m\u001b[0m\n\u001b[1;32m    448\u001b[0m                     \u001b[0;31m# Otherwise it looks like a bug in the code.\u001b[0m\u001b[0;34m\u001b[0m\u001b[0;34m\u001b[0m\u001b[0m\n\u001b[0;32m--> 449\u001b[0;31m                     \u001b[0msix\u001b[0m\u001b[0;34m.\u001b[0m\u001b[0mraise_from\u001b[0m\u001b[0;34m(\u001b[0m\u001b[0me\u001b[0m\u001b[0;34m,\u001b[0m \u001b[0;32mNone\u001b[0m\u001b[0;34m)\u001b[0m\u001b[0;34m\u001b[0m\u001b[0;34m\u001b[0m\u001b[0m\n\u001b[0m\u001b[1;32m    450\u001b[0m         \u001b[0;32mexcept\u001b[0m \u001b[0;34m(\u001b[0m\u001b[0mSocketTimeout\u001b[0m\u001b[0;34m,\u001b[0m \u001b[0mBaseSSLError\u001b[0m\u001b[0;34m,\u001b[0m \u001b[0mSocketError\u001b[0m\u001b[0;34m)\u001b[0m \u001b[0;32mas\u001b[0m \u001b[0me\u001b[0m\u001b[0;34m:\u001b[0m\u001b[0;34m\u001b[0m\u001b[0;34m\u001b[0m\u001b[0m\n\u001b[1;32m    451\u001b[0m             \u001b[0mself\u001b[0m\u001b[0;34m.\u001b[0m\u001b[0m_raise_timeout\u001b[0m\u001b[0;34m(\u001b[0m\u001b[0merr\u001b[0m\u001b[0;34m=\u001b[0m\u001b[0me\u001b[0m\u001b[0;34m,\u001b[0m \u001b[0murl\u001b[0m\u001b[0;34m=\u001b[0m\u001b[0murl\u001b[0m\u001b[0;34m,\u001b[0m \u001b[0mtimeout_value\u001b[0m\u001b[0;34m=\u001b[0m\u001b[0mread_timeout\u001b[0m\u001b[0;34m)\u001b[0m\u001b[0;34m\u001b[0m\u001b[0;34m\u001b[0m\u001b[0m\n",
      "\u001b[0;32m~/opt/anaconda3/lib/python3.9/site-packages/urllib3/packages/six.py\u001b[0m in \u001b[0;36mraise_from\u001b[0;34m(value, from_value)\u001b[0m\n",
      "\u001b[0;32m~/opt/anaconda3/lib/python3.9/site-packages/urllib3/connectionpool.py\u001b[0m in \u001b[0;36m_make_request\u001b[0;34m(self, conn, method, url, timeout, chunked, **httplib_request_kw)\u001b[0m\n\u001b[1;32m    442\u001b[0m                 \u001b[0;31m# Python 3\u001b[0m\u001b[0;34m\u001b[0m\u001b[0;34m\u001b[0m\u001b[0m\n\u001b[1;32m    443\u001b[0m                 \u001b[0;32mtry\u001b[0m\u001b[0;34m:\u001b[0m\u001b[0;34m\u001b[0m\u001b[0;34m\u001b[0m\u001b[0m\n\u001b[0;32m--> 444\u001b[0;31m                     \u001b[0mhttplib_response\u001b[0m \u001b[0;34m=\u001b[0m \u001b[0mconn\u001b[0m\u001b[0;34m.\u001b[0m\u001b[0mgetresponse\u001b[0m\u001b[0;34m(\u001b[0m\u001b[0;34m)\u001b[0m\u001b[0;34m\u001b[0m\u001b[0;34m\u001b[0m\u001b[0m\n\u001b[0m\u001b[1;32m    445\u001b[0m                 \u001b[0;32mexcept\u001b[0m \u001b[0mBaseException\u001b[0m \u001b[0;32mas\u001b[0m \u001b[0me\u001b[0m\u001b[0;34m:\u001b[0m\u001b[0;34m\u001b[0m\u001b[0;34m\u001b[0m\u001b[0m\n\u001b[1;32m    446\u001b[0m                     \u001b[0;31m# Remove the TypeError from the exception chain in\u001b[0m\u001b[0;34m\u001b[0m\u001b[0;34m\u001b[0m\u001b[0m\n",
      "\u001b[0;32m~/opt/anaconda3/lib/python3.9/http/client.py\u001b[0m in \u001b[0;36mgetresponse\u001b[0;34m(self)\u001b[0m\n\u001b[1;32m   1375\u001b[0m         \u001b[0;32mtry\u001b[0m\u001b[0;34m:\u001b[0m\u001b[0;34m\u001b[0m\u001b[0;34m\u001b[0m\u001b[0m\n\u001b[1;32m   1376\u001b[0m             \u001b[0;32mtry\u001b[0m\u001b[0;34m:\u001b[0m\u001b[0;34m\u001b[0m\u001b[0;34m\u001b[0m\u001b[0m\n\u001b[0;32m-> 1377\u001b[0;31m                 \u001b[0mresponse\u001b[0m\u001b[0;34m.\u001b[0m\u001b[0mbegin\u001b[0m\u001b[0;34m(\u001b[0m\u001b[0;34m)\u001b[0m\u001b[0;34m\u001b[0m\u001b[0;34m\u001b[0m\u001b[0m\n\u001b[0m\u001b[1;32m   1378\u001b[0m             \u001b[0;32mexcept\u001b[0m \u001b[0mConnectionError\u001b[0m\u001b[0;34m:\u001b[0m\u001b[0;34m\u001b[0m\u001b[0;34m\u001b[0m\u001b[0m\n\u001b[1;32m   1379\u001b[0m                 \u001b[0mself\u001b[0m\u001b[0;34m.\u001b[0m\u001b[0mclose\u001b[0m\u001b[0;34m(\u001b[0m\u001b[0;34m)\u001b[0m\u001b[0;34m\u001b[0m\u001b[0;34m\u001b[0m\u001b[0m\n",
      "\u001b[0;32m~/opt/anaconda3/lib/python3.9/http/client.py\u001b[0m in \u001b[0;36mbegin\u001b[0;34m(self)\u001b[0m\n\u001b[1;32m    318\u001b[0m         \u001b[0;31m# read until we get a non-100 response\u001b[0m\u001b[0;34m\u001b[0m\u001b[0;34m\u001b[0m\u001b[0m\n\u001b[1;32m    319\u001b[0m         \u001b[0;32mwhile\u001b[0m \u001b[0;32mTrue\u001b[0m\u001b[0;34m:\u001b[0m\u001b[0;34m\u001b[0m\u001b[0;34m\u001b[0m\u001b[0m\n\u001b[0;32m--> 320\u001b[0;31m             \u001b[0mversion\u001b[0m\u001b[0;34m,\u001b[0m \u001b[0mstatus\u001b[0m\u001b[0;34m,\u001b[0m \u001b[0mreason\u001b[0m \u001b[0;34m=\u001b[0m \u001b[0mself\u001b[0m\u001b[0;34m.\u001b[0m\u001b[0m_read_status\u001b[0m\u001b[0;34m(\u001b[0m\u001b[0;34m)\u001b[0m\u001b[0;34m\u001b[0m\u001b[0;34m\u001b[0m\u001b[0m\n\u001b[0m\u001b[1;32m    321\u001b[0m             \u001b[0;32mif\u001b[0m \u001b[0mstatus\u001b[0m \u001b[0;34m!=\u001b[0m \u001b[0mCONTINUE\u001b[0m\u001b[0;34m:\u001b[0m\u001b[0;34m\u001b[0m\u001b[0;34m\u001b[0m\u001b[0m\n\u001b[1;32m    322\u001b[0m                 \u001b[0;32mbreak\u001b[0m\u001b[0;34m\u001b[0m\u001b[0;34m\u001b[0m\u001b[0m\n",
      "\u001b[0;32m~/opt/anaconda3/lib/python3.9/http/client.py\u001b[0m in \u001b[0;36m_read_status\u001b[0;34m(self)\u001b[0m\n\u001b[1;32m    279\u001b[0m \u001b[0;34m\u001b[0m\u001b[0m\n\u001b[1;32m    280\u001b[0m     \u001b[0;32mdef\u001b[0m \u001b[0m_read_status\u001b[0m\u001b[0;34m(\u001b[0m\u001b[0mself\u001b[0m\u001b[0;34m)\u001b[0m\u001b[0;34m:\u001b[0m\u001b[0;34m\u001b[0m\u001b[0;34m\u001b[0m\u001b[0m\n\u001b[0;32m--> 281\u001b[0;31m         \u001b[0mline\u001b[0m \u001b[0;34m=\u001b[0m \u001b[0mstr\u001b[0m\u001b[0;34m(\u001b[0m\u001b[0mself\u001b[0m\u001b[0;34m.\u001b[0m\u001b[0mfp\u001b[0m\u001b[0;34m.\u001b[0m\u001b[0mreadline\u001b[0m\u001b[0;34m(\u001b[0m\u001b[0m_MAXLINE\u001b[0m \u001b[0;34m+\u001b[0m \u001b[0;36m1\u001b[0m\u001b[0;34m)\u001b[0m\u001b[0;34m,\u001b[0m \u001b[0;34m\"iso-8859-1\"\u001b[0m\u001b[0;34m)\u001b[0m\u001b[0;34m\u001b[0m\u001b[0;34m\u001b[0m\u001b[0m\n\u001b[0m\u001b[1;32m    282\u001b[0m         \u001b[0;32mif\u001b[0m \u001b[0mlen\u001b[0m\u001b[0;34m(\u001b[0m\u001b[0mline\u001b[0m\u001b[0;34m)\u001b[0m \u001b[0;34m>\u001b[0m \u001b[0m_MAXLINE\u001b[0m\u001b[0;34m:\u001b[0m\u001b[0;34m\u001b[0m\u001b[0;34m\u001b[0m\u001b[0m\n\u001b[1;32m    283\u001b[0m             \u001b[0;32mraise\u001b[0m \u001b[0mLineTooLong\u001b[0m\u001b[0;34m(\u001b[0m\u001b[0;34m\"status line\"\u001b[0m\u001b[0;34m)\u001b[0m\u001b[0;34m\u001b[0m\u001b[0;34m\u001b[0m\u001b[0m\n",
      "\u001b[0;32m~/opt/anaconda3/lib/python3.9/socket.py\u001b[0m in \u001b[0;36mreadinto\u001b[0;34m(self, b)\u001b[0m\n\u001b[1;32m    702\u001b[0m         \u001b[0;32mwhile\u001b[0m \u001b[0;32mTrue\u001b[0m\u001b[0;34m:\u001b[0m\u001b[0;34m\u001b[0m\u001b[0;34m\u001b[0m\u001b[0m\n\u001b[1;32m    703\u001b[0m             \u001b[0;32mtry\u001b[0m\u001b[0;34m:\u001b[0m\u001b[0;34m\u001b[0m\u001b[0;34m\u001b[0m\u001b[0m\n\u001b[0;32m--> 704\u001b[0;31m                 \u001b[0;32mreturn\u001b[0m \u001b[0mself\u001b[0m\u001b[0;34m.\u001b[0m\u001b[0m_sock\u001b[0m\u001b[0;34m.\u001b[0m\u001b[0mrecv_into\u001b[0m\u001b[0;34m(\u001b[0m\u001b[0mb\u001b[0m\u001b[0;34m)\u001b[0m\u001b[0;34m\u001b[0m\u001b[0;34m\u001b[0m\u001b[0m\n\u001b[0m\u001b[1;32m    705\u001b[0m             \u001b[0;32mexcept\u001b[0m \u001b[0mtimeout\u001b[0m\u001b[0;34m:\u001b[0m\u001b[0;34m\u001b[0m\u001b[0;34m\u001b[0m\u001b[0m\n\u001b[1;32m    706\u001b[0m                 \u001b[0mself\u001b[0m\u001b[0;34m.\u001b[0m\u001b[0m_timeout_occurred\u001b[0m \u001b[0;34m=\u001b[0m \u001b[0;32mTrue\u001b[0m\u001b[0;34m\u001b[0m\u001b[0;34m\u001b[0m\u001b[0m\n",
      "\u001b[0;32m~/opt/anaconda3/lib/python3.9/ssl.py\u001b[0m in \u001b[0;36mrecv_into\u001b[0;34m(self, buffer, nbytes, flags)\u001b[0m\n\u001b[1;32m   1240\u001b[0m                   \u001b[0;34m\"non-zero flags not allowed in calls to recv_into() on %s\"\u001b[0m \u001b[0;34m%\u001b[0m\u001b[0;34m\u001b[0m\u001b[0;34m\u001b[0m\u001b[0m\n\u001b[1;32m   1241\u001b[0m                   self.__class__)\n\u001b[0;32m-> 1242\u001b[0;31m             \u001b[0;32mreturn\u001b[0m \u001b[0mself\u001b[0m\u001b[0;34m.\u001b[0m\u001b[0mread\u001b[0m\u001b[0;34m(\u001b[0m\u001b[0mnbytes\u001b[0m\u001b[0;34m,\u001b[0m \u001b[0mbuffer\u001b[0m\u001b[0;34m)\u001b[0m\u001b[0;34m\u001b[0m\u001b[0;34m\u001b[0m\u001b[0m\n\u001b[0m\u001b[1;32m   1243\u001b[0m         \u001b[0;32melse\u001b[0m\u001b[0;34m:\u001b[0m\u001b[0;34m\u001b[0m\u001b[0;34m\u001b[0m\u001b[0m\n\u001b[1;32m   1244\u001b[0m             \u001b[0;32mreturn\u001b[0m \u001b[0msuper\u001b[0m\u001b[0;34m(\u001b[0m\u001b[0;34m)\u001b[0m\u001b[0;34m.\u001b[0m\u001b[0mrecv_into\u001b[0m\u001b[0;34m(\u001b[0m\u001b[0mbuffer\u001b[0m\u001b[0;34m,\u001b[0m \u001b[0mnbytes\u001b[0m\u001b[0;34m,\u001b[0m \u001b[0mflags\u001b[0m\u001b[0;34m)\u001b[0m\u001b[0;34m\u001b[0m\u001b[0;34m\u001b[0m\u001b[0m\n",
      "\u001b[0;32m~/opt/anaconda3/lib/python3.9/ssl.py\u001b[0m in \u001b[0;36mread\u001b[0;34m(self, len, buffer)\u001b[0m\n\u001b[1;32m   1098\u001b[0m         \u001b[0;32mtry\u001b[0m\u001b[0;34m:\u001b[0m\u001b[0;34m\u001b[0m\u001b[0;34m\u001b[0m\u001b[0m\n\u001b[1;32m   1099\u001b[0m             \u001b[0;32mif\u001b[0m \u001b[0mbuffer\u001b[0m \u001b[0;32mis\u001b[0m \u001b[0;32mnot\u001b[0m \u001b[0;32mNone\u001b[0m\u001b[0;34m:\u001b[0m\u001b[0;34m\u001b[0m\u001b[0;34m\u001b[0m\u001b[0m\n\u001b[0;32m-> 1100\u001b[0;31m                 \u001b[0;32mreturn\u001b[0m \u001b[0mself\u001b[0m\u001b[0;34m.\u001b[0m\u001b[0m_sslobj\u001b[0m\u001b[0;34m.\u001b[0m\u001b[0mread\u001b[0m\u001b[0;34m(\u001b[0m\u001b[0mlen\u001b[0m\u001b[0;34m,\u001b[0m \u001b[0mbuffer\u001b[0m\u001b[0;34m)\u001b[0m\u001b[0;34m\u001b[0m\u001b[0;34m\u001b[0m\u001b[0m\n\u001b[0m\u001b[1;32m   1101\u001b[0m             \u001b[0;32melse\u001b[0m\u001b[0;34m:\u001b[0m\u001b[0;34m\u001b[0m\u001b[0;34m\u001b[0m\u001b[0m\n\u001b[1;32m   1102\u001b[0m                 \u001b[0;32mreturn\u001b[0m \u001b[0mself\u001b[0m\u001b[0;34m.\u001b[0m\u001b[0m_sslobj\u001b[0m\u001b[0;34m.\u001b[0m\u001b[0mread\u001b[0m\u001b[0;34m(\u001b[0m\u001b[0mlen\u001b[0m\u001b[0;34m)\u001b[0m\u001b[0;34m\u001b[0m\u001b[0;34m\u001b[0m\u001b[0m\n",
      "\u001b[0;31mKeyboardInterrupt\u001b[0m: "
     ]
    }
   ],
   "source": [
    "# Debugging cell\n",
    "print(search_person_id(apikey, \"Karen Gillan\"))"
   ]
  },
  {
   "cell_type": "code",
   "execution_count": null,
   "metadata": {},
   "outputs": [],
   "source": [
    "# Testing cell\n",
    "assert search_person_id(apikey, \"Karen Gillan\") == 543261\n",
    "assert search_person_id(apikey, \"Bradley Cooper\") == 51329\n",
    "\n",
    "assert search_person_id(apikey, \"Lulu Amert\") == -1 # no results for a cat\n",
    "assert search_person_id(apikey+'z', 'Bill Murray') == None # invalid API key"
   ]
  },
  {
   "cell_type": "markdown",
   "metadata": {},
   "source": [
    "---\n",
    "\n",
    "---\n",
    "\n",
    "## Part H\n",
    "\n",
    "**Q9:** How much time (in minutes/hours) did you spend on this homework assignment?"
   ]
  },
  {
   "cell_type": "markdown",
   "metadata": {},
   "source": [
    "YOUR ANSWER HERE"
   ]
  },
  {
   "cell_type": "markdown",
   "metadata": {},
   "source": [
    "**Q10:** Who was your partner for this assignment?  If you worked alone, say so instead."
   ]
  },
  {
   "cell_type": "markdown",
   "metadata": {},
   "source": [
    "YOUR ANSWER HERE"
   ]
  }
 ],
 "metadata": {
  "interpreter": {
   "hash": "c1b6934e936e1ef54c6a95f48075e41a1292402ce0d7d094af8478baa001b4f5"
  },
  "kernelspec": {
   "display_name": "Python 3.9.7 ('base')",
   "language": "python",
   "name": "python3"
  },
  "language_info": {
   "codemirror_mode": {
    "name": "ipython",
    "version": 3
   },
   "file_extension": ".py",
   "mimetype": "text/x-python",
   "name": "python",
   "nbconvert_exporter": "python",
   "pygments_lexer": "ipython3",
   "version": "3.9.13"
  },
  "orig_nbformat": 4
 },
 "nbformat": 4,
 "nbformat_minor": 2
}
