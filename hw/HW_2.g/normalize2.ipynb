{
 "cells": [
  {
   "attachments": {},
   "cell_type": "markdown",
   "metadata": {},
   "source": [
    "# Denison DA210/CS181 Homework 2.g - Step 2\n",
    "\n",
    "Before you turn this notebook in, make sure everything runs as expected. This is a combination of **restarting the kernel** and then **running all cells**.\n",
    "\n",
    "Make sure you fill in any place that says `# YOUR CODE HERE` or \"YOUR ANSWER HERE\"."
   ]
  },
  {
   "cell_type": "markdown",
   "metadata": {},
   "source": [
    "---"
   ]
  },
  {
   "cell_type": "code",
   "execution_count": 1,
   "metadata": {},
   "outputs": [],
   "source": [
    "import os\n",
    "import os.path\n",
    "import pandas as pd\n",
    "\n",
    "datadir = \"publicdata\""
   ]
  },
  {
   "attachments": {},
   "cell_type": "markdown",
   "metadata": {},
   "source": [
    "---\n",
    "\n",
    "## Part D: More data normalization\n",
    "\n",
    "**Q8:** Read `us_rent_income.csv` into a dataframe (with no specified index) named `df_rent_untidy`."
   ]
  },
  {
   "cell_type": "code",
   "execution_count": 2,
   "metadata": {
    "deletable": false,
    "nbgrader": {
     "cell_type": "code",
     "checksum": "98f7f4a7a3892610c5622e1a8552c611",
     "grade": false,
     "grade_id": "cell-5bba2b9d91e4bf79",
     "locked": false,
     "schema_version": 3,
     "solution": true,
     "task": false
    }
   },
   "outputs": [
    {
     "data": {
      "text/html": [
       "<div>\n",
       "<style scoped>\n",
       "    .dataframe tbody tr th:only-of-type {\n",
       "        vertical-align: middle;\n",
       "    }\n",
       "\n",
       "    .dataframe tbody tr th {\n",
       "        vertical-align: top;\n",
       "    }\n",
       "\n",
       "    .dataframe thead th {\n",
       "        text-align: right;\n",
       "    }\n",
       "</style>\n",
       "<table border=\"1\" class=\"dataframe\">\n",
       "  <thead>\n",
       "    <tr style=\"text-align: right;\">\n",
       "      <th></th>\n",
       "      <th>GEOID</th>\n",
       "      <th>NAME</th>\n",
       "      <th>variable</th>\n",
       "      <th>estimate</th>\n",
       "      <th>moe</th>\n",
       "    </tr>\n",
       "  </thead>\n",
       "  <tbody>\n",
       "    <tr>\n",
       "      <th>0</th>\n",
       "      <td>1</td>\n",
       "      <td>Alabama</td>\n",
       "      <td>income</td>\n",
       "      <td>24476.0</td>\n",
       "      <td>136.0</td>\n",
       "    </tr>\n",
       "    <tr>\n",
       "      <th>1</th>\n",
       "      <td>1</td>\n",
       "      <td>Alabama</td>\n",
       "      <td>rent</td>\n",
       "      <td>747.0</td>\n",
       "      <td>3.0</td>\n",
       "    </tr>\n",
       "    <tr>\n",
       "      <th>2</th>\n",
       "      <td>2</td>\n",
       "      <td>Alaska</td>\n",
       "      <td>income</td>\n",
       "      <td>32940.0</td>\n",
       "      <td>508.0</td>\n",
       "    </tr>\n",
       "    <tr>\n",
       "      <th>3</th>\n",
       "      <td>2</td>\n",
       "      <td>Alaska</td>\n",
       "      <td>rent</td>\n",
       "      <td>1200.0</td>\n",
       "      <td>13.0</td>\n",
       "    </tr>\n",
       "    <tr>\n",
       "      <th>4</th>\n",
       "      <td>4</td>\n",
       "      <td>Arizona</td>\n",
       "      <td>income</td>\n",
       "      <td>27517.0</td>\n",
       "      <td>148.0</td>\n",
       "    </tr>\n",
       "  </tbody>\n",
       "</table>\n",
       "</div>"
      ],
      "text/plain": [
       "   GEOID     NAME variable  estimate    moe\n",
       "0      1  Alabama   income   24476.0  136.0\n",
       "1      1  Alabama     rent     747.0    3.0\n",
       "2      2   Alaska   income   32940.0  508.0\n",
       "3      2   Alaska     rent    1200.0   13.0\n",
       "4      4  Arizona   income   27517.0  148.0"
      ]
     },
     "execution_count": 2,
     "metadata": {},
     "output_type": "execute_result"
    }
   ],
   "source": [
    "df = pd.read_csv(os.path.join(datadir, \"us_rent_income.csv\")) \n",
    "df_rent_untidy = pd.DataFrame(df)\n",
    "\n",
    "# Display part of the untidy DataFrame\n",
    "df_rent_untidy.head()"
   ]
  },
  {
   "cell_type": "code",
   "execution_count": 3,
   "metadata": {
    "deletable": false,
    "editable": false,
    "nbgrader": {
     "cell_type": "code",
     "checksum": "99a5c2e77454339e73a2dddf81015491",
     "grade": true,
     "grade_id": "cell-d927d8a1051f9d9d",
     "locked": true,
     "points": 3,
     "schema_version": 3,
     "solution": false,
     "task": false
    }
   },
   "outputs": [],
   "source": [
    "# Testing cell\n",
    "assert df_rent_untidy.shape == (104,5)\n",
    "assert df_rent_untidy.iloc[0,2] == \"income\"\n",
    "assert df_rent_untidy.iloc[1,3] == 747.0"
   ]
  },
  {
   "attachments": {},
   "cell_type": "markdown",
   "metadata": {},
   "source": [
    "**Q9:** Transform `df_rent_untidy` as needed to make it tidy. Store the result as `df_rent`.  Make sure to keep the original `df_rent_untidy` unchanged.\n",
    "\n",
    "Hint: Your tidy result should have only one column used as the row index."
   ]
  },
  {
   "cell_type": "code",
   "execution_count": 4,
   "metadata": {
    "deletable": false,
    "nbgrader": {
     "cell_type": "code",
     "checksum": "98f7f4a7a3892610c5622e1a8552c611",
     "grade": false,
     "grade_id": "cell-5bba2b9d91e4bf79",
     "locked": false,
     "schema_version": 3,
     "solution": true,
     "task": false
    }
   },
   "outputs": [
    {
     "data": {
      "text/html": [
       "<div>\n",
       "<style scoped>\n",
       "    .dataframe tbody tr th:only-of-type {\n",
       "        vertical-align: middle;\n",
       "    }\n",
       "\n",
       "    .dataframe tbody tr th {\n",
       "        vertical-align: top;\n",
       "    }\n",
       "\n",
       "    .dataframe thead tr th {\n",
       "        text-align: left;\n",
       "    }\n",
       "\n",
       "    .dataframe thead tr:last-of-type th {\n",
       "        text-align: right;\n",
       "    }\n",
       "</style>\n",
       "<table border=\"1\" class=\"dataframe\">\n",
       "  <thead>\n",
       "    <tr>\n",
       "      <th></th>\n",
       "      <th>NAME</th>\n",
       "      <th colspan=\"2\" halign=\"left\">estimate</th>\n",
       "      <th colspan=\"2\" halign=\"left\">moe</th>\n",
       "    </tr>\n",
       "    <tr>\n",
       "      <th>variable</th>\n",
       "      <th></th>\n",
       "      <th>income</th>\n",
       "      <th>rent</th>\n",
       "      <th>income</th>\n",
       "      <th>rent</th>\n",
       "    </tr>\n",
       "    <tr>\n",
       "      <th>GEOID</th>\n",
       "      <th></th>\n",
       "      <th></th>\n",
       "      <th></th>\n",
       "      <th></th>\n",
       "      <th></th>\n",
       "    </tr>\n",
       "  </thead>\n",
       "  <tbody>\n",
       "    <tr>\n",
       "      <th>1</th>\n",
       "      <td>Alabama</td>\n",
       "      <td>24476.0</td>\n",
       "      <td>747.0</td>\n",
       "      <td>136.0</td>\n",
       "      <td>3.0</td>\n",
       "    </tr>\n",
       "    <tr>\n",
       "      <th>2</th>\n",
       "      <td>Alaska</td>\n",
       "      <td>32940.0</td>\n",
       "      <td>1200.0</td>\n",
       "      <td>508.0</td>\n",
       "      <td>13.0</td>\n",
       "    </tr>\n",
       "    <tr>\n",
       "      <th>4</th>\n",
       "      <td>Arizona</td>\n",
       "      <td>27517.0</td>\n",
       "      <td>972.0</td>\n",
       "      <td>148.0</td>\n",
       "      <td>4.0</td>\n",
       "    </tr>\n",
       "    <tr>\n",
       "      <th>5</th>\n",
       "      <td>Arkansas</td>\n",
       "      <td>23789.0</td>\n",
       "      <td>709.0</td>\n",
       "      <td>165.0</td>\n",
       "      <td>5.0</td>\n",
       "    </tr>\n",
       "    <tr>\n",
       "      <th>6</th>\n",
       "      <td>California</td>\n",
       "      <td>29454.0</td>\n",
       "      <td>1358.0</td>\n",
       "      <td>109.0</td>\n",
       "      <td>3.0</td>\n",
       "    </tr>\n",
       "  </tbody>\n",
       "</table>\n",
       "</div>"
      ],
      "text/plain": [
       "                NAME estimate            moe      \n",
       "variable               income    rent income  rent\n",
       "GEOID                                             \n",
       "1            Alabama  24476.0   747.0  136.0   3.0\n",
       "2             Alaska  32940.0  1200.0  508.0  13.0\n",
       "4            Arizona  27517.0   972.0  148.0   4.0\n",
       "5           Arkansas  23789.0   709.0  165.0   5.0\n",
       "6         California  29454.0  1358.0  109.0   3.0"
      ]
     },
     "execution_count": 4,
     "metadata": {},
     "output_type": "execute_result"
    }
   ],
   "source": [
    "df_rent = df_rent_untidy.copy() \n",
    "df_rent = df_rent.pivot_table(index =[\"NAME\", \"GEOID\"], \n",
    "              columns = [\"variable\"], \n",
    "              values = [\"estimate\", \"moe\"]) \n",
    "df_rent = df_rent.reset_index()\n",
    "df_rent = df_rent.set_index(\"GEOID\")\n",
    "\n",
    "# Display part of the tidy DataFrame\n",
    "df_rent.head()"
   ]
  },
  {
   "cell_type": "code",
   "execution_count": 5,
   "metadata": {
    "deletable": false,
    "editable": false,
    "nbgrader": {
     "cell_type": "code",
     "checksum": "99a5c2e77454339e73a2dddf81015491",
     "grade": true,
     "grade_id": "cell-d927d8a1051f9d9d",
     "locked": true,
     "points": 3,
     "schema_version": 3,
     "solution": false,
     "task": false
    }
   },
   "outputs": [],
   "source": [
    "# Testing cell\n",
    "assert df_rent.shape == (52,5)\n",
    "assert df_rent.iloc[0,1] == 24476.0\n",
    "assert df_rent.iloc[0,2] == 747.0\n",
    "assert df_rent.iloc[0,3] == 136.0\n",
    "assert df_rent.iloc[0,4] == 3.0\n",
    "assert df_rent.iloc[20,1] == 37147.0\n",
    "assert df_rent.iloc[31,2] == 809.0"
   ]
  },
  {
   "attachments": {},
   "cell_type": "markdown",
   "metadata": {},
   "source": [
    "---\n",
    "\n",
    "---\n",
    "\n",
    "## Part E\n",
    "\n",
    "**Q10:** How much time (in minutes/hours) did you spend on this homework assignment?"
   ]
  },
  {
   "attachments": {},
   "cell_type": "markdown",
   "metadata": {},
   "source": [
    "Around 40 minutes.  "
   ]
  },
  {
   "attachments": {},
   "cell_type": "markdown",
   "metadata": {},
   "source": [
    "**Q11:** Who was your partner for this assignment?  If you worked alone, say so instead."
   ]
  },
  {
   "attachments": {},
   "cell_type": "markdown",
   "metadata": {},
   "source": [
    "Alone"
   ]
  }
 ],
 "metadata": {
  "kernelspec": {
   "display_name": "base",
   "language": "python",
   "name": "python3"
  },
  "language_info": {
   "codemirror_mode": {
    "name": "ipython",
    "version": 3
   },
   "file_extension": ".py",
   "mimetype": "text/x-python",
   "name": "python",
   "nbconvert_exporter": "python",
   "pygments_lexer": "ipython3",
   "version": "3.9.13"
  },
  "vscode": {
   "interpreter": {
    "hash": "6812229378a4e14d29bbe4ee07db5e95bb6855d7fc74a2934bab81ab80a6eafa"
   }
  }
 },
 "nbformat": 4,
 "nbformat_minor": 4
}
