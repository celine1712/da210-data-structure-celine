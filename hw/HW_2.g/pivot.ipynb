{
 "cells": [
  {
   "attachments": {},
   "cell_type": "markdown",
   "metadata": {},
   "source": [
    "# Denison DA210/CS181 Homework 2.g - Step 1\n",
    "\n",
    "Before you turn this notebook in, make sure everything runs as expected. This is a combination of **restarting the kernel** and then **running all cells**.\n",
    "\n",
    "Make sure you fill in any place that says `# YOUR CODE HERE` or \"YOUR ANSWER HERE\"."
   ]
  },
  {
   "cell_type": "markdown",
   "metadata": {},
   "source": [
    "---"
   ]
  },
  {
   "cell_type": "code",
   "execution_count": null,
   "metadata": {},
   "outputs": [],
   "source": [
    "import os\n",
    "import os.path\n",
    "import pandas as pd\n",
    "\n",
    "datadir = \"publicdata\""
   ]
  },
  {
   "cell_type": "markdown",
   "metadata": {},
   "source": [
    "---\n",
    "\n",
    "## Part A: Pivot with one `values` column\n",
    "\n",
    "**Q1:** Make the following DoL into a `pandas` data frame, assigning it to a variable `df1`.\n",
    "```\n",
    "    {'foo': ['one', 'one', 'one', 'two', 'two', 'two'],\n",
    "     'bar': ['A', 'B', 'C', 'A', 'B', 'C'],\n",
    "     'baz': [1, 2, 3, 4, 5, 6]}\n",
    "```"
   ]
  },
  {
   "cell_type": "code",
   "execution_count": null,
   "metadata": {
    "deletable": false,
    "nbgrader": {
     "cell_type": "code",
     "checksum": "4e2d4dea1183f10839c078be952a71b9",
     "grade": false,
     "grade_id": "cell-c93bf4fe3e267518",
     "locked": false,
     "schema_version": 3,
     "solution": true,
     "task": false
    }
   },
   "outputs": [],
   "source": [
    "# YOUR CODE HERE\n",
    "raise NotImplementedError()\n",
    "\n",
    "# Display the DataFrame\n",
    "df1"
   ]
  },
  {
   "cell_type": "code",
   "execution_count": null,
   "metadata": {
    "deletable": false,
    "editable": false,
    "nbgrader": {
     "cell_type": "code",
     "checksum": "19bce4344d5140387d06852a38f0c886",
     "grade": true,
     "grade_id": "cell-886fdd47df433623",
     "locked": true,
     "points": 2,
     "schema_version": 3,
     "solution": false,
     "task": false
    }
   },
   "outputs": [],
   "source": [
    "# Testing cell\n",
    "assert df1.shape == (6,3)\n",
    "assert list(df1.columns) == [\"foo\", \"bar\", \"baz\"]\n",
    "assert list(df1.index) == list(range(6))"
   ]
  },
  {
   "cell_type": "markdown",
   "metadata": {},
   "source": [
    "**Q2:** Suppose the column `'bar'` should provide the row-label `Index`, the values `'one'` and `'two'` from column `'foo'` should be column labels (so it takes more than one row of `df` to interpret a single observation), and the values themselves should come from the `'baz'` column.  \n",
    "\n",
    "We can obtain a tidy version of this data using a `pivot` operation.  Perform the `pivot` and assign the result to `df1_tidy`.  Make sure not to modify `df1`."
   ]
  },
  {
   "cell_type": "code",
   "execution_count": null,
   "metadata": {
    "deletable": false,
    "nbgrader": {
     "cell_type": "code",
     "checksum": "664fcac01da42e4b295e83bbb5e78547",
     "grade": false,
     "grade_id": "cell-ad420ee9bba5fbf4",
     "locked": false,
     "schema_version": 3,
     "solution": true,
     "task": false
    }
   },
   "outputs": [],
   "source": [
    "# YOUR CODE HERE\n",
    "raise NotImplementedError()\n",
    "\n",
    "# Display the DataFrame\n",
    "df1_tidy"
   ]
  },
  {
   "cell_type": "code",
   "execution_count": null,
   "metadata": {
    "deletable": false,
    "editable": false,
    "nbgrader": {
     "cell_type": "code",
     "checksum": "c115cff7668885293610495c85f001cf",
     "grade": true,
     "grade_id": "cell-44ff0cf82825bf8b",
     "locked": true,
     "points": 2,
     "schema_version": 3,
     "solution": false,
     "task": false
    }
   },
   "outputs": [],
   "source": [
    "# Testing cell\n",
    "assert df1_tidy.shape == (3,2)\n",
    "assert \"one\" in df1_tidy.columns\n",
    "assert \"two\" in df1_tidy.columns\n",
    "assert df1_tidy.loc[\"A\", \"one\"] == 1\n",
    "assert df1_tidy.loc[\"C\", \"two\"] == 6"
   ]
  },
  {
   "cell_type": "markdown",
   "metadata": {},
   "source": [
    "**Q3:** Based on the parameters `index`, `columns`, and `values` in the original data frame, how can you tell how many columns and rows will be present after a `pivot` operation?"
   ]
  },
  {
   "cell_type": "markdown",
   "metadata": {},
   "source": [
    "YOUR ANSWER HERE"
   ]
  },
  {
   "cell_type": "markdown",
   "metadata": {},
   "source": [
    "---\n",
    "\n",
    "## Part B: Another dataset with one `values` column\n",
    "\n",
    "**Q4:** Consider the file `restaurants_gender.csv`, that has aggregated other data and whose rows map from an id, restaurant, and gender to an average rating.  Relative to this aggregation, the data is tidy as it stands.\n",
    "\n",
    "Load the data from this file into a `DataFrame` named `rest_gender_df`.  You should inspect the file to determine what to use as a row-label `Index`."
   ]
  },
  {
   "cell_type": "code",
   "execution_count": null,
   "metadata": {
    "deletable": false,
    "nbgrader": {
     "cell_type": "code",
     "checksum": "6bc71ca164621dd37f7009908fdd23da",
     "grade": false,
     "grade_id": "cell-997d394463f13ce0",
     "locked": false,
     "schema_version": 3,
     "solution": true,
     "task": false
    }
   },
   "outputs": [],
   "source": [
    "# YOUR CODE HERE\n",
    "raise NotImplementedError()\n",
    "\n",
    "# Display the DataFrame\n",
    "rest_gender_df"
   ]
  },
  {
   "cell_type": "code",
   "execution_count": null,
   "metadata": {
    "deletable": false,
    "editable": false,
    "nbgrader": {
     "cell_type": "code",
     "checksum": "e384b820ef107a2a96efdec50ad90ed6",
     "grade": true,
     "grade_id": "cell-7a1d795ffbb5dc03",
     "locked": true,
     "points": 3,
     "schema_version": 3,
     "solution": false,
     "task": false
    }
   },
   "outputs": [],
   "source": [
    "# Testing cell\n",
    "assert rest_gender_df.shape == (4,3)"
   ]
  },
  {
   "attachments": {},
   "cell_type": "markdown",
   "metadata": {},
   "source": [
    "**Q5:** Pivot the `rest_gender_df` data into a matrix presentation with `restaurant` down one axis (as a row-label `Index`) and `gender` across the other axis (as column label `Index`), a form that might make for good presentation.  Store the result as `rest_gender_mat`.\n",
    "\n",
    "Note that if you end up with a multi-level column `Index`, you can use [`droplevel`](https://pandas.pydata.org/docs/reference/api/pandas.DataFrame.droplevel.html) to remove the `rating` as the outer level."
   ]
  },
  {
   "cell_type": "code",
   "execution_count": null,
   "metadata": {},
   "outputs": [],
   "source": [
    "# YOUR CODE HERE\n",
    "raise NotImplementedError()\n",
    "\n",
    "# Display the matrix DataFrame\n",
    "rest_gender_mat"
   ]
  },
  {
   "cell_type": "code",
   "execution_count": null,
   "metadata": {},
   "outputs": [],
   "source": [
    "# Testing cell\n",
    "assert rest_gender_mat.shape == (2,2)\n",
    "assert rest_gender_mat.loc[\"A\", \"F\"] == 82 # requires one-level column Index\n",
    "assert rest_gender_mat.loc[\"A\", \"M\"] == 79\n",
    "assert rest_gender_mat.loc[\"B\", \"F\"] == 57\n",
    "assert rest_gender_mat.loc[\"B\", \"M\"] == 68"
   ]
  },
  {
   "cell_type": "markdown",
   "metadata": {},
   "source": [
    "---\n",
    "\n",
    "## Part C: Pivot with multiple columns for `index`\n",
    "\n",
    "**Q6:** Consider the following version of `indicators`.  In the markdown cell following this code cell, state a tidy-data principle it fails to satisfy and why."
   ]
  },
  {
   "cell_type": "code",
   "execution_count": null,
   "metadata": {},
   "outputs": [],
   "source": [
    "data = [[\"IND\", 2005, \"pop\",  1147.61],\n",
    "        [\"IND\", 2010, \"pop\",  1234.28],\n",
    "        [\"IND\", 2015, \"pop\",  1310.15],\n",
    "        [\"USA\", 2005, \"pop\",   295.52],\n",
    "        [\"USA\", 2010, \"pop\",   309.33],\n",
    "        [\"USA\", 2015, \"pop\",   320.74],\n",
    "        [\"IND\", 2005, \"gdp\",   820.38],\n",
    "        [\"IND\", 2010, \"gdp\",  1675.62],\n",
    "        [\"IND\", 2015, \"gdp\",  2103.59],\n",
    "        [\"USA\", 2005, \"gdp\", 13036.64],\n",
    "        [\"USA\", 2010, \"gdp\", 14992.05],\n",
    "        [\"USA\", 2015, \"gdp\", 18219.30]]\n",
    "\n",
    "columns = [\"code\", \"year\", \"indicator\", \"value\"]\n",
    "\n",
    "indicators0_untidy = pd.DataFrame(data, columns=columns)\n",
    "\n",
    "# Display the untidy DataFrame\n",
    "indicators0_untidy"
   ]
  },
  {
   "cell_type": "markdown",
   "metadata": {},
   "source": [
    "YOUR ANSWER HERE"
   ]
  },
  {
   "cell_type": "markdown",
   "metadata": {},
   "source": [
    "**Q7:** Use the `pivot_table` operation to pivot this data into a tidy form that includes a multi-level row index.  Store your result in `indicators0_tidy` and do not modify the original `indicators0_untidy`.\n",
    "\n",
    "Hint: If you find yourself with a multi-level column index after calling `pivot_table`, you may find [`droplevel`](https://pandas.pydata.org/docs/reference/api/pandas.DataFrame.droplevel.html) helpful to remove the outer level of the column multi-level index."
   ]
  },
  {
   "cell_type": "code",
   "execution_count": null,
   "metadata": {},
   "outputs": [],
   "source": [
    "# YOUR CODE HERE\n",
    "raise NotImplementedError()\n",
    "\n",
    "# Display the resulting tidy DataFrame\n",
    "indicators0_tidy"
   ]
  },
  {
   "cell_type": "code",
   "execution_count": null,
   "metadata": {},
   "outputs": [],
   "source": [
    "# Testing cell\n",
    "assert indicators0_tidy.shape == (6,2)\n",
    "assert indicators0_tidy.loc[(\"IND\", 2005), \"pop\"] == 1147.61\n",
    "assert indicators0_tidy.loc[(\"USA\", 2015), \"gdp\"] == 18219.30"
   ]
  }
 ],
 "metadata": {
  "kernelspec": {
   "display_name": "Python 3.8.6 64-bit",
   "language": "python",
   "name": "python3"
  },
  "language_info": {
   "codemirror_mode": {
    "name": "ipython",
    "version": 3
   },
   "file_extension": ".py",
   "mimetype": "text/x-python",
   "name": "python",
   "nbconvert_exporter": "python",
   "pygments_lexer": "ipython3",
   "version": "3.8.6"
  },
  "vscode": {
   "interpreter": {
    "hash": "73a75ea109158a2d84971ce48cb4564b23b98d042ab3daf1c1f7c2d610837661"
   }
  }
 },
 "nbformat": 4,
 "nbformat_minor": 4
}
