{
 "cells": [
  {
   "attachments": {},
   "cell_type": "markdown",
   "metadata": {},
   "source": [
    "# Denison DA210/CS181 Homework 2.g - Step 1\n",
    "\n",
    "Before you turn this notebook in, make sure everything runs as expected. This is a combination of **restarting the kernel** and then **running all cells**.\n",
    "\n",
    "Make sure you fill in any place that says `# YOUR CODE HERE` or \"YOUR ANSWER HERE\"."
   ]
  },
  {
   "cell_type": "markdown",
   "metadata": {},
   "source": [
    "---"
   ]
  },
  {
   "cell_type": "code",
   "execution_count": 13,
   "metadata": {},
   "outputs": [],
   "source": [
    "import os\n",
    "import os.path\n",
    "import pandas as pd\n",
    "\n",
    "datadir = \"publicdata\""
   ]
  },
  {
   "cell_type": "markdown",
   "metadata": {},
   "source": [
    "---\n",
    "\n",
    "## Part A: Pivot with one `values` column\n",
    "\n",
    "**Q1:** Make the following DoL into a `pandas` data frame, assigning it to a variable `df1`.\n",
    "```\n",
    "    {'foo': ['one', 'one', 'one', 'two', 'two', 'two'],\n",
    "     'bar': ['A', 'B', 'C', 'A', 'B', 'C'],\n",
    "     'baz': [1, 2, 3, 4, 5, 6]}\n",
    "```"
   ]
  },
  {
   "cell_type": "code",
   "execution_count": 14,
   "metadata": {
    "deletable": false,
    "nbgrader": {
     "cell_type": "code",
     "checksum": "4e2d4dea1183f10839c078be952a71b9",
     "grade": false,
     "grade_id": "cell-c93bf4fe3e267518",
     "locked": false,
     "schema_version": 3,
     "solution": true,
     "task": false
    }
   },
   "outputs": [
    {
     "data": {
      "text/html": [
       "<div>\n",
       "<style scoped>\n",
       "    .dataframe tbody tr th:only-of-type {\n",
       "        vertical-align: middle;\n",
       "    }\n",
       "\n",
       "    .dataframe tbody tr th {\n",
       "        vertical-align: top;\n",
       "    }\n",
       "\n",
       "    .dataframe thead th {\n",
       "        text-align: right;\n",
       "    }\n",
       "</style>\n",
       "<table border=\"1\" class=\"dataframe\">\n",
       "  <thead>\n",
       "    <tr style=\"text-align: right;\">\n",
       "      <th></th>\n",
       "      <th>foo</th>\n",
       "      <th>bar</th>\n",
       "      <th>baz</th>\n",
       "    </tr>\n",
       "  </thead>\n",
       "  <tbody>\n",
       "    <tr>\n",
       "      <th>0</th>\n",
       "      <td>one</td>\n",
       "      <td>A</td>\n",
       "      <td>1</td>\n",
       "    </tr>\n",
       "    <tr>\n",
       "      <th>1</th>\n",
       "      <td>one</td>\n",
       "      <td>B</td>\n",
       "      <td>2</td>\n",
       "    </tr>\n",
       "    <tr>\n",
       "      <th>2</th>\n",
       "      <td>one</td>\n",
       "      <td>C</td>\n",
       "      <td>3</td>\n",
       "    </tr>\n",
       "    <tr>\n",
       "      <th>3</th>\n",
       "      <td>two</td>\n",
       "      <td>A</td>\n",
       "      <td>4</td>\n",
       "    </tr>\n",
       "    <tr>\n",
       "      <th>4</th>\n",
       "      <td>two</td>\n",
       "      <td>B</td>\n",
       "      <td>5</td>\n",
       "    </tr>\n",
       "    <tr>\n",
       "      <th>5</th>\n",
       "      <td>two</td>\n",
       "      <td>C</td>\n",
       "      <td>6</td>\n",
       "    </tr>\n",
       "  </tbody>\n",
       "</table>\n",
       "</div>"
      ],
      "text/plain": [
       "   foo bar  baz\n",
       "0  one   A    1\n",
       "1  one   B    2\n",
       "2  one   C    3\n",
       "3  two   A    4\n",
       "4  two   B    5\n",
       "5  two   C    6"
      ]
     },
     "execution_count": 14,
     "metadata": {},
     "output_type": "execute_result"
    }
   ],
   "source": [
    "hi =     {'foo': ['one', 'one', 'one', 'two', 'two', 'two'],\n",
    "     'bar': ['A', 'B', 'C', 'A', 'B', 'C'],\n",
    "     'baz': [1, 2, 3, 4, 5, 6]}\n",
    "    \n",
    "df1 = pd.DataFrame(hi)\n",
    "# Display the DataFrame\n",
    "df1"
   ]
  },
  {
   "cell_type": "code",
   "execution_count": 15,
   "metadata": {
    "deletable": false,
    "editable": false,
    "nbgrader": {
     "cell_type": "code",
     "checksum": "19bce4344d5140387d06852a38f0c886",
     "grade": true,
     "grade_id": "cell-886fdd47df433623",
     "locked": true,
     "points": 2,
     "schema_version": 3,
     "solution": false,
     "task": false
    }
   },
   "outputs": [],
   "source": [
    "# Testing cell\n",
    "assert df1.shape == (6,3)\n",
    "assert list(df1.columns) == [\"foo\", \"bar\", \"baz\"]\n",
    "assert list(df1.index) == list(range(6))"
   ]
  },
  {
   "cell_type": "markdown",
   "metadata": {},
   "source": [
    "**Q2:** Suppose the column `'bar'` should provide the row-label `Index`, the values `'one'` and `'two'` from column `'foo'` should be column labels (so it takes more than one row of `df` to interpret a single observation), and the values themselves should come from the `'baz'` column.  \n",
    "\n",
    "We can obtain a tidy version of this data using a `pivot` operation.  Perform the `pivot` and assign the result to `df1_tidy`.  Make sure not to modify `df1`."
   ]
  },
  {
   "cell_type": "code",
   "execution_count": 16,
   "metadata": {
    "deletable": false,
    "nbgrader": {
     "cell_type": "code",
     "checksum": "664fcac01da42e4b295e83bbb5e78547",
     "grade": false,
     "grade_id": "cell-ad420ee9bba5fbf4",
     "locked": false,
     "schema_version": 3,
     "solution": true,
     "task": false
    }
   },
   "outputs": [
    {
     "data": {
      "text/html": [
       "<div>\n",
       "<style scoped>\n",
       "    .dataframe tbody tr th:only-of-type {\n",
       "        vertical-align: middle;\n",
       "    }\n",
       "\n",
       "    .dataframe tbody tr th {\n",
       "        vertical-align: top;\n",
       "    }\n",
       "\n",
       "    .dataframe thead th {\n",
       "        text-align: right;\n",
       "    }\n",
       "</style>\n",
       "<table border=\"1\" class=\"dataframe\">\n",
       "  <thead>\n",
       "    <tr style=\"text-align: right;\">\n",
       "      <th>foo</th>\n",
       "      <th>one</th>\n",
       "      <th>two</th>\n",
       "    </tr>\n",
       "    <tr>\n",
       "      <th>bar</th>\n",
       "      <th></th>\n",
       "      <th></th>\n",
       "    </tr>\n",
       "  </thead>\n",
       "  <tbody>\n",
       "    <tr>\n",
       "      <th>A</th>\n",
       "      <td>1</td>\n",
       "      <td>4</td>\n",
       "    </tr>\n",
       "    <tr>\n",
       "      <th>B</th>\n",
       "      <td>2</td>\n",
       "      <td>5</td>\n",
       "    </tr>\n",
       "    <tr>\n",
       "      <th>C</th>\n",
       "      <td>3</td>\n",
       "      <td>6</td>\n",
       "    </tr>\n",
       "  </tbody>\n",
       "</table>\n",
       "</div>"
      ],
      "text/plain": [
       "foo  one  two\n",
       "bar          \n",
       "A      1    4\n",
       "B      2    5\n",
       "C      3    6"
      ]
     },
     "execution_count": 16,
     "metadata": {},
     "output_type": "execute_result"
    }
   ],
   "source": [
    "df1_tidy = df1.pivot(index = \"bar\", \n",
    "                     columns =\"foo\", \n",
    "                     values = \"baz\")\n",
    "\n",
    "# Display the DataFrame\n",
    "df1_tidy"
   ]
  },
  {
   "cell_type": "code",
   "execution_count": 17,
   "metadata": {
    "deletable": false,
    "editable": false,
    "nbgrader": {
     "cell_type": "code",
     "checksum": "c115cff7668885293610495c85f001cf",
     "grade": true,
     "grade_id": "cell-44ff0cf82825bf8b",
     "locked": true,
     "points": 2,
     "schema_version": 3,
     "solution": false,
     "task": false
    }
   },
   "outputs": [],
   "source": [
    "# Testing cell\n",
    "assert df1_tidy.shape == (3,2)\n",
    "assert \"one\" in df1_tidy.columns\n",
    "assert \"two\" in df1_tidy.columns\n",
    "assert df1_tidy.loc[\"A\", \"one\"] == 1\n",
    "assert df1_tidy.loc[\"C\", \"two\"] == 6"
   ]
  },
  {
   "cell_type": "markdown",
   "metadata": {},
   "source": [
    "**Q3:** Based on the parameters `index`, `columns`, and `values` in the original data frame, how can you tell how many columns and rows will be present after a `pivot` operation?"
   ]
  },
  {
   "attachments": {},
   "cell_type": "markdown",
   "metadata": {},
   "source": [
    "For pivot operations, we know that the number of rows in the tidied data frame will be the mulplication of the number of unique values in columns and the number of columns of values. There are two unique values in \"foo\" (\"one\", \"two\") and one column for value (\"baz\"), so we can tell that there would be two columns in the final tidy dataframe. "
   ]
  },
  {
   "cell_type": "markdown",
   "metadata": {},
   "source": [
    "---\n",
    "\n",
    "## Part B: Another dataset with one `values` column\n",
    "\n",
    "**Q4:** Consider the file `restaurants_gender.csv`, that has aggregated other data and whose rows map from an id, restaurant, and gender to an average rating.  Relative to this aggregation, the data is tidy as it stands.\n",
    "\n",
    "Load the data from this file into a `DataFrame` named `rest_gender_df`.  You should inspect the file to determine what to use as a row-label `Index`."
   ]
  },
  {
   "cell_type": "code",
   "execution_count": 18,
   "metadata": {
    "deletable": false,
    "nbgrader": {
     "cell_type": "code",
     "checksum": "6bc71ca164621dd37f7009908fdd23da",
     "grade": false,
     "grade_id": "cell-997d394463f13ce0",
     "locked": false,
     "schema_version": 3,
     "solution": true,
     "task": false
    }
   },
   "outputs": [
    {
     "data": {
      "text/html": [
       "<div>\n",
       "<style scoped>\n",
       "    .dataframe tbody tr th:only-of-type {\n",
       "        vertical-align: middle;\n",
       "    }\n",
       "\n",
       "    .dataframe tbody tr th {\n",
       "        vertical-align: top;\n",
       "    }\n",
       "\n",
       "    .dataframe thead th {\n",
       "        text-align: right;\n",
       "    }\n",
       "</style>\n",
       "<table border=\"1\" class=\"dataframe\">\n",
       "  <thead>\n",
       "    <tr style=\"text-align: right;\">\n",
       "      <th></th>\n",
       "      <th>restaurant</th>\n",
       "      <th>gender</th>\n",
       "      <th>rating</th>\n",
       "    </tr>\n",
       "    <tr>\n",
       "      <th>id</th>\n",
       "      <th></th>\n",
       "      <th></th>\n",
       "      <th></th>\n",
       "    </tr>\n",
       "  </thead>\n",
       "  <tbody>\n",
       "    <tr>\n",
       "      <th>1</th>\n",
       "      <td>A</td>\n",
       "      <td>F</td>\n",
       "      <td>82</td>\n",
       "    </tr>\n",
       "    <tr>\n",
       "      <th>2</th>\n",
       "      <td>A</td>\n",
       "      <td>M</td>\n",
       "      <td>79</td>\n",
       "    </tr>\n",
       "    <tr>\n",
       "      <th>3</th>\n",
       "      <td>B</td>\n",
       "      <td>F</td>\n",
       "      <td>57</td>\n",
       "    </tr>\n",
       "    <tr>\n",
       "      <th>4</th>\n",
       "      <td>B</td>\n",
       "      <td>M</td>\n",
       "      <td>68</td>\n",
       "    </tr>\n",
       "  </tbody>\n",
       "</table>\n",
       "</div>"
      ],
      "text/plain": [
       "   restaurant gender  rating\n",
       "id                          \n",
       "1           A      F      82\n",
       "2           A      M      79\n",
       "3           B      F      57\n",
       "4           B      M      68"
      ]
     },
     "execution_count": 18,
     "metadata": {},
     "output_type": "execute_result"
    }
   ],
   "source": [
    "df2 = pd.read_csv(os.path.join(datadir, \"restaurants_gender.csv\"), index_col = \"id\")\n",
    "rest_gender_df = pd.DataFrame(df2)\n",
    "\n",
    "\n",
    "# Display the DataFrame\n",
    "rest_gender_df"
   ]
  },
  {
   "cell_type": "code",
   "execution_count": 19,
   "metadata": {
    "deletable": false,
    "editable": false,
    "nbgrader": {
     "cell_type": "code",
     "checksum": "e384b820ef107a2a96efdec50ad90ed6",
     "grade": true,
     "grade_id": "cell-7a1d795ffbb5dc03",
     "locked": true,
     "points": 3,
     "schema_version": 3,
     "solution": false,
     "task": false
    }
   },
   "outputs": [],
   "source": [
    "# Testing cell\n",
    "assert rest_gender_df.shape == (4,3)"
   ]
  },
  {
   "attachments": {},
   "cell_type": "markdown",
   "metadata": {},
   "source": [
    "**Q5:** Pivot the `rest_gender_df` data into a matrix presentation with `restaurant` down one axis (as a row-label `Index`) and `gender` across the other axis (as column label `Index`), a form that might make for good presentation.  Store the result as `rest_gender_mat`.\n",
    "\n",
    "Note that if you end up with a multi-level column `Index`, you can use [`droplevel`](https://pandas.pydata.org/docs/reference/api/pandas.DataFrame.droplevel.html) to remove the `rating` as the outer level."
   ]
  },
  {
   "cell_type": "code",
   "execution_count": 20,
   "metadata": {},
   "outputs": [
    {
     "data": {
      "text/html": [
       "<div>\n",
       "<style scoped>\n",
       "    .dataframe tbody tr th:only-of-type {\n",
       "        vertical-align: middle;\n",
       "    }\n",
       "\n",
       "    .dataframe tbody tr th {\n",
       "        vertical-align: top;\n",
       "    }\n",
       "\n",
       "    .dataframe thead th {\n",
       "        text-align: right;\n",
       "    }\n",
       "</style>\n",
       "<table border=\"1\" class=\"dataframe\">\n",
       "  <thead>\n",
       "    <tr style=\"text-align: right;\">\n",
       "      <th>gender</th>\n",
       "      <th>F</th>\n",
       "      <th>M</th>\n",
       "    </tr>\n",
       "    <tr>\n",
       "      <th>restaurant</th>\n",
       "      <th></th>\n",
       "      <th></th>\n",
       "    </tr>\n",
       "  </thead>\n",
       "  <tbody>\n",
       "    <tr>\n",
       "      <th>A</th>\n",
       "      <td>82</td>\n",
       "      <td>79</td>\n",
       "    </tr>\n",
       "    <tr>\n",
       "      <th>B</th>\n",
       "      <td>57</td>\n",
       "      <td>68</td>\n",
       "    </tr>\n",
       "  </tbody>\n",
       "</table>\n",
       "</div>"
      ],
      "text/plain": [
       "gender       F   M\n",
       "restaurant        \n",
       "A           82  79\n",
       "B           57  68"
      ]
     },
     "execution_count": 20,
     "metadata": {},
     "output_type": "execute_result"
    }
   ],
   "source": [
    "rest_gender_mat = rest_gender_df.pivot(index = \"restaurant\", \n",
    "                                       columns = \"gender\", \n",
    "                                       values = \"rating\")\n",
    "\n",
    "\n",
    "# Display the matrix DataFrame\n",
    "rest_gender_mat"
   ]
  },
  {
   "cell_type": "code",
   "execution_count": 21,
   "metadata": {},
   "outputs": [],
   "source": [
    "# Testing cell\n",
    "assert rest_gender_mat.shape == (2,2)\n",
    "assert rest_gender_mat.loc[\"A\", \"F\"] == 82 # requires one-level column Index\n",
    "assert rest_gender_mat.loc[\"A\", \"M\"] == 79\n",
    "assert rest_gender_mat.loc[\"B\", \"F\"] == 57\n",
    "assert rest_gender_mat.loc[\"B\", \"M\"] == 68"
   ]
  },
  {
   "cell_type": "markdown",
   "metadata": {},
   "source": [
    "---\n",
    "\n",
    "## Part C: Pivot with multiple columns for `index`\n",
    "\n",
    "**Q6:** Consider the following version of `indicators`.  In the markdown cell following this code cell, state a tidy-data principle it fails to satisfy and why."
   ]
  },
  {
   "cell_type": "code",
   "execution_count": 22,
   "metadata": {},
   "outputs": [
    {
     "data": {
      "text/html": [
       "<div>\n",
       "<style scoped>\n",
       "    .dataframe tbody tr th:only-of-type {\n",
       "        vertical-align: middle;\n",
       "    }\n",
       "\n",
       "    .dataframe tbody tr th {\n",
       "        vertical-align: top;\n",
       "    }\n",
       "\n",
       "    .dataframe thead th {\n",
       "        text-align: right;\n",
       "    }\n",
       "</style>\n",
       "<table border=\"1\" class=\"dataframe\">\n",
       "  <thead>\n",
       "    <tr style=\"text-align: right;\">\n",
       "      <th></th>\n",
       "      <th>code</th>\n",
       "      <th>year</th>\n",
       "      <th>indicator</th>\n",
       "      <th>value</th>\n",
       "    </tr>\n",
       "  </thead>\n",
       "  <tbody>\n",
       "    <tr>\n",
       "      <th>0</th>\n",
       "      <td>IND</td>\n",
       "      <td>2005</td>\n",
       "      <td>pop</td>\n",
       "      <td>1147.61</td>\n",
       "    </tr>\n",
       "    <tr>\n",
       "      <th>1</th>\n",
       "      <td>IND</td>\n",
       "      <td>2010</td>\n",
       "      <td>pop</td>\n",
       "      <td>1234.28</td>\n",
       "    </tr>\n",
       "    <tr>\n",
       "      <th>2</th>\n",
       "      <td>IND</td>\n",
       "      <td>2015</td>\n",
       "      <td>pop</td>\n",
       "      <td>1310.15</td>\n",
       "    </tr>\n",
       "    <tr>\n",
       "      <th>3</th>\n",
       "      <td>USA</td>\n",
       "      <td>2005</td>\n",
       "      <td>pop</td>\n",
       "      <td>295.52</td>\n",
       "    </tr>\n",
       "    <tr>\n",
       "      <th>4</th>\n",
       "      <td>USA</td>\n",
       "      <td>2010</td>\n",
       "      <td>pop</td>\n",
       "      <td>309.33</td>\n",
       "    </tr>\n",
       "    <tr>\n",
       "      <th>5</th>\n",
       "      <td>USA</td>\n",
       "      <td>2015</td>\n",
       "      <td>pop</td>\n",
       "      <td>320.74</td>\n",
       "    </tr>\n",
       "    <tr>\n",
       "      <th>6</th>\n",
       "      <td>IND</td>\n",
       "      <td>2005</td>\n",
       "      <td>gdp</td>\n",
       "      <td>820.38</td>\n",
       "    </tr>\n",
       "    <tr>\n",
       "      <th>7</th>\n",
       "      <td>IND</td>\n",
       "      <td>2010</td>\n",
       "      <td>gdp</td>\n",
       "      <td>1675.62</td>\n",
       "    </tr>\n",
       "    <tr>\n",
       "      <th>8</th>\n",
       "      <td>IND</td>\n",
       "      <td>2015</td>\n",
       "      <td>gdp</td>\n",
       "      <td>2103.59</td>\n",
       "    </tr>\n",
       "    <tr>\n",
       "      <th>9</th>\n",
       "      <td>USA</td>\n",
       "      <td>2005</td>\n",
       "      <td>gdp</td>\n",
       "      <td>13036.64</td>\n",
       "    </tr>\n",
       "    <tr>\n",
       "      <th>10</th>\n",
       "      <td>USA</td>\n",
       "      <td>2010</td>\n",
       "      <td>gdp</td>\n",
       "      <td>14992.05</td>\n",
       "    </tr>\n",
       "    <tr>\n",
       "      <th>11</th>\n",
       "      <td>USA</td>\n",
       "      <td>2015</td>\n",
       "      <td>gdp</td>\n",
       "      <td>18219.30</td>\n",
       "    </tr>\n",
       "  </tbody>\n",
       "</table>\n",
       "</div>"
      ],
      "text/plain": [
       "   code  year indicator     value\n",
       "0   IND  2005       pop   1147.61\n",
       "1   IND  2010       pop   1234.28\n",
       "2   IND  2015       pop   1310.15\n",
       "3   USA  2005       pop    295.52\n",
       "4   USA  2010       pop    309.33\n",
       "5   USA  2015       pop    320.74\n",
       "6   IND  2005       gdp    820.38\n",
       "7   IND  2010       gdp   1675.62\n",
       "8   IND  2015       gdp   2103.59\n",
       "9   USA  2005       gdp  13036.64\n",
       "10  USA  2010       gdp  14992.05\n",
       "11  USA  2015       gdp  18219.30"
      ]
     },
     "execution_count": 22,
     "metadata": {},
     "output_type": "execute_result"
    }
   ],
   "source": [
    "data = [[\"IND\", 2005, \"pop\",  1147.61],\n",
    "        [\"IND\", 2010, \"pop\",  1234.28],\n",
    "        [\"IND\", 2015, \"pop\",  1310.15],\n",
    "        [\"USA\", 2005, \"pop\",   295.52],\n",
    "        [\"USA\", 2010, \"pop\",   309.33],\n",
    "        [\"USA\", 2015, \"pop\",   320.74],\n",
    "        [\"IND\", 2005, \"gdp\",   820.38],\n",
    "        [\"IND\", 2010, \"gdp\",  1675.62],\n",
    "        [\"IND\", 2015, \"gdp\",  2103.59],\n",
    "        [\"USA\", 2005, \"gdp\", 13036.64],\n",
    "        [\"USA\", 2010, \"gdp\", 14992.05],\n",
    "        [\"USA\", 2015, \"gdp\", 18219.30]]\n",
    "\n",
    "columns = [\"code\", \"year\", \"indicator\", \"value\"]\n",
    "\n",
    "indicators0_untidy = pd.DataFrame(data, columns=columns)\n",
    "\n",
    "# Display the untidy DataFrame\n",
    "indicators0_untidy"
   ]
  },
  {
   "attachments": {},
   "cell_type": "markdown",
   "metadata": {},
   "source": [
    "The dataframe indicators0_untidy fails TD1 because the column \"indicator\" has variables \"pop\" and \"gdp\" in it, not values. This dataframe also fails TD2 because the column \"value\" contains values for both pop and gdp. "
   ]
  },
  {
   "cell_type": "markdown",
   "metadata": {},
   "source": [
    "**Q7:** Use the `pivot_table` operation to pivot this data into a tidy form that includes a multi-level row index.  Store your result in `indicators0_tidy` and do not modify the original `indicators0_untidy`.\n",
    "\n",
    "Hint: If you find yourself with a multi-level column index after calling `pivot_table`, you may find [`droplevel`](https://pandas.pydata.org/docs/reference/api/pandas.DataFrame.droplevel.html) helpful to remove the outer level of the column multi-level index."
   ]
  },
  {
   "cell_type": "code",
   "execution_count": 23,
   "metadata": {},
   "outputs": [
    {
     "data": {
      "text/html": [
       "<div>\n",
       "<style scoped>\n",
       "    .dataframe tbody tr th:only-of-type {\n",
       "        vertical-align: middle;\n",
       "    }\n",
       "\n",
       "    .dataframe tbody tr th {\n",
       "        vertical-align: top;\n",
       "    }\n",
       "\n",
       "    .dataframe thead th {\n",
       "        text-align: right;\n",
       "    }\n",
       "</style>\n",
       "<table border=\"1\" class=\"dataframe\">\n",
       "  <thead>\n",
       "    <tr style=\"text-align: right;\">\n",
       "      <th></th>\n",
       "      <th>indicator</th>\n",
       "      <th>gdp</th>\n",
       "      <th>pop</th>\n",
       "    </tr>\n",
       "    <tr>\n",
       "      <th>code</th>\n",
       "      <th>year</th>\n",
       "      <th></th>\n",
       "      <th></th>\n",
       "    </tr>\n",
       "  </thead>\n",
       "  <tbody>\n",
       "    <tr>\n",
       "      <th rowspan=\"3\" valign=\"top\">IND</th>\n",
       "      <th>2005</th>\n",
       "      <td>820.38</td>\n",
       "      <td>1147.61</td>\n",
       "    </tr>\n",
       "    <tr>\n",
       "      <th>2010</th>\n",
       "      <td>1675.62</td>\n",
       "      <td>1234.28</td>\n",
       "    </tr>\n",
       "    <tr>\n",
       "      <th>2015</th>\n",
       "      <td>2103.59</td>\n",
       "      <td>1310.15</td>\n",
       "    </tr>\n",
       "    <tr>\n",
       "      <th rowspan=\"3\" valign=\"top\">USA</th>\n",
       "      <th>2005</th>\n",
       "      <td>13036.64</td>\n",
       "      <td>295.52</td>\n",
       "    </tr>\n",
       "    <tr>\n",
       "      <th>2010</th>\n",
       "      <td>14992.05</td>\n",
       "      <td>309.33</td>\n",
       "    </tr>\n",
       "    <tr>\n",
       "      <th>2015</th>\n",
       "      <td>18219.30</td>\n",
       "      <td>320.74</td>\n",
       "    </tr>\n",
       "  </tbody>\n",
       "</table>\n",
       "</div>"
      ],
      "text/plain": [
       "indicator       gdp      pop\n",
       "code year                   \n",
       "IND  2005    820.38  1147.61\n",
       "     2010   1675.62  1234.28\n",
       "     2015   2103.59  1310.15\n",
       "USA  2005  13036.64   295.52\n",
       "     2010  14992.05   309.33\n",
       "     2015  18219.30   320.74"
      ]
     },
     "execution_count": 23,
     "metadata": {},
     "output_type": "execute_result"
    }
   ],
   "source": [
    "indicators0_tidy = indicators0_untidy.pivot(index = [\"code\", \"year\"], \n",
    "                                              columns = \"indicator\", \n",
    "                                              values = \"value\")\n",
    "\n",
    "# Display the resulting tidy DataFrame\n",
    "indicators0_tidy"
   ]
  },
  {
   "cell_type": "code",
   "execution_count": 24,
   "metadata": {},
   "outputs": [],
   "source": [
    "# Testing cell\n",
    "assert indicators0_tidy.shape == (6,2)\n",
    "assert indicators0_tidy.loc[(\"IND\", 2005), \"pop\"] == 1147.61\n",
    "assert indicators0_tidy.loc[(\"USA\", 2015), \"gdp\"] == 18219.30"
   ]
  }
 ],
 "metadata": {
  "kernelspec": {
   "display_name": "base",
   "language": "python",
   "name": "python3"
  },
  "language_info": {
   "codemirror_mode": {
    "name": "ipython",
    "version": 3
   },
   "file_extension": ".py",
   "mimetype": "text/x-python",
   "name": "python",
   "nbconvert_exporter": "python",
   "pygments_lexer": "ipython3",
   "version": "3.9.13"
  },
  "vscode": {
   "interpreter": {
    "hash": "6812229378a4e14d29bbe4ee07db5e95bb6855d7fc74a2934bab81ab80a6eafa"
   }
  }
 },
 "nbformat": 4,
 "nbformat_minor": 4
}
