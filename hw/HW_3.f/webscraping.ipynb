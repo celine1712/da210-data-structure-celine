{
 "cells": [
  {
   "attachments": {},
   "cell_type": "markdown",
   "metadata": {},
   "source": [
    "# Denison DA210/CS181 Homework 3.f - Step 1\n",
    "\n",
    "Before you turn this notebook in, make sure everything runs as expected. This is a combination of **restarting the kernel** and then **running all cells**.\n",
    "\n",
    "Make sure you fill in any place that says `# YOUR CODE HERE` or \"YOUR ANSWER HERE\"."
   ]
  },
  {
   "cell_type": "markdown",
   "metadata": {},
   "source": [
    "---"
   ]
  },
  {
   "cell_type": "code",
   "execution_count": null,
   "metadata": {
    "nbgrader": {
     "grade": false,
     "grade_id": "cell-b9abcf27cf7faf8f",
     "locked": true,
     "schema_version": 3,
     "solution": false,
     "task": false
    }
   },
   "outputs": [],
   "source": [
    "import os\n",
    "import io\n",
    "import sys\n",
    "import importlib\n",
    "import pandas as pd\n",
    "from lxml import etree\n",
    "\n",
    "module_dir = os.path.join(\"..\", \"..\", \"modules\")\n",
    "module_path = os.path.abspath(module_dir)\n",
    "if not module_path in sys.path:\n",
    "    sys.path.append(module_path)\n",
    "\n",
    "import util\n",
    "importlib.reload(util)\n",
    "\n",
    "datadir = \"publicdata\""
   ]
  },
  {
   "cell_type": "markdown",
   "metadata": {},
   "source": [
    "---\n",
    "\n",
    "## Part A: Web scraping a table\n",
    "\n",
    "We can either work with locally saved HTML documents, or download them from the web.  For this homework, we'll just work with already-acquired HTML documents.\n",
    "\n",
    "First, we'll consider the `indicators2016` dataset represented as a set of nested lists within a web page: [http://datasystems.denison.edu/ind2016.html](http://datasystems.denison.edu/ind2016.html).  This HTML file is stored in `datadir`."
   ]
  },
  {
   "cell_type": "markdown",
   "metadata": {},
   "source": [
    "**Q1:** First, we need to do some discovery.  Use `etree` to parse the root of the HTML tree from `ind2016.html` into the variable `ind2016_root`."
   ]
  },
  {
   "cell_type": "code",
   "execution_count": null,
   "metadata": {},
   "outputs": [],
   "source": [
    "# YOUR CODE HERE\n",
    "raise NotImplementedError()\n",
    "\n",
    "# Display a snippet of the file (using a util module provided with the textbook)\n",
    "util.print_xml(ind2016_root, depth=3, nchild=3)"
   ]
  },
  {
   "attachments": {},
   "cell_type": "markdown",
   "metadata": {},
   "source": [
    "**Q2:** Find all `<table>` nodes in the `ind2016` HTML tree.  Store the resulting list in a variable `ind2016_table_nodes`."
   ]
  },
  {
   "cell_type": "code",
   "execution_count": null,
   "metadata": {},
   "outputs": [],
   "source": [
    "# YOUR CODE HERE\n",
    "raise NotImplementedError()\n",
    "\n",
    "# Display the resulting list\n",
    "ind2016_table_nodes"
   ]
  },
  {
   "cell_type": "code",
   "execution_count": null,
   "metadata": {},
   "outputs": [],
   "source": [
    "# Testing cell\n",
    "assert type(ind2016_table_nodes) is list\n",
    "assert len(ind2016_table_nodes) == 1\n",
    "assert ind2016_table_nodes[0].tag == \"table\""
   ]
  },
  {
   "attachments": {},
   "cell_type": "markdown",
   "metadata": {},
   "source": [
    "**Q3:** The previous question should have resulted in a list of only one node.  From this node, use XPath or XML procedural operations to retrieve the column names in the table.  Store this list in a variable `ind2016_columns`."
   ]
  },
  {
   "cell_type": "code",
   "execution_count": null,
   "metadata": {},
   "outputs": [],
   "source": [
    "ind2016_table_node = ind2016_table_nodes[0]\n",
    "util.print_xml(ind2016_table_node, depth=3, nchild=3)\n",
    "\n",
    "# YOUR CODE HERE\n",
    "raise NotImplementedError()\n",
    "\n",
    "# Display the resulting list\n",
    "ind2016_columns"
   ]
  },
  {
   "cell_type": "code",
   "execution_count": null,
   "metadata": {},
   "outputs": [],
   "source": [
    "# Testing cell\n",
    "assert type(ind2016_columns) is list\n",
    "assert len(ind2016_columns) == 6\n",
    "assert \"code\" in ind2016_columns\n",
    "assert \"life\" in ind2016_columns"
   ]
  },
  {
   "attachments": {},
   "cell_type": "markdown",
   "metadata": {},
   "source": [
    "**Q4:** One way to process the data in the table is to read the text of all data cells, and then group them into a LoL assuming the same number of cells in each row.\n",
    "\n",
    "Modify the following code to retrieve the text of all data cells in the table, stored in a variable `ind2016_td_text`."
   ]
  },
  {
   "cell_type": "code",
   "execution_count": null,
   "metadata": {},
   "outputs": [],
   "source": [
    "# YOUR CODE HERE\n",
    "raise NotImplementedError()\n",
    "\n",
    "ind2016_LoL = []\n",
    "colNum = 0\n",
    "for text in ind2016_td_text:\n",
    "    if colNum == 0:\n",
    "        row = []\n",
    "\n",
    "    # Add the text to the current row\n",
    "    row.append(text)\n",
    "\n",
    "    # If this was the last element in the row, add it to the LoL,\n",
    "    # otherwise increment the column number\n",
    "    if colNum == len(ind2016_columns)-1:\n",
    "        ind2016_LoL.append(row)\n",
    "        colNum = 0\n",
    "    else:\n",
    "        colNum += 1\n",
    "\n",
    "# Print a subset of the resulting LoL\n",
    "util.print_data(ind2016_LoL, nlines=20)"
   ]
  },
  {
   "cell_type": "code",
   "execution_count": null,
   "metadata": {},
   "outputs": [],
   "source": [
    "# Debugging cell - try to create a dataframe\n",
    "pd.DataFrame(ind2016_LoL, columns=ind2016_columns)"
   ]
  },
  {
   "cell_type": "code",
   "execution_count": null,
   "metadata": {},
   "outputs": [],
   "source": [
    "# Testing cell\n",
    "assert type(ind2016_td_text) is list\n",
    "assert len(ind2016_td_text) == 36\n",
    "assert len(ind2016_LoL) == 6\n",
    "assert ind2016_LoL[0][0] == \"CAN\"\n",
    "assert ind2016_LoL[2][4] == \"68.56\""
   ]
  },
  {
   "cell_type": "markdown",
   "metadata": {},
   "source": [
    "**Q5:** Alternatively, we could use XPath to create a DoL representation of this data table.\n",
    "\n",
    "Either procedurally or using XPath, get the text for each cell in the `pop` column (note the _position_ of this column in the table).  Store the values of this column _as `float`s_ in a variable `ind2016_pop_values`."
   ]
  },
  {
   "cell_type": "code",
   "execution_count": null,
   "metadata": {},
   "outputs": [],
   "source": [
    "# YOUR CODE HERE\n",
    "raise NotImplementedError()\n",
    "\n",
    "# Display the list of population values\n",
    "ind2016_pop_values"
   ]
  },
  {
   "cell_type": "code",
   "execution_count": null,
   "metadata": {},
   "outputs": [],
   "source": [
    "# Testing cell\n",
    "assert type(ind2016_pop_values) is list\n",
    "assert len(ind2016_pop_values) == 6\n",
    "assert type(ind2016_pop_values[0]) is float\n",
    "assert ind2016_pop_values[0] == 36.26\n",
    "assert ind2016_pop_values[-1] == 94.57"
   ]
  },
  {
   "cell_type": "markdown",
   "metadata": {},
   "source": [
    "**Q6:** Complete the process started in the previous question.  For each of the columns in the table, extract the values for that column.  Store the data in a DoL named `ind2016_DoL`.  You can do this either procedurally or using XPath.\n",
    "\n",
    "Note: For all columns containing numerical data, you must convert those values to `float`s."
   ]
  },
  {
   "cell_type": "code",
   "execution_count": null,
   "metadata": {},
   "outputs": [],
   "source": [
    "# YOUR CODE HERE\n",
    "raise NotImplementedError()\n",
    "\n",
    "# Display the DoL\n",
    "ind2016_DoL"
   ]
  },
  {
   "cell_type": "code",
   "execution_count": null,
   "metadata": {},
   "outputs": [],
   "source": [
    "# Debugging cell - try to create a dataframe\n",
    "pd.DataFrame(ind2016_DoL)"
   ]
  },
  {
   "cell_type": "code",
   "execution_count": null,
   "metadata": {},
   "outputs": [],
   "source": [
    "# Testing cell\n",
    "assert len(ind2016_DoL) == 6\n",
    "assert ind2016_DoL[\"code\"][0] == \"CAN\"\n",
    "assert ind2016_DoL[\"life\"][2] == 68.56"
   ]
  },
  {
   "cell_type": "markdown",
   "metadata": {},
   "source": [
    "---\n",
    "\n",
    "## Part B: Web scraping nested lists\n",
    "\n",
    "Next, we'll consider the `indicators0` dataset represented as a set of nested lists within a web page: [http://datasystems.denison.edu/ind0.html](http://datasystems.denison.edu/ind0.html).  This HTML file is stored in `datadir`."
   ]
  },
  {
   "cell_type": "markdown",
   "metadata": {},
   "source": [
    "**Q7:** Once again, discovery is our first step.  Use `etree` to parse the root of the HTML tree from `ind0.html` into the variable `ind0_root`."
   ]
  },
  {
   "cell_type": "code",
   "execution_count": null,
   "metadata": {},
   "outputs": [],
   "source": [
    "# YOUR CODE HERE\n",
    "raise NotImplementedError()\n",
    "\n",
    "# Display a snippet of the file (using a util module provided with the textbook)\n",
    "util.print_xml(ind0_root, depth=3, nchild=3)"
   ]
  },
  {
   "cell_type": "markdown",
   "metadata": {},
   "source": [
    "**Q8:** This webpage was created by a tool, so it has a lot going on (e.g., due to formatting) between the `<body>` node and the nested lists.  Use XPath or procedural operations to find the top-level HTML unordered-list element representing the indicators data, and store that node in the variable `ind0_list_node`."
   ]
  },
  {
   "cell_type": "code",
   "execution_count": null,
   "metadata": {},
   "outputs": [],
   "source": [
    "# YOUR CODE HERE\n",
    "raise NotImplementedError()\n",
    "\n",
    "# You should get a single node with tag \"ul\"\n",
    "util.print_xml(ind0_list_node, depth=4, nchild=3, nlines=18)"
   ]
  },
  {
   "cell_type": "code",
   "execution_count": null,
   "metadata": {},
   "outputs": [],
   "source": [
    "# Testing cell\n",
    "assert type(ind0_list_node) is etree._Element\n",
    "assert ind0_list_node.tag == \"ul\"\n",
    "assert len(ind0_list_node) == 3"
   ]
  },
  {
   "cell_type": "markdown",
   "metadata": {},
   "source": [
    "**Q9:** The subtree for `FRA` is fairly straightforward.  Use XPath or XML procedural operations to construct a row dictionary for `FRA` with columns (keys) `code`, `pop2007`, `gdp2007`, `pop2017`, and `gdp2017`.  Store your dictionary in a variable `FRA_rowD`.\n",
    "\n",
    "Be sure to convert all numerical values to `float`s."
   ]
  },
  {
   "cell_type": "code",
   "execution_count": null,
   "metadata": {},
   "outputs": [],
   "source": [
    "# YOUR CODE HERE\n",
    "raise NotImplementedError()\n",
    "\n",
    "# Display the resulting data row dictionary\n",
    "print(FRA_rowD)"
   ]
  },
  {
   "cell_type": "code",
   "execution_count": null,
   "metadata": {},
   "outputs": [],
   "source": [
    "# Testing cell\n",
    "assert type(FRA_rowD) is dict\n",
    "assert len(FRA_rowD) == 5\n",
    "assert FRA_rowD[\"code\"] == \"FRA\"\n",
    "assert FRA_rowD[\"pop2007\"] == 64.02\n",
    "assert FRA_rowD[\"gdp2017\"] == 2586.29"
   ]
  },
  {
   "cell_type": "markdown",
   "metadata": {},
   "source": [
    "---\n",
    "\n",
    "---\n",
    "\n",
    "## Part C\n",
    "\n",
    "**Q10:** How much time (in minutes/hours) did you spend on this homework assignment?"
   ]
  },
  {
   "cell_type": "markdown",
   "metadata": {},
   "source": [
    "YOUR ANSWER HERE"
   ]
  },
  {
   "cell_type": "markdown",
   "metadata": {},
   "source": [
    "**Q11:** Who was your partner for this assignment?  If you worked alone, say so instead."
   ]
  },
  {
   "cell_type": "markdown",
   "metadata": {},
   "source": [
    "YOUR ANSWER HERE"
   ]
  }
 ],
 "metadata": {
  "kernelspec": {
   "display_name": "Python 3.9.7 ('base')",
   "language": "python",
   "name": "python3"
  },
  "language_info": {
   "codemirror_mode": {
    "name": "ipython",
    "version": 3
   },
   "file_extension": ".py",
   "mimetype": "text/x-python",
   "name": "python",
   "nbconvert_exporter": "python",
   "pygments_lexer": "ipython3",
   "version": "3.9.7"
  }
 },
 "nbformat": 4,
 "nbformat_minor": 4
}
