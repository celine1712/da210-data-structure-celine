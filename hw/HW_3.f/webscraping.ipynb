{
 "cells": [
  {
   "attachments": {},
   "cell_type": "markdown",
   "metadata": {},
   "source": [
    "# Denison DA210/CS181 Homework 3.f - Step 1\n",
    "\n",
    "Before you turn this notebook in, make sure everything runs as expected. This is a combination of **restarting the kernel** and then **running all cells**.\n",
    "\n",
    "Make sure you fill in any place that says `# YOUR CODE HERE` or \"YOUR ANSWER HERE\"."
   ]
  },
  {
   "cell_type": "markdown",
   "metadata": {},
   "source": [
    "---"
   ]
  },
  {
   "cell_type": "code",
   "execution_count": 1,
   "metadata": {
    "nbgrader": {
     "grade": false,
     "grade_id": "cell-b9abcf27cf7faf8f",
     "locked": true,
     "schema_version": 3,
     "solution": false,
     "task": false
    }
   },
   "outputs": [],
   "source": [
    "import os\n",
    "import io\n",
    "import sys\n",
    "import importlib\n",
    "import pandas as pd\n",
    "from lxml import etree\n",
    "\n",
    "module_dir = os.path.join(\"..\", \"..\", \"modules\")\n",
    "module_path = os.path.abspath(module_dir)\n",
    "if not module_path in sys.path:\n",
    "    sys.path.append(module_path)\n",
    "\n",
    "import util\n",
    "importlib.reload(util)\n",
    "\n",
    "datadir = \"publicdata\""
   ]
  },
  {
   "cell_type": "markdown",
   "metadata": {},
   "source": [
    "---\n",
    "\n",
    "## Part A: Web scraping a table\n",
    "\n",
    "We can either work with locally saved HTML documents, or download them from the web.  For this homework, we'll just work with already-acquired HTML documents.\n",
    "\n",
    "First, we'll consider the `indicators2016` dataset represented as a set of nested lists within a web page: [http://datasystems.denison.edu/ind2016.html](http://datasystems.denison.edu/ind2016.html).  This HTML file is stored in `datadir`."
   ]
  },
  {
   "cell_type": "markdown",
   "metadata": {},
   "source": [
    "**Q1:** First, we need to do some discovery.  Use `etree` to parse the root of the HTML tree from `ind2016.html` into the variable `ind2016_root`."
   ]
  },
  {
   "cell_type": "code",
   "execution_count": 24,
   "metadata": {},
   "outputs": [
    {
     "name": "stdout",
     "output_type": "stream",
     "text": [
      "<html>\n",
      "  <head>\n",
      "    <meta charset='utf-8'></meta>\n",
      "    <meta name='viewport' content='width=device-width, init\n",
      "    <meta http-equiv='X-UA-Compatible' content='IE=edge'></\n",
      "     ...\n",
      "  </head>\n",
      "  <body>\n",
      "    <div class='wrapper'>\n",
      "      <<cyfunction Comment at 0x7ff641d76040>>Page Content<\n",
      "      <div id='content-no-side'>\n",
      "      </div>\n",
      "    </div>\n",
      "    <script src='js/jquery-3.4.1.min.js'></script>\n",
      "    <script src='js/popper.min.js'></script>\n",
      "     ...\n",
      "  </body>\n",
      "</html>\n"
     ]
    }
   ],
   "source": [
    "htmlparser = etree.HTMLParser()\n",
    "\n",
    "file = os.path.join(datadir, \"ind2016.html\")\n",
    "htmltree = etree.parse(file, htmlparser)\n",
    "ind2016_root = htmltree.getroot()\n",
    "\n",
    "\n",
    "\n",
    "# Display a snippet of the file (using a util module provided with the textbook)\n",
    "util.print_xml(ind2016_root, depth=3, nchild=3)"
   ]
  },
  {
   "attachments": {},
   "cell_type": "markdown",
   "metadata": {},
   "source": [
    "**Q2:** Find all `<table>` nodes in the `ind2016` HTML tree.  Store the resulting list in a variable `ind2016_table_nodes`."
   ]
  },
  {
   "cell_type": "code",
   "execution_count": 26,
   "metadata": {},
   "outputs": [
    {
     "data": {
      "text/plain": [
       "[<Element table at 0x7ff641df4c80>]"
      ]
     },
     "execution_count": 26,
     "metadata": {},
     "output_type": "execute_result"
    }
   ],
   "source": [
    "ind2016_table_nodes = ind2016_root.xpath(\"//table\")\n",
    "\n",
    "# Display the resulting list\n",
    "ind2016_table_nodes"
   ]
  },
  {
   "cell_type": "code",
   "execution_count": 27,
   "metadata": {},
   "outputs": [],
   "source": [
    "# Testing cell\n",
    "assert type(ind2016_table_nodes) is list\n",
    "assert len(ind2016_table_nodes) == 1\n",
    "assert ind2016_table_nodes[0].tag == \"table\""
   ]
  },
  {
   "attachments": {},
   "cell_type": "markdown",
   "metadata": {},
   "source": [
    "**Q3:** The previous question should have resulted in a list of only one node.  From this node, use XPath or XML procedural operations to retrieve the column names in the table.  Store this list in a variable `ind2016_columns`."
   ]
  },
  {
   "cell_type": "code",
   "execution_count": 29,
   "metadata": {},
   "outputs": [
    {
     "name": "stdout",
     "output_type": "stream",
     "text": [
      "<table class='table table-dark' style='width: 600px'>\n",
      "  <thead>\n",
      "    <tr>\n",
      "      <th title='Field #1'>code</th>\n",
      "      <th title='Field #2'>country</th>\n",
      "      <th title='Field #3' class='text-right'>pop</th>\n",
      "       ...\n",
      "    </tr>\n",
      "  </thead>\n",
      "  <tbody>\n",
      "    <tr>\n",
      "      <td>CAN</td>\n",
      "      <td>Canada</td>\n",
      "      <td align='right'>36.26</td>\n",
      "       ...\n",
      "    </tr>\n",
      "    <tr>\n",
      "      <td>CHN</td>\n",
      "      <td>China</td>\n",
      "      <td align='right'>1378.66</td>\n",
      "       ...\n",
      "    </tr>\n",
      "    <tr>\n",
      "      <td>IND</td>\n",
      "      <td>India</td>\n",
      "      <td align='right'>1324.17</td>\n",
      "       ...\n",
      "    </tr>\n",
      "     ...\n",
      "  </tbody>\n",
      "</table>\n"
     ]
    },
    {
     "data": {
      "text/plain": [
       "['code', 'country', 'pop', 'gdp', 'life', 'cell']"
      ]
     },
     "execution_count": 29,
     "metadata": {},
     "output_type": "execute_result"
    }
   ],
   "source": [
    "ind2016_table_node = ind2016_table_nodes[0]\n",
    "util.print_xml(ind2016_table_node, depth=3, nchild=3)\n",
    "\n",
    "# YOUR CODE HERE\n",
    "ind2016_columns = ind2016_table_node.xpath(\"//thead/*/th/text()\")\n",
    "\n",
    "# Display the resulting list\n",
    "ind2016_columns"
   ]
  },
  {
   "cell_type": "code",
   "execution_count": 30,
   "metadata": {},
   "outputs": [],
   "source": [
    "# Testing cell\n",
    "assert type(ind2016_columns) is list\n",
    "assert len(ind2016_columns) == 6\n",
    "assert \"code\" in ind2016_columns\n",
    "assert \"life\" in ind2016_columns"
   ]
  },
  {
   "attachments": {},
   "cell_type": "markdown",
   "metadata": {},
   "source": [
    "**Q4:** One way to process the data in the table is to read the text of all data cells, and then group them into a LoL assuming the same number of cells in each row.\n",
    "\n",
    "Modify the following code to retrieve the text of all data cells in the table, stored in a variable `ind2016_td_text`."
   ]
  },
  {
   "cell_type": "code",
   "execution_count": 31,
   "metadata": {},
   "outputs": [
    {
     "name": "stdout",
     "output_type": "stream",
     "text": [
      "[\n",
      "  [\n",
      "    \"CAN\",\n",
      "    \"Canada\",\n",
      "    \"36.26\",\n",
      "    \"1535.77\",\n",
      "    \"82.3\",\n",
      "    \"30.75\"\n",
      "  ],\n",
      "  [\n",
      "    \"CHN\",\n",
      "    \"China\",\n",
      "    \"1378.66\",\n",
      "    \"11199.15\",\n",
      "    \"76.25\",\n",
      "    \"1364.93\"\n",
      "  ],\n",
      "  [\n",
      "    \"IND\",\n",
      "    \"India\",\n"
     ]
    }
   ],
   "source": [
    "# YOUR CODE HERE\n",
    "ind2016_td_text = ind2016_table_node.xpath(\"//tbody/*/td/text()\")\n",
    "\n",
    "ind2016_LoL = []\n",
    "colNum = 0\n",
    "for text in ind2016_td_text:\n",
    "    if colNum == 0:\n",
    "        row = []\n",
    "\n",
    "    # Add the text to the current row\n",
    "    row.append(text)\n",
    "\n",
    "    # If this was the last element in the row, add it to the LoL,\n",
    "    # otherwise increment the column number\n",
    "    if colNum == len(ind2016_columns)-1:\n",
    "        ind2016_LoL.append(row)\n",
    "        colNum = 0\n",
    "    else:\n",
    "        colNum += 1\n",
    "\n",
    "# Print a subset of the resulting LoL\n",
    "util.print_data(ind2016_LoL, nlines=20)"
   ]
  },
  {
   "cell_type": "code",
   "execution_count": 32,
   "metadata": {},
   "outputs": [
    {
     "data": {
      "text/html": [
       "<div>\n",
       "<style scoped>\n",
       "    .dataframe tbody tr th:only-of-type {\n",
       "        vertical-align: middle;\n",
       "    }\n",
       "\n",
       "    .dataframe tbody tr th {\n",
       "        vertical-align: top;\n",
       "    }\n",
       "\n",
       "    .dataframe thead th {\n",
       "        text-align: right;\n",
       "    }\n",
       "</style>\n",
       "<table border=\"1\" class=\"dataframe\">\n",
       "  <thead>\n",
       "    <tr style=\"text-align: right;\">\n",
       "      <th></th>\n",
       "      <th>code</th>\n",
       "      <th>country</th>\n",
       "      <th>pop</th>\n",
       "      <th>gdp</th>\n",
       "      <th>life</th>\n",
       "      <th>cell</th>\n",
       "    </tr>\n",
       "  </thead>\n",
       "  <tbody>\n",
       "    <tr>\n",
       "      <th>0</th>\n",
       "      <td>CAN</td>\n",
       "      <td>Canada</td>\n",
       "      <td>36.26</td>\n",
       "      <td>1535.77</td>\n",
       "      <td>82.3</td>\n",
       "      <td>30.75</td>\n",
       "    </tr>\n",
       "    <tr>\n",
       "      <th>1</th>\n",
       "      <td>CHN</td>\n",
       "      <td>China</td>\n",
       "      <td>1378.66</td>\n",
       "      <td>11199.15</td>\n",
       "      <td>76.25</td>\n",
       "      <td>1364.93</td>\n",
       "    </tr>\n",
       "    <tr>\n",
       "      <th>2</th>\n",
       "      <td>IND</td>\n",
       "      <td>India</td>\n",
       "      <td>1324.17</td>\n",
       "      <td>2263.79</td>\n",
       "      <td>68.56</td>\n",
       "      <td>1127.81</td>\n",
       "    </tr>\n",
       "    <tr>\n",
       "      <th>3</th>\n",
       "      <td>RUS</td>\n",
       "      <td>Russia</td>\n",
       "      <td>144.34</td>\n",
       "      <td>1283.16</td>\n",
       "      <td>71.59</td>\n",
       "      <td>229.13</td>\n",
       "    </tr>\n",
       "    <tr>\n",
       "      <th>4</th>\n",
       "      <td>USA</td>\n",
       "      <td>United States</td>\n",
       "      <td>323.13</td>\n",
       "      <td>18624.47</td>\n",
       "      <td>78.69</td>\n",
       "      <td>395.88</td>\n",
       "    </tr>\n",
       "    <tr>\n",
       "      <th>5</th>\n",
       "      <td>VNM</td>\n",
       "      <td>Vietnam</td>\n",
       "      <td>94.57</td>\n",
       "      <td>205.28</td>\n",
       "      <td>76.25</td>\n",
       "      <td>120.6</td>\n",
       "    </tr>\n",
       "  </tbody>\n",
       "</table>\n",
       "</div>"
      ],
      "text/plain": [
       "  code        country      pop       gdp   life     cell\n",
       "0  CAN         Canada    36.26   1535.77   82.3    30.75\n",
       "1  CHN          China  1378.66  11199.15  76.25  1364.93\n",
       "2  IND          India  1324.17   2263.79  68.56  1127.81\n",
       "3  RUS         Russia   144.34   1283.16  71.59   229.13\n",
       "4  USA  United States   323.13  18624.47  78.69   395.88\n",
       "5  VNM        Vietnam    94.57    205.28  76.25    120.6"
      ]
     },
     "execution_count": 32,
     "metadata": {},
     "output_type": "execute_result"
    }
   ],
   "source": [
    "# Debugging cell - try to create a dataframe\n",
    "pd.DataFrame(ind2016_LoL, columns=ind2016_columns)"
   ]
  },
  {
   "cell_type": "code",
   "execution_count": 33,
   "metadata": {},
   "outputs": [],
   "source": [
    "# Testing cell\n",
    "assert type(ind2016_td_text) is list\n",
    "assert len(ind2016_td_text) == 36\n",
    "assert len(ind2016_LoL) == 6\n",
    "assert ind2016_LoL[0][0] == \"CAN\"\n",
    "assert ind2016_LoL[2][4] == \"68.56\""
   ]
  },
  {
   "cell_type": "markdown",
   "metadata": {},
   "source": [
    "**Q5:** Alternatively, we could use XPath to create a DoL representation of this data table.\n",
    "\n",
    "Either procedurally or using XPath, get the text for each cell in the `pop` column (note the _position_ of this column in the table).  Store the values of this column _as `float`s_ in a variable `ind2016_pop_values`."
   ]
  },
  {
   "cell_type": "code",
   "execution_count": 39,
   "metadata": {},
   "outputs": [
    {
     "data": {
      "text/plain": [
       "[36.26, 1378.66, 1324.17, 144.34, 323.13, 94.57]"
      ]
     },
     "execution_count": 39,
     "metadata": {},
     "output_type": "execute_result"
    }
   ],
   "source": [
    "# YOUR CODE HERE\n",
    "ind2016_pop_values = []\n",
    "ind2016_pop_values1 = ind2016_table_node.xpath(\"//tbody/*/td[position()=3]/text()\")\n",
    "for i in ind2016_pop_values1:\n",
    "    ind2016_pop_values.append(float(i))\n",
    "\n",
    "# Display the list of population values\n",
    "ind2016_pop_values"
   ]
  },
  {
   "cell_type": "code",
   "execution_count": 40,
   "metadata": {},
   "outputs": [],
   "source": [
    "# Testing cell\n",
    "assert type(ind2016_pop_values) is list\n",
    "assert len(ind2016_pop_values) == 6\n",
    "assert type(ind2016_pop_values[0]) is float\n",
    "assert ind2016_pop_values[0] == 36.26\n",
    "assert ind2016_pop_values[-1] == 94.57"
   ]
  },
  {
   "cell_type": "markdown",
   "metadata": {},
   "source": [
    "**Q6:** Complete the process started in the previous question.  For each of the columns in the table, extract the values for that column.  Store the data in a DoL named `ind2016_DoL`.  You can do this either procedurally or using XPath.\n",
    "\n",
    "Note: For all columns containing numerical data, you must convert those values to `float`s."
   ]
  },
  {
   "cell_type": "code",
   "execution_count": 41,
   "metadata": {},
   "outputs": [
    {
     "data": {
      "text/plain": [
       "{'code': ['CAN', 'CHN', 'IND', 'RUS', 'USA', 'VNM'],\n",
       " 'country': ['Canada', 'China', 'India', 'Russia', 'United States', 'Vietnam'],\n",
       " 'pop': [36.26, 1378.66, 1324.17, 144.34, 323.13, 94.57],\n",
       " 'gdp': [1535.77, 11199.15, 2263.79, 1283.16, 18624.47, 205.28],\n",
       " 'life': [82.3, 76.25, 68.56, 71.59, 78.69, 76.25],\n",
       " 'cell': [30.75, 1364.93, 1127.81, 229.13, 395.88, 120.6]}"
      ]
     },
     "execution_count": 41,
     "metadata": {},
     "output_type": "execute_result"
    }
   ],
   "source": [
    "# YOUR CODE HERE\n",
    "ind2016_columns\n",
    "\n",
    "ind2016_DoL = {} \n",
    "\n",
    "ind2016_code = ind2016_table_node.xpath(\"//tbody/*/td[position()=1]/text()\")\n",
    "ind2016_country = ind2016_table_node.xpath(\"//tbody/*/td[position()=2]/text()\")\n",
    "\n",
    "ind2016_gdp = []\n",
    "ind2016_gdp1 = ind2016_table_node.xpath(\"//tbody/*/td[position()=4]/text()\")\n",
    "for i in ind2016_gdp1:\n",
    "    ind2016_gdp.append(float(i))\n",
    "\n",
    "ind2016_life = []\n",
    "ind2016_life1 = ind2016_table_node.xpath(\"//tbody/*/td[position()=5]/text()\")\n",
    "for i in ind2016_life1:\n",
    "    ind2016_life.append(float(i))\n",
    "\n",
    "ind2016_cell = []\n",
    "ind2016_cell1 = ind2016_table_node.xpath(\"//tbody/*/td[position()=6]/text()\")\n",
    "for i in ind2016_cell1:\n",
    "    ind2016_cell.append(float(i))\n",
    "\n",
    "ind2016_DoL[ind2016_columns[0]] = ind2016_code\n",
    "ind2016_DoL[ind2016_columns[1]] = ind2016_country\n",
    "ind2016_DoL[ind2016_columns[2]] = ind2016_pop_values\n",
    "ind2016_DoL[ind2016_columns[3]] = ind2016_gdp \n",
    "ind2016_DoL[ind2016_columns[4]] = ind2016_life \n",
    "ind2016_DoL[ind2016_columns[5]] = ind2016_cell\n",
    "# Display the DoL\n",
    "ind2016_DoL"
   ]
  },
  {
   "cell_type": "code",
   "execution_count": 42,
   "metadata": {},
   "outputs": [
    {
     "data": {
      "text/html": [
       "<div>\n",
       "<style scoped>\n",
       "    .dataframe tbody tr th:only-of-type {\n",
       "        vertical-align: middle;\n",
       "    }\n",
       "\n",
       "    .dataframe tbody tr th {\n",
       "        vertical-align: top;\n",
       "    }\n",
       "\n",
       "    .dataframe thead th {\n",
       "        text-align: right;\n",
       "    }\n",
       "</style>\n",
       "<table border=\"1\" class=\"dataframe\">\n",
       "  <thead>\n",
       "    <tr style=\"text-align: right;\">\n",
       "      <th></th>\n",
       "      <th>code</th>\n",
       "      <th>country</th>\n",
       "      <th>pop</th>\n",
       "      <th>gdp</th>\n",
       "      <th>life</th>\n",
       "      <th>cell</th>\n",
       "    </tr>\n",
       "  </thead>\n",
       "  <tbody>\n",
       "    <tr>\n",
       "      <th>0</th>\n",
       "      <td>CAN</td>\n",
       "      <td>Canada</td>\n",
       "      <td>36.26</td>\n",
       "      <td>1535.77</td>\n",
       "      <td>82.30</td>\n",
       "      <td>30.75</td>\n",
       "    </tr>\n",
       "    <tr>\n",
       "      <th>1</th>\n",
       "      <td>CHN</td>\n",
       "      <td>China</td>\n",
       "      <td>1378.66</td>\n",
       "      <td>11199.15</td>\n",
       "      <td>76.25</td>\n",
       "      <td>1364.93</td>\n",
       "    </tr>\n",
       "    <tr>\n",
       "      <th>2</th>\n",
       "      <td>IND</td>\n",
       "      <td>India</td>\n",
       "      <td>1324.17</td>\n",
       "      <td>2263.79</td>\n",
       "      <td>68.56</td>\n",
       "      <td>1127.81</td>\n",
       "    </tr>\n",
       "    <tr>\n",
       "      <th>3</th>\n",
       "      <td>RUS</td>\n",
       "      <td>Russia</td>\n",
       "      <td>144.34</td>\n",
       "      <td>1283.16</td>\n",
       "      <td>71.59</td>\n",
       "      <td>229.13</td>\n",
       "    </tr>\n",
       "    <tr>\n",
       "      <th>4</th>\n",
       "      <td>USA</td>\n",
       "      <td>United States</td>\n",
       "      <td>323.13</td>\n",
       "      <td>18624.47</td>\n",
       "      <td>78.69</td>\n",
       "      <td>395.88</td>\n",
       "    </tr>\n",
       "    <tr>\n",
       "      <th>5</th>\n",
       "      <td>VNM</td>\n",
       "      <td>Vietnam</td>\n",
       "      <td>94.57</td>\n",
       "      <td>205.28</td>\n",
       "      <td>76.25</td>\n",
       "      <td>120.60</td>\n",
       "    </tr>\n",
       "  </tbody>\n",
       "</table>\n",
       "</div>"
      ],
      "text/plain": [
       "  code        country      pop       gdp   life     cell\n",
       "0  CAN         Canada    36.26   1535.77  82.30    30.75\n",
       "1  CHN          China  1378.66  11199.15  76.25  1364.93\n",
       "2  IND          India  1324.17   2263.79  68.56  1127.81\n",
       "3  RUS         Russia   144.34   1283.16  71.59   229.13\n",
       "4  USA  United States   323.13  18624.47  78.69   395.88\n",
       "5  VNM        Vietnam    94.57    205.28  76.25   120.60"
      ]
     },
     "execution_count": 42,
     "metadata": {},
     "output_type": "execute_result"
    }
   ],
   "source": [
    "# Debugging cell - try to create a dataframe\n",
    "pd.DataFrame(ind2016_DoL)"
   ]
  },
  {
   "cell_type": "code",
   "execution_count": 43,
   "metadata": {},
   "outputs": [],
   "source": [
    "# Testing cell\n",
    "assert len(ind2016_DoL) == 6\n",
    "assert ind2016_DoL[\"code\"][0] == \"CAN\"\n",
    "assert ind2016_DoL[\"life\"][2] == 68.56"
   ]
  },
  {
   "cell_type": "markdown",
   "metadata": {},
   "source": [
    "---\n",
    "\n",
    "## Part B: Web scraping nested lists\n",
    "\n",
    "Next, we'll consider the `indicators0` dataset represented as a set of nested lists within a web page: [http://datasystems.denison.edu/ind0.html](http://datasystems.denison.edu/ind0.html).  This HTML file is stored in `datadir`."
   ]
  },
  {
   "cell_type": "markdown",
   "metadata": {},
   "source": [
    "**Q7:** Once again, discovery is our first step.  Use `etree` to parse the root of the HTML tree from `ind0.html` into the variable `ind0_root`."
   ]
  },
  {
   "cell_type": "code",
   "execution_count": 45,
   "metadata": {},
   "outputs": [
    {
     "name": "stdout",
     "output_type": "stream",
     "text": [
      "<html>\n",
      "  <head>\n",
      "    <meta charset='utf-8'></meta>\n",
      "    <meta name='viewport' content='width=device-width, init\n",
      "    <meta http-equiv='X-UA-Compatible' content='IE=edge'></\n",
      "     ...\n",
      "  </head>\n",
      "  <body>\n",
      "    <div class='wrapper'>\n",
      "      <<cyfunction Comment at 0x7ff641d76040>>Page Content<\n",
      "      <div id='content-no-side'>\n",
      "      </div>\n",
      "    </div>\n",
      "    <script src='js/jquery-3.4.1.min.js'></script>\n",
      "    <script src='js/popper.min.js'></script>\n",
      "     ...\n",
      "  </body>\n",
      "</html>\n"
     ]
    }
   ],
   "source": [
    "# YOUR CODE HERE\n",
    "htmlparser = etree.HTMLParser()\n",
    "\n",
    "file = os.path.join(datadir, \"ind0.html\")\n",
    "htmltree = etree.parse(file, htmlparser)\n",
    "ind0_root = htmltree.getroot()\n",
    "\n",
    "# Display a snippet of the file (using a util module provided with the textbook)\n",
    "util.print_xml(ind0_root, depth=3, nchild=3)"
   ]
  },
  {
   "cell_type": "markdown",
   "metadata": {},
   "source": [
    "**Q8:** This webpage was created by a tool, so it has a lot going on (e.g., due to formatting) between the `<body>` node and the nested lists.  Use XPath or procedural operations to find the top-level HTML unordered-list element representing the indicators data, and store that node in the variable `ind0_list_node`."
   ]
  },
  {
   "cell_type": "code",
   "execution_count": 53,
   "metadata": {},
   "outputs": [
    {
     "name": "stdout",
     "output_type": "stream",
     "text": [
      "<ul>\n",
      "  <li>FRA\n",
      "    <ul>\n",
      "      <li>2007\n",
      "        <ul>\n",
      "        </ul>\n",
      "      </li>\n",
      "      <li>2017\n",
      "        <ul>\n",
      "        </ul>\n",
      "      </li>\n",
      "    </ul>\n",
      "  </li>\n",
      "  <li>GBR\n",
      "    <ul>\n",
      "      <li>\n",
      "        <span ...>2007</span>\n",
      "        <ul>\n"
     ]
    }
   ],
   "source": [
    "# YOUR CODE HERE\n",
    "ind0_list_node = ind0_root.xpath(\"//ul\")[1]\n",
    "\n",
    "# You should get a single node with tag \"ul\"\n",
    "util.print_xml(ind0_list_node, depth=4, nchild=3, nlines=18)"
   ]
  },
  {
   "cell_type": "code",
   "execution_count": 54,
   "metadata": {},
   "outputs": [],
   "source": [
    "# Testing cell\n",
    "assert type(ind0_list_node) is etree._Element\n",
    "assert ind0_list_node.tag == \"ul\"\n",
    "assert len(ind0_list_node) == 3"
   ]
  },
  {
   "cell_type": "markdown",
   "metadata": {},
   "source": [
    "**Q9:** The subtree for `FRA` is fairly straightforward.  Use XPath or XML procedural operations to construct a row dictionary for `FRA` with columns (keys) `code`, `pop2007`, `gdp2007`, `pop2017`, and `gdp2017`.  Store your dictionary in a variable `FRA_rowD`.\n",
    "\n",
    "Be sure to convert all numerical values to `float`s."
   ]
  },
  {
   "cell_type": "code",
   "execution_count": 76,
   "metadata": {},
   "outputs": [],
   "source": [
    "# YOUR CODE HERE\n",
    "FRA_2007 = ind0_list_node.xpath(\"./li[text() ='FRA']//li[text()='2007']/*/*/text()\")\n",
    "fra_2007 = []\n",
    "for i in FRA_2007: \n",
    "    ind = i.find(\" \")\n",
    "    val = float(i[ind:])\n",
    "    fra_2007.append(val)\n",
    "\n",
    "FRA_2017 = ind0_list_node.xpath(\"./li[text() ='FRA']//li[text()='2017']/*/*/text()\")\n",
    "fra_2017 = []\n",
    "for i in FRA_2017: \n",
    "    ind = i.find(\" \")\n",
    "    val = float(i[ind:])\n",
    "    fra_2017.append(val)\n",
    "\n",
    "FRA_rowD = {\"code\": \"FRA\", \"pop2007\": fra_2007[0], \"gdp2007\" : fra_2007[1], \"pop2017\": fra_2017[0], \"gdp2017\" : fra_2017[1]}\n",
    "\n",
    "# Display the resulting data row dictionary\n",
    "#print(FRA_rowD)"
   ]
  },
  {
   "cell_type": "code",
   "execution_count": 77,
   "metadata": {},
   "outputs": [],
   "source": [
    "# Testing cell\n",
    "assert type(FRA_rowD) is dict\n",
    "assert len(FRA_rowD) == 5\n",
    "assert FRA_rowD[\"code\"] == \"FRA\"\n",
    "assert FRA_rowD[\"pop2007\"] == 64.02\n",
    "assert FRA_rowD[\"gdp2017\"] == 2586.29"
   ]
  },
  {
   "cell_type": "markdown",
   "metadata": {},
   "source": [
    "---\n",
    "\n",
    "---\n",
    "\n",
    "## Part C\n",
    "\n",
    "**Q10:** How much time (in minutes/hours) did you spend on this homework assignment?"
   ]
  },
  {
   "attachments": {},
   "cell_type": "markdown",
   "metadata": {},
   "source": [
    "30 minutes"
   ]
  },
  {
   "cell_type": "markdown",
   "metadata": {},
   "source": [
    "**Q11:** Who was your partner for this assignment?  If you worked alone, say so instead."
   ]
  },
  {
   "attachments": {},
   "cell_type": "markdown",
   "metadata": {},
   "source": [
    "Alone"
   ]
  }
 ],
 "metadata": {
  "kernelspec": {
   "display_name": "base",
   "language": "python",
   "name": "python3"
  },
  "language_info": {
   "codemirror_mode": {
    "name": "ipython",
    "version": 3
   },
   "file_extension": ".py",
   "mimetype": "text/x-python",
   "name": "python",
   "nbconvert_exporter": "python",
   "pygments_lexer": "ipython3",
   "version": "3.9.13"
  },
  "vscode": {
   "interpreter": {
    "hash": "6812229378a4e14d29bbe4ee07db5e95bb6855d7fc74a2934bab81ab80a6eafa"
   }
  }
 },
 "nbformat": 4,
 "nbformat_minor": 4
}
