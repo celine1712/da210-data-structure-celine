{
 "cells": [
  {
   "attachments": {},
   "cell_type": "markdown",
   "metadata": {},
   "source": [
    "# Denison DA210/CS181 Homework 1.f - Step 2\n",
    "\n",
    "Before you turn this notebook in, make sure everything runs as expected. This is a combination of **restarting the kernel** and then **running all cells**.\n",
    "\n",
    "Make sure you fill in any place that says `# YOUR CODE HERE` or \"YOUR ANSWER HERE\"."
   ]
  },
  {
   "cell_type": "markdown",
   "metadata": {},
   "source": [
    "---"
   ]
  },
  {
   "cell_type": "code",
   "execution_count": null,
   "metadata": {},
   "outputs": [],
   "source": [
    "import os\n",
    "import os.path\n",
    "\n",
    "datadir = \"publicdata\""
   ]
  },
  {
   "attachments": {},
   "cell_type": "markdown",
   "metadata": {},
   "source": [
    "---\n",
    "\n",
    "## Part B\n",
    "\n",
    "**Q4:** Assume that `path` refers to a CSV file with the same format used in our variations of `topnames` with a header line containing the four column names, and then rows of comma-separated field values.  Write a function\n",
    "\n",
    "```\n",
    "    readTopNamesLoD(path)\n",
    "```\n",
    "\n",
    "that reads the file and creates a LoD representation and returns the structure."
   ]
  },
  {
   "cell_type": "code",
   "execution_count": null,
   "metadata": {
    "deletable": false,
    "nbgrader": {
     "cell_type": "code",
     "checksum": "e25f39844d9d2748bff03c53cbc941a4",
     "grade": false,
     "grade_id": "cell-3ac611d5fbae072d",
     "locked": false,
     "schema_version": 3,
     "solution": true,
     "task": false
    }
   },
   "outputs": [],
   "source": [
    "# YOUR CODE HERE\n",
    "raise NotImplementedError()"
   ]
  },
  {
   "cell_type": "code",
   "execution_count": null,
   "metadata": {},
   "outputs": [],
   "source": [
    "# Debugging cell\n",
    "tn10data = readTopNamesLoD(os.path.join(datadir, \"tn10.csv\"))\n",
    "print(tn10data)"
   ]
  },
  {
   "cell_type": "code",
   "execution_count": null,
   "metadata": {
    "deletable": false,
    "editable": false,
    "nbgrader": {
     "cell_type": "code",
     "checksum": "4e11b79c99ee82d12b348abc23ebb02e",
     "grade": true,
     "grade_id": "cell-ab5935ca57c293ca",
     "locked": true,
     "points": 2,
     "schema_version": 3,
     "solution": false,
     "task": false
    }
   },
   "outputs": [],
   "source": [
    "# Testing cell\n",
    "assert readTopNamesLoD.__doc__ is not None # don't forget the docstring!\n",
    "\n",
    "tn10data = readTopNamesLoD(os.path.join(datadir, \"tn10.csv\"))\n",
    "\n",
    "assert isinstance(tn10data, list)\n",
    "assert len(tn10data) == 10\n",
    "\n",
    "assert len(tn10data[0]) == 4\n",
    "assert isinstance(tn10data[0], dict)\n",
    "\n",
    "assert tn10data[0]['sex'] == 'Female'\n",
    "assert tn10data[0]['year'] == 2014\n",
    "assert tn10data[0]['name'] == 'Emma'\n",
    "assert tn10data[0]['count'] == 20936"
   ]
  },
  {
   "attachments": {},
   "cell_type": "markdown",
   "metadata": {},
   "source": [
    "**Q5:** Write a function \n",
    "\n",
    "```\n",
    "    filterTopNamesLoD(tnLoD, threshold)\n",
    "```\n",
    "\n",
    "to create a **filtered** copy of a topnames LoD `tnLoD` (with columns `year`, `sex`, `name`, `count`) so that only rows with a `count` value greater than or equal to `threshold` are present in the newly created LoD.\n",
    "\n",
    "Your function should return the new and filtered LoD, nd not modify the original `tnLoD`."
   ]
  },
  {
   "cell_type": "code",
   "execution_count": null,
   "metadata": {},
   "outputs": [],
   "source": [
    "# YOUR CODE HERE\n",
    "raise NotImplementedError()"
   ]
  },
  {
   "cell_type": "code",
   "execution_count": null,
   "metadata": {},
   "outputs": [],
   "source": [
    "# Debugging cell\n",
    "tn10 = readTopNamesLoD(os.path.join(datadir, \"tn10.csv\"))\n",
    "tn10_filter = filterTopNamesLoD(tn10, 19000)\n",
    "print(tn10_filter)"
   ]
  },
  {
   "cell_type": "code",
   "execution_count": null,
   "metadata": {},
   "outputs": [],
   "source": [
    "# Testing cell\n",
    "assert filterTopNamesLoD.__doc__ is not None # don't forget the docstring!\n",
    "\n",
    "LoD = [{'year': 2014, 'sex': 'Female', 'name': 'Emma', 'count': 20936}, \n",
    "       {'year': 2014, 'sex': 'Male', 'name': 'Noah', 'count': 19305}, \n",
    "       {'year': 2015, 'sex': 'Female', 'name': 'Emma', 'count': 20455}, \n",
    "       {'year': 2015, 'sex': 'Male', 'name': 'Noah', 'count': 19635}, \n",
    "       {'year': 2016, 'sex': 'Female', 'name': 'Emma', 'count': 19496}, \n",
    "       {'year': 2016, 'sex': 'Male', 'name': 'Noah', 'count': 19117}, \n",
    "       {'year': 2017, 'sex': 'Female', 'name': 'Emma', 'count': 19800}, \n",
    "       {'year': 2017, 'sex': 'Male', 'name': 'Liam', 'count': 18798}, \n",
    "       {'year': 2018, 'sex': 'Female', 'name': 'Emma', 'count': 18688}, \n",
    "       {'year': 2018, 'sex': 'Male', 'name': 'Liam', 'count': 19837}]\n",
    "\n",
    "filtered = filterTopNamesLoD(LoD, 19000)\n",
    "assert len(filtered) == 8\n",
    "assert len(filtered[0]) == 4\n",
    "\n",
    "assert len(LoD) == 10\n",
    "assert len(LoD[0]) == 4"
   ]
  },
  {
   "attachments": {},
   "cell_type": "markdown",
   "metadata": {},
   "source": [
    "**Q6:** Write a function \n",
    "\n",
    "```\n",
    "    addCatColumnLoD(tnLoD, threshold1, threshold2)\n",
    "```\n",
    "\n",
    "that adds a categorical column to a LoD representation in parameter `tnLoD` with the new column named `category` whose values are the strings `\"small\"` when `count` is below `threshold1`, is `\"medium\"` when `count` is greater than or equal to `threshold1` and less than `threshold2`, and `\"large\"` when `count` is greater than or equal to `threshold2`.\n",
    "\n",
    "This change to tnLoD happens in place, rather than creating a new list, and so nothing is returned from the function."
   ]
  },
  {
   "cell_type": "code",
   "execution_count": null,
   "metadata": {
    "deletable": false,
    "nbgrader": {
     "cell_type": "code",
     "checksum": "e2e468bb34e3efd8d81862ac6851f059",
     "grade": false,
     "grade_id": "cell-0d9878d3fcbb29fa",
     "locked": false,
     "schema_version": 3,
     "solution": true,
     "task": false
    }
   },
   "outputs": [],
   "source": [
    "# YOUR CODE HERE\n",
    "raise NotImplementedError()"
   ]
  },
  {
   "cell_type": "code",
   "execution_count": null,
   "metadata": {
    "deletable": false,
    "editable": false,
    "nbgrader": {
     "cell_type": "code",
     "checksum": "38069b13b60b1e9d8fcf2bfa00cb9228",
     "grade": false,
     "grade_id": "cell-234c176a7a087ee7",
     "locked": true,
     "schema_version": 3,
     "solution": false,
     "task": false
    }
   },
   "outputs": [],
   "source": [
    "# Debugging cell\n",
    "LoD = [{'year': 2014, 'sex': 'Female', 'name': 'Emma', 'count': 20936}, \n",
    "       {'year': 2014, 'sex': 'Male', 'name': 'Noah', 'count': 19305}, \n",
    "       {'year': 2015, 'sex': 'Female', 'name': 'Emma', 'count': 20455}, \n",
    "       {'year': 2015, 'sex': 'Male', 'name': 'Noah', 'count': 19635}, \n",
    "       {'year': 2016, 'sex': 'Female', 'name': 'Emma', 'count': 19496}, \n",
    "       {'year': 2016, 'sex': 'Male', 'name': 'Noah', 'count': 19117}, \n",
    "       {'year': 2017, 'sex': 'Female', 'name': 'Emma', 'count': 19800}, \n",
    "       {'year': 2017, 'sex': 'Male', 'name': 'Liam', 'count': 18798}, \n",
    "       {'year': 2018, 'sex': 'Female', 'name': 'Emma', 'count': 18688}, \n",
    "       {'year': 2018, 'sex': 'Male', 'name': 'Liam', 'count': 19837}]\n",
    "\n",
    "addCatColumnLoD(LoD, 19000, 19500)\n",
    "print(LoD)"
   ]
  },
  {
   "cell_type": "code",
   "execution_count": null,
   "metadata": {
    "deletable": false,
    "editable": false,
    "nbgrader": {
     "cell_type": "code",
     "checksum": "0688c41a24079d2cb3edb6306c9a4bea",
     "grade": true,
     "grade_id": "cell-1da7403c4d9cd8aa",
     "locked": true,
     "points": 3,
     "schema_version": 3,
     "solution": false,
     "task": false
    }
   },
   "outputs": [],
   "source": [
    "# Testing cell\n",
    "assert addCatColumnLoD.__doc__ is not None # don't forget the docstring!\n",
    "\n",
    "LoD = [{'year': 2014, 'sex': 'Female', 'name': 'Emma', 'count': 20936}, \n",
    "       {'year': 2014, 'sex': 'Male', 'name': 'Noah', 'count': 19305}, \n",
    "       {'year': 2015, 'sex': 'Female', 'name': 'Emma', 'count': 20455}, \n",
    "       {'year': 2015, 'sex': 'Male', 'name': 'Noah', 'count': 19635}, \n",
    "       {'year': 2016, 'sex': 'Female', 'name': 'Emma', 'count': 19496}, \n",
    "       {'year': 2016, 'sex': 'Male', 'name': 'Noah', 'count': 19117}, \n",
    "       {'year': 2017, 'sex': 'Female', 'name': 'Emma', 'count': 19800}, \n",
    "       {'year': 2017, 'sex': 'Male', 'name': 'Liam', 'count': 18798}, \n",
    "       {'year': 2018, 'sex': 'Female', 'name': 'Emma', 'count': 18688}, \n",
    "       {'year': 2018, 'sex': 'Male', 'name': 'Liam', 'count': 19837}]\n",
    "\n",
    "res = addCatColumnLoD(LoD, 19000, 19500)\n",
    "assert res is None\n",
    "\n",
    "assert len(LoD) == 10\n",
    "assert isinstance(LoD[0], dict)\n",
    "assert len(LoD[0]) == 5\n",
    "assert 'category' in LoD[0]\n",
    "assert [ rowD['category'] for rowD in LoD ] == ['large', 'medium', 'large',\n",
    " 'large', 'medium', 'medium', 'large', 'small', 'small', 'large']"
   ]
  },
  {
   "cell_type": "markdown",
   "metadata": {},
   "source": [
    "---\n",
    "\n",
    "---\n",
    "## Part C\n",
    "\n",
    "How much time (in minutes/hours) did you spend on this homework assignment?"
   ]
  },
  {
   "cell_type": "markdown",
   "metadata": {},
   "source": [
    "YOUR ANSWER HERE"
   ]
  },
  {
   "cell_type": "markdown",
   "metadata": {},
   "source": [
    "Who was your partner for this assignment?  If you worked alone, say so instead."
   ]
  },
  {
   "cell_type": "markdown",
   "metadata": {},
   "source": [
    "YOUR ANSWER HERE"
   ]
  }
 ],
 "metadata": {
  "kernelspec": {
   "display_name": "Python 3.8.6 64-bit",
   "language": "python",
   "name": "python3"
  },
  "language_info": {
   "codemirror_mode": {
    "name": "ipython",
    "version": 3
   },
   "file_extension": ".py",
   "mimetype": "text/x-python",
   "name": "python",
   "nbconvert_exporter": "python",
   "pygments_lexer": "ipython3",
   "version": "3.8.6 (tags/v3.8.6:db45529, Sep 23 2020, 15:52:53) [MSC v.1927 64 bit (AMD64)]"
  },
  "vscode": {
   "interpreter": {
    "hash": "73a75ea109158a2d84971ce48cb4564b23b98d042ab3daf1c1f7c2d610837661"
   }
  }
 },
 "nbformat": 4,
 "nbformat_minor": 4
}
